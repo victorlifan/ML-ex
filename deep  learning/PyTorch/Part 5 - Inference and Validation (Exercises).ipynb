{
 "cells": [
  {
   "cell_type": "markdown",
   "metadata": {},
   "source": [
    "# Inference and Validation\n",
    "\n",
    "Now that you have a trained network, you can use it for making predictions. This is typically called **inference**, a term borrowed from statistics. However, neural networks have a tendency to perform *too well* on the training data and aren't able to generalize to data that hasn't been seen before. This is called **overfitting** and it impairs inference performance. To test for overfitting while training, we measure the performance on data not in the training set called the **validation** set. We avoid overfitting through regularization such as dropout while monitoring the validation performance during training. In this notebook, I'll show you how to do this in PyTorch. \n",
    "\n",
    "As usual, let's start by loading the dataset through torchvision. You'll learn more about torchvision and loading data in a later part. This time we'll be taking advantage of the test set which you can get by setting `train=False` here:\n",
    "\n",
    "```python\n",
    "testset = datasets.FashionMNIST('~/.pytorch/F_MNIST_data/', download=True, train=False, transform=transform)\n",
    "```\n",
    "\n",
    "The test set contains images just like the training set. Typically you'll see 10-20% of the original dataset held out for testing and validation with the rest being used for training."
   ]
  },
  {
   "cell_type": "code",
   "execution_count": 1,
   "metadata": {},
   "outputs": [],
   "source": [
    "import torch\n",
    "from torchvision import datasets, transforms\n",
    "\n",
    "# Define a transform to normalize the data\n",
    "transform = transforms.Compose([transforms.ToTensor(),\n",
    "                                transforms.Normalize((0.5), (0.5))])\n",
    "# Download and load the training data\n",
    "trainset = datasets.FashionMNIST('~/.pytorch/F_MNIST_data/', download=True, train=True, transform=transform)\n",
    "trainloader = torch.utils.data.DataLoader(trainset, batch_size=64, shuffle=True)\n",
    "\n",
    "# Download and load the test data\n",
    "testset = datasets.FashionMNIST('~/.pytorch/F_MNIST_data/', download=True, train=False, transform=transform)\n",
    "testloader = torch.utils.data.DataLoader(testset, batch_size=64, shuffle=True)"
   ]
  },
  {
   "cell_type": "markdown",
   "metadata": {},
   "source": [
    "Here I'll create a model like normal, using the same one from my solution for part 4."
   ]
  },
  {
   "cell_type": "code",
   "execution_count": 2,
   "metadata": {},
   "outputs": [],
   "source": [
    "from torch import nn, optim\n",
    "import torch.nn.functional as F\n",
    "\n",
    "class Classifier(nn.Module):\n",
    "    def __init__(self):\n",
    "        super().__init__()\n",
    "        self.fc1 = nn.Linear(784, 256)\n",
    "        self.fc2 = nn.Linear(256, 128)\n",
    "        self.fc3 = nn.Linear(128, 64)\n",
    "        self.fc4 = nn.Linear(64, 10)\n",
    "        \n",
    "    def forward(self, x):\n",
    "        # make sure input tensor is flattened\n",
    "        x = x.view(x.shape[0], -1)\n",
    "        \n",
    "        x = F.relu(self.fc1(x))\n",
    "        x = F.relu(self.fc2(x))\n",
    "        x = F.relu(self.fc3(x))\n",
    "        x = F.log_softmax(self.fc4(x), dim=1)\n",
    "        \n",
    "        return x"
   ]
  },
  {
   "cell_type": "markdown",
   "metadata": {},
   "source": [
    "The goal of validation is to measure the model's performance on data that isn't part of the training set. Performance here is up to the developer to define though. Typically this is just accuracy, the percentage of classes the network predicted correctly. Other options are [precision and recall](https://en.wikipedia.org/wiki/Precision_and_recall#Definition_(classification_context)) and top-5 error rate. We'll focus on accuracy here. First I'll do a forward pass with one batch from the test set."
   ]
  },
  {
   "cell_type": "code",
   "execution_count": 3,
   "metadata": {},
   "outputs": [
    {
     "name": "stdout",
     "output_type": "stream",
     "text": [
      "tensor([2, 1, 5, 1, 9, 4, 4, 4, 2, 2, 0, 9, 2, 8, 0, 7, 7, 0, 7, 8, 7, 1, 2, 5,\n",
      "        0, 8, 9, 7, 4, 9, 6, 5, 7, 6, 8, 0, 6, 8, 3, 0, 8, 7, 3, 6, 0, 9, 9, 6,\n",
      "        7, 6, 0, 8, 3, 1, 7, 1, 9, 9, 2, 8, 2, 4, 9, 0])\n",
      "tensor([[-2.2674, -2.2655, -2.4491, -2.2128, -2.1992, -2.4096, -2.3074, -2.3138,\n",
      "         -2.1915, -2.4535],\n",
      "        [-2.2219, -2.2925, -2.4405, -2.2026, -2.2527, -2.4031, -2.2949, -2.2884,\n",
      "         -2.2127, -2.4560],\n",
      "        [-2.2472, -2.2696, -2.4502, -2.2064, -2.2028, -2.4295, -2.2926, -2.3149,\n",
      "         -2.1897, -2.4739],\n",
      "        [-2.2442, -2.2761, -2.4554, -2.1956, -2.2405, -2.3993, -2.2991, -2.2824,\n",
      "         -2.2123, -2.4631],\n",
      "        [-2.2759, -2.3015, -2.4287, -2.2192, -2.2147, -2.4213, -2.2858, -2.2833,\n",
      "         -2.1959, -2.4367],\n",
      "        [-2.2627, -2.2633, -2.4763, -2.2141, -2.1961, -2.3986, -2.3005, -2.3182,\n",
      "         -2.1918, -2.4515],\n",
      "        [-2.2618, -2.2654, -2.4567, -2.1954, -2.2107, -2.4124, -2.2993, -2.3202,\n",
      "         -2.1938, -2.4568],\n",
      "        [-2.2664, -2.2837, -2.4526, -2.1890, -2.2072, -2.4180, -2.2960, -2.3221,\n",
      "         -2.1956, -2.4399],\n",
      "        [-2.2594, -2.2784, -2.4519, -2.2095, -2.2069, -2.3936, -2.3075, -2.3089,\n",
      "         -2.1978, -2.4535],\n",
      "        [-2.2753, -2.2870, -2.4530, -2.1845, -2.2065, -2.4442, -2.2952, -2.3159,\n",
      "         -2.1904, -2.4200],\n",
      "        [-2.2682, -2.2522, -2.4385, -2.2133, -2.2049, -2.4280, -2.3130, -2.3084,\n",
      "         -2.1971, -2.4450],\n",
      "        [-2.2765, -2.2792, -2.3921, -2.2139, -2.2277, -2.4385, -2.2765, -2.3128,\n",
      "         -2.2203, -2.4191],\n",
      "        [-2.2543, -2.2819, -2.4551, -2.2035, -2.1852, -2.4004, -2.3235, -2.3255,\n",
      "         -2.1920, -2.4512],\n",
      "        [-2.2731, -2.2551, -2.4879, -2.2105, -2.1728, -2.4134, -2.3183, -2.3140,\n",
      "         -2.1806, -2.4560],\n",
      "        [-2.2603, -2.2589, -2.4717, -2.2166, -2.1971, -2.4057, -2.3059, -2.3223,\n",
      "         -2.1825, -2.4535],\n",
      "        [-2.2649, -2.2605, -2.4269, -2.2167, -2.2207, -2.4323, -2.2926, -2.2849,\n",
      "         -2.2244, -2.4384],\n",
      "        [-2.2749, -2.2658, -2.4188, -2.2049, -2.2346, -2.4240, -2.2799, -2.2926,\n",
      "         -2.2259, -2.4385],\n",
      "        [-2.2610, -2.2685, -2.4426, -2.2174, -2.2035, -2.4212, -2.3135, -2.3108,\n",
      "         -2.2026, -2.4237],\n",
      "        [-2.2846, -2.2756, -2.4346, -2.2102, -2.2171, -2.4376, -2.2919, -2.2815,\n",
      "         -2.2024, -2.4295],\n",
      "        [-2.2758, -2.2684, -2.4660, -2.2022, -2.1984, -2.4234, -2.2983, -2.3222,\n",
      "         -2.1882, -2.4290],\n",
      "        [-2.2708, -2.2650, -2.4384, -2.2186, -2.2099, -2.4211, -2.3106, -2.2782,\n",
      "         -2.2092, -2.4432],\n",
      "        [-2.2439, -2.2989, -2.4606, -2.1977, -2.2315, -2.3976, -2.2983, -2.2672,\n",
      "         -2.2156, -2.4565],\n",
      "        [-2.2718, -2.2669, -2.4448, -2.2069, -2.2000, -2.4348, -2.3048, -2.3304,\n",
      "         -2.1925, -2.4150],\n",
      "        [-2.2746, -2.2744, -2.4667, -2.2035, -2.2085, -2.4001, -2.2818, -2.3068,\n",
      "         -2.1997, -2.4542],\n",
      "        [-2.2649, -2.2527, -2.4473, -2.2023, -2.1685, -2.4063, -2.3491, -2.3323,\n",
      "         -2.2113, -2.4372],\n",
      "        [-2.2750, -2.2776, -2.4591, -2.2283, -2.1910, -2.4188, -2.2993, -2.3008,\n",
      "         -2.1819, -2.4386],\n",
      "        [-2.2854, -2.2774, -2.4123, -2.2055, -2.2133, -2.4383, -2.2904, -2.3028,\n",
      "         -2.2108, -2.4255],\n",
      "        [-2.2746, -2.2810, -2.4203, -2.1971, -2.2329, -2.4287, -2.2759, -2.2730,\n",
      "         -2.2273, -2.4527],\n",
      "        [-2.2672, -2.2549, -2.4531, -2.2096, -2.1974, -2.4085, -2.3182, -2.3126,\n",
      "         -2.2032, -2.4440],\n",
      "        [-2.2781, -2.2670, -2.4241, -2.1953, -2.1960, -2.4401, -2.2963, -2.3219,\n",
      "         -2.2062, -2.4444],\n",
      "        [-2.2615, -2.2572, -2.4603, -2.2140, -2.1915, -2.4157, -2.3149, -2.3228,\n",
      "         -2.1866, -2.4493],\n",
      "        [-2.2771, -2.2630, -2.4279, -2.1911, -2.2350, -2.4102, -2.2616, -2.3224,\n",
      "         -2.2089, -2.4707],\n",
      "        [-2.2741, -2.2666, -2.4466, -2.2124, -2.2060, -2.4118, -2.3069, -2.2898,\n",
      "         -2.2014, -2.4520],\n",
      "        [-2.2636, -2.2820, -2.4872, -2.1955, -2.1749, -2.4148, -2.3282, -2.3044,\n",
      "         -2.1827, -2.4480],\n",
      "        [-2.2653, -2.2868, -2.4154, -2.2339, -2.2256, -2.4114, -2.2905, -2.3129,\n",
      "         -2.1946, -2.4204],\n",
      "        [-2.2602, -2.2814, -2.4576, -2.2123, -2.1911, -2.4100, -2.3190, -2.3128,\n",
      "         -2.1841, -2.4431],\n",
      "        [-2.2795, -2.2699, -2.4616, -2.2057, -2.2046, -2.4159, -2.3038, -2.3073,\n",
      "         -2.1782, -2.4461],\n",
      "        [-2.2808, -2.2641, -2.4718, -2.2262, -2.1939, -2.4075, -2.3076, -2.3106,\n",
      "         -2.1693, -2.4416],\n",
      "        [-2.2649, -2.2966, -2.5024, -2.1983, -2.1844, -2.4339, -2.3192, -2.2902,\n",
      "         -2.1606, -2.4352],\n",
      "        [-2.2747, -2.2522, -2.4340, -2.2154, -2.2028, -2.4210, -2.3178, -2.3103,\n",
      "         -2.1973, -2.4411],\n",
      "        [-2.2748, -2.2555, -2.4674, -2.2214, -2.1948, -2.4098, -2.3152, -2.3130,\n",
      "         -2.1781, -2.4430],\n",
      "        [-2.2679, -2.2709, -2.4531, -2.2108, -2.2048, -2.4094, -2.2884, -2.3009,\n",
      "         -2.2103, -2.4509],\n",
      "        [-2.2616, -2.2806, -2.4350, -2.2016, -2.2368, -2.4179, -2.2709, -2.2966,\n",
      "         -2.2033, -2.4626],\n",
      "        [-2.2722, -2.2660, -2.4722, -2.2159, -2.1816, -2.4140, -2.3070, -2.3145,\n",
      "         -2.1825, -2.4503],\n",
      "        [-2.2657, -2.2611, -2.4474, -2.2010, -2.1812, -2.4307, -2.3418, -2.3285,\n",
      "         -2.1945, -2.4204],\n",
      "        [-2.2830, -2.2977, -2.3991, -2.2025, -2.2203, -2.4258, -2.2834, -2.3040,\n",
      "         -2.2080, -2.4359],\n",
      "        [-2.2808, -2.2842, -2.4036, -2.2067, -2.2099, -2.4512, -2.2828, -2.3143,\n",
      "         -2.2064, -2.4229],\n",
      "        [-2.2714, -2.2636, -2.4576, -2.2136, -2.1975, -2.4109, -2.3090, -2.3066,\n",
      "         -2.1948, -2.4448],\n",
      "        [-2.2780, -2.2799, -2.4438, -2.2035, -2.2116, -2.4281, -2.2759, -2.2802,\n",
      "         -2.2170, -2.4497],\n",
      "        [-2.2665, -2.2771, -2.4905, -2.1776, -2.1811, -2.4141, -2.3198, -2.3154,\n",
      "         -2.1912, -2.4488],\n",
      "        [-2.2640, -2.2666, -2.4324, -2.1875, -2.1895, -2.4184, -2.3356, -2.3299,\n",
      "         -2.2014, -2.4460],\n",
      "        [-2.2743, -2.2836, -2.4580, -2.2096, -2.2050, -2.4143, -2.2807, -2.3156,\n",
      "         -2.1818, -2.4485],\n",
      "        [-2.2642, -2.2783, -2.4413, -2.2180, -2.2181, -2.4147, -2.2918, -2.2933,\n",
      "         -2.2009, -2.4441],\n",
      "        [-2.2633, -2.2894, -2.4586, -2.2095, -2.2264, -2.4039, -2.2936, -2.2809,\n",
      "         -2.1902, -2.4523],\n",
      "        [-2.2844, -2.2773, -2.4200, -2.2071, -2.2118, -2.4264, -2.2985, -2.2972,\n",
      "         -2.2040, -2.4362],\n",
      "        [-2.2555, -2.2796, -2.4399, -2.1983, -2.2310, -2.4104, -2.2931, -2.2923,\n",
      "         -2.2075, -2.4589],\n",
      "        [-2.2906, -2.2644, -2.4194, -2.2013, -2.2087, -2.4260, -2.2873, -2.3067,\n",
      "         -2.2164, -2.4430],\n",
      "        [-2.2886, -2.2863, -2.4002, -2.2085, -2.2365, -2.4423, -2.2795, -2.2978,\n",
      "         -2.1984, -2.4212],\n",
      "        [-2.2796, -2.2619, -2.4611, -2.2009, -2.1879, -2.4193, -2.3184, -2.3156,\n",
      "         -2.1932, -2.4346],\n",
      "        [-2.2745, -2.3077, -2.4205, -2.2142, -2.2101, -2.4282, -2.2909, -2.2882,\n",
      "         -2.1984, -2.4299],\n",
      "        [-2.2768, -2.2785, -2.4401, -2.1999, -2.2144, -2.4372, -2.2852, -2.3168,\n",
      "         -2.1955, -2.4224],\n",
      "        [-2.2576, -2.2768, -2.4439, -2.2074, -2.2109, -2.3941, -2.2958, -2.3285,\n",
      "         -2.2037, -2.4463],\n",
      "        [-2.2857, -2.2892, -2.4062, -2.2102, -2.2175, -2.4310, -2.2770, -2.3047,\n",
      "         -2.2095, -2.4288],\n",
      "        [-2.2745, -2.2546, -2.4528, -2.2047, -2.1822, -2.4193, -2.3223, -2.3246,\n",
      "         -2.1970, -2.4406]], grad_fn=<LogSoftmaxBackward>)\n",
      "torch.Size([64, 10])\n"
     ]
    }
   ],
   "source": [
    "model = Classifier()\n",
    "\n",
    "images, labels = next(iter(testloader))\n",
    "print(labels)\n",
    "# Get the class probabilities\n",
    "ps = torch.exp(model(images))\n",
    "print(model(images))\n",
    "# Make sure the shape is appropriate, we should get 10 class probabilities for 64 examples\n",
    "print(ps.shape)"
   ]
  },
  {
   "cell_type": "code",
   "execution_count": 8,
   "metadata": {},
   "outputs": [
    {
     "data": {
      "text/plain": [
       "tensor([[0.1036, 0.1038, 0.0864, 0.1094, 0.1109, 0.0898, 0.0995, 0.0989, 0.1118,\n",
       "         0.0860],\n",
       "        [0.1084, 0.1010, 0.0871, 0.1105, 0.1051, 0.0904, 0.1008, 0.1014, 0.1094,\n",
       "         0.0858],\n",
       "        [0.1057, 0.1034, 0.0863, 0.1101, 0.1105, 0.0881, 0.1010, 0.0988, 0.1120,\n",
       "         0.0843],\n",
       "        [0.1060, 0.1027, 0.0858, 0.1113, 0.1064, 0.0908, 0.1004, 0.1020, 0.1095,\n",
       "         0.0852],\n",
       "        [0.1027, 0.1001, 0.0882, 0.1087, 0.1092, 0.0888, 0.1017, 0.1020, 0.1113,\n",
       "         0.0874],\n",
       "        [0.1041, 0.1040, 0.0841, 0.1093, 0.1112, 0.0908, 0.1002, 0.0984, 0.1117,\n",
       "         0.0862],\n",
       "        [0.1042, 0.1038, 0.0857, 0.1113, 0.1096, 0.0896, 0.1003, 0.0983, 0.1115,\n",
       "         0.0857],\n",
       "        [0.1037, 0.1019, 0.0861, 0.1120, 0.1100, 0.0891, 0.1007, 0.0981, 0.1113,\n",
       "         0.0872],\n",
       "        [0.1044, 0.1024, 0.0861, 0.1098, 0.1100, 0.0913, 0.0995, 0.0994, 0.1111,\n",
       "         0.0860],\n",
       "        [0.1028, 0.1016, 0.0860, 0.1125, 0.1101, 0.0868, 0.1007, 0.0987, 0.1119,\n",
       "         0.0889],\n",
       "        [0.1035, 0.1052, 0.0873, 0.1093, 0.1103, 0.0882, 0.0990, 0.0994, 0.1111,\n",
       "         0.0867],\n",
       "        [0.1026, 0.1024, 0.0914, 0.1093, 0.1078, 0.0873, 0.1026, 0.0990, 0.1086,\n",
       "         0.0890],\n",
       "        [0.1049, 0.1021, 0.0859, 0.1104, 0.1125, 0.0907, 0.0979, 0.0977, 0.1117,\n",
       "         0.0862],\n",
       "        [0.1030, 0.1049, 0.0831, 0.1096, 0.1139, 0.0895, 0.0984, 0.0989, 0.1130,\n",
       "         0.0858],\n",
       "        [0.1043, 0.1045, 0.0844, 0.1090, 0.1111, 0.0902, 0.0997, 0.0981, 0.1128,\n",
       "         0.0860],\n",
       "        [0.1038, 0.1043, 0.0883, 0.1090, 0.1085, 0.0878, 0.1010, 0.1018, 0.1081,\n",
       "         0.0873],\n",
       "        [0.1028, 0.1037, 0.0890, 0.1103, 0.1070, 0.0886, 0.1023, 0.1010, 0.1080,\n",
       "         0.0873],\n",
       "        [0.1042, 0.1035, 0.0869, 0.1089, 0.1104, 0.0888, 0.0989, 0.0992, 0.1105,\n",
       "         0.0886],\n",
       "        [0.1018, 0.1027, 0.0876, 0.1097, 0.1089, 0.0874, 0.1011, 0.1021, 0.1105,\n",
       "         0.0881],\n",
       "        [0.1027, 0.1035, 0.0849, 0.1106, 0.1110, 0.0886, 0.1004, 0.0981, 0.1121,\n",
       "         0.0881],\n",
       "        [0.1032, 0.1038, 0.0873, 0.1088, 0.1097, 0.0888, 0.0992, 0.1025, 0.1098,\n",
       "         0.0869],\n",
       "        [0.1060, 0.1004, 0.0854, 0.1111, 0.1074, 0.0909, 0.1004, 0.1036, 0.1091,\n",
       "         0.0857],\n",
       "        [0.1031, 0.1036, 0.0867, 0.1100, 0.1108, 0.0876, 0.0998, 0.0973, 0.1116,\n",
       "         0.0894],\n",
       "        [0.1028, 0.1029, 0.0849, 0.1104, 0.1099, 0.0907, 0.1021, 0.0996, 0.1108,\n",
       "         0.0859],\n",
       "        [0.1038, 0.1051, 0.0865, 0.1105, 0.1143, 0.0901, 0.0955, 0.0971, 0.1096,\n",
       "         0.0874],\n",
       "        [0.1028, 0.1025, 0.0855, 0.1077, 0.1118, 0.0890, 0.1003, 0.1002, 0.1128,\n",
       "         0.0873],\n",
       "        [0.1017, 0.1026, 0.0896, 0.1102, 0.1093, 0.0873, 0.1012, 0.1000, 0.1096,\n",
       "         0.0884],\n",
       "        [0.1028, 0.1022, 0.0889, 0.1111, 0.1072, 0.0881, 0.1027, 0.1030, 0.1078,\n",
       "         0.0861],\n",
       "        [0.1036, 0.1049, 0.0860, 0.1097, 0.1111, 0.0900, 0.0984, 0.0990, 0.1104,\n",
       "         0.0868],\n",
       "        [0.1025, 0.1036, 0.0886, 0.1113, 0.1112, 0.0871, 0.1006, 0.0981, 0.1101,\n",
       "         0.0868],\n",
       "        [0.1042, 0.1046, 0.0854, 0.1093, 0.1118, 0.0893, 0.0988, 0.0980, 0.1123,\n",
       "         0.0864],\n",
       "        [0.1026, 0.1040, 0.0882, 0.1118, 0.1070, 0.0898, 0.1042, 0.0980, 0.1098,\n",
       "         0.0845],\n",
       "        [0.1029, 0.1037, 0.0866, 0.1094, 0.1101, 0.0897, 0.0996, 0.1013, 0.1106,\n",
       "         0.0861],\n",
       "        [0.1040, 0.1021, 0.0831, 0.1113, 0.1136, 0.0894, 0.0975, 0.0998, 0.1127,\n",
       "         0.0865],\n",
       "        [0.1038, 0.1016, 0.0893, 0.1071, 0.1080, 0.0897, 0.1012, 0.0990, 0.1114,\n",
       "         0.0889],\n",
       "        [0.1043, 0.1021, 0.0856, 0.1094, 0.1118, 0.0898, 0.0984, 0.0990, 0.1126,\n",
       "         0.0869],\n",
       "        [0.1023, 0.1033, 0.0853, 0.1102, 0.1103, 0.0893, 0.0999, 0.0995, 0.1132,\n",
       "         0.0866],\n",
       "        [0.1022, 0.1039, 0.0844, 0.1079, 0.1115, 0.0900, 0.0995, 0.0992, 0.1143,\n",
       "         0.0870],\n",
       "        [0.1038, 0.1006, 0.0819, 0.1110, 0.1125, 0.0877, 0.0984, 0.1012, 0.1153,\n",
       "         0.0876],\n",
       "        [0.1028, 0.1052, 0.0877, 0.1091, 0.1105, 0.0888, 0.0985, 0.0992, 0.1111,\n",
       "         0.0871],\n",
       "        [0.1028, 0.1048, 0.0848, 0.1085, 0.1114, 0.0898, 0.0988, 0.0990, 0.1133,\n",
       "         0.0869],\n",
       "        [0.1035, 0.1032, 0.0860, 0.1096, 0.1103, 0.0899, 0.1014, 0.1002, 0.1097,\n",
       "         0.0862],\n",
       "        [0.1042, 0.1022, 0.0876, 0.1106, 0.1068, 0.0891, 0.1032, 0.1006, 0.1104,\n",
       "         0.0852],\n",
       "        [0.1031, 0.1037, 0.0844, 0.1091, 0.1129, 0.0895, 0.0996, 0.0988, 0.1128,\n",
       "         0.0863],\n",
       "        [0.1038, 0.1042, 0.0865, 0.1107, 0.1129, 0.0880, 0.0962, 0.0974, 0.1114,\n",
       "         0.0889],\n",
       "        [0.1020, 0.1005, 0.0908, 0.1105, 0.1086, 0.0884, 0.1019, 0.0999, 0.1099,\n",
       "         0.0875],\n",
       "        [0.1022, 0.1019, 0.0904, 0.1101, 0.1097, 0.0862, 0.1020, 0.0988, 0.1101,\n",
       "         0.0887],\n",
       "        [0.1032, 0.1040, 0.0856, 0.1093, 0.1111, 0.0897, 0.0994, 0.0996, 0.1114,\n",
       "         0.0867],\n",
       "        [0.1025, 0.1023, 0.0868, 0.1104, 0.1095, 0.0882, 0.1027, 0.1023, 0.1089,\n",
       "         0.0863],\n",
       "        [0.1037, 0.1026, 0.0829, 0.1133, 0.1129, 0.0894, 0.0983, 0.0987, 0.1118,\n",
       "         0.0864],\n",
       "        [0.1039, 0.1037, 0.0878, 0.1122, 0.1120, 0.0891, 0.0967, 0.0973, 0.1107,\n",
       "         0.0866],\n",
       "        [0.1029, 0.1019, 0.0856, 0.1097, 0.1102, 0.0894, 0.1022, 0.0987, 0.1128,\n",
       "         0.0864],\n",
       "        [0.1039, 0.1025, 0.0870, 0.1088, 0.1088, 0.0894, 0.1011, 0.1009, 0.1107,\n",
       "         0.0868],\n",
       "        [0.1040, 0.1013, 0.0856, 0.1098, 0.1079, 0.0904, 0.1009, 0.1022, 0.1119,\n",
       "         0.0861],\n",
       "        [0.1018, 0.1026, 0.0889, 0.1100, 0.1095, 0.0884, 0.1004, 0.1005, 0.1104,\n",
       "         0.0875],\n",
       "        [0.1048, 0.1023, 0.0872, 0.1110, 0.1074, 0.0898, 0.1009, 0.1010, 0.1100,\n",
       "         0.0855],\n",
       "        [0.1012, 0.1039, 0.0890, 0.1107, 0.1098, 0.0884, 0.1015, 0.0996, 0.1090,\n",
       "         0.0869],\n",
       "        [0.1014, 0.1016, 0.0907, 0.1099, 0.1068, 0.0870, 0.1023, 0.1005, 0.1110,\n",
       "         0.0888],\n",
       "        [0.1023, 0.1042, 0.0853, 0.1107, 0.1122, 0.0890, 0.0984, 0.0987, 0.1116,\n",
       "         0.0876],\n",
       "        [0.1029, 0.0995, 0.0889, 0.1092, 0.1097, 0.0882, 0.1012, 0.1015, 0.1110,\n",
       "         0.0880],\n",
       "        [0.1026, 0.1024, 0.0872, 0.1108, 0.1092, 0.0874, 0.1018, 0.0986, 0.1113,\n",
       "         0.0887],\n",
       "        [0.1046, 0.1026, 0.0868, 0.1100, 0.1096, 0.0913, 0.1007, 0.0974, 0.1104,\n",
       "         0.0866],\n",
       "        [0.1017, 0.1013, 0.0902, 0.1097, 0.1089, 0.0880, 0.1026, 0.0998, 0.1098,\n",
       "         0.0881],\n",
       "        [0.1028, 0.1049, 0.0861, 0.1103, 0.1128, 0.0890, 0.0981, 0.0978, 0.1111,\n",
       "         0.0871]], grad_fn=<ExpBackward>)"
      ]
     },
     "execution_count": 8,
     "metadata": {},
     "output_type": "execute_result"
    }
   ],
   "source": [
    "ps"
   ]
  },
  {
   "cell_type": "markdown",
   "metadata": {},
   "source": [
    "With the probabilities, we can get the most likely class using the `ps.topk` method. This returns the $k$ highest values. Since we just want the most likely class, we can use `ps.topk(1)`. This returns a tuple of the top-$k$ values and the top-$k$ indices. If the highest value is the fifth element, we'll get back 4 as the index."
   ]
  },
  {
   "cell_type": "markdown",
   "metadata": {},
   "source": [
    "> another way  to do this"
   ]
  },
  {
   "cell_type": "code",
   "execution_count": 10,
   "metadata": {
    "scrolled": true
   },
   "outputs": [
    {
     "data": {
      "text/plain": [
       "torch.return_types.max(\n",
       "values=tensor([0.1118, 0.1105, 0.1120, 0.1113, 0.1113, 0.1117, 0.1115, 0.1120, 0.1111,\n",
       "        0.1125, 0.1111, 0.1093, 0.1125, 0.1139, 0.1128, 0.1090, 0.1103, 0.1105,\n",
       "        0.1105, 0.1121, 0.1098, 0.1111, 0.1116, 0.1108, 0.1143, 0.1128, 0.1102,\n",
       "        0.1111, 0.1111, 0.1113, 0.1123, 0.1118, 0.1106, 0.1136, 0.1114, 0.1126,\n",
       "        0.1132, 0.1143, 0.1153, 0.1111, 0.1133, 0.1103, 0.1106, 0.1129, 0.1129,\n",
       "        0.1105, 0.1101, 0.1114, 0.1104, 0.1133, 0.1122, 0.1128, 0.1107, 0.1119,\n",
       "        0.1104, 0.1110, 0.1107, 0.1110, 0.1122, 0.1110, 0.1113, 0.1104, 0.1098,\n",
       "        0.1128], grad_fn=<MaxBackward0>),\n",
       "indices=tensor([8, 3, 8, 3, 8, 8, 8, 3, 8, 3, 8, 3, 4, 4, 8, 3, 3, 8, 8, 8, 8, 3, 8, 8,\n",
       "        4, 8, 3, 3, 4, 3, 8, 3, 8, 4, 8, 8, 8, 8, 8, 8, 8, 4, 3, 4, 4, 3, 8, 8,\n",
       "        3, 3, 3, 8, 8, 8, 8, 3, 3, 8, 4, 8, 8, 8, 8, 4]))"
      ]
     },
     "execution_count": 10,
     "metadata": {},
     "output_type": "execute_result"
    }
   ],
   "source": [
    "ps.max(1)"
   ]
  },
  {
   "cell_type": "code",
   "execution_count": 11,
   "metadata": {
    "scrolled": false
   },
   "outputs": [
    {
     "data": {
      "text/plain": [
       "tensor([8, 3, 8, 3, 8, 8, 8, 3, 8, 3, 8, 3, 4, 4, 8, 3, 3, 8, 8, 8, 8, 3, 8, 8,\n",
       "        4, 8, 3, 3, 4, 3, 8, 3, 8, 4, 8, 8, 8, 8, 8, 8, 8, 4, 3, 4, 4, 3, 8, 8,\n",
       "        3, 3, 3, 8, 8, 8, 8, 3, 3, 8, 4, 8, 8, 8, 8, 4])"
      ]
     },
     "execution_count": 11,
     "metadata": {},
     "output_type": "execute_result"
    }
   ],
   "source": [
    "ps.max(1)[1]"
   ]
  },
  {
   "cell_type": "code",
   "execution_count": 36,
   "metadata": {
    "scrolled": true
   },
   "outputs": [
    {
     "name": "stdout",
     "output_type": "stream",
     "text": [
      "tensor([False, False, False, False, False, False, False, False, False, False,\n",
      "        False, False, False, False, False, False, False, False, False,  True,\n",
      "        False, False, False, False, False,  True, False, False,  True, False,\n",
      "        False, False, False, False,  True, False, False,  True, False, False,\n",
      "         True, False,  True, False, False, False, False, False, False, False,\n",
      "        False,  True, False, False, False, False, False, False, False,  True,\n",
      "        False, False, False, False])\n"
     ]
    },
    {
     "data": {
      "text/plain": [
       "0.140625"
      ]
     },
     "execution_count": 36,
     "metadata": {},
     "output_type": "execute_result"
    }
   ],
   "source": [
    "print(labels==ps.max(1)[1])\n",
    "(labels==ps.max(1)[1]).type(torch.FloatTensor).mean().item()"
   ]
  },
  {
   "cell_type": "code",
   "execution_count": 27,
   "metadata": {},
   "outputs": [
    {
     "name": "stdout",
     "output_type": "stream",
     "text": [
      "tensor([[8],\n",
      "        [3],\n",
      "        [8],\n",
      "        [3],\n",
      "        [8],\n",
      "        [8],\n",
      "        [8],\n",
      "        [3],\n",
      "        [8],\n",
      "        [3]])\n",
      "tensor([[0.1118],\n",
      "        [0.1105],\n",
      "        [0.1120],\n",
      "        [0.1113],\n",
      "        [0.1113],\n",
      "        [0.1117],\n",
      "        [0.1115],\n",
      "        [0.1120],\n",
      "        [0.1111],\n",
      "        [0.1125]], grad_fn=<SliceBackward>)\n"
     ]
    }
   ],
   "source": [
    "top_p, top_class = ps.topk(1, dim=1)\n",
    "# Look at the most likely classes for the first 10 examples\n",
    "print(top_class[:10,:])\n",
    "print(top_p[:10,:])"
   ]
  },
  {
   "cell_type": "markdown",
   "metadata": {},
   "source": [
    "Now we can check if the predicted classes match the labels. This is simple to do by equating `top_class` and `labels`, but we have to be careful of the shapes. Here `top_class` is a 2D tensor with shape `(64, 1)` while `labels` is 1D with shape `(64)`. To get the equality to work out the way we want, `top_class` and `labels` must have the same shape.\n",
    "\n",
    "If we do\n",
    "\n",
    "```python\n",
    "equals = top_class == labels\n",
    "```\n",
    "\n",
    "`equals` will have shape `(64, 64)`, try it yourself. What it's doing is comparing the one element in each row of `top_class` with each element in `labels` which returns 64 True/False boolean values for each row."
   ]
  },
  {
   "cell_type": "code",
   "execution_count": 28,
   "metadata": {},
   "outputs": [
    {
     "data": {
      "text/plain": [
       "tensor([[False, False, False,  ..., False, False, False],\n",
       "        [False, False, False,  ..., False, False, False],\n",
       "        [False, False, False,  ..., False, False, False],\n",
       "        ...,\n",
       "        [False, False, False,  ..., False, False, False],\n",
       "        [False, False, False,  ..., False, False, False],\n",
       "        [False, False, False,  ...,  True, False, False]])"
      ]
     },
     "execution_count": 28,
     "metadata": {},
     "output_type": "execute_result"
    }
   ],
   "source": [
    "equals = top_class == labels\n",
    "equals"
   ]
  },
  {
   "cell_type": "code",
   "execution_count": 29,
   "metadata": {},
   "outputs": [
    {
     "data": {
      "text/plain": [
       "tensor([[False],\n",
       "        [False],\n",
       "        [False],\n",
       "        [False],\n",
       "        [False],\n",
       "        [False],\n",
       "        [False],\n",
       "        [False],\n",
       "        [False],\n",
       "        [False],\n",
       "        [False],\n",
       "        [False],\n",
       "        [False],\n",
       "        [False],\n",
       "        [False],\n",
       "        [False],\n",
       "        [False],\n",
       "        [False],\n",
       "        [False],\n",
       "        [ True],\n",
       "        [False],\n",
       "        [False],\n",
       "        [False],\n",
       "        [False],\n",
       "        [False],\n",
       "        [ True],\n",
       "        [False],\n",
       "        [False],\n",
       "        [ True],\n",
       "        [False],\n",
       "        [False],\n",
       "        [False],\n",
       "        [False],\n",
       "        [False],\n",
       "        [ True],\n",
       "        [False],\n",
       "        [False],\n",
       "        [ True],\n",
       "        [False],\n",
       "        [False],\n",
       "        [ True],\n",
       "        [False],\n",
       "        [ True],\n",
       "        [False],\n",
       "        [False],\n",
       "        [False],\n",
       "        [False],\n",
       "        [False],\n",
       "        [False],\n",
       "        [False],\n",
       "        [False],\n",
       "        [ True],\n",
       "        [False],\n",
       "        [False],\n",
       "        [False],\n",
       "        [False],\n",
       "        [False],\n",
       "        [False],\n",
       "        [False],\n",
       "        [ True],\n",
       "        [False],\n",
       "        [False],\n",
       "        [False],\n",
       "        [False]])"
      ]
     },
     "execution_count": 29,
     "metadata": {},
     "output_type": "execute_result"
    }
   ],
   "source": [
    "equals = top_class == labels.view(*top_class.shape)\n",
    "equals"
   ]
  },
  {
   "cell_type": "markdown",
   "metadata": {},
   "source": [
    "Now we need to calculate the percentage of correct predictions. `equals` has binary values, either 0 or 1. This means that if we just sum up all the values and divide by the number of values, we get the percentage of correct predictions. This is the same operation as taking the mean, so we can get the accuracy with a call to `torch.mean`. If only it was that simple. If you try `torch.mean(equals)`, you'll get an error\n",
    "\n",
    "```\n",
    "RuntimeError: mean is not implemented for type torch.ByteTensor\n",
    "```\n",
    "\n",
    "This happens because `equals` has type `torch.ByteTensor` but `torch.mean` isn't implemented for tensors with that type. So we'll need to convert `equals` to a float tensor. Note that when we take `torch.mean` it returns a scalar tensor, to get the actual value as a float we'll need to do `accuracy.item()`."
   ]
  },
  {
   "cell_type": "code",
   "execution_count": 30,
   "metadata": {},
   "outputs": [
    {
     "name": "stdout",
     "output_type": "stream",
     "text": [
      "Accuracy: 14.0625%\n"
     ]
    }
   ],
   "source": [
    "accuracy = torch.mean(equals.type(torch.FloatTensor))\n",
    "print(f'Accuracy: {accuracy.item()*100}%')"
   ]
  },
  {
   "cell_type": "markdown",
   "metadata": {},
   "source": [
    "The network is untrained so it's making random guesses and we should see an accuracy around 10%. Now let's train our network and include our validation pass so we can measure how well the network is performing on the test set. Since we're not updating our parameters in the validation pass, we can speed up our code by turning off gradients using `torch.no_grad()`:\n",
    "\n",
    "```python\n",
    "# turn off gradients\n",
    "with torch.no_grad():\n",
    "    # validation pass here\n",
    "    for images, labels in testloader:\n",
    "        ...\n",
    "```\n",
    "\n",
    ">**Exercise:** Implement the validation loop below and print out the total accuracy after the loop. You can largely copy and paste the code from above, but I suggest typing it in because writing it out yourself is essential for building the skill. In general you'll always learn more by typing it rather than copy-pasting. You should be able to get an accuracy above 80%."
   ]
  },
  {
   "cell_type": "code",
   "execution_count": 12,
   "metadata": {
    "scrolled": false
   },
   "outputs": [
    {
     "name": "stdout",
     "output_type": "stream",
     "text": [
      "Epoch: 1/30..  Training Loss: 0.514..  Test Loss: 0.456..  Test Accuracy: 0.838\n",
      "Epoch: 2/30..  Training Loss: 0.392..  Test Loss: 0.402..  Test Accuracy: 0.859\n",
      "Epoch: 3/30..  Training Loss: 0.352..  Test Loss: 0.432..  Test Accuracy: 0.846\n",
      "Epoch: 4/30..  Training Loss: 0.331..  Test Loss: 0.396..  Test Accuracy: 0.864\n",
      "Epoch: 5/30..  Training Loss: 0.315..  Test Loss: 0.375..  Test Accuracy: 0.867\n",
      "Epoch: 6/30..  Training Loss: 0.303..  Test Loss: 0.358..  Test Accuracy: 0.870\n",
      "Epoch: 7/30..  Training Loss: 0.289..  Test Loss: 0.347..  Test Accuracy: 0.877\n",
      "Epoch: 8/30..  Training Loss: 0.281..  Test Loss: 0.365..  Test Accuracy: 0.874\n",
      "Epoch: 9/30..  Training Loss: 0.274..  Test Loss: 0.360..  Test Accuracy: 0.875\n",
      "Epoch: 10/30..  Training Loss: 0.264..  Test Loss: 0.366..  Test Accuracy: 0.874\n",
      "Epoch: 11/30..  Training Loss: 0.259..  Test Loss: 0.371..  Test Accuracy: 0.877\n",
      "Epoch: 12/30..  Training Loss: 0.258..  Test Loss: 0.370..  Test Accuracy: 0.878\n",
      "Epoch: 13/30..  Training Loss: 0.246..  Test Loss: 0.382..  Test Accuracy: 0.872\n",
      "Epoch: 14/30..  Training Loss: 0.243..  Test Loss: 0.362..  Test Accuracy: 0.882\n",
      "Epoch: 15/30..  Training Loss: 0.234..  Test Loss: 0.368..  Test Accuracy: 0.880\n",
      "Epoch: 16/30..  Training Loss: 0.233..  Test Loss: 0.353..  Test Accuracy: 0.882\n",
      "Epoch: 17/30..  Training Loss: 0.224..  Test Loss: 0.371..  Test Accuracy: 0.880\n",
      "Epoch: 18/30..  Training Loss: 0.226..  Test Loss: 0.373..  Test Accuracy: 0.884\n",
      "Epoch: 19/30..  Training Loss: 0.220..  Test Loss: 0.391..  Test Accuracy: 0.871\n",
      "Epoch: 20/30..  Training Loss: 0.212..  Test Loss: 0.375..  Test Accuracy: 0.883\n",
      "Epoch: 21/30..  Training Loss: 0.213..  Test Loss: 0.381..  Test Accuracy: 0.879\n",
      "Epoch: 22/30..  Training Loss: 0.212..  Test Loss: 0.390..  Test Accuracy: 0.881\n",
      "Epoch: 23/30..  Training Loss: 0.200..  Test Loss: 0.396..  Test Accuracy: 0.881\n",
      "Epoch: 24/30..  Training Loss: 0.203..  Test Loss: 0.417..  Test Accuracy: 0.882\n",
      "Epoch: 25/30..  Training Loss: 0.198..  Test Loss: 0.371..  Test Accuracy: 0.879\n",
      "Epoch: 26/30..  Training Loss: 0.198..  Test Loss: 0.426..  Test Accuracy: 0.880\n",
      "Epoch: 27/30..  Training Loss: 0.189..  Test Loss: 0.405..  Test Accuracy: 0.883\n",
      "Epoch: 28/30..  Training Loss: 0.192..  Test Loss: 0.429..  Test Accuracy: 0.879\n",
      "Epoch: 29/30..  Training Loss: 0.190..  Test Loss: 0.422..  Test Accuracy: 0.886\n",
      "Epoch: 30/30..  Training Loss: 0.188..  Test Loss: 0.448..  Test Accuracy: 0.879\n"
     ]
    }
   ],
   "source": [
    "model = Classifier()\n",
    "criterion = nn.NLLLoss()\n",
    "optimizer = optim.Adam(model.parameters(), lr=0.003)\n",
    "\n",
    "epochs = 30\n",
    "steps = 0\n",
    "\n",
    "train_losses, test_losses = [], []\n",
    "for e in range(epochs):\n",
    "    running_loss = 0\n",
    "    for images, labels in trainloader:\n",
    "        \n",
    "        optimizer.zero_grad()\n",
    "        \n",
    "        log_ps = model(images)\n",
    "        loss = criterion(log_ps, labels)\n",
    "        loss.backward()\n",
    "        optimizer.step()\n",
    "        \n",
    "        running_loss += loss.item()\n",
    "        \n",
    "    else:\n",
    "        test_loss=0\n",
    "        accuracy=0\n",
    "        ## TODO: Implement the validation pass and print out the validation accuracy\n",
    "        with torch.no_grad():\n",
    "        #load in test set\n",
    "            for images, labels in testloader:\n",
    "                log_ps=model(images)\n",
    "                test_loss+= criterion(log_ps,labels).item()\n",
    "\n",
    "                # get actual ps\n",
    "                ps=torch.exp(log_ps)\n",
    "                # top 1 probability and label\n",
    "                top_p,top_class=ps.topk(1,dim=1)\n",
    "                # change shape\n",
    "                equals = labels == top_class.view(*labels.shape)\n",
    "                # get accuracy\n",
    "                accuracy+=torch.mean(equals.type(torch.FloatTensor)) \n",
    "        \n",
    "        train_losses.append(running_loss/len(trainloader))\n",
    "        test_losses.append(test_loss/len(testloader))\n",
    "        steps+=1\n",
    "        print(\"Epoch: {}/{}.. \".format(steps, epochs),\n",
    "              \"Training Loss: {:.3f}.. \".format(running_loss/len(trainloader)),\n",
    "              \"Test Loss: {:.3f}.. \".format(test_loss/len(testloader)),\n",
    "              \"Test Accuracy: {:.3f}\".format(accuracy/len(testloader)))"
   ]
  },
  {
   "cell_type": "code",
   "execution_count": 13,
   "metadata": {},
   "outputs": [
    {
     "data": {
      "text/plain": [
       "array([ 1,  2,  3,  4,  5,  6,  7,  8,  9, 10, 11, 12, 13, 14, 15, 16, 17,\n",
       "       18, 19, 20, 21, 22, 23, 24, 25, 26, 27, 28, 29, 30])"
      ]
     },
     "execution_count": 13,
     "metadata": {},
     "output_type": "execute_result"
    }
   ],
   "source": [
    "import numpy as np\n",
    "np.arange(1,steps+1)"
   ]
  },
  {
   "cell_type": "code",
   "execution_count": 25,
   "metadata": {},
   "outputs": [
    {
     "data": {
      "image/png": "[encoded data removed]",
      "text/plain": [
       "<Figure size 432x288 with 1 Axes>"
      ]
     },
     "metadata": {
      "needs_background": "light"
     },
     "output_type": "display_data"
    }
   ],
   "source": [
    "import seaborn as sns\n",
    "import matplotlib.pyplot as plt\n",
    "sns.lineplot(x=np.arange(1,steps+1),y=train_losses,label='train_losses')\n",
    "sns.lineplot(x=np.arange(1,steps+1),y=test_losses,label='test_losses')\n",
    "plt.legend(loc=0);"
   ]
  },
  {
   "cell_type": "markdown",
   "metadata": {},
   "source": [
    "## Overfitting\n",
    "\n",
    "If we look at the training and validation losses as we train the network, we can see a phenomenon known as overfitting.\n",
    "\n",
    "<img src='assets/overfitting.png' width=450px>\n",
    "\n",
    "The network learns the training set better and better, resulting in lower training losses. However, it starts having problems generalizing to data outside the training set leading to the validation loss increasing. The ultimate goal of any deep learning model is to make predictions on new data, so we should strive to get the lowest validation loss possible. One option is to use the version of the model with the lowest validation loss, here the one around 8-10 training epochs. This strategy is called *early-stopping*. In practice, you'd save the model frequently as you're training then later choose the model with the lowest validation loss.\n",
    "\n",
    "The most common method to reduce overfitting (outside of early-stopping) is *dropout*, where we randomly drop input units. This forces the network to share information between weights, increasing it's ability to generalize to new data. Adding dropout in PyTorch is straightforward using the [`nn.Dropout`](https://pytorch.org/docs/stable/nn.html#torch.nn.Dropout) module.\n",
    "\n",
    "```python\n",
    "class Classifier(nn.Module):\n",
    "    def __init__(self):\n",
    "        super().__init__()\n",
    "        self.fc1 = nn.Linear(784, 256)\n",
    "        self.fc2 = nn.Linear(256, 128)\n",
    "        self.fc3 = nn.Linear(128, 64)\n",
    "        self.fc4 = nn.Linear(64, 10)\n",
    "        \n",
    "        # Dropout module with 0.2 drop probability\n",
    "        self.dropout = nn.Dropout(p=0.2)\n",
    "        \n",
    "    def forward(self, x):\n",
    "        # make sure input tensor is flattened\n",
    "        x = x.view(x.shape[0], -1)\n",
    "        \n",
    "        # Now with dropout\n",
    "        x = self.dropout(F.relu(self.fc1(x)))\n",
    "        x = self.dropout(F.relu(self.fc2(x)))\n",
    "        x = self.dropout(F.relu(self.fc3(x)))\n",
    "        \n",
    "        # output so no dropout here\n",
    "        x = F.log_softmax(self.fc4(x), dim=1)\n",
    "        \n",
    "        return x\n",
    "```\n",
    "\n",
    "During training we want to use dropout to prevent overfitting, but during inference we want to use the entire network. So, we need to turn off dropout during validation, testing, and whenever we're using the network to make predictions. To do this, you use `model.eval()`. This sets the model to evaluation mode where the dropout probability is 0. You can turn dropout back on by setting the model to train mode with `model.train()`. In general, the pattern for the validation loop will look like this, where you turn off gradients, set the model to evaluation mode, calculate the validation loss and metric, then set the model back to train mode.\n",
    "\n",
    "```python\n",
    "# turn off gradients\n",
    "with torch.no_grad():\n",
    "    \n",
    "    # set model to evaluation mode\n",
    "    model.eval()\n",
    "    \n",
    "    # validation pass here\n",
    "    for images, labels in testloader:\n",
    "        ...\n",
    "\n",
    "# set model back to train mode\n",
    "model.train()\n",
    "```"
   ]
  },
  {
   "cell_type": "markdown",
   "metadata": {},
   "source": [
    "> **Exercise:** Add dropout to your model and train it on Fashion-MNIST again. See if you can get a lower validation loss or higher accuracy."
   ]
  },
  {
   "cell_type": "code",
   "execution_count": 27,
   "metadata": {},
   "outputs": [
    {
     "data": {
      "text/plain": [
       "938"
      ]
     },
     "execution_count": 27,
     "metadata": {},
     "output_type": "execute_result"
    }
   ],
   "source": [
    "len(trainloader)"
   ]
  },
  {
   "cell_type": "code",
   "execution_count": 32,
   "metadata": {},
   "outputs": [],
   "source": [
    "## TODO: Define your model with dropout added\n",
    "model=nn.Sequential(nn.Linear(784,400),\n",
    "                   nn.ReLU(),\n",
    "                    nn.Dropout(p=.2),\n",
    "                   nn.Linear(400,128),\n",
    "                   nn.ReLU(),\n",
    "                    nn.Dropout(p=.2),\n",
    "                   nn.Linear(128,64),\n",
    "                   nn.ReLU(),\n",
    "                    nn.Dropout(p=.2),\n",
    "                   nn.Linear(64,10),\n",
    "                   nn.LogSoftmax(dim=1))\n",
    "\n",
    "epochs=10\n",
    "criterion = nn.NLLLoss()\n",
    "optimizer= optim.Adam(model.parameters(),lr=0.001)"
   ]
  },
  {
   "cell_type": "code",
   "execution_count": 33,
   "metadata": {
    "scrolled": true
   },
   "outputs": [
    {
     "name": "stdout",
     "output_type": "stream",
     "text": [
      "Epoch: 1/10 training loss:0.593 test loss: 0.444 test accuracy:0.841\n",
      "Epoch: 2/10 training loss:0.430 test loss: 0.398 test accuracy:0.855\n",
      "Epoch: 3/10 training loss:0.390 test loss: 0.401 test accuracy:0.856\n",
      "Epoch: 4/10 training loss:0.368 test loss: 0.386 test accuracy:0.858\n",
      "Epoch: 5/10 training loss:0.351 test loss: 0.363 test accuracy:0.867\n",
      "Epoch: 6/10 training loss:0.340 test loss: 0.360 test accuracy:0.867\n",
      "Epoch: 7/10 training loss:0.323 test loss: 0.359 test accuracy:0.874\n",
      "Epoch: 8/10 training loss:0.315 test loss: 0.344 test accuracy:0.874\n",
      "Epoch: 9/10 training loss:0.306 test loss: 0.325 test accuracy:0.883\n",
      "Epoch: 10/10 training loss:0.300 test loss: 0.344 test accuracy:0.877\n"
     ]
    }
   ],
   "source": [
    "## TODO: Train your model with dropout, and monitor the training progress with the validation loss and accuracy\n",
    "steps=0\n",
    "train_losses, test_losses=[],[]\n",
    "for e in range(epochs):\n",
    "    running_loss=0\n",
    "    for images, labels in trainloader:\n",
    "        optimizer.zero_grad()\n",
    "        output=model.forward(images.view(images.shape[0],-1))\n",
    "        # calcluate loss\n",
    "        loss=criterion(output,labels)\n",
    "        loss.backward()\n",
    "        # upodate weight\n",
    "        optimizer.step()\n",
    "        # running loss\n",
    "        running_loss+=loss.item()\n",
    "        \n",
    "    ### validation set\n",
    "    else:\n",
    "        test_loss=0\n",
    "        accuracy=0\n",
    "        with torch.no_grad():\n",
    "            '''trun on evaluation mode''' \n",
    "            model.eval()\n",
    "            for images, labels in testloader:\n",
    "                output=model.forward(images.view(images.shape[0],-1))\n",
    "                loss=criterion(output, labels)\n",
    "                test_loss+=loss.item()\n",
    "                ### get the difference between acutal& labels\n",
    "                ps=torch.exp(output)\n",
    "                top_p,top_class=ps.topk(1,dim=1)\n",
    "                equals = top_class == labels.view(*top_class.shape)\n",
    "                accuracy += torch.mean(equals.type(torch.FloatTensor))\n",
    "        \n",
    "        '''set back to train mode'''\n",
    "        model.train()\n",
    "        steps+=1\n",
    "        train_losses.append(running_loss/len(trainloader))\n",
    "        test_losses.append(test_loss/len(testloader))\n",
    "        print(\"Epoch: {}/{}\".format(steps,epochs),\n",
    "              \"training loss:{:.3f}\".format(running_loss/len(trainloader)),\n",
    "              \"test loss: {:.3f}\".format(test_loss/len(testloader)),\n",
    "              \"test accuracy:{:.3f}\".format(accuracy/len(testloader)))"
   ]
  },
  {
   "cell_type": "code",
   "execution_count": 34,
   "metadata": {},
   "outputs": [
    {
     "data": {
      "text/plain": [
       "(10, 10)"
      ]
     },
     "execution_count": 34,
     "metadata": {},
     "output_type": "execute_result"
    }
   ],
   "source": [
    "len(train_losses),len(test_losses)"
   ]
  },
  {
   "cell_type": "code",
   "execution_count": 35,
   "metadata": {
    "scrolled": false
   },
   "outputs": [
    {
     "data": {
      "image/png": "[encoded data removed]",
      "text/plain": [
       "<Figure size 432x288 with 1 Axes>"
      ]
     },
     "metadata": {
      "needs_background": "light"
     },
     "output_type": "display_data"
    }
   ],
   "source": [
    "sns.lineplot(np.arange(1,steps+1),train_losses,label='train_losses')\n",
    "sns.lineplot(np.arange(1,steps+1),test_losses,label='test_losses')\n",
    "plt.legend(loc=0);"
   ]
  },
  {
   "cell_type": "markdown",
   "metadata": {},
   "source": [
    "## Inference\n",
    "\n",
    "Now that the model is trained, we can use it for inference. We've done this before, but now we need to remember to set the model in inference mode with `model.eval()`. You'll also want to turn off autograd with the `torch.no_grad()` context."
   ]
  },
  {
   "cell_type": "code",
   "execution_count": 39,
   "metadata": {},
   "outputs": [
    {
     "data": {
      "image/png": "[encoded data removed]",
      "text/plain": [
       "<Figure size 432x648 with 2 Axes>"
      ]
     },
     "metadata": {
      "needs_background": "light"
     },
     "output_type": "display_data"
    }
   ],
   "source": [
    "# Import helper module (should be in the repo)\n",
    "import helper\n",
    "\n",
    "# Test out your network!\n",
    "\n",
    "model.eval()\n",
    "\n",
    "dataiter = iter(testloader)\n",
    "images, labels = dataiter.next()\n",
    "img = images[0]\n",
    "# Convert 2D image to 1D vector\n",
    "img = img.view(1, 784)\n",
    "\n",
    "# Calculate the class probabilities (softmax) for img\n",
    "with torch.no_grad():\n",
    "    output = model.forward(img)\n",
    "\n",
    "ps = torch.exp(output)\n",
    "\n",
    "# Plot the image and probabilities\n",
    "helper.view_classify(img.view(1, 28, 28), ps, version='Fashion')"
   ]
  },
  {
   "cell_type": "markdown",
   "metadata": {},
   "source": [
    "## Next Up!\n",
    "\n",
    "In the next part, I'll show you how to save your trained models. In general, you won't want to train a model everytime you need it. Instead, you'll train once, save it, then load the model when you want to train more or use if for inference."
   ]
  }
 ],
 "metadata": {
  "kernelspec": {
   "display_name": "Python 3",
   "language": "python",
   "name": "python3"
  },
  "language_info": {
   "codemirror_mode": {
    "name": "ipython",
    "version": 3
   },
   "file_extension": ".py",
   "mimetype": "text/x-python",
   "name": "python",
   "nbconvert_exporter": "python",
   "pygments_lexer": "ipython3",
   "version": "3.7.7"
  }
 },
 "nbformat": 4,
 "nbformat_minor": 2
}
