{
 "cells": [
  {
   "cell_type": "markdown",
   "metadata": {},
   "source": [
    "# Inference and Validation\n",
    "\n",
    "Now that you have a trained network, you can use it for making predictions. This is typically called **inference**, a term borrowed from statistics. However, neural networks have a tendency to perform *too well* on the training data and aren't able to generalize to data that hasn't been seen before. This is called **overfitting** and it impairs inference performance. To test for overfitting while training, we measure the performance on data not in the training set called the **validation** set. We avoid overfitting through regularization such as dropout while monitoring the validation performance during training. In this notebook, I'll show you how to do this in PyTorch. \n",
    "\n",
    "As usual, let's start by loading the dataset through torchvision. You'll learn more about torchvision and loading data in a later part. This time we'll be taking advantage of the test set which you can get by setting `train=False` here:\n",
    "\n",
    "```python\n",
    "testset = datasets.FashionMNIST('~/.pytorch/F_MNIST_data/', download=True, train=False, transform=transform)\n",
    "```\n",
    "\n",
    "The test set contains images just like the training set. Typically you'll see 10-20% of the original dataset held out for testing and validation with the rest being used for training."
   ]
  },
  {
   "cell_type": "code",
   "execution_count": 4,
   "metadata": {},
   "outputs": [],
   "source": [
    "import torch\n",
    "from torchvision import datasets, transforms\n",
    "\n",
    "# Define a transform to normalize the data\n",
    "transform = transforms.Compose([transforms.ToTensor(),\n",
    "                                transforms.Normalize((0.5), (0.5))])\n",
    "# Download and load the training data\n",
    "trainset = datasets.FashionMNIST('~/.pytorch/F_MNIST_data/', download=True, train=True, transform=transform)\n",
    "trainloader = torch.utils.data.DataLoader(trainset, batch_size=64, shuffle=True)\n",
    "\n",
    "# Download and load the test data\n",
    "testset = datasets.FashionMNIST('~/.pytorch/F_MNIST_data/', download=True, train=False, transform=transform)\n",
    "testloader = torch.utils.data.DataLoader(testset, batch_size=64, shuffle=True)"
   ]
  },
  {
   "cell_type": "markdown",
   "metadata": {},
   "source": [
    "Here I'll create a model like normal, using the same one from my solution for part 4."
   ]
  },
  {
   "cell_type": "code",
   "execution_count": 5,
   "metadata": {},
   "outputs": [],
   "source": [
    "from torch import nn, optim\n",
    "import torch.nn.functional as F\n",
    "\n",
    "class Classifier(nn.Module):\n",
    "    def __init__(self):\n",
    "        super().__init__()\n",
    "        self.fc1 = nn.Linear(784, 256)\n",
    "        self.fc2 = nn.Linear(256, 128)\n",
    "        self.fc3 = nn.Linear(128, 64)\n",
    "        self.fc4 = nn.Linear(64, 10)\n",
    "        \n",
    "    def forward(self, x):\n",
    "        # make sure input tensor is flattened\n",
    "        x = x.view(x.shape[0], -1)\n",
    "        \n",
    "        x = F.relu(self.fc1(x))\n",
    "        x = F.relu(self.fc2(x))\n",
    "        x = F.relu(self.fc3(x))\n",
    "        x = F.log_softmax(self.fc4(x), dim=1)\n",
    "        \n",
    "        return x"
   ]
  },
  {
   "cell_type": "markdown",
   "metadata": {},
   "source": [
    "The goal of validation is to measure the model's performance on data that isn't part of the training set. Performance here is up to the developer to define though. Typically this is just accuracy, the percentage of classes the network predicted correctly. Other options are [precision and recall](https://en.wikipedia.org/wiki/Precision_and_recall#Definition_(classification_context)) and top-5 error rate. We'll focus on accuracy here. First I'll do a forward pass with one batch from the test set."
   ]
  },
  {
   "cell_type": "code",
   "execution_count": 6,
   "metadata": {},
   "outputs": [
    {
     "name": "stdout",
     "output_type": "stream",
     "text": [
      "tensor([5, 7, 9, 0, 4, 1, 5, 1, 7, 5, 2, 6, 8, 1, 1, 3, 7, 0, 5, 3, 4, 5, 6, 5,\n",
      "        1, 6, 6, 7, 4, 6, 9, 8, 2, 2, 2, 8, 0, 3, 6, 6, 9, 8, 1, 3, 6, 5, 0, 6,\n",
      "        8, 3, 2, 7, 1, 0, 8, 3, 6, 8, 3, 5, 9, 8, 1, 0])\n",
      "tensor([[-2.1720, -2.2475, -2.3769, -2.3537, -2.3963, -2.3269, -2.3566, -2.1876,\n",
      "         -2.3789, -2.2604],\n",
      "        [-2.1802, -2.2688, -2.3338, -2.3352, -2.3916, -2.3483, -2.3432, -2.2076,\n",
      "         -2.3634, -2.2758],\n",
      "        [-2.1752, -2.2727, -2.3527, -2.3147, -2.4104, -2.3370, -2.3387, -2.1908,\n",
      "         -2.3797, -2.2807],\n",
      "        [-2.1857, -2.2778, -2.3292, -2.3795, -2.3859, -2.3311, -2.3321, -2.2103,\n",
      "         -2.3785, -2.2398],\n",
      "        [-2.1997, -2.2648, -2.3496, -2.3485, -2.4051, -2.3087, -2.3205, -2.1908,\n",
      "         -2.3844, -2.2774],\n",
      "        [-2.1537, -2.2734, -2.3373, -2.3604, -2.3992, -2.3612, -2.3308, -2.2125,\n",
      "         -2.3834, -2.2439],\n",
      "        [-2.1908, -2.2677, -2.3726, -2.3341, -2.3984, -2.3216, -2.3535, -2.1832,\n",
      "         -2.3774, -2.2539],\n",
      "        [-2.1723, -2.2693, -2.3304, -2.3477, -2.3860, -2.3583, -2.3315, -2.2045,\n",
      "         -2.3879, -2.2634],\n",
      "        [-2.2065, -2.2715, -2.3498, -2.3722, -2.3867, -2.3126, -2.3458, -2.1806,\n",
      "         -2.3649, -2.2591],\n",
      "        [-2.1731, -2.2549, -2.3722, -2.3443, -2.4049, -2.3165, -2.3700, -2.1936,\n",
      "         -2.3727, -2.2540],\n",
      "        [-2.2095, -2.2815, -2.3444, -2.3544, -2.3877, -2.3170, -2.3108, -2.1921,\n",
      "         -2.3875, -2.2623],\n",
      "        [-2.1962, -2.2692, -2.3523, -2.3562, -2.4025, -2.3019, -2.3247, -2.1856,\n",
      "         -2.3863, -2.2759],\n",
      "        [-2.1827, -2.2571, -2.3655, -2.3634, -2.3906, -2.3271, -2.3508, -2.2136,\n",
      "         -2.3699, -2.2317],\n",
      "        [-2.1674, -2.2692, -2.3279, -2.3568, -2.3936, -2.3803, -2.3243, -2.1808,\n",
      "         -2.4018, -2.2563],\n",
      "        [-2.1818, -2.2701, -2.3529, -2.3409, -2.3864, -2.3261, -2.3343, -2.2228,\n",
      "         -2.3877, -2.2456],\n",
      "        [-2.1699, -2.2743, -2.3354, -2.3454, -2.3862, -2.3287, -2.3448, -2.1984,\n",
      "         -2.3840, -2.2834],\n",
      "        [-2.1978, -2.2693, -2.3534, -2.3509, -2.4030, -2.3157, -2.3401, -2.1957,\n",
      "         -2.3705, -2.2532],\n",
      "        [-2.1842, -2.2741, -2.3383, -2.3597, -2.3656, -2.3404, -2.3383, -2.2057,\n",
      "         -2.4023, -2.2419],\n",
      "        [-2.1878, -2.2735, -2.3295, -2.3342, -2.3876, -2.3073, -2.3489, -2.2138,\n",
      "         -2.3836, -2.2798],\n",
      "        [-2.1917, -2.2700, -2.3234, -2.3597, -2.3804, -2.3583, -2.3384, -2.1855,\n",
      "         -2.3832, -2.2603],\n",
      "        [-2.1797, -2.2808, -2.3636, -2.3433, -2.3925, -2.3120, -2.3454, -2.2041,\n",
      "         -2.3814, -2.2482],\n",
      "        [-2.1791, -2.2617, -2.3924, -2.3759, -2.4199, -2.3034, -2.3588, -2.1680,\n",
      "         -2.3548, -2.2476],\n",
      "        [-2.1965, -2.2746, -2.3504, -2.3799, -2.3791, -2.3151, -2.3163, -2.1916,\n",
      "         -2.3812, -2.2644],\n",
      "        [-2.1973, -2.2729, -2.3520, -2.3371, -2.3894, -2.3089, -2.3467, -2.1970,\n",
      "         -2.3725, -2.2732],\n",
      "        [-2.1940, -2.2628, -2.3571, -2.3667, -2.3829, -2.3220, -2.3337, -2.2103,\n",
      "         -2.3833, -2.2370],\n",
      "        [-2.1873, -2.2624, -2.3461, -2.3539, -2.3816, -2.3202, -2.3259, -2.1931,\n",
      "         -2.3965, -2.2830],\n",
      "        [-2.1822, -2.2617, -2.3488, -2.3441, -2.3873, -2.3187, -2.3599, -2.2108,\n",
      "         -2.3811, -2.2551],\n",
      "        [-2.1957, -2.2735, -2.3439, -2.3647, -2.3842, -2.2999, -2.3633, -2.1952,\n",
      "         -2.3554, -2.2719],\n",
      "        [-2.2124, -2.2476, -2.3614, -2.3584, -2.4024, -2.2914, -2.3243, -2.1875,\n",
      "         -2.3977, -2.2687],\n",
      "        [-2.1902, -2.2675, -2.3310, -2.3596, -2.3615, -2.3355, -2.3502, -2.2017,\n",
      "         -2.3817, -2.2685],\n",
      "        [-2.1986, -2.2801, -2.3644, -2.3101, -2.4052, -2.3188, -2.3347, -2.2005,\n",
      "         -2.3727, -2.2629],\n",
      "        [-2.1887, -2.2725, -2.3740, -2.3538, -2.4173, -2.3207, -2.3322, -2.1888,\n",
      "         -2.3663, -2.2401],\n",
      "        [-2.1862, -2.2620, -2.3533, -2.3585, -2.3781, -2.3197, -2.3302, -2.1955,\n",
      "         -2.3943, -2.2724],\n",
      "        [-2.2283, -2.2640, -2.3390, -2.3674, -2.3857, -2.2939, -2.3146, -2.2007,\n",
      "         -2.3799, -2.2707],\n",
      "        [-2.2148, -2.2856, -2.3517, -2.3584, -2.3851, -2.3013, -2.3147, -2.1969,\n",
      "         -2.3927, -2.2462],\n",
      "        [-2.1984, -2.2426, -2.3636, -2.3540, -2.3967, -2.3251, -2.3365, -2.2079,\n",
      "         -2.3796, -2.2463],\n",
      "        [-2.1856, -2.2560, -2.3396, -2.3605, -2.3880, -2.3340, -2.3521, -2.2025,\n",
      "         -2.3906, -2.2435],\n",
      "        [-2.1868, -2.2770, -2.3344, -2.3725, -2.3897, -2.3743, -2.3153, -2.1869,\n",
      "         -2.3936, -2.2258],\n",
      "        [-2.2299, -2.2653, -2.3527, -2.3458, -2.3859, -2.2921, -2.3184, -2.1997,\n",
      "         -2.3945, -2.2612],\n",
      "        [-2.2160, -2.2703, -2.3660, -2.3598, -2.3888, -2.3131, -2.3173, -2.1942,\n",
      "         -2.3823, -2.2410],\n",
      "        [-2.2225, -2.2711, -2.3602, -2.3365, -2.3750, -2.3061, -2.3417, -2.1920,\n",
      "         -2.3640, -2.2747],\n",
      "        [-2.1893, -2.2618, -2.3580, -2.3299, -2.3922, -2.3171, -2.3413, -2.1861,\n",
      "         -2.3889, -2.2862],\n",
      "        [-2.1497, -2.2620, -2.3394, -2.3659, -2.4041, -2.3735, -2.3295, -2.1978,\n",
      "         -2.3951, -2.2439],\n",
      "        [-2.1765, -2.2695, -2.3254, -2.3502, -2.3866, -2.3547, -2.3395, -2.2036,\n",
      "         -2.3755, -2.2682],\n",
      "        [-2.1804, -2.2693, -2.3298, -2.3564, -2.3680, -2.3477, -2.3507, -2.2051,\n",
      "         -2.3915, -2.2515],\n",
      "        [-2.1874, -2.2524, -2.3680, -2.3371, -2.4005, -2.3249, -2.3468, -2.1982,\n",
      "         -2.3872, -2.2505],\n",
      "        [-2.1823, -2.2727, -2.3324, -2.3725, -2.3754, -2.3272, -2.3460, -2.2156,\n",
      "         -2.3783, -2.2463],\n",
      "        [-2.1955, -2.2671, -2.3585, -2.3526, -2.3911, -2.3092, -2.3419, -2.1932,\n",
      "         -2.3906, -2.2514],\n",
      "        [-2.1936, -2.2862, -2.3536, -2.3266, -2.4038, -2.3235, -2.3355, -2.1897,\n",
      "         -2.3910, -2.2479],\n",
      "        [-2.1806, -2.2762, -2.3266, -2.3566, -2.3760, -2.3591, -2.3277, -2.1877,\n",
      "         -2.3857, -2.2746],\n",
      "        [-2.1967, -2.2589, -2.3475, -2.3607, -2.3843, -2.2872, -2.3587, -2.2151,\n",
      "         -2.3797, -2.2591],\n",
      "        [-2.1906, -2.2772, -2.3553, -2.3529, -2.3980, -2.3101, -2.3459, -2.1793,\n",
      "         -2.3849, -2.2587],\n",
      "        [-2.1815, -2.2710, -2.3376, -2.3380, -2.3742, -2.3375, -2.3352, -2.2179,\n",
      "         -2.3885, -2.2653],\n",
      "        [-2.1848, -2.2735, -2.3498, -2.3485, -2.3869, -2.3335, -2.3382, -2.2037,\n",
      "         -2.3981, -2.2350],\n",
      "        [-2.2163, -2.2701, -2.3612, -2.3678, -2.3900, -2.2989, -2.3308, -2.2046,\n",
      "         -2.3615, -2.2451],\n",
      "        [-2.1820, -2.2605, -2.3376, -2.3506, -2.3847, -2.3528, -2.3442, -2.1966,\n",
      "         -2.3925, -2.2511],\n",
      "        [-2.2026, -2.2707, -2.3680, -2.3464, -2.3932, -2.2986, -2.3367, -2.2113,\n",
      "         -2.3873, -2.2346],\n",
      "        [-2.1990, -2.2658, -2.3772, -2.3383, -2.4275, -2.3066, -2.3226, -2.1875,\n",
      "         -2.3664, -2.2618],\n",
      "        [-2.1911, -2.2612, -2.3373, -2.3594, -2.3747, -2.3365, -2.3550, -2.1945,\n",
      "         -2.3792, -2.2608],\n",
      "        [-2.2105, -2.2691, -2.3696, -2.3358, -2.3939, -2.2931, -2.3490, -2.1942,\n",
      "         -2.3732, -2.2598],\n",
      "        [-2.1954, -2.2567, -2.3408, -2.3380, -2.3682, -2.3249, -2.3560, -2.2090,\n",
      "         -2.3634, -2.2920],\n",
      "        [-2.1711, -2.2448, -2.3437, -2.3404, -2.3847, -2.3113, -2.3760, -2.2161,\n",
      "         -2.3793, -2.2834],\n",
      "        [-2.1639, -2.2710, -2.3269, -2.3520, -2.3934, -2.3662, -2.3301, -2.2071,\n",
      "         -2.3875, -2.2556],\n",
      "        [-2.1817, -2.2581, -2.3498, -2.3581, -2.3862, -2.3060, -2.3610, -2.2180,\n",
      "         -2.3788, -2.2522]], grad_fn=<LogSoftmaxBackward>)\n",
      "torch.Size([64, 10])\n"
     ]
    }
   ],
   "source": [
    "model = Classifier()\n",
    "\n",
    "images, labels = next(iter(testloader))\n",
    "print(labels)\n",
    "# Get the class probabilities\n",
    "ps = torch.exp(model(images))\n",
    "print(model(images))\n",
    "# Make sure the shape is appropriate, we should get 10 class probabilities for 64 examples\n",
    "print(ps.shape)"
   ]
  },
  {
   "cell_type": "code",
   "execution_count": 7,
   "metadata": {},
   "outputs": [
    {
     "data": {
      "text/plain": [
       "tensor([[0.1139, 0.1057, 0.0928, 0.0950, 0.0911, 0.0976, 0.0947, 0.1122, 0.0927,\n",
       "         0.1043],\n",
       "        [0.1130, 0.1034, 0.0969, 0.0968, 0.0915, 0.0955, 0.0960, 0.1100, 0.0941,\n",
       "         0.1027],\n",
       "        [0.1136, 0.1030, 0.0951, 0.0988, 0.0898, 0.0966, 0.0965, 0.1118, 0.0926,\n",
       "         0.1022],\n",
       "        [0.1124, 0.1025, 0.0974, 0.0926, 0.0920, 0.0972, 0.0971, 0.1097, 0.0927,\n",
       "         0.1065],\n",
       "        [0.1108, 0.1038, 0.0954, 0.0955, 0.0903, 0.0994, 0.0982, 0.1118, 0.0921,\n",
       "         0.1026],\n",
       "        [0.1160, 0.1030, 0.0966, 0.0944, 0.0908, 0.0943, 0.0972, 0.1094, 0.0922,\n",
       "         0.1060],\n",
       "        [0.1118, 0.1035, 0.0932, 0.0969, 0.0909, 0.0981, 0.0950, 0.1127, 0.0928,\n",
       "         0.1050],\n",
       "        [0.1139, 0.1034, 0.0973, 0.0956, 0.0920, 0.0946, 0.0971, 0.1103, 0.0918,\n",
       "         0.1040],\n",
       "        [0.1101, 0.1032, 0.0954, 0.0933, 0.0919, 0.0990, 0.0958, 0.1130, 0.0940,\n",
       "         0.1044],\n",
       "        [0.1138, 0.1049, 0.0933, 0.0959, 0.0903, 0.0986, 0.0935, 0.1115, 0.0932,\n",
       "         0.1050],\n",
       "        [0.1098, 0.1021, 0.0959, 0.0950, 0.0918, 0.0986, 0.0992, 0.1117, 0.0919,\n",
       "         0.1041],\n",
       "        [0.1112, 0.1034, 0.0952, 0.0948, 0.0905, 0.1001, 0.0978, 0.1124, 0.0920,\n",
       "         0.1027],\n",
       "        [0.1127, 0.1047, 0.0939, 0.0941, 0.0916, 0.0976, 0.0953, 0.1093, 0.0935,\n",
       "         0.1073],\n",
       "        [0.1145, 0.1034, 0.0975, 0.0947, 0.0913, 0.0925, 0.0978, 0.1129, 0.0906,\n",
       "         0.1047],\n",
       "        [0.1128, 0.1033, 0.0951, 0.0962, 0.0920, 0.0977, 0.0969, 0.1083, 0.0918,\n",
       "         0.1059],\n",
       "        [0.1142, 0.1029, 0.0968, 0.0958, 0.0920, 0.0974, 0.0959, 0.1110, 0.0922,\n",
       "         0.1019],\n",
       "        [0.1110, 0.1034, 0.0950, 0.0953, 0.0904, 0.0987, 0.0963, 0.1113, 0.0934,\n",
       "         0.1051],\n",
       "        [0.1126, 0.1029, 0.0965, 0.0944, 0.0939, 0.0963, 0.0965, 0.1102, 0.0905,\n",
       "         0.1063],\n",
       "        [0.1122, 0.1029, 0.0973, 0.0969, 0.0918, 0.0995, 0.0955, 0.1093, 0.0922,\n",
       "         0.1023],\n",
       "        [0.1117, 0.1033, 0.0979, 0.0944, 0.0925, 0.0946, 0.0965, 0.1124, 0.0923,\n",
       "         0.1043],\n",
       "        [0.1131, 0.1022, 0.0941, 0.0960, 0.0914, 0.0991, 0.0958, 0.1103, 0.0924,\n",
       "         0.1056],\n",
       "        [0.1131, 0.1042, 0.0914, 0.0929, 0.0889, 0.0999, 0.0945, 0.1144, 0.0949,\n",
       "         0.1057],\n",
       "        [0.1112, 0.1028, 0.0953, 0.0926, 0.0926, 0.0988, 0.0986, 0.1117, 0.0924,\n",
       "         0.1039],\n",
       "        [0.1111, 0.1030, 0.0952, 0.0966, 0.0917, 0.0994, 0.0957, 0.1111, 0.0932,\n",
       "         0.1030],\n",
       "        [0.1115, 0.1041, 0.0947, 0.0938, 0.0923, 0.0981, 0.0969, 0.1097, 0.0922,\n",
       "         0.1068],\n",
       "        [0.1122, 0.1041, 0.0957, 0.0950, 0.0924, 0.0983, 0.0977, 0.1116, 0.0910,\n",
       "         0.1020],\n",
       "        [0.1128, 0.1042, 0.0955, 0.0959, 0.0919, 0.0984, 0.0944, 0.1096, 0.0924,\n",
       "         0.1049],\n",
       "        [0.1113, 0.1029, 0.0960, 0.0940, 0.0922, 0.1003, 0.0941, 0.1113, 0.0949,\n",
       "         0.1031],\n",
       "        [0.1094, 0.1057, 0.0943, 0.0946, 0.0905, 0.1011, 0.0978, 0.1122, 0.0909,\n",
       "         0.1034],\n",
       "        [0.1119, 0.1036, 0.0972, 0.0945, 0.0943, 0.0968, 0.0954, 0.1106, 0.0924,\n",
       "         0.1035],\n",
       "        [0.1110, 0.1023, 0.0940, 0.0993, 0.0903, 0.0984, 0.0968, 0.1107, 0.0932,\n",
       "         0.1040],\n",
       "        [0.1121, 0.1031, 0.0931, 0.0950, 0.0892, 0.0982, 0.0971, 0.1121, 0.0938,\n",
       "         0.1064],\n",
       "        [0.1123, 0.1041, 0.0951, 0.0946, 0.0927, 0.0983, 0.0973, 0.1113, 0.0912,\n",
       "         0.1031],\n",
       "        [0.1077, 0.1039, 0.0964, 0.0937, 0.0920, 0.1009, 0.0988, 0.1107, 0.0926,\n",
       "         0.1032],\n",
       "        [0.1092, 0.1017, 0.0952, 0.0946, 0.0921, 0.1001, 0.0988, 0.1111, 0.0914,\n",
       "         0.1058],\n",
       "        [0.1110, 0.1062, 0.0941, 0.0950, 0.0910, 0.0978, 0.0967, 0.1099, 0.0926,\n",
       "         0.1058],\n",
       "        [0.1124, 0.1048, 0.0964, 0.0944, 0.0918, 0.0969, 0.0952, 0.1105, 0.0916,\n",
       "         0.1061],\n",
       "        [0.1123, 0.1026, 0.0969, 0.0932, 0.0917, 0.0931, 0.0987, 0.1123, 0.0913,\n",
       "         0.1080],\n",
       "        [0.1075, 0.1038, 0.0951, 0.0958, 0.0920, 0.1011, 0.0984, 0.1108, 0.0912,\n",
       "         0.1042],\n",
       "        [0.1090, 0.1033, 0.0939, 0.0944, 0.0917, 0.0990, 0.0985, 0.1115, 0.0923,\n",
       "         0.1064],\n",
       "        [0.1083, 0.1032, 0.0944, 0.0967, 0.0930, 0.0997, 0.0962, 0.1117, 0.0940,\n",
       "         0.1028],\n",
       "        [0.1120, 0.1042, 0.0946, 0.0973, 0.0914, 0.0986, 0.0962, 0.1124, 0.0917,\n",
       "         0.1017],\n",
       "        [0.1165, 0.1041, 0.0964, 0.0939, 0.0903, 0.0932, 0.0973, 0.1110, 0.0912,\n",
       "         0.1060],\n",
       "        [0.1134, 0.1034, 0.0977, 0.0953, 0.0919, 0.0949, 0.0964, 0.1104, 0.0930,\n",
       "         0.1035],\n",
       "        [0.1130, 0.1034, 0.0973, 0.0948, 0.0937, 0.0956, 0.0953, 0.1102, 0.0915,\n",
       "         0.1052],\n",
       "        [0.1122, 0.1051, 0.0937, 0.0966, 0.0907, 0.0978, 0.0957, 0.1110, 0.0919,\n",
       "         0.1053],\n",
       "        [0.1128, 0.1030, 0.0971, 0.0932, 0.0930, 0.0976, 0.0958, 0.1091, 0.0927,\n",
       "         0.1058],\n",
       "        [0.1113, 0.1036, 0.0946, 0.0951, 0.0915, 0.0993, 0.0961, 0.1116, 0.0916,\n",
       "         0.1053],\n",
       "        [0.1115, 0.1017, 0.0950, 0.0976, 0.0904, 0.0979, 0.0968, 0.1119, 0.0915,\n",
       "         0.1056],\n",
       "        [0.1130, 0.1027, 0.0976, 0.0947, 0.0929, 0.0945, 0.0975, 0.1122, 0.0920,\n",
       "         0.1028],\n",
       "        [0.1112, 0.1045, 0.0956, 0.0944, 0.0921, 0.1016, 0.0945, 0.1091, 0.0926,\n",
       "         0.1044],\n",
       "        [0.1118, 0.1026, 0.0949, 0.0951, 0.0909, 0.0993, 0.0958, 0.1131, 0.0921,\n",
       "         0.1045],\n",
       "        [0.1129, 0.1032, 0.0966, 0.0965, 0.0931, 0.0966, 0.0968, 0.1088, 0.0918,\n",
       "         0.1038],\n",
       "        [0.1125, 0.1030, 0.0954, 0.0955, 0.0919, 0.0970, 0.0965, 0.1104, 0.0909,\n",
       "         0.1070],\n",
       "        [0.1090, 0.1033, 0.0943, 0.0937, 0.0916, 0.1004, 0.0972, 0.1103, 0.0943,\n",
       "         0.1059],\n",
       "        [0.1128, 0.1043, 0.0966, 0.0953, 0.0921, 0.0951, 0.0959, 0.1112, 0.0914,\n",
       "         0.1053],\n",
       "        [0.1105, 0.1032, 0.0937, 0.0957, 0.0913, 0.1004, 0.0966, 0.1096, 0.0919,\n",
       "         0.1070],\n",
       "        [0.1109, 0.1037, 0.0928, 0.0965, 0.0883, 0.0996, 0.0980, 0.1122, 0.0938,\n",
       "         0.1042],\n",
       "        [0.1118, 0.1042, 0.0966, 0.0945, 0.0930, 0.0967, 0.0949, 0.1114, 0.0926,\n",
       "         0.1043],\n",
       "        [0.1096, 0.1034, 0.0935, 0.0967, 0.0913, 0.1010, 0.0955, 0.1114, 0.0932,\n",
       "         0.1044],\n",
       "        [0.1113, 0.1047, 0.0962, 0.0965, 0.0936, 0.0978, 0.0948, 0.1098, 0.0941,\n",
       "         0.1011],\n",
       "        [0.1140, 0.1060, 0.0960, 0.0963, 0.0921, 0.0991, 0.0929, 0.1090, 0.0926,\n",
       "         0.1019],\n",
       "        [0.1149, 0.1032, 0.0976, 0.0952, 0.0913, 0.0938, 0.0973, 0.1100, 0.0919,\n",
       "         0.1048],\n",
       "        [0.1128, 0.1046, 0.0954, 0.0946, 0.0920, 0.0997, 0.0943, 0.1088, 0.0927,\n",
       "         0.1052]], grad_fn=<ExpBackward>)"
      ]
     },
     "execution_count": 7,
     "metadata": {},
     "output_type": "execute_result"
    }
   ],
   "source": [
    "ps"
   ]
  },
  {
   "cell_type": "markdown",
   "metadata": {},
   "source": [
    "With the probabilities, we can get the most likely class using the `ps.topk` method. This returns the $k$ highest values. Since we just want the most likely class, we can use `ps.topk(1)`. This returns a tuple of the top-$k$ values and the top-$k$ indices. If the highest value is the fifth element, we'll get back 4 as the index."
   ]
  },
  {
   "cell_type": "code",
   "execution_count": 8,
   "metadata": {},
   "outputs": [
    {
     "name": "stdout",
     "output_type": "stream",
     "text": [
      "tensor([[0],\n",
      "        [0],\n",
      "        [0],\n",
      "        [0],\n",
      "        [7],\n",
      "        [0],\n",
      "        [7],\n",
      "        [0],\n",
      "        [7],\n",
      "        [0]])\n",
      "tensor([[0.1139],\n",
      "        [0.1130],\n",
      "        [0.1136],\n",
      "        [0.1124],\n",
      "        [0.1118],\n",
      "        [0.1160],\n",
      "        [0.1127],\n",
      "        [0.1139],\n",
      "        [0.1130],\n",
      "        [0.1138]], grad_fn=<SliceBackward>)\n"
     ]
    }
   ],
   "source": [
    "top_p, top_class = ps.topk(1, dim=1)\n",
    "# Look at the most likely classes for the first 10 examples\n",
    "print(top_class[:10,:])\n",
    "print(top_p[:10,:])"
   ]
  },
  {
   "cell_type": "markdown",
   "metadata": {},
   "source": [
    "Now we can check if the predicted classes match the labels. This is simple to do by equating `top_class` and `labels`, but we have to be careful of the shapes. Here `top_class` is a 2D tensor with shape `(64, 1)` while `labels` is 1D with shape `(64)`. To get the equality to work out the way we want, `top_class` and `labels` must have the same shape.\n",
    "\n",
    "If we do\n",
    "\n",
    "```python\n",
    "equals = top_class == labels\n",
    "```\n",
    "\n",
    "`equals` will have shape `(64, 64)`, try it yourself. What it's doing is comparing the one element in each row of `top_class` with each element in `labels` which returns 64 True/False boolean values for each row."
   ]
  },
  {
   "cell_type": "code",
   "execution_count": 9,
   "metadata": {},
   "outputs": [
    {
     "data": {
      "text/plain": [
       "tensor([[False, False, False,  ..., False, False,  True],\n",
       "        [False, False, False,  ..., False, False,  True],\n",
       "        [False, False, False,  ..., False, False,  True],\n",
       "        ...,\n",
       "        [False, False, False,  ..., False, False,  True],\n",
       "        [False, False, False,  ..., False, False,  True],\n",
       "        [False, False, False,  ..., False, False,  True]])"
      ]
     },
     "execution_count": 9,
     "metadata": {},
     "output_type": "execute_result"
    }
   ],
   "source": [
    "equals = top_class == labels\n",
    "equals"
   ]
  },
  {
   "cell_type": "code",
   "execution_count": 10,
   "metadata": {},
   "outputs": [
    {
     "data": {
      "text/plain": [
       "tensor([[False],\n",
       "        [False],\n",
       "        [False],\n",
       "        [ True],\n",
       "        [False],\n",
       "        [False],\n",
       "        [False],\n",
       "        [False],\n",
       "        [ True],\n",
       "        [False],\n",
       "        [False],\n",
       "        [False],\n",
       "        [False],\n",
       "        [False],\n",
       "        [False],\n",
       "        [False],\n",
       "        [ True],\n",
       "        [ True],\n",
       "        [False],\n",
       "        [False],\n",
       "        [False],\n",
       "        [False],\n",
       "        [False],\n",
       "        [False],\n",
       "        [False],\n",
       "        [False],\n",
       "        [False],\n",
       "        [ True],\n",
       "        [False],\n",
       "        [False],\n",
       "        [False],\n",
       "        [False],\n",
       "        [False],\n",
       "        [False],\n",
       "        [False],\n",
       "        [False],\n",
       "        [ True],\n",
       "        [False],\n",
       "        [False],\n",
       "        [False],\n",
       "        [False],\n",
       "        [False],\n",
       "        [False],\n",
       "        [False],\n",
       "        [False],\n",
       "        [False],\n",
       "        [ True],\n",
       "        [False],\n",
       "        [False],\n",
       "        [False],\n",
       "        [False],\n",
       "        [ True],\n",
       "        [False],\n",
       "        [ True],\n",
       "        [False],\n",
       "        [False],\n",
       "        [False],\n",
       "        [False],\n",
       "        [False],\n",
       "        [False],\n",
       "        [False],\n",
       "        [False],\n",
       "        [False],\n",
       "        [ True]])"
      ]
     },
     "execution_count": 10,
     "metadata": {},
     "output_type": "execute_result"
    }
   ],
   "source": [
    "equals = top_class == labels.view(*top_class.shape)\n",
    "equals"
   ]
  },
  {
   "cell_type": "markdown",
   "metadata": {},
   "source": [
    "Now we need to calculate the percentage of correct predictions. `equals` has binary values, either 0 or 1. This means that if we just sum up all the values and divide by the number of values, we get the percentage of correct predictions. This is the same operation as taking the mean, so we can get the accuracy with a call to `torch.mean`. If only it was that simple. If you try `torch.mean(equals)`, you'll get an error\n",
    "\n",
    "```\n",
    "RuntimeError: mean is not implemented for type torch.ByteTensor\n",
    "```\n",
    "\n",
    "This happens because `equals` has type `torch.ByteTensor` but `torch.mean` isn't implemented for tensors with that type. So we'll need to convert `equals` to a float tensor. Note that when we take `torch.mean` it returns a scalar tensor, to get the actual value as a float we'll need to do `accuracy.item()`."
   ]
  },
  {
   "cell_type": "code",
   "execution_count": 11,
   "metadata": {},
   "outputs": [
    {
     "name": "stdout",
     "output_type": "stream",
     "text": [
      "Accuracy: 15.625%\n"
     ]
    }
   ],
   "source": [
    "accuracy = torch.mean(equals.type(torch.FloatTensor))\n",
    "print(f'Accuracy: {accuracy.item()*100}%')"
   ]
  },
  {
   "cell_type": "markdown",
   "metadata": {},
   "source": [
    "The network is untrained so it's making random guesses and we should see an accuracy around 10%. Now let's train our network and include our validation pass so we can measure how well the network is performing on the test set. Since we're not updating our parameters in the validation pass, we can speed up our code by turning off gradients using `torch.no_grad()`:\n",
    "\n",
    "```python\n",
    "# turn off gradients\n",
    "with torch.no_grad():\n",
    "    # validation pass here\n",
    "    for images, labels in testloader:\n",
    "        ...\n",
    "```\n",
    "\n",
    ">**Exercise:** Implement the validation loop below and print out the total accuracy after the loop. You can largely copy and paste the code from above, but I suggest typing it in because writing it out yourself is essential for building the skill. In general you'll always learn more by typing it rather than copy-pasting. You should be able to get an accuracy above 80%."
   ]
  },
  {
   "cell_type": "code",
   "execution_count": 12,
   "metadata": {
    "scrolled": false
   },
   "outputs": [
    {
     "name": "stdout",
     "output_type": "stream",
     "text": [
      "Epoch: 1/30..  Training Loss: 0.514..  Test Loss: 0.456..  Test Accuracy: 0.838\n",
      "Epoch: 2/30..  Training Loss: 0.392..  Test Loss: 0.402..  Test Accuracy: 0.859\n",
      "Epoch: 3/30..  Training Loss: 0.352..  Test Loss: 0.432..  Test Accuracy: 0.846\n",
      "Epoch: 4/30..  Training Loss: 0.331..  Test Loss: 0.396..  Test Accuracy: 0.864\n",
      "Epoch: 5/30..  Training Loss: 0.315..  Test Loss: 0.375..  Test Accuracy: 0.867\n",
      "Epoch: 6/30..  Training Loss: 0.303..  Test Loss: 0.358..  Test Accuracy: 0.870\n",
      "Epoch: 7/30..  Training Loss: 0.289..  Test Loss: 0.347..  Test Accuracy: 0.877\n",
      "Epoch: 8/30..  Training Loss: 0.281..  Test Loss: 0.365..  Test Accuracy: 0.874\n",
      "Epoch: 9/30..  Training Loss: 0.274..  Test Loss: 0.360..  Test Accuracy: 0.875\n",
      "Epoch: 10/30..  Training Loss: 0.264..  Test Loss: 0.366..  Test Accuracy: 0.874\n",
      "Epoch: 11/30..  Training Loss: 0.259..  Test Loss: 0.371..  Test Accuracy: 0.877\n",
      "Epoch: 12/30..  Training Loss: 0.258..  Test Loss: 0.370..  Test Accuracy: 0.878\n",
      "Epoch: 13/30..  Training Loss: 0.246..  Test Loss: 0.382..  Test Accuracy: 0.872\n",
      "Epoch: 14/30..  Training Loss: 0.243..  Test Loss: 0.362..  Test Accuracy: 0.882\n",
      "Epoch: 15/30..  Training Loss: 0.234..  Test Loss: 0.368..  Test Accuracy: 0.880\n",
      "Epoch: 16/30..  Training Loss: 0.233..  Test Loss: 0.353..  Test Accuracy: 0.882\n",
      "Epoch: 17/30..  Training Loss: 0.224..  Test Loss: 0.371..  Test Accuracy: 0.880\n",
      "Epoch: 18/30..  Training Loss: 0.226..  Test Loss: 0.373..  Test Accuracy: 0.884\n",
      "Epoch: 19/30..  Training Loss: 0.220..  Test Loss: 0.391..  Test Accuracy: 0.871\n",
      "Epoch: 20/30..  Training Loss: 0.212..  Test Loss: 0.375..  Test Accuracy: 0.883\n",
      "Epoch: 21/30..  Training Loss: 0.213..  Test Loss: 0.381..  Test Accuracy: 0.879\n",
      "Epoch: 22/30..  Training Loss: 0.212..  Test Loss: 0.390..  Test Accuracy: 0.881\n",
      "Epoch: 23/30..  Training Loss: 0.200..  Test Loss: 0.396..  Test Accuracy: 0.881\n",
      "Epoch: 24/30..  Training Loss: 0.203..  Test Loss: 0.417..  Test Accuracy: 0.882\n",
      "Epoch: 25/30..  Training Loss: 0.198..  Test Loss: 0.371..  Test Accuracy: 0.879\n",
      "Epoch: 26/30..  Training Loss: 0.198..  Test Loss: 0.426..  Test Accuracy: 0.880\n",
      "Epoch: 27/30..  Training Loss: 0.189..  Test Loss: 0.405..  Test Accuracy: 0.883\n",
      "Epoch: 28/30..  Training Loss: 0.192..  Test Loss: 0.429..  Test Accuracy: 0.879\n",
      "Epoch: 29/30..  Training Loss: 0.190..  Test Loss: 0.422..  Test Accuracy: 0.886\n",
      "Epoch: 30/30..  Training Loss: 0.188..  Test Loss: 0.448..  Test Accuracy: 0.879\n"
     ]
    }
   ],
   "source": [
    "model = Classifier()\n",
    "criterion = nn.NLLLoss()\n",
    "optimizer = optim.Adam(model.parameters(), lr=0.003)\n",
    "\n",
    "epochs = 30\n",
    "steps = 0\n",
    "\n",
    "train_losses, test_losses = [], []\n",
    "for e in range(epochs):\n",
    "    running_loss = 0\n",
    "    for images, labels in trainloader:\n",
    "        \n",
    "        optimizer.zero_grad()\n",
    "        \n",
    "        log_ps = model(images)\n",
    "        loss = criterion(log_ps, labels)\n",
    "        loss.backward()\n",
    "        optimizer.step()\n",
    "        \n",
    "        running_loss += loss.item()\n",
    "        \n",
    "    else:\n",
    "        test_loss=0\n",
    "        accuracy=0\n",
    "        ## TODO: Implement the validation pass and print out the validation accuracy\n",
    "        with torch.no_grad():\n",
    "        #load in test set\n",
    "            for images, labels in testloader:\n",
    "                log_ps=model(images)\n",
    "                test_loss+= criterion(log_ps,labels).item()\n",
    "\n",
    "                # get actual ps\n",
    "                ps=torch.exp(log_ps)\n",
    "                # top 1 probability and label\n",
    "                top_p,top_class=ps.topk(1,dim=1)\n",
    "                # change shape\n",
    "                equals = labels == top_class.view(*labels.shape)\n",
    "                # get accuracy\n",
    "                accuracy+=torch.mean(equals.type(torch.FloatTensor)) \n",
    "        \n",
    "        train_losses.append(running_loss/len(trainloader))\n",
    "        test_losses.append(test_loss/len(testloader))\n",
    "        steps+=1\n",
    "        print(\"Epoch: {}/{}.. \".format(steps, epochs),\n",
    "              \"Training Loss: {:.3f}.. \".format(running_loss/len(trainloader)),\n",
    "              \"Test Loss: {:.3f}.. \".format(test_loss/len(testloader)),\n",
    "              \"Test Accuracy: {:.3f}\".format(accuracy/len(testloader)))"
   ]
  },
  {
   "cell_type": "code",
   "execution_count": 13,
   "metadata": {},
   "outputs": [
    {
     "data": {
      "text/plain": [
       "array([ 1,  2,  3,  4,  5,  6,  7,  8,  9, 10, 11, 12, 13, 14, 15, 16, 17,\n",
       "       18, 19, 20, 21, 22, 23, 24, 25, 26, 27, 28, 29, 30])"
      ]
     },
     "execution_count": 13,
     "metadata": {},
     "output_type": "execute_result"
    }
   ],
   "source": [
    "import numpy as np\n",
    "np.arange(1,steps+1)"
   ]
  },
  {
   "cell_type": "code",
   "execution_count": 25,
   "metadata": {},
   "outputs": [
    {
     "data": {
      "image/png": "[encoded data removed]",
      "text/plain": [
       "<Figure size 432x288 with 1 Axes>"
      ]
     },
     "metadata": {
      "needs_background": "light"
     },
     "output_type": "display_data"
    }
   ],
   "source": [
    "import seaborn as sns\n",
    "import matplotlib.pyplot as plt\n",
    "sns.lineplot(x=np.arange(1,steps+1),y=train_losses,label='train_losses')\n",
    "sns.lineplot(x=np.arange(1,steps+1),y=test_losses,label='test_losses')\n",
    "plt.legend(loc=0);"
   ]
  },
  {
   "cell_type": "markdown",
   "metadata": {},
   "source": [
    "## Overfitting\n",
    "\n",
    "If we look at the training and validation losses as we train the network, we can see a phenomenon known as overfitting.\n",
    "\n",
    "<img src='assets/overfitting.png' width=450px>\n",
    "\n",
    "The network learns the training set better and better, resulting in lower training losses. However, it starts having problems generalizing to data outside the training set leading to the validation loss increasing. The ultimate goal of any deep learning model is to make predictions on new data, so we should strive to get the lowest validation loss possible. One option is to use the version of the model with the lowest validation loss, here the one around 8-10 training epochs. This strategy is called *early-stopping*. In practice, you'd save the model frequently as you're training then later choose the model with the lowest validation loss.\n",
    "\n",
    "The most common method to reduce overfitting (outside of early-stopping) is *dropout*, where we randomly drop input units. This forces the network to share information between weights, increasing it's ability to generalize to new data. Adding dropout in PyTorch is straightforward using the [`nn.Dropout`](https://pytorch.org/docs/stable/nn.html#torch.nn.Dropout) module.\n",
    "\n",
    "```python\n",
    "class Classifier(nn.Module):\n",
    "    def __init__(self):\n",
    "        super().__init__()\n",
    "        self.fc1 = nn.Linear(784, 256)\n",
    "        self.fc2 = nn.Linear(256, 128)\n",
    "        self.fc3 = nn.Linear(128, 64)\n",
    "        self.fc4 = nn.Linear(64, 10)\n",
    "        \n",
    "        # Dropout module with 0.2 drop probability\n",
    "        self.dropout = nn.Dropout(p=0.2)\n",
    "        \n",
    "    def forward(self, x):\n",
    "        # make sure input tensor is flattened\n",
    "        x = x.view(x.shape[0], -1)\n",
    "        \n",
    "        # Now with dropout\n",
    "        x = self.dropout(F.relu(self.fc1(x)))\n",
    "        x = self.dropout(F.relu(self.fc2(x)))\n",
    "        x = self.dropout(F.relu(self.fc3(x)))\n",
    "        \n",
    "        # output so no dropout here\n",
    "        x = F.log_softmax(self.fc4(x), dim=1)\n",
    "        \n",
    "        return x\n",
    "```\n",
    "\n",
    "During training we want to use dropout to prevent overfitting, but during inference we want to use the entire network. So, we need to turn off dropout during validation, testing, and whenever we're using the network to make predictions. To do this, you use `model.eval()`. This sets the model to evaluation mode where the dropout probability is 0. You can turn dropout back on by setting the model to train mode with `model.train()`. In general, the pattern for the validation loop will look like this, where you turn off gradients, set the model to evaluation mode, calculate the validation loss and metric, then set the model back to train mode.\n",
    "\n",
    "```python\n",
    "# turn off gradients\n",
    "with torch.no_grad():\n",
    "    \n",
    "    # set model to evaluation mode\n",
    "    model.eval()\n",
    "    \n",
    "    # validation pass here\n",
    "    for images, labels in testloader:\n",
    "        ...\n",
    "\n",
    "# set model back to train mode\n",
    "model.train()\n",
    "```"
   ]
  },
  {
   "cell_type": "markdown",
   "metadata": {},
   "source": [
    "> **Exercise:** Add dropout to your model and train it on Fashion-MNIST again. See if you can get a lower validation loss or higher accuracy."
   ]
  },
  {
   "cell_type": "code",
   "execution_count": 27,
   "metadata": {},
   "outputs": [
    {
     "data": {
      "text/plain": [
       "938"
      ]
     },
     "execution_count": 27,
     "metadata": {},
     "output_type": "execute_result"
    }
   ],
   "source": [
    "len(trainloader)"
   ]
  },
  {
   "cell_type": "code",
   "execution_count": 32,
   "metadata": {},
   "outputs": [],
   "source": [
    "## TODO: Define your model with dropout added\n",
    "model=nn.Sequential(nn.Linear(784,400),\n",
    "                   nn.ReLU(),\n",
    "                    nn.Dropout(p=.2),\n",
    "                   nn.Linear(400,128),\n",
    "                   nn.ReLU(),\n",
    "                    nn.Dropout(p=.2),\n",
    "                   nn.Linear(128,64),\n",
    "                   nn.ReLU(),\n",
    "                    nn.Dropout(p=.2),\n",
    "                   nn.Linear(64,10),\n",
    "                   nn.LogSoftmax(dim=1))\n",
    "\n",
    "epochs=10\n",
    "criterion = nn.NLLLoss()\n",
    "optimizer= optim.Adam(model.parameters(),lr=0.001)"
   ]
  },
  {
   "cell_type": "code",
   "execution_count": 33,
   "metadata": {
    "scrolled": true
   },
   "outputs": [
    {
     "name": "stdout",
     "output_type": "stream",
     "text": [
      "Epoch: 1/10 training loss:0.593 test loss: 0.444 test accuracy:0.841\n",
      "Epoch: 2/10 training loss:0.430 test loss: 0.398 test accuracy:0.855\n",
      "Epoch: 3/10 training loss:0.390 test loss: 0.401 test accuracy:0.856\n",
      "Epoch: 4/10 training loss:0.368 test loss: 0.386 test accuracy:0.858\n",
      "Epoch: 5/10 training loss:0.351 test loss: 0.363 test accuracy:0.867\n",
      "Epoch: 6/10 training loss:0.340 test loss: 0.360 test accuracy:0.867\n",
      "Epoch: 7/10 training loss:0.323 test loss: 0.359 test accuracy:0.874\n",
      "Epoch: 8/10 training loss:0.315 test loss: 0.344 test accuracy:0.874\n",
      "Epoch: 9/10 training loss:0.306 test loss: 0.325 test accuracy:0.883\n",
      "Epoch: 10/10 training loss:0.300 test loss: 0.344 test accuracy:0.877\n"
     ]
    }
   ],
   "source": [
    "## TODO: Train your model with dropout, and monitor the training progress with the validation loss and accuracy\n",
    "steps=0\n",
    "train_losses, test_losses=[],[]\n",
    "for e in range(epochs):\n",
    "    running_loss=0\n",
    "    for images, labels in trainloader:\n",
    "        optimizer.zero_grad()\n",
    "        output=model.forward(images.view(images.shape[0],-1))\n",
    "        # calcluate loss\n",
    "        loss=criterion(output,labels)\n",
    "        loss.backward()\n",
    "        # upodate weight\n",
    "        optimizer.step()\n",
    "        # running loss\n",
    "        running_loss+=loss.item()\n",
    "        \n",
    "    ### validation set\n",
    "    else:\n",
    "        test_loss=0\n",
    "        accuracy=0\n",
    "        with torch.no_grad():\n",
    "            '''trun on evaluation mode''' \n",
    "            model.eval()\n",
    "            for images, labels in testloader:\n",
    "                output=model.forward(images.view(images.shape[0],-1))\n",
    "                loss=criterion(output, labels)\n",
    "                test_loss+=loss.item()\n",
    "                ### get the difference between acutal& labels\n",
    "                ps=torch.exp(output)\n",
    "                top_p,top_class=ps.topk(1,dim=1)\n",
    "                equals = top_class == labels.view(*top_class.shape)\n",
    "                accuracy += torch.mean(equals.type(torch.FloatTensor))\n",
    "        \n",
    "        '''set back to train mode'''\n",
    "        model.train()\n",
    "        steps+=1\n",
    "        train_losses.append(running_loss/len(trainloader))\n",
    "        test_losses.append(test_loss/len(testloader))\n",
    "        print(\"Epoch: {}/{}\".format(steps,epochs),\n",
    "              \"training loss:{:.3f}\".format(running_loss/len(trainloader)),\n",
    "              \"test loss: {:.3f}\".format(test_loss/len(testloader)),\n",
    "              \"test accuracy:{:.3f}\".format(accuracy/len(testloader)))"
   ]
  },
  {
   "cell_type": "code",
   "execution_count": 34,
   "metadata": {},
   "outputs": [
    {
     "data": {
      "text/plain": [
       "(10, 10)"
      ]
     },
     "execution_count": 34,
     "metadata": {},
     "output_type": "execute_result"
    }
   ],
   "source": [
    "len(train_losses),len(test_losses)"
   ]
  },
  {
   "cell_type": "code",
   "execution_count": 35,
   "metadata": {
    "scrolled": false
   },
   "outputs": [
    {
     "data": {
      "image/png": "[encoded data removed]",
      "text/plain": [
       "<Figure size 432x288 with 1 Axes>"
      ]
     },
     "metadata": {
      "needs_background": "light"
     },
     "output_type": "display_data"
    }
   ],
   "source": [
    "sns.lineplot(np.arange(1,steps+1),train_losses,label='train_losses')\n",
    "sns.lineplot(np.arange(1,steps+1),test_losses,label='test_losses')\n",
    "plt.legend(loc=0);"
   ]
  },
  {
   "cell_type": "markdown",
   "metadata": {},
   "source": [
    "## Inference\n",
    "\n",
    "Now that the model is trained, we can use it for inference. We've done this before, but now we need to remember to set the model in inference mode with `model.eval()`. You'll also want to turn off autograd with the `torch.no_grad()` context."
   ]
  },
  {
   "cell_type": "code",
   "execution_count": 39,
   "metadata": {},
   "outputs": [
    {
     "data": {
      "image/png": "[encoded data removed]",
      "text/plain": [
       "<Figure size 432x648 with 2 Axes>"
      ]
     },
     "metadata": {
      "needs_background": "light"
     },
     "output_type": "display_data"
    }
   ],
   "source": [
    "# Import helper module (should be in the repo)\n",
    "import helper\n",
    "\n",
    "# Test out your network!\n",
    "\n",
    "model.eval()\n",
    "\n",
    "dataiter = iter(testloader)\n",
    "images, labels = dataiter.next()\n",
    "img = images[0]\n",
    "# Convert 2D image to 1D vector\n",
    "img = img.view(1, 784)\n",
    "\n",
    "# Calculate the class probabilities (softmax) for img\n",
    "with torch.no_grad():\n",
    "    output = model.forward(img)\n",
    "\n",
    "ps = torch.exp(output)\n",
    "\n",
    "# Plot the image and probabilities\n",
    "helper.view_classify(img.view(1, 28, 28), ps, version='Fashion')"
   ]
  },
  {
   "cell_type": "markdown",
   "metadata": {},
   "source": [
    "## Next Up!\n",
    "\n",
    "In the next part, I'll show you how to save your trained models. In general, you won't want to train a model everytime you need it. Instead, you'll train once, save it, then load the model when you want to train more or use if for inference."
   ]
  }
 ],
 "metadata": {
  "kernelspec": {
   "display_name": "Python 3",
   "language": "python",
   "name": "python3"
  },
  "language_info": {
   "codemirror_mode": {
    "name": "ipython",
    "version": 3
   },
   "file_extension": ".py",
   "mimetype": "text/x-python",
   "name": "python",
   "nbconvert_exporter": "python",
   "pygments_lexer": "ipython3",
   "version": "3.7.7"
  }
 },
 "nbformat": 4,
 "nbformat_minor": 2
}
