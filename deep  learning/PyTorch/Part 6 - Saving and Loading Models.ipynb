{
 "cells": [
  {
   "cell_type": "markdown",
   "metadata": {},
   "source": [
    "# Saving and Loading Models\n",
    "\n",
    "In this notebook, I'll show you how to save and load models with PyTorch. This is important because you'll often want to load previously trained models to use in making predictions or to continue training on new data."
   ]
  },
  {
   "cell_type": "code",
   "execution_count": 11,
   "metadata": {},
   "outputs": [],
   "source": [
    "%matplotlib inline\n",
    "%config InlineBackend.figure_format = 'retina'\n",
    "\n",
    "import matplotlib.pyplot as plt\n",
    "\n",
    "import torch\n",
    "from torch import nn\n",
    "from torch import optim\n",
    "import torch.nn.functional as F\n",
    "from torchvision import datasets, transforms\n",
    "\n",
    "import helper\n",
    "import fc_model"
   ]
  },
  {
   "cell_type": "code",
   "execution_count": 2,
   "metadata": {},
   "outputs": [
    {
     "name": "stdout",
     "output_type": "stream",
     "text": [
      "Downloading http://fashion-mnist.s3-website.eu-central-1.amazonaws.com/train-images-idx3-ubyte.gz to F_MNIST_data/FashionMNIST\\raw\\train-images-idx3-ubyte.gz\n"
     ]
    },
    {
     "data": {
      "application/vnd.jupyter.widget-view+json": {
       "model_id": "202f27c66c20451ab97cbe1b8a7ed6fc",
       "version_major": 2,
       "version_minor": 0
      },
      "text/plain": [
       "HBox(children=(FloatProgress(value=1.0, bar_style='info', max=1.0), HTML(value='')))"
      ]
     },
     "metadata": {},
     "output_type": "display_data"
    },
    {
     "name": "stdout",
     "output_type": "stream",
     "text": [
      "Extracting F_MNIST_data/FashionMNIST\\raw\\train-images-idx3-ubyte.gz to F_MNIST_data/FashionMNIST\\raw\n",
      "Downloading http://fashion-mnist.s3-website.eu-central-1.amazonaws.com/train-labels-idx1-ubyte.gz to F_MNIST_data/FashionMNIST\\raw\\train-labels-idx1-ubyte.gz\n",
      "\n"
     ]
    },
    {
     "data": {
      "application/vnd.jupyter.widget-view+json": {
       "model_id": "3152270e39a24913a835b3e26af79b89",
       "version_major": 2,
       "version_minor": 0
      },
      "text/plain": [
       "HBox(children=(FloatProgress(value=1.0, bar_style='info', max=1.0), HTML(value='')))"
      ]
     },
     "metadata": {},
     "output_type": "display_data"
    },
    {
     "name": "stdout",
     "output_type": "stream",
     "text": [
      "Extracting F_MNIST_data/FashionMNIST\\raw\\train-labels-idx1-ubyte.gz to F_MNIST_data/FashionMNIST\\raw\n",
      "Downloading http://fashion-mnist.s3-website.eu-central-1.amazonaws.com/t10k-images-idx3-ubyte.gz to F_MNIST_data/FashionMNIST\\raw\\t10k-images-idx3-ubyte.gz\n"
     ]
    },
    {
     "data": {
      "application/vnd.jupyter.widget-view+json": {
       "model_id": "02d2577345e943f4b2f2ca52d3e18ca2",
       "version_major": 2,
       "version_minor": 0
      },
      "text/plain": [
       "HBox(children=(FloatProgress(value=1.0, bar_style='info', max=1.0), HTML(value='')))"
      ]
     },
     "metadata": {},
     "output_type": "display_data"
    },
    {
     "name": "stdout",
     "output_type": "stream",
     "text": [
      "Extracting F_MNIST_data/FashionMNIST\\raw\\t10k-images-idx3-ubyte.gz to F_MNIST_data/FashionMNIST\\raw\n",
      "Downloading http://fashion-mnist.s3-website.eu-central-1.amazonaws.com/t10k-labels-idx1-ubyte.gz to F_MNIST_data/FashionMNIST\\raw\\t10k-labels-idx1-ubyte.gz\n"
     ]
    },
    {
     "data": {
      "application/vnd.jupyter.widget-view+json": {
       "model_id": "4555b85c29524cc19370f9a81b789b3d",
       "version_major": 2,
       "version_minor": 0
      },
      "text/plain": [
       "HBox(children=(FloatProgress(value=1.0, bar_style='info', max=1.0), HTML(value='')))"
      ]
     },
     "metadata": {},
     "output_type": "display_data"
    },
    {
     "name": "stdout",
     "output_type": "stream",
     "text": [
      "Extracting F_MNIST_data/FashionMNIST\\raw\\t10k-labels-idx1-ubyte.gz to F_MNIST_data/FashionMNIST\\raw\n",
      "Processing...\n",
      "Done!\n"
     ]
    },
    {
     "name": "stderr",
     "output_type": "stream",
     "text": [
      "..\\torch\\csrc\\utils\\tensor_numpy.cpp:141: UserWarning: The given NumPy array is not writeable, and PyTorch does not support non-writeable tensors. This means you can write to the underlying (supposedly non-writeable) NumPy array using the tensor. You may want to copy the array to protect its data or make it writeable before converting it to a tensor. This type of warning will be suppressed for the rest of this program.\n"
     ]
    }
   ],
   "source": [
    "# Define a transform to normalize the data\n",
    "transform = transforms.Compose([transforms.ToTensor(),\n",
    "                                transforms.Normalize((0.5,), (0.5,))])\n",
    "# Download and load the training data\n",
    "trainset = datasets.FashionMNIST('F_MNIST_data/', download=True, train=True, transform=transform)\n",
    "trainloader = torch.utils.data.DataLoader(trainset, batch_size=64, shuffle=True)\n",
    "\n",
    "# Download and load the test data\n",
    "testset = datasets.FashionMNIST('F_MNIST_data/', download=True, train=False, transform=transform)\n",
    "testloader = torch.utils.data.DataLoader(testset, batch_size=64, shuffle=True)"
   ]
  },
  {
   "cell_type": "markdown",
   "metadata": {},
   "source": [
    "Here we can see one of the images."
   ]
  },
  {
   "cell_type": "code",
   "execution_count": 3,
   "metadata": {},
   "outputs": [
    {
     "name": "stdout",
     "output_type": "stream",
     "text": [
      "\n",
      "\n"
     ]
    },
    {
     "data": {
      "image/png": "[encoded data removed]",
      "text/plain": [
       "<Figure size 432x288 with 1 Axes>"
      ]
     },
     "metadata": {
      "image/png": {
       "height": 231,
       "width": 231
      },
      "needs_background": "light"
     },
     "output_type": "display_data"
    }
   ],
   "source": [
    "image, label = next(iter(trainloader))\n",
    "helper.imshow(image[0,:]);"
   ]
  },
  {
   "cell_type": "markdown",
   "metadata": {},
   "source": [
    "# Train a network\n",
    "\n",
    "To make things more concise here, I moved the model architecture and training code from the last part to a file called `fc_model`. Importing this, we can easily create a fully-connected network with `fc_model.Network`, and train the network using `fc_model.train`. I'll use this model (once it's trained) to demonstrate how we can save and load models."
   ]
  },
  {
   "cell_type": "code",
   "execution_count": 13,
   "metadata": {},
   "outputs": [],
   "source": [
    "# Create the network, define the criterion and optimizer\n",
    "## def __init__(self, input_size, output_size, hidden_layers, drop_p=0.5)\n",
    "model = fc_model.Network(784, 10, [512, 256, 128])\n",
    "criterion = nn.NLLLoss()\n",
    "optimizer = optim.Adam(model.parameters(), lr=0.001)"
   ]
  },
  {
   "cell_type": "code",
   "execution_count": 14,
   "metadata": {},
   "outputs": [
    {
     "name": "stdout",
     "output_type": "stream",
     "text": [
      "Epoch: 1/2..  Training Loss: 1.779..  Test Loss: 1.039..  Test Accuracy: 0.613\n",
      "Epoch: 1/2..  Training Loss: 1.033..  Test Loss: 0.740..  Test Accuracy: 0.712\n",
      "Epoch: 1/2..  Training Loss: 0.898..  Test Loss: 0.697..  Test Accuracy: 0.714\n",
      "Epoch: 1/2..  Training Loss: 0.793..  Test Loss: 0.632..  Test Accuracy: 0.759\n",
      "Epoch: 1/2..  Training Loss: 0.760..  Test Loss: 0.597..  Test Accuracy: 0.775\n",
      "Epoch: 1/2..  Training Loss: 0.724..  Test Loss: 0.604..  Test Accuracy: 0.769\n",
      "Epoch: 1/2..  Training Loss: 0.698..  Test Loss: 0.569..  Test Accuracy: 0.780\n",
      "Epoch: 1/2..  Training Loss: 0.674..  Test Loss: 0.551..  Test Accuracy: 0.790\n",
      "Epoch: 1/2..  Training Loss: 0.677..  Test Loss: 0.558..  Test Accuracy: 0.796\n",
      "Epoch: 1/2..  Training Loss: 0.635..  Test Loss: 0.558..  Test Accuracy: 0.796\n",
      "Epoch: 1/2..  Training Loss: 0.647..  Test Loss: 0.551..  Test Accuracy: 0.800\n",
      "Epoch: 1/2..  Training Loss: 0.620..  Test Loss: 0.522..  Test Accuracy: 0.808\n",
      "Epoch: 1/2..  Training Loss: 0.605..  Test Loss: 0.516..  Test Accuracy: 0.808\n",
      "Epoch: 1/2..  Training Loss: 0.597..  Test Loss: 0.547..  Test Accuracy: 0.797\n",
      "Epoch: 1/2..  Training Loss: 0.633..  Test Loss: 0.507..  Test Accuracy: 0.810\n",
      "Epoch: 1/2..  Training Loss: 0.601..  Test Loss: 0.493..  Test Accuracy: 0.821\n",
      "Epoch: 1/2..  Training Loss: 0.589..  Test Loss: 0.504..  Test Accuracy: 0.815\n",
      "Epoch: 1/2..  Training Loss: 0.588..  Test Loss: 0.494..  Test Accuracy: 0.821\n",
      "Epoch: 1/2..  Training Loss: 0.575..  Test Loss: 0.496..  Test Accuracy: 0.824\n",
      "Epoch: 1/2..  Training Loss: 0.588..  Test Loss: 0.488..  Test Accuracy: 0.825\n",
      "Epoch: 1/2..  Training Loss: 0.597..  Test Loss: 0.492..  Test Accuracy: 0.818\n",
      "Epoch: 1/2..  Training Loss: 0.556..  Test Loss: 0.479..  Test Accuracy: 0.824\n",
      "Epoch: 1/2..  Training Loss: 0.577..  Test Loss: 0.482..  Test Accuracy: 0.821\n",
      "Epoch: 2/2..  Training Loss: 0.561..  Test Loss: 0.467..  Test Accuracy: 0.831\n",
      "Epoch: 2/2..  Training Loss: 0.526..  Test Loss: 0.481..  Test Accuracy: 0.825\n",
      "Epoch: 2/2..  Training Loss: 0.557..  Test Loss: 0.470..  Test Accuracy: 0.826\n",
      "Epoch: 2/2..  Training Loss: 0.536..  Test Loss: 0.466..  Test Accuracy: 0.827\n",
      "Epoch: 2/2..  Training Loss: 0.581..  Test Loss: 0.481..  Test Accuracy: 0.833\n",
      "Epoch: 2/2..  Training Loss: 0.525..  Test Loss: 0.474..  Test Accuracy: 0.824\n",
      "Epoch: 2/2..  Training Loss: 0.535..  Test Loss: 0.470..  Test Accuracy: 0.828\n",
      "Epoch: 2/2..  Training Loss: 0.574..  Test Loss: 0.460..  Test Accuracy: 0.834\n",
      "Epoch: 2/2..  Training Loss: 0.524..  Test Loss: 0.471..  Test Accuracy: 0.829\n",
      "Epoch: 2/2..  Training Loss: 0.560..  Test Loss: 0.465..  Test Accuracy: 0.828\n",
      "Epoch: 2/2..  Training Loss: 0.530..  Test Loss: 0.451..  Test Accuracy: 0.834\n",
      "Epoch: 2/2..  Training Loss: 0.531..  Test Loss: 0.459..  Test Accuracy: 0.833\n",
      "Epoch: 2/2..  Training Loss: 0.543..  Test Loss: 0.458..  Test Accuracy: 0.830\n",
      "Epoch: 2/2..  Training Loss: 0.545..  Test Loss: 0.452..  Test Accuracy: 0.839\n",
      "Epoch: 2/2..  Training Loss: 0.544..  Test Loss: 0.460..  Test Accuracy: 0.834\n",
      "Epoch: 2/2..  Training Loss: 0.500..  Test Loss: 0.442..  Test Accuracy: 0.836\n",
      "Epoch: 2/2..  Training Loss: 0.502..  Test Loss: 0.454..  Test Accuracy: 0.838\n",
      "Epoch: 2/2..  Training Loss: 0.552..  Test Loss: 0.453..  Test Accuracy: 0.834\n",
      "Epoch: 2/2..  Training Loss: 0.547..  Test Loss: 0.459..  Test Accuracy: 0.835\n",
      "Epoch: 2/2..  Training Loss: 0.535..  Test Loss: 0.450..  Test Accuracy: 0.837\n",
      "Epoch: 2/2..  Training Loss: 0.524..  Test Loss: 0.436..  Test Accuracy: 0.837\n",
      "Epoch: 2/2..  Training Loss: 0.541..  Test Loss: 0.445..  Test Accuracy: 0.839\n",
      "Epoch: 2/2..  Training Loss: 0.482..  Test Loss: 0.437..  Test Accuracy: 0.837\n"
     ]
    }
   ],
   "source": [
    "fc_model.train(model, trainloader, testloader, criterion, optimizer, epochs=2)"
   ]
  },
  {
   "cell_type": "markdown",
   "metadata": {},
   "source": [
    "## Saving and loading networks\n",
    "\n",
    "As you can imagine, it's impractical to train a network every time you need to use it. Instead, we can save trained networks then load them later to train more or use them for predictions.\n",
    "\n",
    "The parameters for PyTorch networks are stored in a model's `state_dict`. We can see the state dict contains the weight and bias matrices for each of our layers."
   ]
  },
  {
   "cell_type": "code",
   "execution_count": 27,
   "metadata": {},
   "outputs": [
    {
     "name": "stdout",
     "output_type": "stream",
     "text": [
      "Our model: \n",
      "\n",
      " Network(\n",
      "  (hidden_layers): ModuleList(\n",
      "    (0): Linear(in_features=784, out_features=400, bias=True)\n",
      "    (1): Linear(in_features=400, out_features=200, bias=True)\n",
      "    (2): Linear(in_features=200, out_features=100, bias=True)\n",
      "  )\n",
      "  (output): Linear(in_features=100, out_features=10, bias=True)\n",
      "  (dropout): Dropout(p=0.5, inplace=False)\n",
      ") \n",
      "\n",
      "The state dict keys: \n",
      "\n",
      " odict_keys(['hidden_layers.0.weight', 'hidden_layers.0.bias', 'hidden_layers.1.weight', 'hidden_layers.1.bias', 'hidden_layers.2.weight', 'hidden_layers.2.bias', 'output.weight', 'output.bias']) \n",
      "\n",
      "ModuleList(\n",
      "  (0): Linear(in_features=784, out_features=400, bias=True)\n",
      "  (1): Linear(in_features=400, out_features=200, bias=True)\n",
      "  (2): Linear(in_features=200, out_features=100, bias=True)\n",
      ") \n",
      "\n",
      "<generator object <genexpr> at 0x000001A0CE27A0C8>\n"
     ]
    }
   ],
   "source": [
    "print(\"Our model: \\n\\n\", model, '\\n')\n",
    "print(\"The state dict keys: \\n\\n\", model.state_dict().keys(),'\\n')\n",
    "print(model.hidden_layers,'\\n')\n",
    "print(i.out_features for i in model.hidden_layers)"
   ]
  },
  {
   "cell_type": "markdown",
   "metadata": {},
   "source": [
    "The simplest thing to do is simply save the state dict with `torch.save`. For example, we can save it to a file `'checkpoint.pth'`."
   ]
  },
  {
   "cell_type": "code",
   "execution_count": 16,
   "metadata": {},
   "outputs": [],
   "source": [
    "torch.save(model.state_dict(), 'checkpoint.pth')"
   ]
  },
  {
   "cell_type": "markdown",
   "metadata": {},
   "source": [
    "Then we can load the state dict with `torch.load`."
   ]
  },
  {
   "cell_type": "code",
   "execution_count": 17,
   "metadata": {},
   "outputs": [
    {
     "name": "stdout",
     "output_type": "stream",
     "text": [
      "odict_keys(['hidden_layers.0.weight', 'hidden_layers.0.bias', 'hidden_layers.1.weight', 'hidden_layers.1.bias', 'hidden_layers.2.weight', 'hidden_layers.2.bias', 'output.weight', 'output.bias'])\n"
     ]
    },
    {
     "data": {
      "text/plain": [
       "OrderedDict([('hidden_layers.0.weight',\n",
       "              tensor([[ 0.0155,  0.0454,  0.0511,  ...,  0.0273,  0.0581,  0.0186],\n",
       "                      [ 0.0157, -0.0029, -0.0264,  ...,  0.0408,  0.0434,  0.0307],\n",
       "                      [ 0.0161,  0.0081,  0.0251,  ..., -0.0058, -0.0042,  0.0251],\n",
       "                      ...,\n",
       "                      [ 0.0632,  0.0771,  0.0414,  ...,  0.0281,  0.0838,  0.0325],\n",
       "                      [ 0.0262,  0.0822,  0.0758,  ...,  0.0769,  0.0573,  0.0589],\n",
       "                      [ 0.0380,  0.0447,  0.0429,  ...,  0.0624,  0.0543,  0.0531]])),\n",
       "             ('hidden_layers.0.bias',\n",
       "              tensor([-3.2869e-02,  2.7495e-02,  1.4938e-02, -2.3281e-02, -3.0310e-02,\n",
       "                      -2.3616e-02, -6.4721e-02, -1.1798e-02, -3.1183e-03,  3.3564e-03,\n",
       "                      -2.6422e-02, -2.8346e-05, -6.1270e-02, -1.7004e-02, -6.1191e-02,\n",
       "                      -1.3455e-02, -3.7823e-02, -2.1512e-02,  3.0875e-03, -2.0335e-02,\n",
       "                      -6.9273e-03, -7.6231e-03, -4.0556e-02, -3.9261e-02, -2.6167e-02,\n",
       "                      -2.8211e-02, -3.4597e-02, -3.9610e-02,  5.0924e-02,  6.7575e-03,\n",
       "                      -5.3935e-02, -1.9475e-02, -4.7248e-02, -4.9773e-02, -1.7759e-02,\n",
       "                      -3.8545e-02,  1.7347e-02,  2.0854e-02,  5.1819e-03,  3.0078e-03,\n",
       "                       1.8045e-02, -2.6450e-02, -2.0347e-02, -9.6613e-04, -2.0937e-02,\n",
       "                      -4.5258e-02, -3.9542e-02, -4.2798e-02, -2.3407e-02, -1.4023e-03,\n",
       "                      -5.3118e-03, -1.6587e-02, -1.8064e-02, -3.1872e-02, -8.2046e-03,\n",
       "                      -2.9556e-02, -1.0881e-02, -3.3153e-02, -1.0035e-02, -2.2418e-02,\n",
       "                      -1.4163e-02, -7.6823e-03, -2.3578e-02, -5.2730e-02, -5.2330e-02,\n",
       "                       1.6013e-02, -1.7428e-02,  1.3613e-02,  1.3968e-02, -6.7416e-02,\n",
       "                       1.5561e-02, -5.9971e-02,  2.0010e-03,  5.5281e-03,  1.7097e-02,\n",
       "                      -2.9609e-02, -1.6397e-02, -3.4191e-02, -2.7692e-02, -6.4072e-02,\n",
       "                      -2.4848e-02,  2.2838e-03, -1.9541e-02, -2.3220e-02, -1.6250e-02,\n",
       "                      -4.9046e-02,  1.3813e-02, -7.0891e-02, -3.6967e-02, -7.0091e-02,\n",
       "                      -3.3831e-02,  2.8199e-02, -1.7678e-02,  4.7486e-02,  2.8391e-02,\n",
       "                       9.3218e-03,  5.8143e-03, -3.0691e-02, -4.6802e-02, -1.3898e-02,\n",
       "                       1.4460e-02, -7.1518e-02, -4.5737e-02, -1.3021e-03, -3.3042e-03,\n",
       "                      -1.4154e-02, -6.8987e-03,  1.4911e-04, -4.2653e-02, -1.1356e-02,\n",
       "                      -4.6274e-02, -2.6892e-02, -4.4601e-02, -2.2919e-04,  4.1057e-03,\n",
       "                      -1.9018e-02, -1.0228e-02, -3.2276e-02, -3.9485e-02,  8.9714e-03,\n",
       "                      -3.0099e-03, -6.0236e-02,  1.5349e-02,  9.4083e-03,  6.2104e-03,\n",
       "                      -5.1748e-03,  1.3520e-02,  4.9705e-03, -2.5481e-02, -4.5335e-02,\n",
       "                       4.1604e-03, -7.0367e-02, -3.2236e-02,  2.5416e-03,  2.3798e-02,\n",
       "                      -3.9205e-02, -3.1802e-03, -2.7923e-02,  4.1745e-03, -4.5530e-02,\n",
       "                      -3.4089e-02, -2.7911e-03, -1.8906e-02, -2.9108e-02, -5.6948e-02,\n",
       "                      -5.4856e-02,  1.8587e-02, -4.0722e-02,  1.4653e-02,  1.6043e-02,\n",
       "                       5.9209e-03,  8.6845e-03,  1.7531e-02, -5.2316e-02,  1.6932e-02,\n",
       "                       3.5799e-02, -4.9756e-02, -3.9077e-02, -5.4214e-02,  4.2895e-04,\n",
       "                      -1.5832e-02, -5.6890e-02,  8.3415e-03, -2.7416e-02, -2.2712e-02,\n",
       "                      -4.6184e-02, -2.8339e-02, -1.8263e-02, -4.5310e-02, -5.5991e-02,\n",
       "                      -9.2350e-03,  2.6680e-02, -1.4324e-02, -1.9093e-02, -2.0037e-02,\n",
       "                      -4.2909e-02,  1.5801e-02, -2.4928e-02, -8.7772e-04,  3.0077e-02,\n",
       "                       6.2625e-03, -2.1123e-02, -2.9794e-02,  1.7152e-02, -5.6132e-02,\n",
       "                      -2.6495e-02, -1.4883e-02,  1.6648e-02, -1.7978e-02, -5.1100e-02,\n",
       "                      -3.8021e-02,  1.3435e-02, -4.8735e-02,  2.6888e-02, -3.6765e-02,\n",
       "                      -2.1907e-02, -6.3112e-02, -1.5469e-02,  1.3489e-02, -6.6537e-02,\n",
       "                      -1.2499e-02, -1.6579e-02,  4.2310e-03,  4.4693e-03, -4.4031e-03,\n",
       "                      -9.3514e-03, -4.2883e-02, -4.6223e-02, -6.6798e-02, -6.2437e-02,\n",
       "                      -5.5324e-02,  3.6744e-03, -7.1281e-04, -2.7211e-02, -1.6234e-02,\n",
       "                       1.8048e-02, -1.6249e-02,  1.3210e-02,  8.0843e-03, -3.6382e-02,\n",
       "                      -9.0563e-03, -3.8572e-02, -2.0631e-02, -3.6417e-02, -3.3647e-02,\n",
       "                       5.3041e-03, -7.7179e-03, -5.0070e-02, -7.2774e-03, -2.9199e-02,\n",
       "                       2.0509e-02, -1.1482e-02,  1.1599e-02,  1.3806e-02, -4.1787e-02,\n",
       "                      -3.9794e-02,  3.3839e-02,  5.3143e-03,  2.5540e-02,  2.1363e-02,\n",
       "                      -9.1921e-03, -1.9919e-02, -3.5913e-02,  3.0045e-04, -1.7485e-02,\n",
       "                      -5.8676e-02,  4.1380e-03,  1.9380e-02, -2.6476e-02, -3.5314e-02,\n",
       "                       5.7868e-03, -3.3882e-02, -6.3424e-04, -1.7716e-02, -1.6889e-02,\n",
       "                      -2.3678e-02, -1.2143e-02, -3.1585e-02, -5.0289e-03, -4.2771e-02,\n",
       "                       5.6090e-02,  3.7866e-04,  4.7443e-03, -6.4676e-03, -2.6012e-02,\n",
       "                      -5.3183e-02, -1.1415e-02, -1.7383e-02, -3.6244e-02,  7.6855e-03,\n",
       "                      -1.4444e-02, -2.2183e-02, -1.8376e-02,  1.1574e-02,  1.9145e-02,\n",
       "                       2.4955e-03,  2.5301e-02, -9.2628e-03, -2.0751e-02, -4.0904e-02,\n",
       "                      -6.7518e-03, -2.5409e-02, -5.7535e-04, -4.0567e-02, -3.7728e-02,\n",
       "                      -2.0594e-02, -2.5224e-02, -1.4065e-02, -2.6620e-02, -2.4953e-02,\n",
       "                      -3.9535e-02, -3.4001e-02,  1.4788e-02,  4.8425e-03, -3.3885e-02,\n",
       "                      -2.7459e-02, -2.9990e-02,  4.6794e-02,  4.0851e-03, -2.7653e-02,\n",
       "                      -6.2022e-03, -1.6795e-02,  4.4347e-03, -2.6127e-02, -5.4015e-02,\n",
       "                      -5.2551e-02,  1.3875e-02,  8.7133e-03,  8.1195e-03, -1.3456e-02,\n",
       "                       1.8944e-02, -5.4545e-02, -2.8673e-02, -3.2426e-02, -9.4431e-03,\n",
       "                       2.4241e-02, -5.0314e-03, -4.4374e-02, -8.4921e-02,  1.4210e-02,\n",
       "                      -5.9924e-02, -2.1099e-02, -1.3244e-02, -9.7137e-04, -3.4810e-02,\n",
       "                      -5.4522e-02,  2.1501e-02,  2.8526e-02, -3.4782e-02, -4.5895e-02,\n",
       "                      -2.8530e-03, -7.5503e-03, -4.7034e-02, -1.4622e-02, -3.7713e-02,\n",
       "                      -6.7759e-02, -9.4133e-03, -3.2476e-02,  7.5189e-04, -1.6953e-02,\n",
       "                       2.3493e-02, -1.5527e-02, -2.9056e-02,  3.7755e-03,  1.0986e-02,\n",
       "                       4.0142e-03, -5.4510e-02, -5.7274e-02, -4.9126e-02, -4.0195e-02,\n",
       "                      -2.3415e-02, -8.6937e-03, -2.8492e-02, -7.1404e-03,  3.4084e-03,\n",
       "                      -1.4574e-02, -3.6831e-02,  1.2946e-02, -2.9069e-02, -5.7357e-02,\n",
       "                      -1.9244e-02,  7.6914e-03,  2.0155e-02,  1.2415e-02,  2.3584e-02,\n",
       "                      -4.3310e-02, -2.4808e-02, -4.4681e-02,  1.1742e-02, -2.0285e-02,\n",
       "                      -2.6810e-02,  8.9518e-03, -5.6492e-03,  2.4806e-02, -3.7049e-02,\n",
       "                      -1.9744e-02,  2.0076e-02,  1.6128e-02,  4.1750e-03, -4.7122e-02,\n",
       "                      -1.8443e-02, -3.3867e-02, -1.8597e-02,  1.5586e-02, -2.3318e-02,\n",
       "                       5.6029e-04, -1.9813e-02, -6.3716e-02, -1.3662e-02, -3.2415e-02,\n",
       "                       9.5542e-03,  3.8394e-02, -5.9327e-03, -8.3581e-03, -3.4990e-02,\n",
       "                      -3.7080e-02,  1.3714e-02,  2.0219e-02,  2.0990e-03, -1.1507e-02,\n",
       "                      -4.0136e-03,  3.8231e-02,  2.2767e-03,  1.1811e-02,  7.9817e-03,\n",
       "                      -2.5891e-02, -8.3565e-03, -1.7017e-02, -1.8441e-02, -1.0129e-02,\n",
       "                       7.7974e-04, -7.8771e-03,  2.5322e-02, -5.4777e-02,  4.4119e-03,\n",
       "                       3.5562e-02, -1.4822e-02, -2.1068e-03, -5.8194e-02, -1.2184e-02,\n",
       "                      -2.9723e-02, -3.7688e-02, -2.1287e-02, -5.3314e-02, -1.7361e-02,\n",
       "                      -3.0116e-02, -4.8250e-02, -4.0378e-02,  7.4615e-03, -6.1488e-03,\n",
       "                      -6.8785e-02,  1.2388e-02, -6.2295e-03,  5.8310e-03,  3.5623e-03,\n",
       "                       8.3391e-03, -2.9907e-02,  2.2333e-02, -3.3745e-02,  2.3641e-02,\n",
       "                      -4.2835e-02, -4.9652e-02, -2.7362e-02,  5.5427e-03, -1.9645e-03,\n",
       "                      -3.2928e-02, -4.9836e-03, -3.7803e-02, -4.8410e-02, -2.3051e-02,\n",
       "                      -2.6978e-02, -4.2414e-02, -1.7270e-02,  3.9870e-02,  1.1003e-02,\n",
       "                       1.1201e-03, -3.7174e-02, -2.6408e-02, -2.5606e-02,  2.1367e-02,\n",
       "                      -3.9387e-02, -3.4967e-02, -2.7702e-02, -4.1134e-02,  1.6520e-02,\n",
       "                      -3.2614e-02, -4.0048e-02, -3.3021e-02,  2.7090e-02, -5.4059e-02,\n",
       "                      -2.3659e-02,  2.1492e-02,  2.6975e-02, -4.6004e-02, -2.8013e-02,\n",
       "                      -4.7763e-02,  5.6259e-02, -1.6984e-02, -2.5115e-02,  5.2751e-03,\n",
       "                      -6.6251e-03, -3.7895e-02, -2.8484e-03,  1.6562e-02,  1.9709e-02,\n",
       "                      -4.5981e-02,  3.2028e-02, -1.3417e-02, -1.1054e-03,  2.4134e-04,\n",
       "                       1.4986e-02, -1.2416e-02, -1.5415e-02, -2.5675e-02,  2.7821e-02,\n",
       "                      -5.5165e-02,  1.5738e-02, -2.4497e-02,  1.2015e-02,  7.0276e-03,\n",
       "                      -5.9100e-02,  6.7426e-03, -2.0889e-02,  2.4950e-02, -7.4902e-03,\n",
       "                       6.3368e-03, -3.6308e-02, -6.1588e-02, -2.0088e-02, -3.8935e-02,\n",
       "                      -8.6557e-02, -5.8446e-02])),\n",
       "             ('hidden_layers.1.weight',\n",
       "              tensor([[-0.0635,  0.0426,  0.0228,  ...,  0.0304, -0.0251,  0.0187],\n",
       "                      [-0.0172,  0.0288,  0.0021,  ..., -0.0224, -0.0102,  0.0004],\n",
       "                      [-0.0550, -0.0101,  0.0309,  ...,  0.0189, -0.0142, -0.0419],\n",
       "                      ...,\n",
       "                      [ 0.0367,  0.0293,  0.0071,  ...,  0.0415,  0.0272, -0.0243],\n",
       "                      [ 0.0241,  0.0478, -0.0546,  ...,  0.0223, -0.0264,  0.0121],\n",
       "                      [ 0.1022, -0.0272, -0.0464,  ..., -0.0114,  0.0027, -0.0659]])),\n",
       "             ('hidden_layers.1.bias',\n",
       "              tensor([ 0.0539,  0.0536,  0.0299, -0.0031,  0.0355, -0.0534,  0.0502,  0.0405,\n",
       "                       0.0742,  0.1045,  0.0860, -0.0934,  0.0418,  0.0437, -0.0392,  0.0396,\n",
       "                       0.0522,  0.0644, -0.0249, -0.0238, -0.0293,  0.0078, -0.0153, -0.0059,\n",
       "                      -0.0551,  0.1294,  0.0107, -0.0312, -0.0068, -0.0670, -0.0453,  0.0139,\n",
       "                      -0.0126,  0.0291,  0.0733,  0.0104,  0.0273,  0.0360,  0.0617,  0.0741,\n",
       "                      -0.0111,  0.0119,  0.0811,  0.0688, -0.0096,  0.0266, -0.0057,  0.0183,\n",
       "                       0.0128, -0.0350, -0.0199,  0.0988,  0.0639, -0.0970,  0.0398,  0.0500,\n",
       "                       0.0017,  0.0897,  0.0438,  0.0124,  0.0184, -0.0006,  0.0036,  0.0343,\n",
       "                      -0.0598,  0.0436,  0.0105, -0.0002,  0.0123,  0.0925,  0.0544,  0.0217,\n",
       "                      -0.0542,  0.0487,  0.0324, -0.1046,  0.0576, -0.0182,  0.0243,  0.0569,\n",
       "                       0.0354,  0.1442,  0.1366, -0.0171,  0.0303, -0.0485,  0.0269,  0.0588,\n",
       "                      -0.0064, -0.0504, -0.0226,  0.0084,  0.0288, -0.0616, -0.0596,  0.0462,\n",
       "                       0.0286,  0.0769,  0.0212, -0.0102,  0.0698,  0.1121, -0.0419,  0.0336,\n",
       "                       0.0579, -0.0052,  0.0099, -0.0266,  0.0358, -0.0385, -0.0640,  0.0449,\n",
       "                      -0.0408, -0.0169, -0.0645, -0.0625, -0.0483, -0.0201, -0.0579, -0.0260,\n",
       "                       0.0433, -0.0240, -0.0340,  0.0283, -0.0468,  0.0397, -0.0046, -0.0574,\n",
       "                      -0.0847, -0.0754, -0.0426, -0.0571,  0.0294,  0.0295, -0.0035, -0.0019,\n",
       "                       0.0265, -0.0335, -0.0041, -0.0157,  0.0240,  0.0472, -0.0039,  0.0200,\n",
       "                       0.0419,  0.0740,  0.0434,  0.1089,  0.0289, -0.0640,  0.0013, -0.0003,\n",
       "                      -0.0368,  0.0305,  0.0506, -0.0170, -0.0637,  0.0044,  0.0694,  0.0089,\n",
       "                      -0.0156, -0.0163, -0.0070,  0.0101, -0.0473,  0.0493,  0.0658,  0.0124,\n",
       "                      -0.0066,  0.0282,  0.0423, -0.0226, -0.0279,  0.0507,  0.0227,  0.0060,\n",
       "                       0.0163, -0.0403,  0.0370, -0.0054,  0.0414, -0.0428,  0.0353,  0.0643,\n",
       "                       0.0117,  0.0705,  0.0591,  0.0368, -0.0098,  0.0119, -0.0061,  0.0135,\n",
       "                       0.0145, -0.0044, -0.0303,  0.0711,  0.0335,  0.0547, -0.0271, -0.0090,\n",
       "                      -0.0029, -0.0235,  0.0407, -0.0298,  0.0615,  0.0370,  0.0485,  0.0192,\n",
       "                       0.0514,  0.0089,  0.0473,  0.0703,  0.0126,  0.0258, -0.0221, -0.0434,\n",
       "                       0.0480,  0.0291,  0.1445, -0.0012,  0.0395,  0.0180, -0.0122, -0.0196,\n",
       "                       0.0101,  0.0495, -0.0073,  0.0461,  0.0521,  0.0045, -0.0049, -0.0490,\n",
       "                       0.0271,  0.0383, -0.0326,  0.0100, -0.0956, -0.0096,  0.0112,  0.0966,\n",
       "                       0.0088,  0.0050, -0.0028,  0.0190,  0.0198, -0.0256,  0.0193, -0.0364,\n",
       "                       0.0669, -0.0339, -0.0027, -0.0287,  0.0421, -0.0017,  0.0227, -0.0276])),\n",
       "             ('hidden_layers.2.weight',\n",
       "              tensor([[ 0.0135,  0.0350,  0.0559,  ..., -0.0594, -0.0703, -0.0686],\n",
       "                      [-0.0378, -0.0411,  0.0176,  ...,  0.0976,  0.0074, -0.0272],\n",
       "                      [-0.0080,  0.0095,  0.0358,  ..., -0.0409, -0.0202,  0.0048],\n",
       "                      ...,\n",
       "                      [-0.1384, -0.0172, -0.0906,  ..., -0.0110,  0.0160, -0.0213],\n",
       "                      [-0.0047, -0.0754, -0.0227,  ...,  0.0206, -0.0151,  0.0135],\n",
       "                      [-0.0609, -0.0037, -0.0561,  ..., -0.0732,  0.0183,  0.0434]])),\n",
       "             ('hidden_layers.2.bias',\n",
       "              tensor([ 0.0841,  0.0328,  0.1633, -0.0092,  0.0292,  0.0008,  0.0787,  0.0623,\n",
       "                       0.0887, -0.0185,  0.1018,  0.1452,  0.0950, -0.0115,  0.1346,  0.1540,\n",
       "                       0.1140,  0.1041,  0.0811,  0.1409,  0.0752,  0.0145,  0.0837,  0.2132,\n",
       "                      -0.0230,  0.0469,  0.1260,  0.1725,  0.0127,  0.0472,  0.0369,  0.1886,\n",
       "                       0.1311,  0.0066,  0.0593,  0.1005,  0.0973,  0.1221,  0.0615,  0.1220,\n",
       "                       0.0003, -0.0304, -0.0168,  0.0227,  0.0832, -0.0188,  0.1027,  0.1208,\n",
       "                       0.0404,  0.0246,  0.0759,  0.0252,  0.0281,  0.0830,  0.1038,  0.1206,\n",
       "                       0.1625,  0.0408, -0.0013,  0.0779,  0.0555,  0.0188,  0.0765, -0.0011,\n",
       "                       0.0459,  0.1868,  0.1434,  0.0501,  0.0031,  0.0939,  0.0130,  0.0868,\n",
       "                       0.0694,  0.1533,  0.0724,  0.0332,  0.1237,  0.0162, -0.0458,  0.0259,\n",
       "                       0.0256, -0.0944,  0.1016,  0.0103,  0.0906,  0.0172,  0.0669, -0.0450,\n",
       "                       0.0338,  0.1528,  0.1466, -0.0180, -0.0503,  0.1609,  0.0915,  0.0343,\n",
       "                       0.0112,  0.1072,  0.1404,  0.1574,  0.0715,  0.1396,  0.1016,  0.0577,\n",
       "                       0.0230,  0.0390,  0.1442,  0.0160,  0.0443,  0.1647,  0.1700, -0.0201,\n",
       "                       0.1433,  0.1024, -0.0619,  0.0240, -0.0130,  0.0128,  0.0731,  0.0025,\n",
       "                       0.0754, -0.0322,  0.0966,  0.0411,  0.0650,  0.0692,  0.0565,  0.0409])),\n",
       "             ('output.weight',\n",
       "              tensor([[ 0.0232, -0.0062,  0.0374,  ..., -0.0862,  0.0552, -0.0359],\n",
       "                      [-0.0805,  0.0865, -0.0164,  ..., -0.1947, -0.1070, -0.0830],\n",
       "                      [ 0.0326, -0.0417, -0.0590,  ..., -0.0103, -0.0757, -0.0601],\n",
       "                      ...,\n",
       "                      [-0.0495,  0.0427, -0.1675,  ...,  0.0011, -0.0125,  0.0576],\n",
       "                      [ 0.0101,  0.0473, -0.1069,  ..., -0.0044,  0.0667, -0.0964],\n",
       "                      [ 0.0574, -0.0526, -0.2629,  ...,  0.0375, -0.0201, -0.0746]])),\n",
       "             ('output.bias',\n",
       "              tensor([-0.0799, -0.2310,  0.0850,  0.0608,  0.0226, -0.0248,  0.0595, -0.0132,\n",
       "                       0.0384, -0.1229]))])"
      ]
     },
     "execution_count": 17,
     "metadata": {},
     "output_type": "execute_result"
    }
   ],
   "source": [
    "state_dict = torch.load('checkpoint.pth')\n",
    "print(state_dict.keys())\n",
    "state_dict"
   ]
  },
  {
   "cell_type": "markdown",
   "metadata": {},
   "source": [
    "And to load the state dict in to the network, you do `model.load_state_dict(state_dict)`."
   ]
  },
  {
   "cell_type": "code",
   "execution_count": 18,
   "metadata": {},
   "outputs": [
    {
     "data": {
      "text/plain": [
       "<All keys matched successfully>"
      ]
     },
     "execution_count": 18,
     "metadata": {},
     "output_type": "execute_result"
    }
   ],
   "source": [
    "model.load_state_dict(state_dict)"
   ]
  },
  {
   "cell_type": "markdown",
   "metadata": {},
   "source": [
    "Seems pretty straightforward, but as usual it's a bit more complicated. Loading the state dict works only if the model architecture is exactly the same as the checkpoint architecture. If I create a model with a different architecture, this fails."
   ]
  },
  {
   "cell_type": "code",
   "execution_count": 20,
   "metadata": {},
   "outputs": [
    {
     "ename": "RuntimeError",
     "evalue": "Error(s) in loading state_dict for Network:\n\tsize mismatch for hidden_layers.0.weight: copying a param with shape torch.Size([512, 784]) from checkpoint, the shape in current model is torch.Size([400, 784]).\n\tsize mismatch for hidden_layers.0.bias: copying a param with shape torch.Size([512]) from checkpoint, the shape in current model is torch.Size([400]).\n\tsize mismatch for hidden_layers.1.weight: copying a param with shape torch.Size([256, 512]) from checkpoint, the shape in current model is torch.Size([200, 400]).\n\tsize mismatch for hidden_layers.1.bias: copying a param with shape torch.Size([256]) from checkpoint, the shape in current model is torch.Size([200]).\n\tsize mismatch for hidden_layers.2.weight: copying a param with shape torch.Size([128, 256]) from checkpoint, the shape in current model is torch.Size([100, 200]).\n\tsize mismatch for hidden_layers.2.bias: copying a param with shape torch.Size([128]) from checkpoint, the shape in current model is torch.Size([100]).\n\tsize mismatch for output.weight: copying a param with shape torch.Size([10, 128]) from checkpoint, the shape in current model is torch.Size([10, 100]).",
     "output_type": "error",
     "traceback": [
      "\u001b[1;31m---------------------------------------------------------------------------\u001b[0m",
      "\u001b[1;31mRuntimeError\u001b[0m                              Traceback (most recent call last)",
      "\u001b[1;32m<ipython-input-20-872d2e02d014>\u001b[0m in \u001b[0;36m<module>\u001b[1;34m\u001b[0m\n\u001b[0;32m      3\u001b[0m \u001b[0mmodel\u001b[0m \u001b[1;33m=\u001b[0m \u001b[0mfc_model\u001b[0m\u001b[1;33m.\u001b[0m\u001b[0mNetwork\u001b[0m\u001b[1;33m(\u001b[0m\u001b[1;36m784\u001b[0m\u001b[1;33m,\u001b[0m \u001b[1;36m10\u001b[0m\u001b[1;33m,\u001b[0m \u001b[1;33m[\u001b[0m\u001b[1;36m400\u001b[0m\u001b[1;33m,\u001b[0m \u001b[1;36m200\u001b[0m\u001b[1;33m,\u001b[0m \u001b[1;36m100\u001b[0m\u001b[1;33m]\u001b[0m\u001b[1;33m)\u001b[0m\u001b[1;33m\u001b[0m\u001b[1;33m\u001b[0m\u001b[0m\n\u001b[0;32m      4\u001b[0m \u001b[1;31m# This will throw an error because the tensor sizes are wrong!\u001b[0m\u001b[1;33m\u001b[0m\u001b[1;33m\u001b[0m\u001b[1;33m\u001b[0m\u001b[0m\n\u001b[1;32m----> 5\u001b[1;33m \u001b[0mmodel\u001b[0m\u001b[1;33m.\u001b[0m\u001b[0mload_state_dict\u001b[0m\u001b[1;33m(\u001b[0m\u001b[0mstate_dict\u001b[0m\u001b[1;33m)\u001b[0m\u001b[1;33m\u001b[0m\u001b[1;33m\u001b[0m\u001b[0m\n\u001b[0m",
      "\u001b[1;32m~\\Anaconda3\\lib\\site-packages\\torch\\nn\\modules\\module.py\u001b[0m in \u001b[0;36mload_state_dict\u001b[1;34m(self, state_dict, strict)\u001b[0m\n\u001b[0;32m    845\u001b[0m         \u001b[1;32mif\u001b[0m \u001b[0mlen\u001b[0m\u001b[1;33m(\u001b[0m\u001b[0merror_msgs\u001b[0m\u001b[1;33m)\u001b[0m \u001b[1;33m>\u001b[0m \u001b[1;36m0\u001b[0m\u001b[1;33m:\u001b[0m\u001b[1;33m\u001b[0m\u001b[1;33m\u001b[0m\u001b[0m\n\u001b[0;32m    846\u001b[0m             raise RuntimeError('Error(s) in loading state_dict for {}:\\n\\t{}'.format(\n\u001b[1;32m--> 847\u001b[1;33m                                self.__class__.__name__, \"\\n\\t\".join(error_msgs)))\n\u001b[0m\u001b[0;32m    848\u001b[0m         \u001b[1;32mreturn\u001b[0m \u001b[0m_IncompatibleKeys\u001b[0m\u001b[1;33m(\u001b[0m\u001b[0mmissing_keys\u001b[0m\u001b[1;33m,\u001b[0m \u001b[0munexpected_keys\u001b[0m\u001b[1;33m)\u001b[0m\u001b[1;33m\u001b[0m\u001b[1;33m\u001b[0m\u001b[0m\n\u001b[0;32m    849\u001b[0m \u001b[1;33m\u001b[0m\u001b[0m\n",
      "\u001b[1;31mRuntimeError\u001b[0m: Error(s) in loading state_dict for Network:\n\tsize mismatch for hidden_layers.0.weight: copying a param with shape torch.Size([512, 784]) from checkpoint, the shape in current model is torch.Size([400, 784]).\n\tsize mismatch for hidden_layers.0.bias: copying a param with shape torch.Size([512]) from checkpoint, the shape in current model is torch.Size([400]).\n\tsize mismatch for hidden_layers.1.weight: copying a param with shape torch.Size([256, 512]) from checkpoint, the shape in current model is torch.Size([200, 400]).\n\tsize mismatch for hidden_layers.1.bias: copying a param with shape torch.Size([256]) from checkpoint, the shape in current model is torch.Size([200]).\n\tsize mismatch for hidden_layers.2.weight: copying a param with shape torch.Size([128, 256]) from checkpoint, the shape in current model is torch.Size([100, 200]).\n\tsize mismatch for hidden_layers.2.bias: copying a param with shape torch.Size([128]) from checkpoint, the shape in current model is torch.Size([100]).\n\tsize mismatch for output.weight: copying a param with shape torch.Size([10, 128]) from checkpoint, the shape in current model is torch.Size([10, 100])."
     ]
    }
   ],
   "source": [
    "# Try this\n",
    "## def __init__(self, input_size, output_size, hidden_layers, drop_p=0.5)\n",
    "model = fc_model.Network(784, 10, [400, 200, 100])\n",
    "# This will throw an error because the tensor sizes are wrong!\n",
    "model.load_state_dict(state_dict)"
   ]
  },
  {
   "cell_type": "markdown",
   "metadata": {},
   "source": [
    "This means we need to rebuild the model exactly as it was when trained. Information about the model architecture needs to be saved in the checkpoint, along with the state dict. To do this, you build a dictionary with all the information you need to compeletely rebuild the model."
   ]
  },
  {
   "cell_type": "code",
   "execution_count": 28,
   "metadata": {},
   "outputs": [],
   "source": [
    "checkpoint = {'input_size': 784,\n",
    "              'output_size': 10,\n",
    "              'hidden_layers': [each.out_features for each in model.hidden_layers],\n",
    "              'state_dict': model.state_dict()}\n",
    "\n",
    "torch.save(checkpoint, 'checkpoint.pth')"
   ]
  },
  {
   "cell_type": "markdown",
   "metadata": {},
   "source": [
    "Now the checkpoint has all the necessary information to rebuild the trained model. You can easily make that a function if you want. Similarly, we can write a function to load checkpoints. "
   ]
  },
  {
   "cell_type": "code",
   "execution_count": 29,
   "metadata": {},
   "outputs": [],
   "source": [
    "def load_checkpoint(filepath):\n",
    "    checkpoint = torch.load(filepath)\n",
    "    model = fc_model.Network(checkpoint['input_size'],\n",
    "                             checkpoint['output_size'],\n",
    "                             checkpoint['hidden_layers'])\n",
    "    model.load_state_dict(checkpoint['state_dict'])\n",
    "    \n",
    "    return model"
   ]
  },
  {
   "cell_type": "code",
   "execution_count": 30,
   "metadata": {},
   "outputs": [
    {
     "name": "stdout",
     "output_type": "stream",
     "text": [
      "Network(\n",
      "  (hidden_layers): ModuleList(\n",
      "    (0): Linear(in_features=784, out_features=400, bias=True)\n",
      "    (1): Linear(in_features=400, out_features=200, bias=True)\n",
      "    (2): Linear(in_features=200, out_features=100, bias=True)\n",
      "  )\n",
      "  (output): Linear(in_features=100, out_features=10, bias=True)\n",
      "  (dropout): Dropout(p=0.5, inplace=False)\n",
      ")\n"
     ]
    }
   ],
   "source": [
    "model = load_checkpoint('checkpoint.pth')\n",
    "print(model)"
   ]
  }
 ],
 "metadata": {
  "kernelspec": {
   "display_name": "Python 3",
   "language": "python",
   "name": "python3"
  },
  "language_info": {
   "codemirror_mode": {
    "name": "ipython",
    "version": 3
   },
   "file_extension": ".py",
   "mimetype": "text/x-python",
   "name": "python",
   "nbconvert_exporter": "python",
   "pygments_lexer": "ipython3",
   "version": "3.7.7"
  }
 },
 "nbformat": 4,
 "nbformat_minor": 2
}
