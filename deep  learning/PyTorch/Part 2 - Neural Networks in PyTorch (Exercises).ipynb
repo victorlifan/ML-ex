{
 "cells": [
  {
   "cell_type": "markdown",
   "metadata": {},
   "source": [
    "# Neural networks with PyTorch\n",
    "\n",
    "Deep learning networks tend to be massive with dozens or hundreds of layers, that's where the term \"deep\" comes from. You can build one of these deep networks using only weight matrices as we did in the previous notebook, but in general it's very cumbersome and difficult to implement. PyTorch has a nice module `nn` that provides a nice way to efficiently build large neural networks."
   ]
  },
  {
   "cell_type": "code",
   "execution_count": 89,
   "metadata": {},
   "outputs": [],
   "source": [
    "# Import necessary packages\n",
    "\n",
    "%matplotlib inline\n",
    "%config InlineBackend.figure_format = 'retina'\n",
    "\n",
    "import numpy as np\n",
    "import torch\n",
    "\n",
    "import helper\n",
    "\n",
    "import matplotlib.pyplot as plt"
   ]
  },
  {
   "cell_type": "markdown",
   "metadata": {},
   "source": [
    "\n",
    "Now we're going to build a larger network that can solve a (formerly) difficult problem, identifying text in an image. Here we'll use the MNIST dataset which consists of greyscale handwritten digits. Each image is 28x28 pixels, you can see a sample below\n",
    "\n",
    "<img src='assets/mnist.png'>\n",
    "\n",
    "Our goal is to build a neural network that can take one of these images and predict the digit in the image.\n",
    "\n",
    "First up, we need to get our dataset. This is provided through the `torchvision` package. The code below will download the MNIST dataset, then create training and test datasets for us. Don't worry too much about the details here, you'll learn more about this later."
   ]
  },
  {
   "cell_type": "code",
   "execution_count": 2,
   "metadata": {},
   "outputs": [
    {
     "name": "stdout",
     "output_type": "stream",
     "text": [
      "Downloading http://yann.lecun.com/exdb/mnist/train-images-idx3-ubyte.gz\n",
      "Downloading http://yann.lecun.com/exdb/mnist/train-labels-idx1-ubyte.gz\n",
      "Downloading http://yann.lecun.com/exdb/mnist/t10k-images-idx3-ubyte.gz\n",
      "Downloading http://yann.lecun.com/exdb/mnist/t10k-labels-idx1-ubyte.gz\n",
      "Processing...\n",
      "Done!\n"
     ]
    }
   ],
   "source": [
    "### Run this cell\n",
    "\n",
    "from torchvision import datasets, transforms\n",
    "\n",
    "# Define a transform to normalize the data\n",
    "transform = transforms.Compose([transforms.ToTensor(),\n",
    "                              transforms.Normalize((0.5,), (0.5,)),\n",
    "                              ])\n",
    "\n",
    "# Download and load the training data\n",
    "trainset = datasets.MNIST('~/.pytorch/MNIST_data/', download=True, train=True, transform=transform)\n",
    "trainloader = torch.utils.data.DataLoader(trainset, batch_size=64, shuffle=True)"
   ]
  },
  {
   "cell_type": "code",
   "execution_count": 90,
   "metadata": {},
   "outputs": [
    {
     "data": {
      "text/plain": [
       "<torch.utils.data.dataloader.DataLoader at 0x7f8f7b80fc88>"
      ]
     },
     "execution_count": 90,
     "metadata": {},
     "output_type": "execute_result"
    }
   ],
   "source": [
    "trainloader"
   ]
  },
  {
   "cell_type": "markdown",
   "metadata": {},
   "source": [
    "We have the training data loaded into `trainloader` and we make that an iterator with `iter(trainloader)`. Later, we'll use this to loop through the dataset for training, like\n",
    "\n",
    "```python\n",
    "for image, label in trainloader:\n",
    "    ## do things with images and labels\n",
    "```\n",
    "\n",
    "You'll notice I created the `trainloader` with a batch size of 64, and `shuffle=True`. The batch size is the number of images we get in one iteration from the data loader and pass through our network, often called a *batch*. And `shuffle=True` tells it to shuffle the dataset every time we start going through the data loader again. But here I'm just grabbing the first batch so we can check out the data. We can see below that `images` is just a tensor with size `(64, 1, 28, 28)`. So, 64 images per batch, 1 color channel, and 28x28 images."
   ]
  },
  {
   "cell_type": "code",
   "execution_count": 91,
   "metadata": {},
   "outputs": [
    {
     "name": "stdout",
     "output_type": "stream",
     "text": [
      "<class 'torch.Tensor'>\n",
      "torch.Size([64, 1, 28, 28])\n",
      "torch.Size([64])\n"
     ]
    }
   ],
   "source": [
    "dataiter = iter(trainloader)\n",
    "images, labels = dataiter.next()\n",
    "print(type(images))\n",
    "print(images.shape)\n",
    "print(labels.shape)"
   ]
  },
  {
   "cell_type": "code",
   "execution_count": 92,
   "metadata": {},
   "outputs": [
    {
     "data": {
      "text/plain": [
       "tensor([[[[-1.0000, -1.0000, -1.0000,  ..., -1.0000, -1.0000, -1.0000],\n",
       "          [-1.0000, -1.0000, -1.0000,  ..., -1.0000, -1.0000, -1.0000],\n",
       "          [-1.0000, -1.0000, -1.0000,  ..., -1.0000, -1.0000, -1.0000],\n",
       "          ...,\n",
       "          [-1.0000, -1.0000, -1.0000,  ..., -1.0000, -1.0000, -1.0000],\n",
       "          [-1.0000, -1.0000, -1.0000,  ..., -1.0000, -1.0000, -1.0000],\n",
       "          [-1.0000, -1.0000, -1.0000,  ..., -1.0000, -1.0000, -1.0000]]],\n",
       "\n",
       "\n",
       "        [[[-1.0000, -1.0000, -1.0000,  ..., -1.0000, -1.0000, -1.0000],\n",
       "          [-1.0000, -1.0000, -1.0000,  ..., -1.0000, -1.0000, -1.0000],\n",
       "          [-1.0000, -1.0000, -1.0000,  ..., -1.0000, -1.0000, -1.0000],\n",
       "          ...,\n",
       "          [-1.0000, -1.0000, -1.0000,  ..., -1.0000, -1.0000, -1.0000],\n",
       "          [-1.0000, -1.0000, -1.0000,  ..., -1.0000, -1.0000, -1.0000],\n",
       "          [-1.0000, -1.0000, -1.0000,  ..., -1.0000, -1.0000, -1.0000]]],\n",
       "\n",
       "\n",
       "        [[[-1.0000, -1.0000, -1.0000,  ..., -1.0000, -1.0000, -1.0000],\n",
       "          [-1.0000, -1.0000, -1.0000,  ..., -1.0000, -1.0000, -1.0000],\n",
       "          [-1.0000, -1.0000, -1.0000,  ..., -1.0000, -1.0000, -1.0000],\n",
       "          ...,\n",
       "          [-1.0000, -1.0000, -1.0000,  ..., -1.0000, -1.0000, -1.0000],\n",
       "          [-1.0000, -1.0000, -1.0000,  ..., -1.0000, -1.0000, -1.0000],\n",
       "          [-1.0000, -1.0000, -1.0000,  ..., -1.0000, -1.0000, -1.0000]]],\n",
       "\n",
       "\n",
       "        ...,\n",
       "\n",
       "\n",
       "        [[[-1.0000, -1.0000, -1.0000,  ..., -1.0000, -1.0000, -1.0000],\n",
       "          [-1.0000, -1.0000, -1.0000,  ..., -1.0000, -1.0000, -1.0000],\n",
       "          [-1.0000, -1.0000, -1.0000,  ..., -1.0000, -1.0000, -1.0000],\n",
       "          ...,\n",
       "          [-1.0000, -1.0000, -1.0000,  ..., -1.0000, -1.0000, -1.0000],\n",
       "          [-1.0000, -1.0000, -1.0000,  ..., -1.0000, -1.0000, -1.0000],\n",
       "          [-1.0000, -1.0000, -1.0000,  ..., -1.0000, -1.0000, -1.0000]]],\n",
       "\n",
       "\n",
       "        [[[-1.0000, -1.0000, -1.0000,  ..., -1.0000, -1.0000, -1.0000],\n",
       "          [-1.0000, -1.0000, -1.0000,  ..., -1.0000, -1.0000, -1.0000],\n",
       "          [-1.0000, -1.0000, -1.0000,  ..., -1.0000, -1.0000, -1.0000],\n",
       "          ...,\n",
       "          [-1.0000, -1.0000, -1.0000,  ..., -1.0000, -1.0000, -1.0000],\n",
       "          [-1.0000, -1.0000, -1.0000,  ..., -1.0000, -1.0000, -1.0000],\n",
       "          [-1.0000, -1.0000, -1.0000,  ..., -1.0000, -1.0000, -1.0000]]],\n",
       "\n",
       "\n",
       "        [[[-1.0000, -1.0000, -1.0000,  ..., -1.0000, -1.0000, -1.0000],\n",
       "          [-1.0000, -1.0000, -1.0000,  ..., -1.0000, -1.0000, -1.0000],\n",
       "          [-1.0000, -1.0000, -1.0000,  ..., -1.0000, -1.0000, -1.0000],\n",
       "          ...,\n",
       "          [-1.0000, -1.0000, -1.0000,  ..., -1.0000, -1.0000, -1.0000],\n",
       "          [-1.0000, -1.0000, -1.0000,  ..., -1.0000, -1.0000, -1.0000],\n",
       "          [-1.0000, -1.0000, -1.0000,  ..., -1.0000, -1.0000, -1.0000]]]])"
      ]
     },
     "execution_count": 92,
     "metadata": {},
     "output_type": "execute_result"
    }
   ],
   "source": [
    "images"
   ]
  },
  {
   "cell_type": "markdown",
   "metadata": {},
   "source": [
    "This is what one of the images looks like. "
   ]
  },
  {
   "cell_type": "code",
   "execution_count": 95,
   "metadata": {},
   "outputs": [
    {
     "data": {
      "image/png": "[encoded data removed]",
      "text/plain": [
       "<matplotlib.figure.Figure at 0x7f8f7532ca90>"
      ]
     },
     "metadata": {
      "image/png": {
       "height": 250,
       "width": 253
      },
      "needs_background": "light"
     },
     "output_type": "display_data"
    }
   ],
   "source": [
    "plt.imshow(images[0,:].numpy().squeeze(), cmap='Greys_r');"
   ]
  },
  {
   "cell_type": "markdown",
   "metadata": {},
   "source": [
    "First, let's try to build a simple network for this dataset using weight matrices and matrix multiplications. Then, we'll see how to do it using PyTorch's `nn` module which provides a much more convenient and powerful method for defining network architectures.\n",
    "\n",
    "The networks you've seen so far are called *fully-connected* or *dense* networks. Each unit in one layer is connected to each unit in the next layer. In fully-connected networks, the input to each layer must be a one-dimensional vector (which can be stacked into a 2D tensor as a batch of multiple examples). However, our images are 28x28 2D tensors, so we need to convert them into 1D vectors. Thinking about sizes, we need to convert the batch of images with shape `(64, 1, 28, 28)` to a have a shape of `(64, 784)`, 784 is 28 times 28. This is typically called *flattening*, we flattened the 2D images into 1D vectors.\n",
    "\n",
    "Previously you built a network with one output unit. Here we need 10 output units, one for each digit. We want our network to predict the digit shown in an image, so what we'll do is calculate probabilities that the image is of any one digit or class. This ends up being a discrete probability distribution over the classes (digits) that tells us the most likely class for the image. That means we need 10 output units for the 10 classes (digits). We'll see how to convert the network output into a probability distribution next.\n",
    "\n",
    "> **Exercise:** Flatten the batch of images `images`. Then build a multi-layer network with 784 input units, 256 hidden units, and 10 output units using random tensors for the weights and biases. For now, use a sigmoid activation for the hidden layer. Leave the output layer without an activation, we'll add one that gives us a probability distribution next."
   ]
  },
  {
   "cell_type": "code",
   "execution_count": 96,
   "metadata": {
    "scrolled": true
   },
   "outputs": [
    {
     "data": {
      "text/plain": [
       "torch.Size([64, 784])"
      ]
     },
     "execution_count": 96,
     "metadata": {},
     "output_type": "execute_result"
    }
   ],
   "source": [
    "inputs=images.view(64,784)\n",
    "inputs.shape"
   ]
  },
  {
   "cell_type": "code",
   "execution_count": 97,
   "metadata": {},
   "outputs": [],
   "source": [
    "n_input=inputs.shape[1]\n",
    "n_hidden=256\n",
    "n_output=10"
   ]
  },
  {
   "cell_type": "code",
   "execution_count": 98,
   "metadata": {},
   "outputs": [],
   "source": [
    "input_hidden_weight=torch.randn((n_input,n_hidden))\n",
    "hidden_output_weight=torch.randn((n_hidden,n_output))\n",
    "input_hidden_bais=torch.randn(n_hidden)\n",
    "hidden_output_bais=torch.randn(n_output)"
   ]
  },
  {
   "cell_type": "code",
   "execution_count": 99,
   "metadata": {},
   "outputs": [],
   "source": [
    "def sigmoid(x):\n",
    "    return 1/(1+torch.exp(-x))"
   ]
  },
  {
   "cell_type": "code",
   "execution_count": 100,
   "metadata": {},
   "outputs": [
    {
     "data": {
      "text/plain": [
       "torch.Size([64, 256])"
      ]
     },
     "execution_count": 100,
     "metadata": {},
     "output_type": "execute_result"
    }
   ],
   "source": [
    "h_result=sigmoid(torch.mm(inputs,input_hidden_weight)+input_hidden_bais)\n",
    "h_result.shape"
   ]
  },
  {
   "cell_type": "code",
   "execution_count": 101,
   "metadata": {},
   "outputs": [
    {
     "name": "stdout",
     "output_type": "stream",
     "text": [
      "torch.Size([64, 10])\n"
     ]
    },
    {
     "data": {
      "text/plain": [
       "tensor([[ -6.3256,   6.2156,  -8.5001, -11.4353,  -7.7159,  -5.9789,\n",
       "         -13.2465,   2.1545,  11.4545,  -1.1758],\n",
       "        [ -5.9948,   0.1139,  -7.5879,  -7.9473,  -3.6792,   3.0118,\n",
       "         -14.7189,  -2.1593,   6.9466,   0.9905],\n",
       "        [ -5.5354,  -3.3234,  -4.0515,  -6.0459, -15.2115,   1.7214,\n",
       "         -12.0228,   2.3496,  12.7412,   1.7089],\n",
       "        [  6.2689,  -2.6176,  -6.8473,  -9.0374, -15.8894,  15.8915,\n",
       "         -17.9616,   0.5996,  -2.8603,   1.8199],\n",
       "        [  8.0813,  -3.2302, -11.1021,  -6.5638, -14.4961,   8.3930,\n",
       "         -13.7780,  -0.2731,   9.9328,  -5.5136],\n",
       "        [-12.4382,  -8.4356, -12.6214, -11.3580, -15.4699,  -0.5574,\n",
       "         -20.3405,  10.7189,   6.5480,   8.3305],\n",
       "        [ -8.5049,  -4.7571, -13.2016,  -5.2089, -13.1374,   8.7463,\n",
       "         -21.2364,   3.6517,   6.1542,   4.4117],\n",
       "        [  5.8947,  -3.2212, -13.1728,  -6.4552, -17.9012,   5.9782,\n",
       "         -10.5474,   3.1941,  13.9298,   0.7810],\n",
       "        [ -8.5888,  -4.8446, -16.3083,  -2.4832,  -9.8142,   1.1178,\n",
       "         -23.6222,   5.4690,   9.8841,   4.1305],\n",
       "        [  8.0824,  -3.5710, -21.0209,  -3.6293, -20.1911,  -1.6819,\n",
       "         -12.0745,   0.8411,   7.2169,  -1.9490],\n",
       "        [ -7.7490,  -8.9249,  -9.3014,  -4.0270, -14.5994,  -7.3101,\n",
       "         -24.2982,   0.6176,   5.9595,   6.3610],\n",
       "        [  9.7383,  -9.2669, -18.9972,   5.4008, -16.3353,   1.2000,\n",
       "         -15.0811,   1.0132,   5.7331,   8.8095],\n",
       "        [  8.0393,  -2.6490, -29.4167,  -8.4845, -14.1637,   8.8377,\n",
       "         -15.4996,   1.6168,  11.6794,   6.7128],\n",
       "        [ -1.6232,  -6.7858, -16.2110, -14.6774,  -5.6963,  -0.4543,\n",
       "         -24.1874,   0.6195,   4.2872,   1.4074],\n",
       "        [  9.9981,  -4.7259, -21.5303,  -8.4878,  -6.0661,   3.4502,\n",
       "         -18.7540,  -0.0827,   3.5051,  -8.7806],\n",
       "        [  2.0005,  -7.7753, -18.7950,  -8.9154,  -6.8294,   3.2856,\n",
       "         -19.7562,   2.4004,  -0.6622,   4.2975],\n",
       "        [ -0.0500,  -2.6496, -23.8765,  -8.2110, -13.8075,   0.7683,\n",
       "         -15.4032,   2.9077,   8.0822,  -0.2217],\n",
       "        [ -8.4796,  -2.6138, -12.2346, -14.0956,  -8.8370,   0.1874,\n",
       "         -19.4297,   2.7296,  11.4972,   0.3293],\n",
       "        [ 12.9563,  -1.5085, -22.5163,  -8.3052, -14.8301,  12.9251,\n",
       "         -17.5817,   0.3391,   8.4379,   3.4191],\n",
       "        [  1.7207,   0.0213,  -9.8804,  -3.1246,  -1.9858,   8.1648,\n",
       "         -16.1273,  19.7383,   5.8344,  -1.7027],\n",
       "        [  7.4972,  -8.1639, -11.0693,  -2.4952, -11.8271,   5.2115,\n",
       "         -15.2685,   4.7342,   5.6374,   8.5838],\n",
       "        [  0.5378,  -5.1361, -20.6204, -11.0851,  -2.0132,   4.8272,\n",
       "         -22.3003,  -3.5464,   9.2532,   1.5448],\n",
       "        [  9.2378,  -9.8101, -14.3611,  -0.6250,  -8.7463,   0.1991,\n",
       "         -18.1650,  -3.9149,   3.1240,   3.6232],\n",
       "        [ -2.5107,   1.4812,  -9.4263,  -7.7975,   0.2029,  13.5169,\n",
       "          -1.8102,   7.0096,  11.9811,  -1.7017],\n",
       "        [ -3.1409,   1.7731, -16.9743,  -7.2756, -10.6719,   7.0022,\n",
       "         -19.3757,  -1.5075,   5.9986,   2.1560],\n",
       "        [  1.0344,  -4.7098, -17.8093,  -4.8676,  -5.5363,   8.0358,\n",
       "         -15.8425,   3.8388,   9.9264,  -2.7053],\n",
       "        [  0.3113,  -5.0527, -18.1113,  -8.0985,  -7.6667,   3.9268,\n",
       "         -13.3295,   1.8501,   7.4736,   8.4332],\n",
       "        [ -2.6366,   1.7066,  -6.4864,  -8.8855, -20.6163,   7.2960,\n",
       "         -14.4950,   2.8692,   4.1254,  -5.3439],\n",
       "        [ -1.2207,  -8.3570, -12.1800, -14.4167,  -6.0515,  -5.6922,\n",
       "         -16.1719,  -2.1204,  10.1645,   6.1248],\n",
       "        [  6.0272,   1.7658, -10.1403,  -9.1646, -11.0511,   4.8540,\n",
       "         -11.2719,   0.3305,  15.2063,   8.1463],\n",
       "        [ -7.0300,  -4.4870, -14.0034,   0.0591, -12.6411,   6.6279,\n",
       "         -14.8964,   3.7271,  13.2362,   2.9648],\n",
       "        [  5.6697,  -4.4699,  -9.4207,  -6.1598, -19.8567,   8.5294,\n",
       "          -9.9665,  -1.3591,   1.9937,   5.4219],\n",
       "        [  0.2205,   4.1575, -13.2779,   1.5413,  -5.6793,   2.8550,\n",
       "          -8.3104,  11.8194,   3.0925,  -5.2206],\n",
       "        [ -2.6477,   5.9896,  -7.7567,  -1.6039,  -8.9866,  -2.8031,\n",
       "         -17.0512,  12.0232,  10.9613,   5.7003],\n",
       "        [-10.1894,  -1.0848, -18.1027,  -6.2853,  -5.6500,  16.6942,\n",
       "         -15.7050,   3.8122,  15.4591,   4.1630],\n",
       "        [ -1.1820,  -2.1295, -10.8859,  -6.2856, -11.0675,  13.0503,\n",
       "         -19.5695,   3.0558,   1.8449,   1.9289],\n",
       "        [  9.6952,   8.2512, -10.1469, -18.4860, -12.1429,   0.8385,\n",
       "         -13.0703,  -0.0356,  18.7473,  -5.3758],\n",
       "        [ -1.6380,  -5.8869,  -4.4386,  -1.3120, -13.5117,   0.7738,\n",
       "         -14.4979,  -1.6589,   0.8790,   0.4155],\n",
       "        [ -0.0136,  -2.9658, -15.1761, -15.5864,  -7.7428,  -1.0062,\n",
       "         -17.8249,   2.1936,   6.3954,   4.4624],\n",
       "        [  0.3964,   1.9508, -12.1147,  -4.4336,  -5.7008,  -1.0853,\n",
       "         -14.4341,  -1.1511,  16.1534,   1.8029],\n",
       "        [  2.6711,  -4.9300,  -7.1227, -14.5313, -13.8149,  10.8526,\n",
       "         -10.3832,  12.2634,   8.3270,   1.0758],\n",
       "        [  1.3418,  -4.9822,  -7.3132, -11.2955,   1.5109,   1.4970,\n",
       "         -20.7242,  -1.6575,   2.0015,  -1.9118],\n",
       "        [  5.5123,  -5.2636, -15.8672, -17.0091, -15.7937,  -1.7146,\n",
       "         -11.7768,   1.5462,  12.0914,   8.1668],\n",
       "        [ -4.8676,   1.6736, -13.5919,  -4.9072, -12.3344,   7.3651,\n",
       "         -12.0621,  -4.3715,   7.4680,   3.7266],\n",
       "        [ 11.4034,  -1.1655,  -6.0975,  -6.6384, -24.8392,   6.9305,\n",
       "         -12.7079,   3.8248,   6.9073,   5.4851],\n",
       "        [  3.7219,  -0.4631, -19.0845, -15.3422,  -5.6602,   5.0560,\n",
       "         -17.5349,  -1.2282,  10.6617,  -0.1516],\n",
       "        [ -0.2055,  -3.5702, -12.6667,  -8.9313,  -7.3188,   2.0921,\n",
       "         -15.7938,   0.8541,   9.7542,  -2.6880],\n",
       "        [  0.2789,  -5.0471, -14.6007, -13.1716,  -9.7825,   4.1623,\n",
       "         -16.8187,  13.1950,   9.6138,   0.8609],\n",
       "        [ -9.9589,  -3.2229, -18.5608,  -8.2461, -15.4681,   3.6581,\n",
       "         -12.1893,   4.9724,   3.9981,  -0.3880],\n",
       "        [  9.5767,  -6.9206, -27.4052, -11.1063, -14.0948,  -0.6584,\n",
       "         -11.8810,  -5.9472,   5.6176,   1.7360],\n",
       "        [  5.3541,  -4.4574, -22.9698,  -9.3797, -10.6681,   1.9450,\n",
       "         -30.1282,   2.7020,   7.3655,   4.3043],\n",
       "        [ -1.3703,   1.9369,  -3.7008,  -6.3123, -11.6761,   5.8342,\n",
       "         -16.9135,   7.1911,   0.7981,  -3.5757],\n",
       "        [  7.8811,   3.0428, -27.5424, -12.3618, -29.6000,  -6.1314,\n",
       "         -18.4086,   9.0755,  11.9667,   8.0638],\n",
       "        [  4.3705,  -6.5523, -15.7905,  -9.5519,  -0.9339,  10.0239,\n",
       "          -9.5805,  -0.1022,   5.0988,   5.8322],\n",
       "        [  1.1526,  -3.5018,  -8.8456,  -9.3362,  -3.8396,  -0.5591,\n",
       "         -15.8212,   1.6083,   4.3660,   4.2888],\n",
       "        [  5.7805,  -6.2010, -18.5030, -13.2832,  -4.1928,   2.4955,\n",
       "         -18.0375,   4.4328,   5.6034,   7.5727],\n",
       "        [ -3.5389,  -0.1499, -10.1159,  -9.9613,  -8.9172,   5.8255,\n",
       "         -12.8698,  -2.4640,  -0.2833,   0.7735],\n",
       "        [ -4.9883,  -5.4271, -14.4921,   0.9104,  -8.7058,  -1.0773,\n",
       "          -6.2805,   9.5604,  -1.9362,  -6.2039],\n",
       "        [ -7.1507,  -3.3236, -11.6019, -11.2551,  -2.9498,  -5.0605,\n",
       "         -19.2099,  -0.9076,   7.4972,   1.5340],\n",
       "        [  1.3545,  -7.2805, -19.4982, -14.5265, -11.5635,  -7.1356,\n",
       "         -21.1082,   2.8271,  11.2277,   8.3085],\n",
       "        [  1.8228,  -7.6844, -15.6925,  -4.5619,   0.4616,  12.3749,\n",
       "         -19.1352,   9.0266,  -4.7640,   7.7996],\n",
       "        [ 12.1244,  -6.3768,  -7.2075,   1.6955,  -8.9455,  11.6144,\n",
       "          -6.4930,  -2.3623,  -3.3923,   5.8299],\n",
       "        [ -4.4567,  -5.6006,  -4.0242,  -2.7337, -11.4707,  13.4409,\n",
       "         -18.8815,   3.2118,  12.0558,   3.5368],\n",
       "        [-15.3675,  -1.8463,  -6.0787, -15.1596, -13.4402,   8.3557,\n",
       "         -18.0387,   3.5994,  13.9646,  -2.5724]])"
      ]
     },
     "execution_count": 101,
     "metadata": {},
     "output_type": "execute_result"
    }
   ],
   "source": [
    "## Your solution\n",
    "\n",
    "out = torch.mm(h_result,hidden_output_weight)+hidden_output_bais# output of your network, should have shape (64,10)\n",
    "print(out.shape)\n",
    "out"
   ]
  },
  {
   "cell_type": "markdown",
   "metadata": {},
   "source": [
    "Now we have 10 outputs for our network. We want to pass in an image to our network and get out a probability distribution over the classes that tells us the likely class(es) the image belongs to. Something that looks like this:\n",
    "<img src='assets/image_distribution.png' width=500px>\n",
    "\n",
    "Here we see that the probability for each class is roughly the same. This is representing an untrained network, it hasn't seen any data yet so it just returns a uniform distribution with equal probabilities for each class.\n",
    "\n",
    "To calculate this probability distribution, we often use the [**softmax** function](https://en.wikipedia.org/wiki/Softmax_function). Mathematically this looks like\n",
    "\n",
    "$$\n",
    "\\Large \\sigma(x_i) = \\cfrac{e^{x_i}}{\\sum_k^K{e^{x_k}}}\n",
    "$$\n",
    "\n",
    "What this does is squish each input $x_i$ between 0 and 1 and normalizes the values to give you a proper probability distribution where the probabilites sum up to one.\n",
    "\n",
    "> **Exercise:** Implement a function `softmax` that performs the softmax calculation and returns probability distributions for each example in the batch. Note that you'll need to pay attention to the shapes when doing this. If you have a tensor `a` with shape `(64, 10)` and a tensor `b` with shape `(64,)`, doing `a/b` will give you an error because PyTorch will try to do the division across the columns (called broadcasting) but you'll get a size mismatch. The way to think about this is for each of the 64 examples, you only want to divide by one value, the sum in the denominator. So you need `b` to have a shape of `(64, 1)`. This way PyTorch will divide the 10 values in each row of `a` by the one value in each row of `b`. Pay attention to how you take the sum as well. You'll need to define the `dim` keyword in `torch.sum`. Setting `dim=0` takes the sum across the rows while `dim=1` takes the sum across the columns."
   ]
  },
  {
   "cell_type": "code",
   "execution_count": 102,
   "metadata": {},
   "outputs": [
    {
     "name": "stdout",
     "output_type": "stream",
     "text": [
      "torch.Size([64, 10])\n",
      "tensor([ 1.0000,  1.0000,  1.0000,  1.0000,  1.0000,  1.0000,  1.0000,\n",
      "         1.0000,  1.0000,  1.0000,  1.0000,  1.0000,  1.0000,  1.0000,\n",
      "         1.0000,  1.0000,  1.0000,  1.0000,  1.0000,  1.0000,  1.0000,\n",
      "         1.0000,  1.0000,  1.0000,  1.0000,  1.0000,  1.0000,  1.0000,\n",
      "         1.0000,  1.0000,  1.0000,  1.0000,  1.0000,  1.0000,  1.0000,\n",
      "         1.0000,  1.0000,  1.0000,  1.0000,  1.0000,  1.0000,  1.0000,\n",
      "         1.0000,  1.0000,  1.0000,  1.0000,  1.0000,  1.0000,  1.0000,\n",
      "         1.0000,  1.0000,  1.0000,  1.0000,  1.0000,  1.0000,  1.0000,\n",
      "         1.0000,  1.0000,  1.0000,  1.0000,  1.0000,  1.0000,  1.0000,\n",
      "         1.0000])\n"
     ]
    }
   ],
   "source": [
    "def softmax(x):\n",
    "    ## TODO: Implement the softmax function here\n",
    "    numerator=torch.exp(x)\n",
    "    denominator= torch.sum(numerator,dim=1).view(64,1)\n",
    "    return numerator/denominator\n",
    "# Here, out should be the output of the network in the previous excercise with shape (64,10)\n",
    "probabilities = softmax(out)\n",
    "\n",
    "# Does it have the right shape? Should be (64, 10)\n",
    "print(probabilities.shape)\n",
    "# Does it sum to 1?\n",
    "print(probabilities.sum(dim=1))"
   ]
  },
  {
   "cell_type": "markdown",
   "metadata": {},
   "source": [
    "## Building networks with PyTorch\n",
    "\n",
    "PyTorch provides a module `nn` that makes building networks much simpler. Here I'll show you how to build the same one as above with 784 inputs, 256 hidden units, 10 output units and a softmax output."
   ]
  },
  {
   "cell_type": "code",
   "execution_count": 103,
   "metadata": {},
   "outputs": [],
   "source": [
    "from torch import nn"
   ]
  },
  {
   "cell_type": "code",
   "execution_count": 104,
   "metadata": {},
   "outputs": [],
   "source": [
    "class Network(nn.Module):\n",
    "    def __init__(self):\n",
    "        super().__init__()\n",
    "        \n",
    "        # Inputs to hidden layer linear transformation\n",
    "        self.hidden = nn.Linear(784, 256)\n",
    "        # Output layer, 10 units - one for each digit\n",
    "        self.output = nn.Linear(256, 10)\n",
    "        \n",
    "        # Define sigmoid activation and softmax output \n",
    "        self.sigmoid = nn.Sigmoid()\n",
    "        self.softmax = nn.Softmax(dim=1)\n",
    "        \n",
    "    def forward(self, x):\n",
    "        # Pass the input tensor through each of our operations\n",
    "        x = self.hidden(x)\n",
    "        x = self.sigmoid(x)\n",
    "        x = self.output(x)\n",
    "        x = self.softmax(x)\n",
    "        \n",
    "        return x"
   ]
  },
  {
   "cell_type": "markdown",
   "metadata": {},
   "source": [
    "Let's go through this bit by bit.\n",
    "\n",
    "```python\n",
    "class Network(nn.Module):\n",
    "```\n",
    "\n",
    "Here we're inheriting from `nn.Module`. Combined with `super().__init__()` this creates a class that tracks the architecture and provides a lot of useful methods and attributes. It is mandatory to inherit from `nn.Module` when you're creating a class for your network. The name of the class itself can be anything.\n",
    "\n",
    "```python\n",
    "self.hidden = nn.Linear(784, 256)\n",
    "```\n",
    "\n",
    "This line creates a module for a linear transformation, $x\\mathbf{W} + b$, with 784 inputs and 256 outputs and assigns it to `self.hidden`. The module automatically creates the weight and bias tensors which we'll use in the `forward` method. You can access the weight and bias tensors once the network (`net`) is created with `net.hidden.weight` and `net.hidden.bias`.\n",
    "\n",
    "```python\n",
    "self.output = nn.Linear(256, 10)\n",
    "```\n",
    "\n",
    "Similarly, this creates another linear transformation with 256 inputs and 10 outputs.\n",
    "\n",
    "```python\n",
    "self.sigmoid = nn.Sigmoid()\n",
    "self.softmax = nn.Softmax(dim=1)\n",
    "```\n",
    "\n",
    "Here I defined operations for the sigmoid activation and softmax output. Setting `dim=1` in `nn.Softmax(dim=1)` calculates softmax across the columns.\n",
    "\n",
    "```python\n",
    "def forward(self, x):\n",
    "```\n",
    "\n",
    "PyTorch networks created with `nn.Module` must have a `forward` method defined. It takes in a tensor `x` and passes it through the operations you defined in the `__init__` method.\n",
    "\n",
    "```python\n",
    "x = self.hidden(x)\n",
    "x = self.sigmoid(x)\n",
    "x = self.output(x)\n",
    "x = self.softmax(x)\n",
    "```\n",
    "\n",
    "Here the input tensor `x` is passed through each operation a reassigned to `x`. We can see that the input tensor goes through the hidden layer, then a sigmoid function, then the output layer, and finally the softmax function. It doesn't matter what you name the variables here, as long as the inputs and outputs of the operations match the network architecture you want to build. The order in which you define things in the `__init__` method doesn't matter, but you'll need to sequence the operations correctly in the `forward` method.\n",
    "\n",
    "Now we can create a `Network` object."
   ]
  },
  {
   "cell_type": "code",
   "execution_count": 105,
   "metadata": {},
   "outputs": [
    {
     "data": {
      "text/plain": [
       "Network(\n",
       "  (hidden): Linear(in_features=784, out_features=256, bias=True)\n",
       "  (output): Linear(in_features=256, out_features=10, bias=True)\n",
       "  (sigmoid): Sigmoid()\n",
       "  (softmax): Softmax()\n",
       ")"
      ]
     },
     "execution_count": 105,
     "metadata": {},
     "output_type": "execute_result"
    }
   ],
   "source": [
    "# Create the network and look at it's text representation\n",
    "model = Network()\n",
    "model"
   ]
  },
  {
   "cell_type": "markdown",
   "metadata": {},
   "source": [
    "You can define the network somewhat more concisely and clearly using the `torch.nn.functional` module. This is the most common way you'll see networks defined as many operations are simple element-wise functions. We normally import this module as `F`, `import torch.nn.functional as F`."
   ]
  },
  {
   "cell_type": "code",
   "execution_count": 106,
   "metadata": {},
   "outputs": [],
   "source": [
    "import torch.nn.functional as F\n",
    "\n",
    "class Network(nn.Module):\n",
    "    def __init__(self):\n",
    "        super().__init__()\n",
    "        # Inputs to hidden layer linear transformation\n",
    "        self.hidden = nn.Linear(784, 256)\n",
    "        # Output layer, 10 units - one for each digit\n",
    "        self.output = nn.Linear(256, 10)\n",
    "        \n",
    "    def forward(self, x):\n",
    "        # Hidden layer with sigmoid activation\n",
    "        x = F.sigmoid(self.hidden(x))\n",
    "        # Output layer with softmax activation\n",
    "        x = F.softmax(self.output(x), dim=1)\n",
    "        \n",
    "        return x"
   ]
  },
  {
   "cell_type": "markdown",
   "metadata": {},
   "source": [
    "### Activation functions\n",
    "\n",
    "So far we've only been looking at the softmax activation, but in general any function can be used as an activation function. The only requirement is that for a network to approximate a non-linear function, the activation functions must be non-linear. Here are a few more examples of common activation functions: Tanh (hyperbolic tangent), and ReLU (rectified linear unit).\n",
    "\n",
    "<img src=\"assets/activation.png\" width=700px>\n",
    "\n",
    "In practice, the ReLU function is used almost exclusively as the activation function for hidden layers."
   ]
  },
  {
   "cell_type": "markdown",
   "metadata": {},
   "source": [
    "### Your Turn to Build a Network\n",
    "\n",
    "<img src=\"assets/mlp_mnist.png\" width=600px>\n",
    "\n",
    "> **Exercise:** Create a network with 784 input units, a hidden layer with 128 units and a ReLU activation, then a hidden layer with 64 units and a ReLU activation, and finally an output layer with a softmax activation as shown above. You can use a ReLU activation with the `nn.ReLU` module or `F.relu` function."
   ]
  },
  {
   "cell_type": "code",
   "execution_count": 107,
   "metadata": {
    "scrolled": true
   },
   "outputs": [],
   "source": [
    "## Your solution here\n",
    "import torch.nn.functional as F\n",
    "class Network(nn.Module):\n",
    "    def __init__(self):\n",
    "        super().__init__()\n",
    "        self.fc1=nn.Linear(784,128)\n",
    "        self.fc2=nn.Linear(128,64)\n",
    "        self.output=nn.Linear(64,10)\n",
    "        \n",
    "    def forward(self,x):\n",
    "        x=F.relu(self.fc1(x))\n",
    "        x=F.relu(self.fc2(x))\n",
    "        x=F.softmax(self.output(x),dim=1)\n",
    "    \n",
    "        return x\n",
    "    \n",
    "model= Network()"
   ]
  },
  {
   "cell_type": "markdown",
   "metadata": {},
   "source": [
    "### Initializing weights and biases\n",
    "\n",
    "The weights and such are automatically initialized for you, but it's possible to customize how they are initialized. The weights and biases are tensors attached to the layer you defined, you can get them with `model.fc1.weight` for instance."
   ]
  },
  {
   "cell_type": "code",
   "execution_count": 108,
   "metadata": {},
   "outputs": [
    {
     "name": "stdout",
     "output_type": "stream",
     "text": [
      "Parameter containing:\n",
      "tensor([[-9.9154e-03,  1.9050e-02,  3.2733e-02,  ...,  1.1177e-02,\n",
      "         -1.2331e-02, -3.4474e-02],\n",
      "        [-1.2730e-02, -2.7014e-02, -2.3053e-02,  ..., -2.8128e-02,\n",
      "         -3.4698e-03, -3.2715e-02],\n",
      "        [ 1.6491e-02,  1.6634e-02,  1.7035e-03,  ...,  1.7531e-02,\n",
      "         -1.9286e-02,  3.5239e-02],\n",
      "        ...,\n",
      "        [ 3.0103e-02,  1.8325e-02, -3.2119e-02,  ..., -5.4363e-03,\n",
      "         -2.5152e-02, -2.7059e-02],\n",
      "        [ 1.1069e-02,  5.0656e-03,  8.0554e-03,  ...,  2.3064e-02,\n",
      "          2.5283e-02,  3.0747e-02],\n",
      "        [-1.7929e-02, -3.1489e-02,  2.8705e-02,  ..., -2.9868e-02,\n",
      "         -1.4515e-02, -2.4875e-03]])\n",
      "Parameter containing:\n",
      "tensor(1.00000e-02 *\n",
      "       [-0.1320, -2.8659, -3.0076, -3.3624, -1.5153, -1.1297, -1.0660,\n",
      "         2.5083,  1.6330, -1.2742,  3.0071,  2.2585, -2.4061,  1.7497,\n",
      "         2.7949, -2.5328,  1.3618, -1.5411,  2.3322,  0.2235,  3.2359,\n",
      "        -0.9110,  1.1052,  3.4002,  3.0393, -0.9009, -1.9788, -2.9417,\n",
      "        -1.1207, -3.3117,  0.4306, -1.1326, -1.2155, -0.4398,  3.3178,\n",
      "         0.8030,  2.9085, -2.6873,  2.8886, -3.5522, -2.2978,  0.1486,\n",
      "        -1.4440,  0.9419,  2.0814, -2.8135, -0.4352, -2.0396, -2.7867,\n",
      "         1.3462,  1.9270,  2.6251,  0.5119, -1.8030, -0.3485,  2.1034,\n",
      "        -2.2631,  2.6714,  0.6507,  2.5116, -2.9659, -0.1623, -2.3458,\n",
      "        -0.0226, -2.1923, -3.4054, -0.4236,  1.6253,  1.1157,  1.0973,\n",
      "         0.7299,  1.3951,  2.8076,  2.1905,  0.5773,  1.0150, -1.2454,\n",
      "        -1.0964,  3.2007, -2.6915,  0.9793, -0.4287, -3.3383, -1.4971,\n",
      "        -2.9385,  1.3724,  0.0033,  0.6044,  0.1211,  1.4636,  0.1588,\n",
      "        -2.1870,  3.4543,  0.3310,  2.3994, -2.9758,  3.5491,  1.2187,\n",
      "         2.6532, -1.3951, -1.0559,  2.7168, -1.7780, -0.6761, -2.6370,\n",
      "        -0.7975,  2.9920, -0.9261, -2.9169,  3.2224,  2.0422,  3.0597,\n",
      "        -0.2702,  2.5661,  1.6063, -1.8454, -0.1474, -1.4456, -0.6168,\n",
      "        -0.8690, -3.0528,  3.3977, -3.3877,  3.3340, -0.5873, -1.6675,\n",
      "        -0.5188, -3.5298])\n"
     ]
    }
   ],
   "source": [
    "print(model.fc1.weight)\n",
    "print(model.fc1.bias)"
   ]
  },
  {
   "cell_type": "markdown",
   "metadata": {},
   "source": [
    "For custom initialization, we want to modify these tensors in place. These are actually autograd *Variables*, so we need to get back the actual tensors with `model.fc1.weight.data`. Once we have the tensors, we can fill them with zeros (for biases) or random normal values."
   ]
  },
  {
   "cell_type": "code",
   "execution_count": 109,
   "metadata": {},
   "outputs": [
    {
     "data": {
      "text/plain": [
       "tensor([ 0.,  0.,  0.,  0.,  0.,  0.,  0.,  0.,  0.,  0.,  0.,  0.,\n",
       "         0.,  0.,  0.,  0.,  0.,  0.,  0.,  0.,  0.,  0.,  0.,  0.,\n",
       "         0.,  0.,  0.,  0.,  0.,  0.,  0.,  0.,  0.,  0.,  0.,  0.,\n",
       "         0.,  0.,  0.,  0.,  0.,  0.,  0.,  0.,  0.,  0.,  0.,  0.,\n",
       "         0.,  0.,  0.,  0.,  0.,  0.,  0.,  0.,  0.,  0.,  0.,  0.,\n",
       "         0.,  0.,  0.,  0.,  0.,  0.,  0.,  0.,  0.,  0.,  0.,  0.,\n",
       "         0.,  0.,  0.,  0.,  0.,  0.,  0.,  0.,  0.,  0.,  0.,  0.,\n",
       "         0.,  0.,  0.,  0.,  0.,  0.,  0.,  0.,  0.,  0.,  0.,  0.,\n",
       "         0.,  0.,  0.,  0.,  0.,  0.,  0.,  0.,  0.,  0.,  0.,  0.,\n",
       "         0.,  0.,  0.,  0.,  0.,  0.,  0.,  0.,  0.,  0.,  0.,  0.,\n",
       "         0.,  0.,  0.,  0.,  0.,  0.,  0.,  0.])"
      ]
     },
     "execution_count": 109,
     "metadata": {},
     "output_type": "execute_result"
    }
   ],
   "source": [
    "# Set biases to all zeros\n",
    "model.fc1.bias.data.fill_(0)"
   ]
  },
  {
   "cell_type": "code",
   "execution_count": 110,
   "metadata": {},
   "outputs": [
    {
     "data": {
      "text/plain": [
       "tensor([[ 1.4591e-02,  5.5563e-03,  1.4044e-02,  ..., -1.2743e-02,\n",
       "         -6.4980e-03,  4.6079e-04],\n",
       "        [-4.7952e-03, -7.9906e-03,  9.6306e-03,  ..., -1.9798e-02,\n",
       "          1.9583e-03,  2.0280e-02],\n",
       "        [-4.4534e-03,  5.0544e-03,  8.6466e-03,  ..., -2.0918e-02,\n",
       "         -9.4875e-03,  5.1547e-03],\n",
       "        ...,\n",
       "        [ 1.8487e-02, -9.6049e-03, -5.2094e-03,  ...,  1.2718e-02,\n",
       "         -3.0578e-03, -3.7871e-04],\n",
       "        [ 1.0813e-02,  1.0731e-02,  9.1518e-03,  ..., -9.7046e-03,\n",
       "         -3.2886e-03,  2.2777e-03],\n",
       "        [ 2.6588e-03, -5.6991e-03, -1.6891e-02,  ...,  2.2364e-02,\n",
       "         -1.5562e-02,  1.3645e-02]])"
      ]
     },
     "execution_count": 110,
     "metadata": {},
     "output_type": "execute_result"
    }
   ],
   "source": [
    "# sample from random normal with standard dev = 0.01\n",
    "model.fc1.weight.data.normal_(std=0.01)"
   ]
  },
  {
   "cell_type": "markdown",
   "metadata": {},
   "source": [
    "### Forward pass\n",
    "\n",
    "Now that we have a network, let's see what happens when we pass in an image."
   ]
  },
  {
   "cell_type": "code",
   "execution_count": 112,
   "metadata": {},
   "outputs": [
    {
     "data": {
      "image/png": "[encoded data removed]",
      "text/plain": [
       "<matplotlib.figure.Figure at 0x7f8f753b79e8>"
      ]
     },
     "metadata": {
      "image/png": {
       "height": 224,
       "width": 423
      },
      "needs_background": "light"
     },
     "output_type": "display_data"
    }
   ],
   "source": [
    "# Grab some data \n",
    "dataiter = iter(trainloader)\n",
    "images, labels = dataiter.next()\n",
    "\n",
    "# Resize images into a 1D vector, new shape is (batch size, color channels, image pixels) \n",
    "images.resize_(64, 1, 784)\n",
    "# or images.resize_(images.shape[0], 1, 784) to automatically get batch size\n",
    "\n",
    "# Forward pass through the network\n",
    "img_idx = 0\n",
    "ps = model.forward(images[img_idx,:])\n",
    "\n",
    "img = images[img_idx]\n",
    "helper.view_classify(img.view(1, 28, 28), ps)"
   ]
  },
  {
   "cell_type": "markdown",
   "metadata": {},
   "source": [
    "As you can see above, our network has basically no idea what this digit is. It's because we haven't trained it yet, all the weights are random!\n",
    "\n",
    "### Using `nn.Sequential`\n",
    "\n",
    "PyTorch provides a convenient way to build networks like this where a tensor is passed sequentially through operations, `nn.Sequential` ([documentation](https://pytorch.org/docs/master/nn.html#torch.nn.Sequential)). Using this to build the equivalent network:"
   ]
  },
  {
   "cell_type": "code",
   "execution_count": 113,
   "metadata": {},
   "outputs": [
    {
     "name": "stdout",
     "output_type": "stream",
     "text": [
      "Sequential(\n",
      "  (0): Linear(in_features=784, out_features=128, bias=True)\n",
      "  (1): ReLU()\n",
      "  (2): Linear(in_features=128, out_features=64, bias=True)\n",
      "  (3): ReLU()\n",
      "  (4): Linear(in_features=64, out_features=10, bias=True)\n",
      "  (5): Softmax()\n",
      ")\n"
     ]
    },
    {
     "data": {
      "image/png": "[encoded data removed]",
      "text/plain": [
       "<matplotlib.figure.Figure at 0x7f8f752ff940>"
      ]
     },
     "metadata": {
      "image/png": {
       "height": 224,
       "width": 423
      },
      "needs_background": "light"
     },
     "output_type": "display_data"
    }
   ],
   "source": [
    "# Hyperparameters for our network\n",
    "input_size = 784\n",
    "hidden_sizes = [128, 64]\n",
    "output_size = 10\n",
    "\n",
    "# Build a feed-forward network\n",
    "model = nn.Sequential(nn.Linear(input_size, hidden_sizes[0]),\n",
    "                      nn.ReLU(),\n",
    "                      nn.Linear(hidden_sizes[0], hidden_sizes[1]),\n",
    "                      nn.ReLU(),\n",
    "                      nn.Linear(hidden_sizes[1], output_size),\n",
    "                      nn.Softmax(dim=1))\n",
    "print(model)\n",
    "\n",
    "# Forward pass through the network and display output\n",
    "images, labels = next(iter(trainloader))\n",
    "images.resize_(images.shape[0], 1, 784)\n",
    "ps = model.forward(images[0,:])\n",
    "helper.view_classify(images[0].view(1, 28, 28), ps)"
   ]
  },
  {
   "cell_type": "markdown",
   "metadata": {},
   "source": [
    "Here our model is the same as before: 784 input units, a hidden layer with 128 units, ReLU activation, 64 unit hidden layer, another ReLU, then the output layer with 10 units, and the softmax output.\n",
    "\n",
    "The operations are availble by passing in the appropriate index. For example, if you want to get first Linear operation and look at the weights, you'd use `model[0]`."
   ]
  },
  {
   "cell_type": "code",
   "execution_count": 114,
   "metadata": {},
   "outputs": [
    {
     "name": "stdout",
     "output_type": "stream",
     "text": [
      "Linear(in_features=784, out_features=128, bias=True)\n"
     ]
    },
    {
     "data": {
      "text/plain": [
       "Parameter containing:\n",
       "tensor([[-2.0015e-02, -1.8677e-02, -5.1207e-03,  ...,  3.3324e-02,\n",
       "         -1.3789e-02, -2.1572e-02],\n",
       "        [-2.6094e-02, -1.0025e-02,  1.9490e-02,  ..., -2.8180e-02,\n",
       "         -3.5629e-02,  8.3057e-03],\n",
       "        [ 3.4970e-02, -1.4672e-02,  2.3984e-02,  ...,  2.6558e-02,\n",
       "         -3.0662e-02, -2.3257e-02],\n",
       "        ...,\n",
       "        [-1.9000e-02, -1.4500e-02,  4.2363e-03,  ..., -2.7017e-02,\n",
       "         -9.2575e-03,  1.0541e-02],\n",
       "        [-3.2421e-02, -3.1327e-03, -3.4947e-02,  ...,  1.2357e-02,\n",
       "          2.7752e-02, -8.2621e-03],\n",
       "        [ 2.8575e-02,  1.1562e-02, -3.3116e-02,  ..., -1.2291e-02,\n",
       "          3.2543e-02, -1.2729e-02]])"
      ]
     },
     "execution_count": 114,
     "metadata": {},
     "output_type": "execute_result"
    }
   ],
   "source": [
    "print(model[0])\n",
    "model[0].weight"
   ]
  },
  {
   "cell_type": "markdown",
   "metadata": {},
   "source": [
    "You can also pass in an `OrderedDict` to name the individual layers and operations, instead of using incremental integers. Note that dictionary keys must be unique, so _each operation must have a different name_."
   ]
  },
  {
   "cell_type": "code",
   "execution_count": 115,
   "metadata": {},
   "outputs": [
    {
     "data": {
      "text/plain": [
       "Sequential(\n",
       "  (fc1): Linear(in_features=784, out_features=128, bias=True)\n",
       "  (relu1): ReLU()\n",
       "  (fc2): Linear(in_features=128, out_features=64, bias=True)\n",
       "  (relu2): ReLU()\n",
       "  (output): Linear(in_features=64, out_features=10, bias=True)\n",
       "  (softmax): Softmax()\n",
       ")"
      ]
     },
     "execution_count": 115,
     "metadata": {},
     "output_type": "execute_result"
    }
   ],
   "source": [
    "from collections import OrderedDict\n",
    "model = nn.Sequential(OrderedDict([\n",
    "                      ('fc1', nn.Linear(input_size, hidden_sizes[0])),\n",
    "                      ('relu1', nn.ReLU()),\n",
    "                      ('fc2', nn.Linear(hidden_sizes[0], hidden_sizes[1])),\n",
    "                      ('relu2', nn.ReLU()),\n",
    "                      ('output', nn.Linear(hidden_sizes[1], output_size)),\n",
    "                      ('softmax', nn.Softmax(dim=1))]))\n",
    "model"
   ]
  },
  {
   "cell_type": "markdown",
   "metadata": {},
   "source": [
    "Now you can access layers either by integer or the name"
   ]
  },
  {
   "cell_type": "code",
   "execution_count": 116,
   "metadata": {},
   "outputs": [
    {
     "name": "stdout",
     "output_type": "stream",
     "text": [
      "Linear(in_features=784, out_features=128, bias=True)\n",
      "Linear(in_features=784, out_features=128, bias=True)\n"
     ]
    }
   ],
   "source": [
    "print(model[0])\n",
    "print(model.fc1)"
   ]
  },
  {
   "cell_type": "markdown",
   "metadata": {},
   "source": [
    "In the next notebook, we'll see how we can train a neural network to accuractly predict the numbers appearing in the MNIST images."
   ]
  }
 ],
 "metadata": {
  "kernelspec": {
   "display_name": "Python 3",
   "language": "python",
   "name": "python3"
  },
  "language_info": {
   "codemirror_mode": {
    "name": "ipython",
    "version": 3
   },
   "file_extension": ".py",
   "mimetype": "text/x-python",
   "name": "python",
   "nbconvert_exporter": "python",
   "pygments_lexer": "ipython3",
   "version": "3.7.7"
  }
 },
 "nbformat": 4,
 "nbformat_minor": 2
}
