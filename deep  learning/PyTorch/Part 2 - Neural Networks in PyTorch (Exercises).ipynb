{
 "cells": [
  {
   "cell_type": "markdown",
   "metadata": {},
   "source": [
    "# Neural networks with PyTorch\n",
    "\n",
    "Deep learning networks tend to be massive with dozens or hundreds of layers, that's where the term \"deep\" comes from. You can build one of these deep networks using only weight matrices as we did in the previous notebook, but in general it's very cumbersome and difficult to implement. PyTorch has a nice module `nn` that provides a nice way to efficiently build large neural networks."
   ]
  },
  {
   "cell_type": "code",
   "execution_count": 1,
   "metadata": {},
   "outputs": [],
   "source": [
    "# Import necessary packages\n",
    "\n",
    "%matplotlib inline\n",
    "%config InlineBackend.figure_format = 'retina'\n",
    "\n",
    "import numpy as np\n",
    "import torch\n",
    "\n",
    "import helper\n",
    "\n",
    "import matplotlib.pyplot as plt"
   ]
  },
  {
   "cell_type": "markdown",
   "metadata": {},
   "source": [
    "\n",
    "Now we're going to build a larger network that can solve a (formerly) difficult problem, identifying text in an image. Here we'll use the MNIST dataset which consists of greyscale handwritten digits. Each image is 28x28 pixels, you can see a sample below\n",
    "\n",
    "<img src='assets/mnist.png'>\n",
    "\n",
    "Our goal is to build a neural network that can take one of these images and predict the digit in the image.\n",
    "\n",
    "First up, we need to get our dataset. This is provided through the `torchvision` package. The code below will download the MNIST dataset, then create training and test datasets for us. Don't worry too much about the details here, you'll learn more about this later."
   ]
  },
  {
   "cell_type": "code",
   "execution_count": 2,
   "metadata": {},
   "outputs": [],
   "source": [
    "### Run this cell\n",
    "\n",
    "from torchvision import datasets, transforms\n",
    "\n",
    "# Define a transform to normalize the data\n",
    "transform = transforms.Compose([transforms.ToTensor(),\n",
    "                              transforms.Normalize((0.5,), (0.5,)),\n",
    "                              ])\n",
    "\n",
    "# Download and load the training data\n",
    "trainset = datasets.MNIST('~/.pytorch/MNIST_data/', download=True, train=True, transform=transform)\n",
    "trainloader = torch.utils.data.DataLoader(trainset, batch_size=64, shuffle=True)"
   ]
  },
  {
   "cell_type": "code",
   "execution_count": 3,
   "metadata": {},
   "outputs": [
    {
     "data": {
      "text/plain": [
       "<torch.utils.data.dataloader.DataLoader at 0x177ef697708>"
      ]
     },
     "execution_count": 3,
     "metadata": {},
     "output_type": "execute_result"
    }
   ],
   "source": [
    "trainloader"
   ]
  },
  {
   "cell_type": "markdown",
   "metadata": {},
   "source": [
    "We have the training data loaded into `trainloader` and we make that an iterator with `iter(trainloader)`. Later, we'll use this to loop through the dataset for training, like\n",
    "\n",
    "```python\n",
    "for image, label in trainloader:\n",
    "    ## do things with images and labels\n",
    "```\n",
    "\n",
    "You'll notice I created the `trainloader` with a batch size of 64, and `shuffle=True`. The batch size is the number of images we get in one iteration from the data loader and pass through our network, often called a *batch*. And `shuffle=True` tells it to shuffle the dataset every time we start going through the data loader again. But here I'm just grabbing the first batch so we can check out the data. We can see below that `images` is just a tensor with size `(64, 1, 28, 28)`. So, 64 images per batch, 1 color channel, and 28x28 images."
   ]
  },
  {
   "cell_type": "code",
   "execution_count": 4,
   "metadata": {},
   "outputs": [
    {
     "name": "stdout",
     "output_type": "stream",
     "text": [
      "<class 'torch.Tensor'>\n",
      "torch.Size([64, 1, 28, 28])\n",
      "torch.Size([64])\n"
     ]
    }
   ],
   "source": [
    "dataiter = iter(trainloader)\n",
    "images, labels = dataiter.next()\n",
    "print(type(images))\n",
    "print(images.shape)\n",
    "print(labels.shape)"
   ]
  },
  {
   "cell_type": "code",
   "execution_count": 5,
   "metadata": {},
   "outputs": [
    {
     "data": {
      "text/plain": [
       "tensor([[[[-1., -1., -1.,  ..., -1., -1., -1.],\n",
       "          [-1., -1., -1.,  ..., -1., -1., -1.],\n",
       "          [-1., -1., -1.,  ..., -1., -1., -1.],\n",
       "          ...,\n",
       "          [-1., -1., -1.,  ..., -1., -1., -1.],\n",
       "          [-1., -1., -1.,  ..., -1., -1., -1.],\n",
       "          [-1., -1., -1.,  ..., -1., -1., -1.]]],\n",
       "\n",
       "\n",
       "        [[[-1., -1., -1.,  ..., -1., -1., -1.],\n",
       "          [-1., -1., -1.,  ..., -1., -1., -1.],\n",
       "          [-1., -1., -1.,  ..., -1., -1., -1.],\n",
       "          ...,\n",
       "          [-1., -1., -1.,  ..., -1., -1., -1.],\n",
       "          [-1., -1., -1.,  ..., -1., -1., -1.],\n",
       "          [-1., -1., -1.,  ..., -1., -1., -1.]]],\n",
       "\n",
       "\n",
       "        [[[-1., -1., -1.,  ..., -1., -1., -1.],\n",
       "          [-1., -1., -1.,  ..., -1., -1., -1.],\n",
       "          [-1., -1., -1.,  ..., -1., -1., -1.],\n",
       "          ...,\n",
       "          [-1., -1., -1.,  ..., -1., -1., -1.],\n",
       "          [-1., -1., -1.,  ..., -1., -1., -1.],\n",
       "          [-1., -1., -1.,  ..., -1., -1., -1.]]],\n",
       "\n",
       "\n",
       "        ...,\n",
       "\n",
       "\n",
       "        [[[-1., -1., -1.,  ..., -1., -1., -1.],\n",
       "          [-1., -1., -1.,  ..., -1., -1., -1.],\n",
       "          [-1., -1., -1.,  ..., -1., -1., -1.],\n",
       "          ...,\n",
       "          [-1., -1., -1.,  ..., -1., -1., -1.],\n",
       "          [-1., -1., -1.,  ..., -1., -1., -1.],\n",
       "          [-1., -1., -1.,  ..., -1., -1., -1.]]],\n",
       "\n",
       "\n",
       "        [[[-1., -1., -1.,  ..., -1., -1., -1.],\n",
       "          [-1., -1., -1.,  ..., -1., -1., -1.],\n",
       "          [-1., -1., -1.,  ..., -1., -1., -1.],\n",
       "          ...,\n",
       "          [-1., -1., -1.,  ..., -1., -1., -1.],\n",
       "          [-1., -1., -1.,  ..., -1., -1., -1.],\n",
       "          [-1., -1., -1.,  ..., -1., -1., -1.]]],\n",
       "\n",
       "\n",
       "        [[[-1., -1., -1.,  ..., -1., -1., -1.],\n",
       "          [-1., -1., -1.,  ..., -1., -1., -1.],\n",
       "          [-1., -1., -1.,  ..., -1., -1., -1.],\n",
       "          ...,\n",
       "          [-1., -1., -1.,  ..., -1., -1., -1.],\n",
       "          [-1., -1., -1.,  ..., -1., -1., -1.],\n",
       "          [-1., -1., -1.,  ..., -1., -1., -1.]]]])"
      ]
     },
     "execution_count": 5,
     "metadata": {},
     "output_type": "execute_result"
    }
   ],
   "source": [
    "images"
   ]
  },
  {
   "cell_type": "markdown",
   "metadata": {},
   "source": [
    "This is what one of the images looks like. "
   ]
  },
  {
   "cell_type": "code",
   "execution_count": 6,
   "metadata": {},
   "outputs": [
    {
     "data": {
      "image/png": "[encoded data removed]",
      "text/plain": [
       "<Figure size 432x288 with 1 Axes>"
      ]
     },
     "metadata": {
      "image/png": {
       "height": 248,
       "width": 251
      },
      "needs_background": "light"
     },
     "output_type": "display_data"
    }
   ],
   "source": [
    "plt.imshow(images[0,:].numpy().squeeze(), cmap='Greys_r');"
   ]
  },
  {
   "cell_type": "markdown",
   "metadata": {},
   "source": [
    "First, let's try to build a simple network for this dataset using weight matrices and matrix multiplications. Then, we'll see how to do it using PyTorch's `nn` module which provides a much more convenient and powerful method for defining network architectures.\n",
    "\n",
    "The networks you've seen so far are called *fully-connected* or *dense* networks. Each unit in one layer is connected to each unit in the next layer. In fully-connected networks, the input to each layer must be a one-dimensional vector (which can be stacked into a 2D tensor as a batch of multiple examples). However, our images are 28x28 2D tensors, so we need to convert them into 1D vectors. Thinking about sizes, we need to convert the batch of images with shape `(64, 1, 28, 28)` to a have a shape of `(64, 784)`, 784 is 28 times 28. This is typically called *flattening*, we flattened the 2D images into 1D vectors.\n",
    "\n",
    "Previously you built a network with one output unit. Here we need 10 output units, one for each digit. We want our network to predict the digit shown in an image, so what we'll do is calculate probabilities that the image is of any one digit or class. This ends up being a discrete probability distribution over the classes (digits) that tells us the most likely class for the image. That means we need 10 output units for the 10 classes (digits). We'll see how to convert the network output into a probability distribution next.\n",
    "\n",
    "> **Exercise:** Flatten the batch of images `images`. Then build a multi-layer network with 784 input units, 256 hidden units, and 10 output units using random tensors for the weights and biases. For now, use a sigmoid activation for the hidden layer. Leave the output layer without an activation, we'll add one that gives us a probability distribution next."
   ]
  },
  {
   "cell_type": "code",
   "execution_count": 7,
   "metadata": {
    "scrolled": true
   },
   "outputs": [
    {
     "data": {
      "text/plain": [
       "torch.Size([64, 784])"
      ]
     },
     "execution_count": 7,
     "metadata": {},
     "output_type": "execute_result"
    }
   ],
   "source": [
    "inputs=images.view(64,784)\n",
    "inputs.shape"
   ]
  },
  {
   "cell_type": "code",
   "execution_count": 8,
   "metadata": {},
   "outputs": [],
   "source": [
    "n_input=inputs.shape[1]\n",
    "n_hidden=256\n",
    "n_output=10"
   ]
  },
  {
   "cell_type": "code",
   "execution_count": 9,
   "metadata": {},
   "outputs": [],
   "source": [
    "input_hidden_weight=torch.randn((n_input,n_hidden))\n",
    "hidden_output_weight=torch.randn((n_hidden,n_output))\n",
    "input_hidden_bais=torch.randn(n_hidden)\n",
    "hidden_output_bais=torch.randn(n_output)"
   ]
  },
  {
   "cell_type": "code",
   "execution_count": 10,
   "metadata": {},
   "outputs": [],
   "source": [
    "def sigmoid(x):\n",
    "    return 1/(1+torch.exp(-x))"
   ]
  },
  {
   "cell_type": "code",
   "execution_count": 11,
   "metadata": {},
   "outputs": [
    {
     "data": {
      "text/plain": [
       "torch.Size([64, 256])"
      ]
     },
     "execution_count": 11,
     "metadata": {},
     "output_type": "execute_result"
    }
   ],
   "source": [
    "h_result=sigmoid(torch.mm(inputs,input_hidden_weight)+input_hidden_bais)\n",
    "h_result.shape"
   ]
  },
  {
   "cell_type": "code",
   "execution_count": 12,
   "metadata": {},
   "outputs": [
    {
     "name": "stdout",
     "output_type": "stream",
     "text": [
      "torch.Size([64, 10])\n"
     ]
    },
    {
     "data": {
      "text/plain": [
       "tensor([[-2.8123e+00,  1.4660e+01,  1.4328e+01, -2.1061e+01, -4.4278e+00,\n",
       "          8.1719e+00, -3.3638e+00, -4.7919e+00,  7.5961e+00, -7.5571e+00],\n",
       "        [-1.0406e+01,  1.8680e-01,  3.1442e+00, -1.4580e+01, -1.4975e+00,\n",
       "          7.5830e+00,  9.4045e-01, -9.0807e-02,  5.5419e+00,  1.2549e+00],\n",
       "        [-6.2068e+00,  3.1797e+00,  7.9052e+00, -2.3817e+01, -1.3371e+01,\n",
       "         -7.7626e+00, -3.1899e+00,  4.1166e+00,  1.0859e+01,  4.0375e+00],\n",
       "        [-2.4548e+00,  7.7272e+00,  6.4882e+00, -2.3946e+01, -1.5354e+01,\n",
       "          1.4261e-01, -7.2326e+00,  7.1661e+00,  1.3443e+01, -2.2319e+00],\n",
       "        [-9.1428e+00,  7.2909e-02,  9.9640e+00, -2.3938e+01, -2.0173e+01,\n",
       "         -1.9739e+00, -1.8888e-01, -4.4851e+00,  8.2071e+00, -3.0510e+00],\n",
       "        [-3.7114e+00,  1.0621e+01,  7.8286e+00, -2.0036e+01, -1.7536e+01,\n",
       "         -6.6613e+00, -9.9299e+00,  4.1891e+00,  6.3919e+00, -4.4645e+00],\n",
       "        [-1.0123e+01,  1.3398e+01,  1.8052e+01, -2.1068e+01, -1.3454e+01,\n",
       "          1.8963e+00, -3.9629e+00,  3.4264e+00,  9.0509e+00,  6.7722e+00],\n",
       "        [-1.1116e+01,  1.9917e+01,  1.6809e+01, -1.9082e+01, -7.6209e+00,\n",
       "          1.8916e+00, -8.4368e-01, -6.9724e+00,  1.3945e+01, -3.6131e+00],\n",
       "        [-5.8149e-03,  6.2868e+00,  3.0224e-01, -1.1120e+01, -8.4699e+00,\n",
       "         -1.2857e+01, -2.2223e+00, -1.4044e+00,  4.4735e+00, -3.7588e+00],\n",
       "        [-6.3736e+00,  8.6287e+00,  6.1599e+00, -2.4608e+01, -1.0461e+01,\n",
       "         -6.8284e+00,  7.2079e-01, -5.8477e+00,  1.1989e+01,  1.6662e+00],\n",
       "        [-1.2695e+01,  1.1344e+01,  9.7905e+00, -1.9625e+01, -1.5339e+01,\n",
       "         -4.2558e+00, -1.5966e+00,  2.1671e+00,  1.1407e+01,  7.6632e-01],\n",
       "        [-6.8346e+00,  1.1527e+01,  3.2844e+00, -2.3768e+01, -1.2235e+01,\n",
       "         -2.0638e+00, -1.5933e+01, -8.3316e+00,  4.7500e+00,  3.3544e+00],\n",
       "        [ 2.2616e+00,  8.4376e+00,  6.2450e+00, -1.9953e+01, -1.0158e+01,\n",
       "         -6.0220e+00, -7.7831e-01, -3.3691e+00,  1.4701e+01, -1.5226e+00],\n",
       "        [ 3.7054e+00,  7.4365e+00,  1.0587e+01, -1.9873e+01, -2.8159e-01,\n",
       "         -4.2451e+00, -1.1826e+01, -7.3538e-01,  1.0235e+01, -5.2536e+00],\n",
       "        [-4.9457e+00,  1.0884e+01,  1.2465e+01, -2.7188e+01, -9.5440e+00,\n",
       "         -1.0396e+00, -2.5227e-01, -4.0117e+00, -3.7641e+00,  4.5139e+00],\n",
       "        [-9.7802e+00,  1.1172e+01,  1.2921e+01, -1.7151e+01, -1.0132e+01,\n",
       "         -4.6309e+00, -5.7264e+00,  2.0875e+00,  2.9218e+00,  6.1337e-01],\n",
       "        [-4.0891e-01,  1.8783e+01,  1.3274e+01, -1.7769e+01, -8.9432e+00,\n",
       "          4.5551e+00, -9.3555e+00, -6.4489e+00,  6.3088e+00, -1.8324e+00],\n",
       "        [-2.8185e+00,  3.1400e+00,  3.3004e+00, -2.5607e+01, -3.0188e+00,\n",
       "         -1.7352e+00, -4.9774e+00,  4.3869e+00,  1.0457e+01,  7.3457e+00],\n",
       "        [-7.4683e+00,  1.2073e+01,  8.7167e+00, -2.3632e+01, -1.3644e+01,\n",
       "          1.1422e+00, -3.2239e+00, -6.8589e+00,  5.3188e-01, -1.3848e+01],\n",
       "        [-1.6977e+01,  9.5750e+00,  1.1320e+01, -2.3507e+01, -1.0873e+01,\n",
       "         -4.8414e+00, -2.2833e+00,  2.9007e+00,  1.4308e+01,  6.8066e+00],\n",
       "        [-1.1084e+01,  7.0246e+00,  9.8008e+00, -2.2193e+01, -1.8386e+01,\n",
       "          4.1707e-01, -8.6442e+00,  9.8575e+00,  5.8322e+00,  8.0184e+00],\n",
       "        [-1.5222e+00,  1.1353e+01,  5.2509e+00, -1.3757e+01, -8.0388e+00,\n",
       "          5.8765e-01, -1.2793e+00, -8.0065e+00,  3.8348e+00, -9.2151e+00],\n",
       "        [ 4.6144e+00,  5.7609e+00,  5.2227e+00, -2.2191e+01, -1.7133e+01,\n",
       "         -3.2351e+00, -9.9701e+00,  1.2827e+00,  7.2022e+00, -3.3221e+00],\n",
       "        [-1.1526e+01,  1.1481e+01, -2.1259e+00, -2.7819e+01, -1.0521e+01,\n",
       "         -1.0247e+01, -1.3219e+01,  8.4712e+00,  7.9270e+00,  1.4457e-01],\n",
       "        [-1.1281e+01,  7.5268e+00,  5.7704e+00, -2.0049e+01, -5.7975e+00,\n",
       "         -3.4050e+00, -2.0731e+00,  1.8612e+00,  6.7248e+00, -7.1173e+00],\n",
       "        [-1.7554e-01,  1.0324e+00,  1.9903e+00, -2.1847e+01, -8.1623e+00,\n",
       "          6.7544e+00, -1.2880e+01, -8.0733e+00,  1.0833e+01,  3.4554e-01],\n",
       "        [-1.0190e+01,  1.5332e+01,  5.7344e+00, -1.7595e+01, -5.4184e+00,\n",
       "          6.3347e+00, -2.4154e+00, -4.7037e+00,  7.8929e+00, -8.7132e+00],\n",
       "        [-6.1173e+00,  1.2335e+00,  6.1497e+00, -3.1134e+01, -1.3235e+01,\n",
       "          1.0623e+00, -2.2145e-01,  6.4579e-01,  1.3654e+01, -7.3309e-01],\n",
       "        [-1.2554e+00,  7.0271e+00,  6.8070e+00, -2.5899e+01, -1.8152e+01,\n",
       "         -3.2699e+00, -7.6248e+00, -9.6721e+00,  5.5743e+00,  1.1059e+00],\n",
       "        [-3.1236e+00,  1.1605e+01,  1.6927e+00, -1.1436e+01, -5.6812e-01,\n",
       "         -2.4305e+00, -8.4377e+00, -4.1591e+00,  4.9528e-02, -1.1032e+00],\n",
       "        [ 2.0100e-01,  8.1429e+00,  1.1054e+01, -2.4599e+01, -1.1439e+01,\n",
       "         -1.0303e+01, -2.1619e+00, -4.0741e+00,  1.4569e+01,  3.6259e+00],\n",
       "        [-1.3411e+01,  9.6774e+00,  4.6751e+00, -1.8142e+01, -8.4527e+00,\n",
       "          6.9154e+00,  1.9925e+00,  5.7509e+00, -3.6409e+00, -4.8199e-01],\n",
       "        [ 1.3599e+00,  1.1390e+01,  6.6821e+00, -2.5424e+01, -1.2264e+01,\n",
       "         -2.5793e+00, -9.6630e-01, -7.0785e+00,  9.5947e+00, -2.1077e+00],\n",
       "        [-1.7880e+01,  7.5726e+00,  7.0821e+00, -1.7094e+01, -1.2357e+01,\n",
       "         -1.1606e+01, -4.3876e+00, -6.4596e+00,  1.2018e+01, -3.0957e+00],\n",
       "        [-2.3384e-02,  1.2294e+01,  8.4606e+00, -1.8146e+01, -9.3504e+00,\n",
       "         -9.7570e-02, -4.2124e+00, -2.3616e+00,  1.3578e+00, -7.6212e+00],\n",
       "        [-2.8585e+00,  3.7121e+00,  1.0124e+01, -2.1314e+01, -1.3979e+01,\n",
       "         -1.0337e+01,  4.3532e+00,  4.3163e+00,  8.5534e+00,  5.0992e+00],\n",
       "        [-9.7766e+00,  1.4096e+01,  1.1138e+01, -2.4018e+01, -1.1948e+01,\n",
       "         -1.1753e+00, -9.3536e+00,  1.7279e-01,  9.8468e+00, -1.0812e+00],\n",
       "        [-4.6229e+00,  1.7942e+01,  1.7785e+01, -1.5128e+01, -1.9039e+01,\n",
       "         -5.8029e+00, -8.2904e+00, -5.3248e-01,  7.7625e+00, -1.3269e+00],\n",
       "        [-1.9345e+01,  1.3331e+01,  1.6000e+01, -2.5169e+01, -1.5178e+01,\n",
       "          2.8208e+00, -6.0415e+00,  3.5880e+00, -1.1412e-01,  1.3150e+00],\n",
       "        [-8.8456e-01,  8.7487e+00,  1.1195e+01, -1.4592e+01, -9.0285e+00,\n",
       "          2.2580e-01, -4.2006e+00, -1.8264e-01,  1.4890e+01, -9.4171e+00],\n",
       "        [-3.2162e+00,  1.1392e+01,  3.5816e+00, -1.6838e+01, -1.2596e+01,\n",
       "         -2.5030e+00, -8.4479e+00,  7.3983e+00,  1.1524e+01, -4.5327e+00],\n",
       "        [-6.5734e+00,  1.0278e+01,  1.2474e+01, -2.5755e+01, -4.0337e+00,\n",
       "         -1.4984e+00, -4.3865e+00, -7.0835e+00, -5.7019e+00, -1.3376e+01],\n",
       "        [-8.5444e+00,  1.4974e+01,  1.3892e+01, -2.4485e+01, -8.2083e+00,\n",
       "         -6.6414e+00, -1.2089e-02, -4.4931e+00,  8.2113e+00, -4.8775e-01],\n",
       "        [-1.2681e+01,  1.0169e+01, -6.8428e-01, -2.3852e+01, -4.4387e+00,\n",
       "          7.2841e+00, -4.3174e+00, -1.3565e+00,  6.0819e+00, -4.0372e+00],\n",
       "        [-1.1593e+01,  1.4254e+01,  1.3018e+01, -1.3145e+01, -5.1950e+00,\n",
       "          5.0134e+00, -8.0543e+00, -7.1340e+00,  3.7604e+00, -8.1017e+00],\n",
       "        [-1.9577e+00,  1.4355e+01,  1.2563e+01, -1.8031e+01, -1.0953e+01,\n",
       "         -8.1436e+00, -9.6655e+00, -1.3707e+00,  8.0873e+00, -2.6939e+00],\n",
       "        [-5.7590e+00,  4.9445e+00,  6.6036e-01, -1.6151e+01, -1.1746e+01,\n",
       "          4.5698e+00, -2.1193e+00, -5.7572e+00,  1.0505e+00, -5.8321e-02],\n",
       "        [-7.0479e+00,  1.2151e+01,  1.1366e+01, -2.1018e+01, -1.2055e+01,\n",
       "         -6.7214e+00, -1.1557e+00, -8.6988e-01,  5.6931e+00, -1.7156e+00],\n",
       "        [ 3.4405e+00,  4.7948e+00,  2.2597e+00, -1.4518e+01, -9.0191e+00,\n",
       "         -8.2589e+00,  1.5282e+00, -7.9402e+00,  8.7266e+00, -1.1260e+01],\n",
       "        [-1.4910e+01,  6.5755e+00,  1.4223e+01, -2.2610e+01, -8.7286e+00,\n",
       "          1.3980e-01,  2.2922e+00, -6.2453e+00, -8.0402e-01,  5.1722e+00],\n",
       "        [-1.3338e+00,  1.3707e+01,  1.0697e+01, -2.0557e+01, -4.7123e+00,\n",
       "         -4.5783e-01, -1.5410e+01,  5.6835e+00,  5.4042e+00,  5.9361e+00],\n",
       "        [-1.4070e+01,  1.0600e+01,  8.9770e+00, -2.5893e+01, -1.7420e+01,\n",
       "         -7.8341e+00, -7.7152e+00, -3.0411e+00,  6.5270e+00, -1.6598e+00],\n",
       "        [-1.0920e+01,  1.1961e+01,  1.0253e+01, -1.9566e+01, -1.4466e+01,\n",
       "         -2.0931e+00, -4.7622e+00, -3.6402e+00,  6.7554e+00,  3.7464e+00],\n",
       "        [-1.0004e+01,  1.6937e+01,  5.6820e+00, -1.8149e+01, -6.0121e+00,\n",
       "         -5.9989e+00, -1.1793e+01, -1.7598e+01, -5.3845e+00, -2.2024e-01],\n",
       "        [-3.5473e+00,  1.3006e+01,  5.1272e+00, -1.4946e+01, -4.2419e+00,\n",
       "         -7.4993e+00, -4.2339e+00, -3.5657e+00,  7.5927e+00,  1.1280e+00],\n",
       "        [-1.1600e+01,  9.1697e+00,  9.9989e+00, -1.6345e+01, -8.8393e+00,\n",
       "          7.2034e+00, -1.1558e+00, -1.8768e+00,  3.7661e-01, -9.1006e+00],\n",
       "        [-7.5296e+00,  6.7347e+00,  8.4371e+00, -3.0211e+01, -1.8114e+01,\n",
       "         -1.1483e+01, -5.0225e+00, -3.4347e+00,  9.4770e+00, -2.6604e+00],\n",
       "        [-8.8858e+00,  1.1353e+01,  6.9983e+00, -1.6422e+01, -1.5625e+01,\n",
       "         -9.5268e+00, -8.3065e+00, -8.6742e-01,  1.4332e+00,  4.6726e-01],\n",
       "        [-3.4136e+00,  6.4297e+00,  7.1152e+00, -2.0595e+01, -7.9029e+00,\n",
       "          6.9578e-01, -1.4214e+01,  3.6898e+00,  1.3287e+01,  6.4079e+00],\n",
       "        [-1.1080e+00,  7.6715e+00,  1.0531e+01, -2.3060e+01, -1.8079e+01,\n",
       "          1.0022e+01, -8.9315e+00, -8.4903e+00,  5.3795e+00, -9.5107e+00],\n",
       "        [-1.5106e+01,  1.9610e+01,  8.4237e+00, -2.6655e+01, -1.1591e+01,\n",
       "         -8.5918e+00, -6.6891e+00, -3.7713e+00,  4.3591e+00, -2.8109e+00],\n",
       "        [-8.4332e+00,  1.6545e+01,  1.0613e+01, -1.3403e+01, -1.4354e+01,\n",
       "         -6.0603e+00,  2.9190e-01, -5.9662e+00,  8.3432e+00, -1.0071e+01],\n",
       "        [-1.3252e+01,  9.7794e+00,  5.4404e+00, -2.1665e+01, -1.4804e+01,\n",
       "         -5.6846e+00,  1.3012e+00, -2.9637e+00,  4.0305e+00,  3.9427e+00],\n",
       "        [-2.4298e+00,  1.0147e+01,  2.6252e+00, -1.2863e+01, -3.5059e+00,\n",
       "          1.7494e+00, -6.3058e+00,  2.0918e+00,  8.9353e+00, -1.8087e+00]])"
      ]
     },
     "execution_count": 12,
     "metadata": {},
     "output_type": "execute_result"
    }
   ],
   "source": [
    "## Your solution\n",
    "\n",
    "out = torch.mm(h_result,hidden_output_weight)+hidden_output_bais# output of your network, should have shape (64,10)\n",
    "print(out.shape)\n",
    "out"
   ]
  },
  {
   "cell_type": "markdown",
   "metadata": {},
   "source": [
    "Now we have 10 outputs for our network. We want to pass in an image to our network and get out a probability distribution over the classes that tells us the likely class(es) the image belongs to. Something that looks like this:\n",
    "<img src='assets/image_distribution.png' width=500px>\n",
    "\n",
    "Here we see that the probability for each class is roughly the same. This is representing an untrained network, it hasn't seen any data yet so it just returns a uniform distribution with equal probabilities for each class.\n",
    "\n",
    "To calculate this probability distribution, we often use the [**softmax** function](https://en.wikipedia.org/wiki/Softmax_function). Mathematically this looks like\n",
    "\n",
    "$$\n",
    "\\Large \\sigma(x_i) = \\cfrac{e^{x_i}}{\\sum_k^K{e^{x_k}}}\n",
    "$$\n",
    "\n",
    "What this does is squish each input $x_i$ between 0 and 1 and normalizes the values to give you a proper probability distribution where the probabilites sum up to one.\n",
    "\n",
    "> **Exercise:** Implement a function `softmax` that performs the softmax calculation and returns probability distributions for each example in the batch. Note that you'll need to pay attention to the shapes when doing this. If you have a tensor `a` with shape `(64, 10)` and a tensor `b` with shape `(64,)`, doing `a/b` will give you an error because PyTorch will try to do the division across the columns (called broadcasting) but you'll get a size mismatch. The way to think about this is for each of the 64 examples, you only want to divide by one value, the sum in the denominator. So you need `b` to have a shape of `(64, 1)`. This way PyTorch will divide the 10 values in each row of `a` by the one value in each row of `b`. Pay attention to how you take the sum as well. You'll need to define the `dim` keyword in `torch.sum`. Setting `dim=0` takes the sum across the rows while `dim=1` takes the sum across the columns."
   ]
  },
  {
   "cell_type": "code",
   "execution_count": 13,
   "metadata": {},
   "outputs": [
    {
     "name": "stdout",
     "output_type": "stream",
     "text": [
      "torch.Size([64, 10])\n",
      "tensor([1.0000, 1.0000, 1.0000, 1.0000, 1.0000, 1.0000, 1.0000, 1.0000, 1.0000,\n",
      "        1.0000, 1.0000, 1.0000, 1.0000, 1.0000, 1.0000, 1.0000, 1.0000, 1.0000,\n",
      "        1.0000, 1.0000, 1.0000, 1.0000, 1.0000, 1.0000, 1.0000, 1.0000, 1.0000,\n",
      "        1.0000, 1.0000, 1.0000, 1.0000, 1.0000, 1.0000, 1.0000, 1.0000, 1.0000,\n",
      "        1.0000, 1.0000, 1.0000, 1.0000, 1.0000, 1.0000, 1.0000, 1.0000, 1.0000,\n",
      "        1.0000, 1.0000, 1.0000, 1.0000, 1.0000, 1.0000, 1.0000, 1.0000, 1.0000,\n",
      "        1.0000, 1.0000, 1.0000, 1.0000, 1.0000, 1.0000, 1.0000, 1.0000, 1.0000,\n",
      "        1.0000])\n"
     ]
    }
   ],
   "source": [
    "def softmax(x):\n",
    "    ## TODO: Implement the softmax function here\n",
    "    numerator=torch.exp(x)\n",
    "    denominator= torch.sum(numerator,dim=1).view(64,1)\n",
    "    return numerator/denominator\n",
    "# Here, out should be the output of the network in the previous excercise with shape (64,10)\n",
    "probabilities = softmax(out)\n",
    "\n",
    "# Does it have the right shape? Should be (64, 10)\n",
    "print(probabilities.shape)\n",
    "# Does it sum to 1?\n",
    "print(probabilities.sum(dim=1))"
   ]
  },
  {
   "cell_type": "markdown",
   "metadata": {},
   "source": [
    "## Building networks with PyTorch\n",
    "\n",
    "PyTorch provides a module `nn` that makes building networks much simpler. Here I'll show you how to build the same one as above with 784 inputs, 256 hidden units, 10 output units and a softmax output."
   ]
  },
  {
   "cell_type": "code",
   "execution_count": 14,
   "metadata": {},
   "outputs": [],
   "source": [
    "from torch import nn"
   ]
  },
  {
   "cell_type": "code",
   "execution_count": 15,
   "metadata": {},
   "outputs": [],
   "source": [
    "class Network(nn.Module):\n",
    "    def __init__(self):\n",
    "        super().__init__()\n",
    "        \n",
    "        # Inputs to hidden layer linear transformation\n",
    "        self.hidden = nn.Linear(784, 256)\n",
    "        # Output layer, 10 units - one for each digit\n",
    "        self.output = nn.Linear(256, 10)\n",
    "        \n",
    "        # Define sigmoid activation and softmax output \n",
    "        self.sigmoid = nn.Sigmoid()\n",
    "        self.softmax = nn.Softmax(dim=1)\n",
    "        \n",
    "    def forward(self, x):\n",
    "        # Pass the input tensor through each of our operations\n",
    "        x = self.hidden(x)\n",
    "        x = self.sigmoid(x)\n",
    "        x = self.output(x)\n",
    "        x = self.softmax(x)\n",
    "        \n",
    "        return x"
   ]
  },
  {
   "cell_type": "markdown",
   "metadata": {},
   "source": [
    "Let's go through this bit by bit.\n",
    "\n",
    "```python\n",
    "class Network(nn.Module):\n",
    "```\n",
    "\n",
    "Here we're inheriting from `nn.Module`. Combined with `super().__init__()` this creates a class that tracks the architecture and provides a lot of useful methods and attributes. It is mandatory to inherit from `nn.Module` when you're creating a class for your network. The name of the class itself can be anything.\n",
    "\n",
    "```python\n",
    "self.hidden = nn.Linear(784, 256)\n",
    "```\n",
    "\n",
    "This line creates a module for a linear transformation, $x\\mathbf{W} + b$, with 784 inputs and 256 outputs and assigns it to `self.hidden`. The module automatically creates the weight and bias tensors which we'll use in the `forward` method. You can access the weight and bias tensors once the network (`net`) is created with `net.hidden.weight` and `net.hidden.bias`.\n",
    "\n",
    "```python\n",
    "self.output = nn.Linear(256, 10)\n",
    "```\n",
    "\n",
    "Similarly, this creates another linear transformation with 256 inputs and 10 outputs.\n",
    "\n",
    "```python\n",
    "self.sigmoid = nn.Sigmoid()\n",
    "self.softmax = nn.Softmax(dim=1)\n",
    "```\n",
    "\n",
    "Here I defined operations for the sigmoid activation and softmax output. Setting `dim=1` in `nn.Softmax(dim=1)` calculates softmax across the columns.\n",
    "\n",
    "```python\n",
    "def forward(self, x):\n",
    "```\n",
    "\n",
    "PyTorch networks created with `nn.Module` must have a `forward` method defined. It takes in a tensor `x` and passes it through the operations you defined in the `__init__` method.\n",
    "\n",
    "```python\n",
    "x = self.hidden(x)\n",
    "x = self.sigmoid(x)\n",
    "x = self.output(x)\n",
    "x = self.softmax(x)\n",
    "```\n",
    "\n",
    "Here the input tensor `x` is passed through each operation a reassigned to `x`. We can see that the input tensor goes through the hidden layer, then a sigmoid function, then the output layer, and finally the softmax function. It doesn't matter what you name the variables here, as long as the inputs and outputs of the operations match the network architecture you want to build. The order in which you define things in the `__init__` method doesn't matter, but you'll need to sequence the operations correctly in the `forward` method.\n",
    "\n",
    "Now we can create a `Network` object."
   ]
  },
  {
   "cell_type": "code",
   "execution_count": 16,
   "metadata": {},
   "outputs": [
    {
     "data": {
      "text/plain": [
       "Network(\n",
       "  (hidden): Linear(in_features=784, out_features=256, bias=True)\n",
       "  (output): Linear(in_features=256, out_features=10, bias=True)\n",
       "  (sigmoid): Sigmoid()\n",
       "  (softmax): Softmax(dim=1)\n",
       ")"
      ]
     },
     "execution_count": 16,
     "metadata": {},
     "output_type": "execute_result"
    }
   ],
   "source": [
    "# Create the network and look at it's text representation\n",
    "model = Network()\n",
    "model"
   ]
  },
  {
   "cell_type": "markdown",
   "metadata": {},
   "source": [
    "You can define the network somewhat more concisely and clearly using the `torch.nn.functional` module. This is the most common way you'll see networks defined as many operations are simple element-wise functions. We normally import this module as `F`, `import torch.nn.functional as F`."
   ]
  },
  {
   "cell_type": "code",
   "execution_count": 17,
   "metadata": {},
   "outputs": [],
   "source": [
    "import torch.nn.functional as F\n",
    "\n",
    "class Network(nn.Module):\n",
    "    def __init__(self):\n",
    "        super().__init__()\n",
    "        # Inputs to hidden layer linear transformation\n",
    "        self.hidden = nn.Linear(784, 256)\n",
    "        # Output layer, 10 units - one for each digit\n",
    "        self.output = nn.Linear(256, 10)\n",
    "        \n",
    "    def forward(self, x):\n",
    "        # Hidden layer with sigmoid activation\n",
    "        x = F.sigmoid(self.hidden(x))\n",
    "        # Output layer with softmax activation\n",
    "        x = F.softmax(self.output(x), dim=1)\n",
    "        \n",
    "        return x"
   ]
  },
  {
   "cell_type": "markdown",
   "metadata": {},
   "source": [
    "### Activation functions\n",
    "\n",
    "So far we've only been looking at the softmax activation, but in general any function can be used as an activation function. The only requirement is that for a network to approximate a non-linear function, the activation functions must be non-linear. Here are a few more examples of common activation functions: Tanh (hyperbolic tangent), and ReLU (rectified linear unit).\n",
    "\n",
    "<img src=\"assets/activation.png\" width=700px>\n",
    "\n",
    "In practice, the ReLU function is used almost exclusively as the activation function for hidden layers."
   ]
  },
  {
   "cell_type": "markdown",
   "metadata": {},
   "source": [
    "### Your Turn to Build a Network\n",
    "\n",
    "<img src=\"assets/mlp_mnist.png\" width=600px>\n",
    "\n",
    "> **Exercise:** Create a network with 784 input units, a hidden layer with 128 units and a ReLU activation, then a hidden layer with 64 units and a ReLU activation, and finally an output layer with a softmax activation as shown above. You can use a ReLU activation with the `nn.ReLU` module or `F.relu` function."
   ]
  },
  {
   "cell_type": "code",
   "execution_count": 18,
   "metadata": {
    "scrolled": true
   },
   "outputs": [],
   "source": [
    "## Your solution here\n",
    "import torch.nn.functional as F\n",
    "class Network(nn.Module):\n",
    "    def __init__(self):\n",
    "        super().__init__()\n",
    "        self.fc1=nn.Linear(784,128)\n",
    "        self.fc2=nn.Linear(128,64)\n",
    "        self.output=nn.Linear(64,10)\n",
    "        \n",
    "    def forward(self,x):\n",
    "        x=F.relu(self.fc1(x))\n",
    "        x=F.relu(self.fc2(x))\n",
    "        x=F.softmax(self.output(x),dim=1)\n",
    "    \n",
    "        return x\n",
    "    \n",
    "model= Network()"
   ]
  },
  {
   "cell_type": "markdown",
   "metadata": {},
   "source": [
    "### Initializing weights and biases\n",
    "\n",
    "The weights and such are automatically initialized for you, but it's possible to customize how they are initialized. The weights and biases are tensors attached to the layer you defined, you can get them with `model.fc1.weight` for instance."
   ]
  },
  {
   "cell_type": "code",
   "execution_count": 19,
   "metadata": {},
   "outputs": [
    {
     "name": "stdout",
     "output_type": "stream",
     "text": [
      "Parameter containing:\n",
      "tensor([[ 0.0299,  0.0055,  0.0183,  ...,  0.0106, -0.0182,  0.0107],\n",
      "        [ 0.0102,  0.0111, -0.0091,  ...,  0.0294,  0.0276, -0.0234],\n",
      "        [-0.0141, -0.0234, -0.0299,  ...,  0.0042, -0.0300,  0.0039],\n",
      "        ...,\n",
      "        [ 0.0325,  0.0004,  0.0133,  ..., -0.0276, -0.0205,  0.0105],\n",
      "        [ 0.0042, -0.0059, -0.0331,  ..., -0.0176, -0.0084, -0.0220],\n",
      "        [ 0.0107, -0.0126, -0.0012,  ..., -0.0247,  0.0128,  0.0295]],\n",
      "       requires_grad=True)\n",
      "Parameter containing:\n",
      "tensor([-0.0271,  0.0242, -0.0248,  0.0301, -0.0085,  0.0193, -0.0104, -0.0064,\n",
      "         0.0303, -0.0221,  0.0331, -0.0168, -0.0266, -0.0332,  0.0258, -0.0157,\n",
      "        -0.0187, -0.0042,  0.0329,  0.0267, -0.0322, -0.0048, -0.0180, -0.0036,\n",
      "         0.0189, -0.0184,  0.0231,  0.0298,  0.0157,  0.0206, -0.0021, -0.0265,\n",
      "        -0.0283, -0.0172, -0.0324, -0.0182,  0.0174, -0.0077, -0.0057, -0.0033,\n",
      "        -0.0291,  0.0015, -0.0028, -0.0081,  0.0296, -0.0244,  0.0267,  0.0294,\n",
      "        -0.0269,  0.0075, -0.0318, -0.0199,  0.0165,  0.0322,  0.0184, -0.0105,\n",
      "         0.0215,  0.0337,  0.0040, -0.0147,  0.0163,  0.0300, -0.0152, -0.0245,\n",
      "         0.0017,  0.0335, -0.0112, -0.0304,  0.0172,  0.0198,  0.0312,  0.0222,\n",
      "        -0.0220,  0.0136,  0.0024, -0.0076, -0.0165,  0.0221, -0.0041, -0.0166,\n",
      "        -0.0039, -0.0354, -0.0161,  0.0094, -0.0314, -0.0328, -0.0261, -0.0183,\n",
      "         0.0217, -0.0223, -0.0011,  0.0355,  0.0169, -0.0030,  0.0249, -0.0017,\n",
      "        -0.0275, -0.0070, -0.0198, -0.0157, -0.0267,  0.0182,  0.0175, -0.0299,\n",
      "        -0.0116,  0.0049, -0.0340, -0.0002, -0.0221,  0.0328,  0.0151, -0.0176,\n",
      "        -0.0354, -0.0157,  0.0187,  0.0258, -0.0108, -0.0225, -0.0298,  0.0072,\n",
      "        -0.0258, -0.0137, -0.0297,  0.0035, -0.0015, -0.0283, -0.0206,  0.0038],\n",
      "       requires_grad=True)\n"
     ]
    }
   ],
   "source": [
    "print(model.fc1.weight)\n",
    "print(model.fc1.bias)"
   ]
  },
  {
   "cell_type": "markdown",
   "metadata": {},
   "source": [
    "For custom initialization, we want to modify these tensors in place. These are actually autograd *Variables*, so we need to get back the actual tensors with `model.fc1.weight.data`. Once we have the tensors, we can fill them with zeros (for biases) or random normal values."
   ]
  },
  {
   "cell_type": "code",
   "execution_count": 20,
   "metadata": {},
   "outputs": [
    {
     "data": {
      "text/plain": [
       "tensor([0., 0., 0., 0., 0., 0., 0., 0., 0., 0., 0., 0., 0., 0., 0., 0., 0., 0., 0., 0., 0., 0., 0., 0.,\n",
       "        0., 0., 0., 0., 0., 0., 0., 0., 0., 0., 0., 0., 0., 0., 0., 0., 0., 0., 0., 0., 0., 0., 0., 0.,\n",
       "        0., 0., 0., 0., 0., 0., 0., 0., 0., 0., 0., 0., 0., 0., 0., 0., 0., 0., 0., 0., 0., 0., 0., 0.,\n",
       "        0., 0., 0., 0., 0., 0., 0., 0., 0., 0., 0., 0., 0., 0., 0., 0., 0., 0., 0., 0., 0., 0., 0., 0.,\n",
       "        0., 0., 0., 0., 0., 0., 0., 0., 0., 0., 0., 0., 0., 0., 0., 0., 0., 0., 0., 0., 0., 0., 0., 0.,\n",
       "        0., 0., 0., 0., 0., 0., 0., 0.])"
      ]
     },
     "execution_count": 20,
     "metadata": {},
     "output_type": "execute_result"
    }
   ],
   "source": [
    "# Set biases to all zeros\n",
    "model.fc1.bias.data.fill_(0)"
   ]
  },
  {
   "cell_type": "code",
   "execution_count": 21,
   "metadata": {},
   "outputs": [
    {
     "data": {
      "text/plain": [
       "tensor([[ 0.0105,  0.0082, -0.0002,  ...,  0.0049, -0.0044, -0.0092],\n",
       "        [ 0.0225, -0.0226,  0.0177,  ..., -0.0217, -0.0144, -0.0060],\n",
       "        [-0.0133,  0.0010,  0.0008,  ..., -0.0116, -0.0216, -0.0072],\n",
       "        ...,\n",
       "        [ 0.0015,  0.0022, -0.0047,  ..., -0.0091,  0.0003,  0.0012],\n",
       "        [ 0.0010,  0.0064, -0.0108,  ..., -0.0081, -0.0099,  0.0120],\n",
       "        [-0.0019, -0.0053, -0.0005,  ...,  0.0039,  0.0073,  0.0145]])"
      ]
     },
     "execution_count": 21,
     "metadata": {},
     "output_type": "execute_result"
    }
   ],
   "source": [
    "# sample from random normal with standard dev = 0.01\n",
    "model.fc1.weight.data.normal_(std=0.01)"
   ]
  },
  {
   "cell_type": "markdown",
   "metadata": {},
   "source": [
    "### Forward pass\n",
    "\n",
    "Now that we have a network, let's see what happens when we pass in an image."
   ]
  },
  {
   "cell_type": "code",
   "execution_count": 22,
   "metadata": {},
   "outputs": [
    {
     "data": {
      "image/png": "[encoded data removed]",
      "text/plain": [
       "<Figure size 432x648 with 2 Axes>"
      ]
     },
     "metadata": {
      "image/png": {
       "height": 235,
       "width": 424
      },
      "needs_background": "light"
     },
     "output_type": "display_data"
    }
   ],
   "source": [
    "# Grab some data \n",
    "dataiter = iter(trainloader)\n",
    "images, labels = dataiter.next()\n",
    "\n",
    "# Resize images into a 1D vector, new shape is (batch size, color channels, image pixels) \n",
    "images.resize_(64, 1, 784)\n",
    "# or images.resize_(images.shape[0], 1, 784) to automatically get batch size\n",
    "\n",
    "# Forward pass through the network\n",
    "img_idx = 0\n",
    "ps = model.forward(images[img_idx,:])\n",
    "\n",
    "img = images[img_idx]\n",
    "helper.view_classify(img.view(1, 28, 28), ps)"
   ]
  },
  {
   "cell_type": "markdown",
   "metadata": {},
   "source": [
    "As you can see above, our network has basically no idea what this digit is. It's because we haven't trained it yet, all the weights are random!\n",
    "\n",
    "### Using `nn.Sequential`\n",
    "\n",
    "PyTorch provides a convenient way to build networks like this where a tensor is passed sequentially through operations, `nn.Sequential` ([documentation](https://pytorch.org/docs/master/nn.html#torch.nn.Sequential)). Using this to build the equivalent network:"
   ]
  },
  {
   "cell_type": "code",
   "execution_count": 23,
   "metadata": {},
   "outputs": [
    {
     "name": "stdout",
     "output_type": "stream",
     "text": [
      "Sequential(\n",
      "  (0): Linear(in_features=784, out_features=128, bias=True)\n",
      "  (1): ReLU()\n",
      "  (2): Linear(in_features=128, out_features=64, bias=True)\n",
      "  (3): ReLU()\n",
      "  (4): Linear(in_features=64, out_features=10, bias=True)\n",
      "  (5): Softmax(dim=1)\n",
      ")\n"
     ]
    },
    {
     "data": {
      "image/png": "[encoded data removed]",
      "text/plain": [
       "<Figure size 432x648 with 2 Axes>"
      ]
     },
     "metadata": {
      "image/png": {
       "height": 235,
       "width": 424
      },
      "needs_background": "light"
     },
     "output_type": "display_data"
    }
   ],
   "source": [
    "# Hyperparameters for our network\n",
    "input_size = 784\n",
    "hidden_sizes = [128, 64]\n",
    "output_size = 10\n",
    "\n",
    "# Build a feed-forward network\n",
    "model = nn.Sequential(nn.Linear(input_size, hidden_sizes[0]),\n",
    "                      nn.ReLU(),\n",
    "                      nn.Linear(hidden_sizes[0], hidden_sizes[1]),\n",
    "                      nn.ReLU(),\n",
    "                      nn.Linear(hidden_sizes[1], output_size),\n",
    "                      nn.Softmax(dim=1))\n",
    "print(model)\n",
    "\n",
    "# Forward pass through the network and display output\n",
    "images, labels = next(iter(trainloader))\n",
    "images.resize_(images.shape[0], 1, 784)\n",
    "ps = model.forward(images[0,:])\n",
    "helper.view_classify(images[0].view(1, 28, 28), ps)"
   ]
  },
  {
   "cell_type": "markdown",
   "metadata": {},
   "source": [
    "Here our model is the same as before: 784 input units, a hidden layer with 128 units, ReLU activation, 64 unit hidden layer, another ReLU, then the output layer with 10 units, and the softmax output.\n",
    "\n",
    "The operations are availble by passing in the appropriate index. For example, if you want to get first Linear operation and look at the weights, you'd use `model[0]`."
   ]
  },
  {
   "cell_type": "code",
   "execution_count": 24,
   "metadata": {},
   "outputs": [
    {
     "name": "stdout",
     "output_type": "stream",
     "text": [
      "Linear(in_features=784, out_features=128, bias=True)\n"
     ]
    },
    {
     "data": {
      "text/plain": [
       "Parameter containing:\n",
       "tensor([[ 0.0262, -0.0010,  0.0151,  ...,  0.0166, -0.0137,  0.0314],\n",
       "        [-0.0150, -0.0286, -0.0210,  ...,  0.0283, -0.0047,  0.0192],\n",
       "        [ 0.0096, -0.0340, -0.0119,  ...,  0.0030,  0.0280, -0.0029],\n",
       "        ...,\n",
       "        [-0.0120,  0.0037, -0.0046,  ...,  0.0289,  0.0195, -0.0125],\n",
       "        [ 0.0078,  0.0190,  0.0107,  ..., -0.0083, -0.0150,  0.0163],\n",
       "        [ 0.0309,  0.0211, -0.0086,  ...,  0.0028, -0.0030,  0.0103]],\n",
       "       requires_grad=True)"
      ]
     },
     "execution_count": 24,
     "metadata": {},
     "output_type": "execute_result"
    }
   ],
   "source": [
    "print(model[0])\n",
    "model[0].weight"
   ]
  },
  {
   "cell_type": "markdown",
   "metadata": {},
   "source": [
    "You can also pass in an `OrderedDict` to name the individual layers and operations, instead of using incremental integers. Note that dictionary keys must be unique, so _each operation must have a different name_."
   ]
  },
  {
   "cell_type": "code",
   "execution_count": 25,
   "metadata": {},
   "outputs": [
    {
     "data": {
      "text/plain": [
       "Sequential(\n",
       "  (fc1): Linear(in_features=784, out_features=128, bias=True)\n",
       "  (relu1): ReLU()\n",
       "  (fc2): Linear(in_features=128, out_features=64, bias=True)\n",
       "  (relu2): ReLU()\n",
       "  (output): Linear(in_features=64, out_features=10, bias=True)\n",
       "  (softmax): Softmax(dim=1)\n",
       ")"
      ]
     },
     "execution_count": 25,
     "metadata": {},
     "output_type": "execute_result"
    }
   ],
   "source": [
    "from collections import OrderedDict\n",
    "model = nn.Sequential(OrderedDict([\n",
    "                      ('fc1', nn.Linear(input_size, hidden_sizes[0])),\n",
    "                      ('relu1', nn.ReLU()),\n",
    "                      ('fc2', nn.Linear(hidden_sizes[0], hidden_sizes[1])),\n",
    "                      ('relu2', nn.ReLU()),\n",
    "                      ('output', nn.Linear(hidden_sizes[1], output_size)),\n",
    "                      ('softmax', nn.Softmax(dim=1))]))\n",
    "model"
   ]
  },
  {
   "cell_type": "markdown",
   "metadata": {},
   "source": [
    "Now you can access layers either by integer or the name"
   ]
  },
  {
   "cell_type": "code",
   "execution_count": 26,
   "metadata": {},
   "outputs": [
    {
     "name": "stdout",
     "output_type": "stream",
     "text": [
      "Linear(in_features=784, out_features=128, bias=True)\n",
      "Linear(in_features=784, out_features=128, bias=True)\n"
     ]
    }
   ],
   "source": [
    "print(model[0])\n",
    "print(model.fc1)"
   ]
  },
  {
   "cell_type": "markdown",
   "metadata": {},
   "source": [
    "In the next notebook, we'll see how we can train a neural network to accuractly predict the numbers appearing in the MNIST images."
   ]
  }
 ],
 "metadata": {
  "kernelspec": {
   "display_name": "Python 3",
   "language": "python",
   "name": "python3"
  },
  "language_info": {
   "codemirror_mode": {
    "name": "ipython",
    "version": 3
   },
   "file_extension": ".py",
   "mimetype": "text/x-python",
   "name": "python",
   "nbconvert_exporter": "python",
   "pygments_lexer": "ipython3",
   "version": "3.7.7"
  }
 },
 "nbformat": 4,
 "nbformat_minor": 2
}
