{
 "cells": [
  {
   "cell_type": "markdown",
   "metadata": {},
   "source": [
    "# Neural networks with PyTorch\n",
    "\n",
    "Deep learning networks tend to be massive with dozens or hundreds of layers, that's where the term \"deep\" comes from. You can build one of these deep networks using only weight matrices as we did in the previous notebook, but in general it's very cumbersome and difficult to implement. PyTorch has a nice module `nn` that provides a nice way to efficiently build large neural networks."
   ]
  },
  {
   "cell_type": "code",
   "execution_count": 1,
   "metadata": {},
   "outputs": [],
   "source": [
    "# Import necessary packages\n",
    "\n",
    "%matplotlib inline\n",
    "%config InlineBackend.figure_format = 'retina'\n",
    "\n",
    "import numpy as np\n",
    "import torch\n",
    "\n",
    "import helper\n",
    "\n",
    "import matplotlib.pyplot as plt"
   ]
  },
  {
   "cell_type": "markdown",
   "metadata": {},
   "source": [
    "\n",
    "Now we're going to build a larger network that can solve a (formerly) difficult problem, identifying text in an image. Here we'll use the MNIST dataset which consists of greyscale handwritten digits. Each image is 28x28 pixels, you can see a sample below\n",
    "\n",
    "<img src='assets/mnist.png'>\n",
    "\n",
    "Our goal is to build a neural network that can take one of these images and predict the digit in the image.\n",
    "\n",
    "First up, we need to get our dataset. This is provided through the `torchvision` package. The code below will download the MNIST dataset, then create training and test datasets for us. Don't worry too much about the details here, you'll learn more about this later."
   ]
  },
  {
   "cell_type": "code",
   "execution_count": 2,
   "metadata": {},
   "outputs": [],
   "source": [
    "### Run this cell\n",
    "\n",
    "from torchvision import datasets, transforms\n",
    "\n",
    "# Define a transform to normalize the data\n",
    "transform = transforms.Compose([transforms.ToTensor(),\n",
    "                              transforms.Normalize((0.5,), (0.5,)),\n",
    "                              ])\n",
    "\n",
    "# Download and load the training data\n",
    "trainset = datasets.MNIST('~/.pytorch/MNIST_data/', download=True, train=True, transform=transform)\n",
    "trainloader = torch.utils.data.DataLoader(trainset, batch_size=64, shuffle=True)"
   ]
  },
  {
   "cell_type": "code",
   "execution_count": 3,
   "metadata": {},
   "outputs": [
    {
     "data": {
      "text/plain": [
       "<torch.utils.data.dataloader.DataLoader at 0x1ce05abc6c8>"
      ]
     },
     "execution_count": 3,
     "metadata": {},
     "output_type": "execute_result"
    }
   ],
   "source": [
    "trainloader"
   ]
  },
  {
   "cell_type": "markdown",
   "metadata": {},
   "source": [
    "We have the training data loaded into `trainloader` and we make that an iterator with `iter(trainloader)`. Later, we'll use this to loop through the dataset for training, like\n",
    "\n",
    "```python\n",
    "for image, label in trainloader:\n",
    "    ## do things with images and labels\n",
    "```\n",
    "\n",
    "You'll notice I created the `trainloader` with a batch size of 64, and `shuffle=True`. The batch size is the number of images we get in one iteration from the data loader and pass through our network, often called a *batch*. And `shuffle=True` tells it to shuffle the dataset every time we start going through the data loader again. But here I'm just grabbing the first batch so we can check out the data. We can see below that `images` is just a tensor with size `(64, 1, 28, 28)`. So, 64 images per batch, 1 color channel, and 28x28 images."
   ]
  },
  {
   "cell_type": "code",
   "execution_count": 4,
   "metadata": {},
   "outputs": [
    {
     "name": "stdout",
     "output_type": "stream",
     "text": [
      "<class 'torch.Tensor'>\n",
      "torch.Size([64, 1, 28, 28])\n",
      "torch.Size([64])\n"
     ]
    }
   ],
   "source": [
    "dataiter = iter(trainloader)\n",
    "images, labels = dataiter.next()\n",
    "print(type(images))\n",
    "print(images.shape)\n",
    "print(labels.shape)"
   ]
  },
  {
   "cell_type": "code",
   "execution_count": 5,
   "metadata": {},
   "outputs": [
    {
     "data": {
      "text/plain": [
       "tensor([[[[-1., -1., -1.,  ..., -1., -1., -1.],\n",
       "          [-1., -1., -1.,  ..., -1., -1., -1.],\n",
       "          [-1., -1., -1.,  ..., -1., -1., -1.],\n",
       "          ...,\n",
       "          [-1., -1., -1.,  ..., -1., -1., -1.],\n",
       "          [-1., -1., -1.,  ..., -1., -1., -1.],\n",
       "          [-1., -1., -1.,  ..., -1., -1., -1.]]],\n",
       "\n",
       "\n",
       "        [[[-1., -1., -1.,  ..., -1., -1., -1.],\n",
       "          [-1., -1., -1.,  ..., -1., -1., -1.],\n",
       "          [-1., -1., -1.,  ..., -1., -1., -1.],\n",
       "          ...,\n",
       "          [-1., -1., -1.,  ..., -1., -1., -1.],\n",
       "          [-1., -1., -1.,  ..., -1., -1., -1.],\n",
       "          [-1., -1., -1.,  ..., -1., -1., -1.]]],\n",
       "\n",
       "\n",
       "        [[[-1., -1., -1.,  ..., -1., -1., -1.],\n",
       "          [-1., -1., -1.,  ..., -1., -1., -1.],\n",
       "          [-1., -1., -1.,  ..., -1., -1., -1.],\n",
       "          ...,\n",
       "          [-1., -1., -1.,  ..., -1., -1., -1.],\n",
       "          [-1., -1., -1.,  ..., -1., -1., -1.],\n",
       "          [-1., -1., -1.,  ..., -1., -1., -1.]]],\n",
       "\n",
       "\n",
       "        ...,\n",
       "\n",
       "\n",
       "        [[[-1., -1., -1.,  ..., -1., -1., -1.],\n",
       "          [-1., -1., -1.,  ..., -1., -1., -1.],\n",
       "          [-1., -1., -1.,  ..., -1., -1., -1.],\n",
       "          ...,\n",
       "          [-1., -1., -1.,  ..., -1., -1., -1.],\n",
       "          [-1., -1., -1.,  ..., -1., -1., -1.],\n",
       "          [-1., -1., -1.,  ..., -1., -1., -1.]]],\n",
       "\n",
       "\n",
       "        [[[-1., -1., -1.,  ..., -1., -1., -1.],\n",
       "          [-1., -1., -1.,  ..., -1., -1., -1.],\n",
       "          [-1., -1., -1.,  ..., -1., -1., -1.],\n",
       "          ...,\n",
       "          [-1., -1., -1.,  ..., -1., -1., -1.],\n",
       "          [-1., -1., -1.,  ..., -1., -1., -1.],\n",
       "          [-1., -1., -1.,  ..., -1., -1., -1.]]],\n",
       "\n",
       "\n",
       "        [[[-1., -1., -1.,  ..., -1., -1., -1.],\n",
       "          [-1., -1., -1.,  ..., -1., -1., -1.],\n",
       "          [-1., -1., -1.,  ..., -1., -1., -1.],\n",
       "          ...,\n",
       "          [-1., -1., -1.,  ..., -1., -1., -1.],\n",
       "          [-1., -1., -1.,  ..., -1., -1., -1.],\n",
       "          [-1., -1., -1.,  ..., -1., -1., -1.]]]])"
      ]
     },
     "execution_count": 5,
     "metadata": {},
     "output_type": "execute_result"
    }
   ],
   "source": [
    "images"
   ]
  },
  {
   "cell_type": "markdown",
   "metadata": {},
   "source": [
    "This is what one of the images looks like. "
   ]
  },
  {
   "cell_type": "code",
   "execution_count": 6,
   "metadata": {},
   "outputs": [
    {
     "data": {
      "image/png": "[encoded data removed]",
      "text/plain": [
       "<Figure size 432x288 with 1 Axes>"
      ]
     },
     "metadata": {
      "image/png": {
       "height": 248,
       "width": 251
      },
      "needs_background": "light"
     },
     "output_type": "display_data"
    }
   ],
   "source": [
    "plt.imshow(images[0,:].numpy().squeeze(), cmap='Greys_r');"
   ]
  },
  {
   "cell_type": "markdown",
   "metadata": {},
   "source": [
    "First, let's try to build a simple network for this dataset using weight matrices and matrix multiplications. Then, we'll see how to do it using PyTorch's `nn` module which provides a much more convenient and powerful method for defining network architectures.\n",
    "\n",
    "The networks you've seen so far are called *fully-connected* or *dense* networks. Each unit in one layer is connected to each unit in the next layer. In fully-connected networks, the input to each layer must be a one-dimensional vector (which can be stacked into a 2D tensor as a batch of multiple examples). However, our images are 28x28 2D tensors, so we need to convert them into 1D vectors. Thinking about sizes, we need to convert the batch of images with shape `(64, 1, 28, 28)` to a have a shape of `(64, 784)`, 784 is 28 times 28. This is typically called *flattening*, we flattened the 2D images into 1D vectors.\n",
    "\n",
    "Previously you built a network with one output unit. Here we need 10 output units, one for each digit. We want our network to predict the digit shown in an image, so what we'll do is calculate probabilities that the image is of any one digit or class. This ends up being a discrete probability distribution over the classes (digits) that tells us the most likely class for the image. That means we need 10 output units for the 10 classes (digits). We'll see how to convert the network output into a probability distribution next.\n",
    "\n",
    "> **Exercise:** Flatten the batch of images `images`. Then build a multi-layer network with 784 input units, 256 hidden units, and 10 output units using random tensors for the weights and biases. For now, use a sigmoid activation for the hidden layer. Leave the output layer without an activation, we'll add one that gives us a probability distribution next."
   ]
  },
  {
   "cell_type": "code",
   "execution_count": 7,
   "metadata": {
    "scrolled": true
   },
   "outputs": [
    {
     "data": {
      "text/plain": [
       "torch.Size([64, 784])"
      ]
     },
     "execution_count": 7,
     "metadata": {},
     "output_type": "execute_result"
    }
   ],
   "source": [
    "inputs=images.view(64,784)\n",
    "inputs.shape"
   ]
  },
  {
   "cell_type": "code",
   "execution_count": 8,
   "metadata": {},
   "outputs": [],
   "source": [
    "n_input=inputs.shape[1]\n",
    "n_hidden=256\n",
    "n_output=10"
   ]
  },
  {
   "cell_type": "code",
   "execution_count": 9,
   "metadata": {},
   "outputs": [],
   "source": [
    "input_hidden_weight=torch.randn((n_input,n_hidden))\n",
    "hidden_output_weight=torch.randn((n_hidden,n_output))\n",
    "input_hidden_bais=torch.randn(n_hidden)\n",
    "hidden_output_bais=torch.randn(n_output)"
   ]
  },
  {
   "cell_type": "code",
   "execution_count": 10,
   "metadata": {},
   "outputs": [],
   "source": [
    "def sigmoid(x):\n",
    "    return 1/(1+torch.exp(-x))"
   ]
  },
  {
   "cell_type": "code",
   "execution_count": 11,
   "metadata": {},
   "outputs": [
    {
     "data": {
      "text/plain": [
       "torch.Size([64, 256])"
      ]
     },
     "execution_count": 11,
     "metadata": {},
     "output_type": "execute_result"
    }
   ],
   "source": [
    "h_result=sigmoid(torch.mm(inputs,input_hidden_weight)+input_hidden_bais)\n",
    "h_result.shape"
   ]
  },
  {
   "cell_type": "code",
   "execution_count": 12,
   "metadata": {},
   "outputs": [
    {
     "name": "stdout",
     "output_type": "stream",
     "text": [
      "torch.Size([64, 10])\n"
     ]
    },
    {
     "data": {
      "text/plain": [
       "tensor([[-1.4991e+01, -2.6565e+00,  7.9354e+00, -7.3822e+00, -2.4085e+01,\n",
       "          8.8145e-01,  1.0286e+00,  1.2032e+01, -1.5770e+01, -1.4652e+01],\n",
       "        [-5.7257e-01,  1.5328e+00,  5.5118e+00, -6.8084e+00, -1.6293e+01,\n",
       "         -8.1745e+00, -6.4527e+00,  7.8696e+00, -3.9194e+00, -1.9209e+01],\n",
       "        [-1.5872e+01, -2.5274e+00, -2.7823e+00, -1.4941e+01, -2.7951e+01,\n",
       "         -5.2413e+00, -1.0887e+00,  8.9672e+00, -1.1190e+01, -1.3439e+01],\n",
       "        [-1.0859e+01, -3.3662e+00, -5.0239e-02, -1.3913e+01, -8.9235e+00,\n",
       "         -1.5811e+00, -4.2176e+00,  1.5675e+01, -1.4935e+01, -1.1360e+01],\n",
       "        [-1.4513e+01, -1.8923e+00, -7.6440e+00, -1.7992e+01, -2.5440e+01,\n",
       "         -4.0178e+00, -4.3217e+00,  2.5189e+01, -1.0573e+01, -1.5877e+01],\n",
       "        [-1.0264e+00, -1.1137e+00,  9.2278e+00, -1.0220e+01, -1.3135e+01,\n",
       "         -9.6024e-01, -9.9835e+00,  2.1831e+01, -1.0271e+01, -5.9755e+00],\n",
       "        [-7.6102e+00, -3.9121e+00,  1.3335e+00, -2.2211e+01, -2.7140e+01,\n",
       "          1.1561e+00, -8.7171e+00,  1.7967e+01, -9.2207e+00,  1.2660e+00],\n",
       "        [-1.1956e+01, -5.6955e-01, -5.9988e+00, -1.5334e+01, -1.2530e+01,\n",
       "         -5.1947e+00, -3.6744e+00,  2.4989e+01, -7.7392e+00, -7.6740e+00],\n",
       "        [-1.4969e+01, -2.1882e+01, -7.0522e+00,  3.0322e+00, -1.8525e+01,\n",
       "         -9.3976e-01, -9.7739e+00,  1.8934e+01, -9.8493e+00, -9.4517e+00],\n",
       "        [-1.0274e+01, -2.6882e+00, -1.5179e-01, -1.0738e+01, -2.4814e+01,\n",
       "         -5.3051e+00, -7.7574e+00,  1.4768e+01, -1.3689e+01, -1.2632e+01],\n",
       "        [-1.1508e+01, -6.8703e+00, -1.0137e+01, -1.0260e+01, -2.9877e+01,\n",
       "         -2.9998e+00, -1.3462e+01,  1.7464e+01, -4.8802e+00, -2.0157e+01],\n",
       "        [-9.2710e+00, -9.7289e-01, -5.9988e+00, -1.6159e+01, -8.4543e+00,\n",
       "         -5.5611e+00, -1.2143e+01,  1.6498e+01, -6.2549e+00, -6.9589e-01],\n",
       "        [-1.0332e+01, -7.9322e+00,  1.5153e+00, -5.9281e+00, -2.0746e+01,\n",
       "         -1.5081e+01, -3.8628e+00,  1.4928e+01, -5.8020e+00, -1.4465e+01],\n",
       "        [-1.4402e+01,  1.0899e+00, -3.8233e+00, -1.6878e+01, -9.8775e+00,\n",
       "         -3.0253e+00, -1.1417e+01,  9.7260e+00, -7.8604e+00, -3.1194e+00],\n",
       "        [-8.2296e+00, -4.4752e+00, -5.5855e+00, -2.3263e+01, -1.4873e+01,\n",
       "         -3.1188e+00, -1.1630e+01,  1.7907e+01, -7.8031e+00, -1.2319e+01],\n",
       "        [-7.6335e+00,  3.3125e-01, -1.3922e+01, -1.7371e+01, -1.4726e+01,\n",
       "         -4.4316e+00, -8.6174e-01,  1.6168e+01, -1.2782e+01, -1.7971e+01],\n",
       "        [-5.5096e+00,  6.2158e-02, -1.2284e+00, -2.1021e+01, -1.9694e+01,\n",
       "         -1.4327e+00, -3.8004e+00,  1.6597e+01, -1.4747e+01, -1.1985e+01],\n",
       "        [-2.6669e+00,  1.2125e+00,  2.1821e+00, -6.5654e+00, -2.3932e+01,\n",
       "          1.1703e+00, -7.7624e+00,  2.0089e+01, -1.2864e+01, -1.8884e+01],\n",
       "        [-1.1253e+01, -2.3208e+00,  4.0182e+00, -7.9506e+00, -2.2838e+01,\n",
       "         -9.7719e+00, -9.2573e+00,  1.2435e+01, -1.7762e+01, -8.4997e+00],\n",
       "        [-3.6096e+00, -4.4754e-01, -1.0947e+00, -1.4076e+01, -2.0941e+01,\n",
       "         -3.0069e+00, -6.0822e+00,  1.3731e+01, -9.8472e+00, -1.5514e+01],\n",
       "        [-6.6968e+00, -4.8320e+00, -1.4000e+01, -1.1696e+01, -1.5020e+01,\n",
       "         -2.4303e-01, -3.4469e+00,  2.8596e+01, -7.6822e+00, -1.0205e+01],\n",
       "        [-7.8969e+00,  8.3946e-01, -6.8991e+00, -1.2466e+01, -1.8531e+01,\n",
       "         -8.6629e+00,  9.2438e-01,  1.7146e+01, -1.0209e+01, -1.3266e+01],\n",
       "        [-8.0559e+00,  1.5109e+00, -3.0669e+00, -1.3116e+01, -1.6423e+01,\n",
       "         -9.1519e-01, -2.5321e+00,  1.8489e+01, -1.3682e+01, -5.9373e+00],\n",
       "        [-2.5846e+00,  4.2409e+00, -4.0876e+00, -2.3271e+01, -3.8394e+01,\n",
       "         -1.7119e+00, -6.4846e+00,  2.1983e+01, -1.8161e+00, -1.4539e+01],\n",
       "        [-5.4733e+00, -1.7060e+01, -5.2211e+00, -1.7816e+01, -1.5619e+01,\n",
       "         -2.5009e-02, -1.2586e+01,  1.5506e+01, -2.3923e+00, -4.6622e+00],\n",
       "        [-1.2161e+01, -1.0596e+01, -9.8334e+00, -8.3034e+00, -2.2669e+01,\n",
       "          1.6162e+00, -1.6180e+01,  1.5448e+01, -1.3339e+01, -1.5868e+01],\n",
       "        [ 6.0658e-01,  4.6309e+00, -8.0515e+00, -1.5616e+01, -1.9259e+01,\n",
       "         -2.5757e-01, -1.0720e+01,  1.0756e+01, -3.7292e+00, -1.6124e+01],\n",
       "        [-2.5801e+00, -9.7121e+00, -4.8675e+00, -1.1647e+01, -2.3862e+01,\n",
       "         -5.9179e+00, -1.5733e+01,  2.1204e+01, -8.3423e+00, -9.8147e+00],\n",
       "        [-4.7538e+00, -7.8776e+00, -9.7103e+00, -1.9841e+01, -2.0880e+01,\n",
       "         -1.2303e+00, -3.3679e+00,  2.0893e+01, -2.4459e+00, -4.1719e+00],\n",
       "        [-8.4616e+00, -4.9120e+00, -1.0086e+01, -1.1727e+00, -2.0366e+01,\n",
       "         -9.1615e+00, -1.3902e+00,  2.4444e+01, -3.5061e+00, -1.3149e+00],\n",
       "        [-6.1300e+00,  2.8419e+00, -3.3138e+00, -1.1722e+01, -1.3904e+01,\n",
       "         -8.7412e+00, -8.6753e+00,  1.3791e+01, -1.3683e+01, -8.0339e+00],\n",
       "        [-5.2477e+00, -2.4712e+00, -6.1715e+00, -1.7637e+01, -1.4397e+01,\n",
       "         -9.5018e+00, -7.8100e+00,  2.1969e+01, -8.6676e+00, -1.7017e+00],\n",
       "        [ 1.1327e+00, -4.9357e+00,  3.2525e-01, -1.8749e+01, -1.8871e+01,\n",
       "         -6.8572e+00, -1.1888e+01,  1.9994e+01, -7.9865e+00, -1.0672e+01],\n",
       "        [-9.2992e+00, -1.5194e+01, -1.4488e+01, -1.0553e+01, -3.4289e+01,\n",
       "         -9.1348e+00, -1.7055e+01,  1.7062e+01, -1.3275e+00,  2.6346e+00],\n",
       "        [-9.0528e+00, -1.2151e+01, -6.5350e+00, -1.6350e+01, -2.7867e+01,\n",
       "         -1.1752e+01, -9.3566e+00,  7.5079e+00, -1.1971e+00,  5.7458e+00],\n",
       "        [-5.7329e+00, -7.7078e+00, -1.1115e+00, -8.7542e+00, -2.0754e+01,\n",
       "          1.3695e+00, -1.4770e+01,  1.9329e+01, -1.4000e+01, -7.7631e+00],\n",
       "        [ 4.4755e+00, -4.9792e+00, -2.8078e+00, -1.9053e+01, -1.9717e+01,\n",
       "          3.2238e+00, -1.9536e+01,  2.5797e+01, -1.3631e+01, -1.2550e+01],\n",
       "        [-7.5679e+00, -5.1137e+00, -1.4684e+00, -7.7947e+00, -1.6159e+01,\n",
       "          1.8198e+00, -6.1361e+00,  1.2113e+01, -3.9097e+00, -1.6921e+01],\n",
       "        [-1.2490e+00, -5.5835e+00,  1.3455e+00, -1.6776e+01, -1.6864e+01,\n",
       "          9.3988e-01, -1.1014e+01,  7.2517e+00, -9.5410e+00, -1.8128e+01],\n",
       "        [-7.0419e+00, -7.6797e+00,  1.6167e+00, -1.1254e+01, -2.2518e+01,\n",
       "         -1.1128e+01, -3.9201e+00,  1.4775e+01, -5.4232e+00, -7.4838e+00],\n",
       "        [-6.5572e+00, -5.0455e+00,  2.7449e+00, -2.1295e+01, -2.1836e+01,\n",
       "         -2.5993e-01, -5.5573e+00,  1.4519e+01, -1.4145e+01, -5.3177e+00],\n",
       "        [-5.3989e+00,  7.5250e-01,  7.1360e-01, -1.2519e+01, -2.0826e+01,\n",
       "         -3.1735e+00, -7.0385e+00,  2.2111e+01, -4.2101e+00, -1.4923e+01],\n",
       "        [-1.5167e+01, -6.1864e+00,  4.9482e+00, -6.4311e+00, -2.6140e+01,\n",
       "          2.1724e+00, -9.3269e+00,  6.4671e+00, -2.4530e+00, -1.5557e+01],\n",
       "        [-8.1907e+00, -4.7949e-01,  4.0270e+00, -6.5164e+00, -2.2317e+01,\n",
       "         -1.1875e+01, -5.9194e+00,  2.1456e+01, -1.0540e+01, -1.2951e+01],\n",
       "        [-7.4767e+00, -1.3904e+01, -3.3045e+00, -1.2121e+01, -1.8911e+01,\n",
       "          5.9932e+00, -8.7918e+00,  1.4687e+01, -1.0873e+01, -1.4122e+01],\n",
       "        [ 1.3412e+00, -3.7547e+00, -1.0659e+01, -2.1112e+01, -1.5178e+01,\n",
       "          1.2910e+00, -1.5853e+01,  1.7616e+01, -3.5390e+00, -5.9615e+00],\n",
       "        [-9.9396e+00,  2.7769e+00, -1.1717e+00, -4.7676e+00, -1.9516e+01,\n",
       "         -4.0362e+00, -5.6389e+00,  2.5002e+01, -1.4844e+01, -1.3959e+01],\n",
       "        [-8.1675e+00, -7.3879e-01, -5.2548e+00, -2.1358e+01, -2.8868e+01,\n",
       "          4.2982e+00, -1.8529e+00,  1.1318e+01, -5.5094e+00, -9.0692e+00],\n",
       "        [-1.6676e+01,  3.2522e+00, -2.3937e+00, -5.4743e+00, -1.3427e+01,\n",
       "         -1.2027e+01,  5.2923e-01,  2.0110e+01, -1.0279e+01, -1.2180e+01],\n",
       "        [-1.6871e+01, -8.8780e+00,  5.4282e+00, -4.6314e+00, -1.5084e+01,\n",
       "         -1.5205e+00, -7.3953e+00,  2.2600e+01, -6.7491e+00, -1.0503e+01],\n",
       "        [-2.1068e+00, -8.3949e+00,  8.3424e+00, -1.9169e+01, -1.5258e+01,\n",
       "         -3.3455e+00, -8.9879e+00,  8.1286e+00, -9.4185e+00, -1.3693e+01],\n",
       "        [-8.6934e+00, -2.5028e+00,  6.4582e-01, -1.5040e+01, -2.3282e+01,\n",
       "          6.1532e+00, -1.4972e+01,  1.0819e+01, -8.8061e+00, -1.1716e+01],\n",
       "        [-3.2706e-02,  2.3825e+00, -4.5236e+00, -1.3183e+01, -1.0964e+01,\n",
       "          4.6328e+00, -5.1384e+00,  1.5850e+01, -8.9736e+00, -1.6517e+01],\n",
       "        [-9.4962e+00,  3.8076e-01, -8.2175e+00, -2.1855e+01, -2.3641e+01,\n",
       "          1.2471e+01, -1.2115e+00,  1.4995e+01, -7.8064e+00, -1.3673e+01],\n",
       "        [-1.0368e+01,  5.4493e+00, -5.9120e+00, -9.5794e+00, -2.0603e+01,\n",
       "         -3.1945e+00, -4.5255e+00,  1.5244e+01, -9.4258e+00, -1.6962e+01],\n",
       "        [-6.6246e+00, -5.8508e+00, -5.9547e+00, -7.0884e+00, -3.0174e+01,\n",
       "         -7.2814e+00, -4.3070e+00,  1.4969e+01, -1.0163e+00, -5.4893e+00],\n",
       "        [-9.2976e+00, -1.5907e+01, -1.2381e-01, -9.2159e+00, -2.4270e+01,\n",
       "         -9.2596e+00, -8.7743e+00,  2.0943e+01, -7.3772e+00, -1.8487e+00],\n",
       "        [-1.2106e+01,  8.3331e-01, -3.7349e+00, -1.0992e+01, -1.6652e+01,\n",
       "         -6.6467e+00, -7.4364e+00,  2.6065e+01, -5.1630e+00, -6.7247e+00],\n",
       "        [-9.8702e+00, -6.6019e-01, -1.7811e+00, -3.1579e+00, -1.9735e+01,\n",
       "          7.6773e+00, -1.0491e+01,  1.4873e+01, -1.1071e+01, -1.4459e+01],\n",
       "        [-1.1002e+01, -4.8999e+00,  1.3290e+00, -1.1978e+01, -1.7083e+01,\n",
       "          7.4807e-01, -1.6128e+01,  1.0596e+01, -7.6927e+00, -1.9563e+01],\n",
       "        [-3.9146e+00, -7.7916e-01,  2.2716e+00, -6.5767e+00, -1.3324e+01,\n",
       "         -8.5161e+00, -4.4929e+00,  1.4063e+01, -1.6370e+01, -1.5416e+00],\n",
       "        [-5.0411e+00, -1.0640e+01, -1.5642e+01, -5.7560e+00, -2.3140e+01,\n",
       "         -3.3883e+00, -7.7436e+00,  1.7908e+01, -7.4918e+00, -1.1417e+01],\n",
       "        [-4.8614e+00, -2.1215e+00,  4.8168e+00, -4.9684e+00, -2.2231e+01,\n",
       "         -1.2728e+01, -1.5002e+01,  2.2378e+01, -1.1796e+01, -7.5212e+00],\n",
       "        [-9.1220e+00, -3.7454e+00, -1.3333e+01, -1.4063e+01, -2.5970e+01,\n",
       "         -4.5921e+00, -1.5082e+01,  1.3873e+01, -8.5962e+00, -1.7304e+01]])"
      ]
     },
     "execution_count": 12,
     "metadata": {},
     "output_type": "execute_result"
    }
   ],
   "source": [
    "## Your solution\n",
    "\n",
    "out = torch.mm(h_result,hidden_output_weight)+hidden_output_bais# output of your network, should have shape (64,10)\n",
    "print(out.shape)\n",
    "out"
   ]
  },
  {
   "cell_type": "markdown",
   "metadata": {},
   "source": [
    "Now we have 10 outputs for our network. We want to pass in an image to our network and get out a probability distribution over the classes that tells us the likely class(es) the image belongs to. Something that looks like this:\n",
    "<img src='assets/image_distribution.png' width=500px>\n",
    "\n",
    "Here we see that the probability for each class is roughly the same. This is representing an untrained network, it hasn't seen any data yet so it just returns a uniform distribution with equal probabilities for each class.\n",
    "\n",
    "To calculate this probability distribution, we often use the [**softmax** function](https://en.wikipedia.org/wiki/Softmax_function). Mathematically this looks like\n",
    "\n",
    "$$\n",
    "\\Large \\sigma(x_i) = \\cfrac{e^{x_i}}{\\sum_k^K{e^{x_k}}}\n",
    "$$\n",
    "\n",
    "What this does is squish each input $x_i$ between 0 and 1 and normalizes the values to give you a proper probability distribution where the probabilites sum up to one.\n",
    "\n",
    "> **Exercise:** Implement a function `softmax` that performs the softmax calculation and returns probability distributions for each example in the batch. Note that you'll need to pay attention to the shapes when doing this. If you have a tensor `a` with shape `(64, 10)` and a tensor `b` with shape `(64,)`, doing `a/b` will give you an error because PyTorch will try to do the division across the columns (called broadcasting) but you'll get a size mismatch. The way to think about this is for each of the 64 examples, you only want to divide by one value, the sum in the denominator. So you need `b` to have a shape of `(64, 1)`. This way PyTorch will divide the 10 values in each row of `a` by the one value in each row of `b`. Pay attention to how you take the sum as well. You'll need to define the `dim` keyword in `torch.sum`. Setting `dim=0` takes the sum across the rows while `dim=1` takes the sum across the columns."
   ]
  },
  {
   "cell_type": "code",
   "execution_count": 13,
   "metadata": {},
   "outputs": [
    {
     "name": "stdout",
     "output_type": "stream",
     "text": [
      "torch.Size([64, 10])\n",
      "tensor([1.0000, 1.0000, 1.0000, 1.0000, 1.0000, 1.0000, 1.0000, 1.0000, 1.0000,\n",
      "        1.0000, 1.0000, 1.0000, 1.0000, 1.0000, 1.0000, 1.0000, 1.0000, 1.0000,\n",
      "        1.0000, 1.0000, 1.0000, 1.0000, 1.0000, 1.0000, 1.0000, 1.0000, 1.0000,\n",
      "        1.0000, 1.0000, 1.0000, 1.0000, 1.0000, 1.0000, 1.0000, 1.0000, 1.0000,\n",
      "        1.0000, 1.0000, 1.0000, 1.0000, 1.0000, 1.0000, 1.0000, 1.0000, 1.0000,\n",
      "        1.0000, 1.0000, 1.0000, 1.0000, 1.0000, 1.0000, 1.0000, 1.0000, 1.0000,\n",
      "        1.0000, 1.0000, 1.0000, 1.0000, 1.0000, 1.0000, 1.0000, 1.0000, 1.0000,\n",
      "        1.0000])\n"
     ]
    }
   ],
   "source": [
    "def softmax(x):\n",
    "    ## TODO: Implement the softmax function here\n",
    "    numerator=torch.exp(x)\n",
    "    denominator= torch.sum(numerator,dim=1).view(64,1)\n",
    "    return numerator/denominator\n",
    "# Here, out should be the output of the network in the previous excercise with shape (64,10)\n",
    "probabilities = softmax(out)\n",
    "\n",
    "# Does it have the right shape? Should be (64, 10)\n",
    "print(probabilities.shape)\n",
    "# Does it sum to 1?\n",
    "print(probabilities.sum(dim=1))"
   ]
  },
  {
   "cell_type": "markdown",
   "metadata": {},
   "source": [
    "## Building networks with PyTorch\n",
    "\n",
    "PyTorch provides a module `nn` that makes building networks much simpler. Here I'll show you how to build the same one as above with 784 inputs, 256 hidden units, 10 output units and a softmax output."
   ]
  },
  {
   "cell_type": "code",
   "execution_count": 14,
   "metadata": {},
   "outputs": [],
   "source": [
    "from torch import nn"
   ]
  },
  {
   "cell_type": "code",
   "execution_count": 15,
   "metadata": {},
   "outputs": [],
   "source": [
    "class Network(nn.Module):\n",
    "    def __init__(self):\n",
    "        super().__init__()\n",
    "        \n",
    "        # Inputs to hidden layer linear transformation\n",
    "        self.hidden = nn.Linear(784, 256)\n",
    "        # Output layer, 10 units - one for each digit\n",
    "        self.output = nn.Linear(256, 10)\n",
    "        \n",
    "        # Define sigmoid activation and softmax output \n",
    "        self.sigmoid = nn.Sigmoid()\n",
    "        self.softmax = nn.Softmax(dim=1)\n",
    "        \n",
    "    def forward(self, x):\n",
    "        # Pass the input tensor through each of our operations\n",
    "        x = self.hidden(x)\n",
    "        x = self.sigmoid(x)\n",
    "        x = self.output(x)\n",
    "        x = self.softmax(x)\n",
    "        \n",
    "        return x"
   ]
  },
  {
   "cell_type": "markdown",
   "metadata": {},
   "source": [
    "Let's go through this bit by bit.\n",
    "\n",
    "```python\n",
    "class Network(nn.Module):\n",
    "```\n",
    "\n",
    "Here we're inheriting from `nn.Module`. Combined with `super().__init__()` this creates a class that tracks the architecture and provides a lot of useful methods and attributes. It is mandatory to inherit from `nn.Module` when you're creating a class for your network. The name of the class itself can be anything.\n",
    "\n",
    "```python\n",
    "self.hidden = nn.Linear(784, 256)\n",
    "```\n",
    "\n",
    "This line creates a module for a linear transformation, $x\\mathbf{W} + b$, with 784 inputs and 256 outputs and assigns it to `self.hidden`. The module automatically creates the weight and bias tensors which we'll use in the `forward` method. You can access the weight and bias tensors once the network (`net`) is created with `net.hidden.weight` and `net.hidden.bias`.\n",
    "\n",
    "```python\n",
    "self.output = nn.Linear(256, 10)\n",
    "```\n",
    "\n",
    "Similarly, this creates another linear transformation with 256 inputs and 10 outputs.\n",
    "\n",
    "```python\n",
    "self.sigmoid = nn.Sigmoid()\n",
    "self.softmax = nn.Softmax(dim=1)\n",
    "```\n",
    "\n",
    "Here I defined operations for the sigmoid activation and softmax output. Setting `dim=1` in `nn.Softmax(dim=1)` calculates softmax across the columns.\n",
    "\n",
    "```python\n",
    "def forward(self, x):\n",
    "```\n",
    "\n",
    "PyTorch networks created with `nn.Module` must have a `forward` method defined. It takes in a tensor `x` and passes it through the operations you defined in the `__init__` method.\n",
    "\n",
    "```python\n",
    "x = self.hidden(x)\n",
    "x = self.sigmoid(x)\n",
    "x = self.output(x)\n",
    "x = self.softmax(x)\n",
    "```\n",
    "\n",
    "Here the input tensor `x` is passed through each operation a reassigned to `x`. We can see that the input tensor goes through the hidden layer, then a sigmoid function, then the output layer, and finally the softmax function. It doesn't matter what you name the variables here, as long as the inputs and outputs of the operations match the network architecture you want to build. The order in which you define things in the `__init__` method doesn't matter, but you'll need to sequence the operations correctly in the `forward` method.\n",
    "\n",
    "Now we can create a `Network` object."
   ]
  },
  {
   "cell_type": "code",
   "execution_count": 16,
   "metadata": {},
   "outputs": [
    {
     "data": {
      "text/plain": [
       "Network(\n",
       "  (hidden): Linear(in_features=784, out_features=256, bias=True)\n",
       "  (output): Linear(in_features=256, out_features=10, bias=True)\n",
       "  (sigmoid): Sigmoid()\n",
       "  (softmax): Softmax(dim=1)\n",
       ")"
      ]
     },
     "execution_count": 16,
     "metadata": {},
     "output_type": "execute_result"
    }
   ],
   "source": [
    "# Create the network and look at it's text representation\n",
    "model = Network()\n",
    "model"
   ]
  },
  {
   "cell_type": "markdown",
   "metadata": {},
   "source": [
    "You can define the network somewhat more concisely and clearly using the `torch.nn.functional` module. This is the most common way you'll see networks defined as many operations are simple element-wise functions. We normally import this module as `F`, `import torch.nn.functional as F`."
   ]
  },
  {
   "cell_type": "code",
   "execution_count": 17,
   "metadata": {},
   "outputs": [],
   "source": [
    "import torch.nn.functional as F\n",
    "\n",
    "class Network(nn.Module):\n",
    "    def __init__(self):\n",
    "        super().__init__()\n",
    "        # Inputs to hidden layer linear transformation\n",
    "        self.hidden = nn.Linear(784, 256)\n",
    "        # Output layer, 10 units - one for each digit\n",
    "        self.output = nn.Linear(256, 10)\n",
    "        \n",
    "    def forward(self, x):\n",
    "        # Hidden layer with sigmoid activation\n",
    "        x = F.sigmoid(self.hidden(x))\n",
    "        # Output layer with softmax activation\n",
    "        x = F.softmax(self.output(x), dim=1)\n",
    "        \n",
    "        return x"
   ]
  },
  {
   "cell_type": "markdown",
   "metadata": {},
   "source": [
    "### Activation functions\n",
    "\n",
    "So far we've only been looking at the softmax activation, but in general any function can be used as an activation function. The only requirement is that for a network to approximate a non-linear function, the activation functions must be non-linear. Here are a few more examples of common activation functions: Tanh (hyperbolic tangent), and ReLU (rectified linear unit).\n",
    "\n",
    "<img src=\"assets/activation.png\" width=700px>\n",
    "\n",
    "In practice, the ReLU function is used almost exclusively as the activation function for hidden layers."
   ]
  },
  {
   "cell_type": "markdown",
   "metadata": {},
   "source": [
    "### Your Turn to Build a Network\n",
    "\n",
    "<img src=\"assets/mlp_mnist.png\" width=600px>\n",
    "\n",
    "> **Exercise:** Create a network with 784 input units, a hidden layer with 128 units and a ReLU activation, then a hidden layer with 64 units and a ReLU activation, and finally an output layer with a softmax activation as shown above. You can use a ReLU activation with the `nn.ReLU` module or `F.relu` function."
   ]
  },
  {
   "cell_type": "code",
   "execution_count": 18,
   "metadata": {
    "scrolled": true
   },
   "outputs": [],
   "source": [
    "## Your solution here\n",
    "import torch.nn.functional as F\n",
    "class Network(nn.Module):\n",
    "    def __init__(self):\n",
    "        super().__init__()\n",
    "        self.fc1=nn.Linear(784,128)\n",
    "        self.fc2=nn.Linear(128,64)\n",
    "        self.output=nn.Linear(64,10)\n",
    "        \n",
    "    def forward(self,x):\n",
    "        x=F.relu(self.fc1(x))\n",
    "        x=F.relu(self.fc2(x))\n",
    "        x=F.softmax(self.output(x),dim=1)\n",
    "    \n",
    "        return x\n",
    "    \n",
    "model= Network()"
   ]
  },
  {
   "cell_type": "markdown",
   "metadata": {},
   "source": [
    "### Initializing weights and biases\n",
    "\n",
    "The weights and such are automatically initialized for you, but it's possible to customize how they are initialized. The weights and biases are tensors attached to the layer you defined, you can get them with `model.fc1.weight` for instance."
   ]
  },
  {
   "cell_type": "code",
   "execution_count": 19,
   "metadata": {},
   "outputs": [
    {
     "name": "stdout",
     "output_type": "stream",
     "text": [
      "Parameter containing:\n",
      "tensor([[ 0.0291,  0.0198,  0.0107,  ..., -0.0197, -0.0175, -0.0060],\n",
      "        [-0.0233, -0.0109, -0.0265,  ...,  0.0280,  0.0213,  0.0329],\n",
      "        [ 0.0281, -0.0063,  0.0225,  ..., -0.0099, -0.0128,  0.0160],\n",
      "        ...,\n",
      "        [-0.0268,  0.0234, -0.0029,  ...,  0.0306, -0.0220, -0.0086],\n",
      "        [ 0.0211,  0.0035, -0.0102,  ...,  0.0143,  0.0328,  0.0130],\n",
      "        [ 0.0097, -0.0181,  0.0088,  ...,  0.0229, -0.0044, -0.0230]],\n",
      "       requires_grad=True)\n",
      "Parameter containing:\n",
      "tensor([-1.9865e-02,  3.3807e-02, -3.1233e-02, -1.9357e-02,  2.9645e-02,\n",
      "         2.8230e-02,  3.5280e-02, -6.8136e-03,  1.2753e-02, -3.0816e-05,\n",
      "        -3.4458e-02,  2.5619e-02, -2.0418e-02, -3.1374e-02,  3.0810e-02,\n",
      "         6.0240e-03,  3.4224e-02, -1.4256e-02, -3.2850e-03,  9.2589e-03,\n",
      "         8.6554e-03, -1.0350e-02,  2.4348e-02,  2.3209e-02,  1.9326e-02,\n",
      "        -3.1369e-02, -3.5539e-02,  3.3289e-02, -6.1525e-03,  2.4503e-02,\n",
      "         1.1865e-03, -2.6591e-02,  7.8915e-03,  9.8177e-03,  8.9831e-03,\n",
      "        -3.5033e-02, -3.3484e-02, -1.0219e-02,  2.1115e-02,  2.0254e-02,\n",
      "        -9.3075e-04, -1.2008e-02,  7.2796e-04,  7.9762e-03, -3.2330e-02,\n",
      "        -5.7294e-03,  3.3390e-02, -5.5269e-03,  3.5699e-02,  1.3384e-02,\n",
      "         2.3602e-02, -1.8263e-02, -1.0617e-02, -3.0664e-02, -2.5713e-02,\n",
      "        -2.3301e-02,  3.3592e-02, -7.1052e-03,  2.0420e-02, -2.2861e-02,\n",
      "         2.3603e-02,  2.0820e-02, -1.2323e-02,  3.1139e-02, -6.5656e-03,\n",
      "         2.8220e-02,  2.5716e-03, -7.1608e-03,  3.1983e-02, -2.8638e-02,\n",
      "         1.9305e-02,  2.7543e-02, -2.4759e-02, -3.8225e-03,  2.7266e-02,\n",
      "        -2.2882e-02,  7.1459e-03, -1.4309e-02, -1.1558e-02, -3.3837e-03,\n",
      "        -2.3553e-03, -3.0249e-02,  2.4159e-02, -5.4824e-04, -2.6110e-02,\n",
      "        -1.0323e-02,  5.2597e-03,  9.2511e-03, -3.2843e-02,  2.6133e-03,\n",
      "        -2.0522e-03,  9.2437e-03,  2.6570e-02, -1.7228e-02, -2.2586e-02,\n",
      "        -2.9512e-02, -1.7263e-02, -2.0652e-02,  1.0586e-02, -1.9441e-02,\n",
      "        -2.3166e-02, -1.2306e-02, -2.3413e-02,  5.0773e-03,  1.5275e-02,\n",
      "        -3.3396e-02, -1.1623e-02, -3.2885e-02, -7.7002e-03,  2.4100e-02,\n",
      "         1.4531e-02,  1.1346e-02,  4.1236e-03, -1.5826e-02, -1.3974e-02,\n",
      "         1.1925e-02,  3.1237e-05, -2.8043e-02, -3.5050e-02, -3.5547e-02,\n",
      "         1.7356e-02, -3.1587e-02, -2.1807e-02,  2.7691e-02, -5.5632e-03,\n",
      "        -3.1356e-02, -2.3561e-02,  1.0952e-02], requires_grad=True)\n"
     ]
    }
   ],
   "source": [
    "print(model.fc1.weight)\n",
    "print(model.fc1.bias)"
   ]
  },
  {
   "cell_type": "markdown",
   "metadata": {},
   "source": [
    "For custom initialization, we want to modify these tensors in place. These are actually autograd *Variables*, so we need to get back the actual tensors with `model.fc1.weight.data`. Once we have the tensors, we can fill them with zeros (for biases) or random normal values."
   ]
  },
  {
   "cell_type": "code",
   "execution_count": 20,
   "metadata": {},
   "outputs": [
    {
     "data": {
      "text/plain": [
       "tensor([0., 0., 0., 0., 0., 0., 0., 0., 0., 0., 0., 0., 0., 0., 0., 0., 0., 0., 0., 0., 0., 0., 0., 0.,\n",
       "        0., 0., 0., 0., 0., 0., 0., 0., 0., 0., 0., 0., 0., 0., 0., 0., 0., 0., 0., 0., 0., 0., 0., 0.,\n",
       "        0., 0., 0., 0., 0., 0., 0., 0., 0., 0., 0., 0., 0., 0., 0., 0., 0., 0., 0., 0., 0., 0., 0., 0.,\n",
       "        0., 0., 0., 0., 0., 0., 0., 0., 0., 0., 0., 0., 0., 0., 0., 0., 0., 0., 0., 0., 0., 0., 0., 0.,\n",
       "        0., 0., 0., 0., 0., 0., 0., 0., 0., 0., 0., 0., 0., 0., 0., 0., 0., 0., 0., 0., 0., 0., 0., 0.,\n",
       "        0., 0., 0., 0., 0., 0., 0., 0.])"
      ]
     },
     "execution_count": 20,
     "metadata": {},
     "output_type": "execute_result"
    }
   ],
   "source": [
    "# Set biases to all zeros\n",
    "model.fc1.bias.data.fill_(0)"
   ]
  },
  {
   "cell_type": "code",
   "execution_count": 21,
   "metadata": {},
   "outputs": [
    {
     "data": {
      "text/plain": [
       "tensor([[ 0.0170,  0.0118,  0.0132,  ..., -0.0052, -0.0069,  0.0120],\n",
       "        [ 0.0027, -0.0043,  0.0113,  ...,  0.0207,  0.0150,  0.0046],\n",
       "        [-0.0102,  0.0027, -0.0059,  ...,  0.0008,  0.0044, -0.0201],\n",
       "        ...,\n",
       "        [-0.0131,  0.0047, -0.0024,  ..., -0.0119, -0.0059,  0.0049],\n",
       "        [-0.0199, -0.0125,  0.0109,  ..., -0.0008,  0.0032,  0.0018],\n",
       "        [-0.0047, -0.0096,  0.0067,  ..., -0.0222,  0.0055,  0.0016]])"
      ]
     },
     "execution_count": 21,
     "metadata": {},
     "output_type": "execute_result"
    }
   ],
   "source": [
    "# sample from random normal with standard dev = 0.01\n",
    "model.fc1.weight.data.normal_(std=0.01)"
   ]
  },
  {
   "cell_type": "markdown",
   "metadata": {},
   "source": [
    "### Forward pass\n",
    "\n",
    "Now that we have a network, let's see what happens when we pass in an image."
   ]
  },
  {
   "cell_type": "code",
   "execution_count": 31,
   "metadata": {},
   "outputs": [
    {
     "name": "stdout",
     "output_type": "stream",
     "text": [
      "size of image0's input: torch.Size([1, 784])\n"
     ]
    },
    {
     "data": {
      "image/png": "[encoded data removed]",
      "text/plain": [
       "<Figure size 432x648 with 2 Axes>"
      ]
     },
     "metadata": {
      "image/png": {
       "height": 235,
       "width": 424
      },
      "needs_background": "light"
     },
     "output_type": "display_data"
    }
   ],
   "source": [
    "# Grab some data \n",
    "dataiter = iter(trainloader)\n",
    "images, labels = dataiter.next()\n",
    "\n",
    "# Resize images into a 1D vector, new shape is (batch size, color channels, image pixels) \n",
    "images.resize_(64, 1, 784)\n",
    "# or images.resize_(images.shape[0], 1, 784) to automatically get batch size\n",
    "\n",
    "# Forward pass through the network\n",
    "img_idx = 0\n",
    "ps = model.forward(images[img_idx,:])\n",
    "print(\"size of image0's input:\",images[0,:].shape)\n",
    "img = images[img_idx]\n",
    "helper.view_classify(img.view(1, 28, 28), ps)"
   ]
  },
  {
   "cell_type": "markdown",
   "metadata": {},
   "source": [
    "As you can see above, our network has basically no idea what this digit is. It's because we haven't trained it yet, all the weights are random!\n",
    "\n",
    "### Using `nn.Sequential`\n",
    "\n",
    "PyTorch provides a convenient way to build networks like this where a tensor is passed sequentially through operations, `nn.Sequential` ([documentation](https://pytorch.org/docs/master/nn.html#torch.nn.Sequential)). Using this to build the equivalent network:"
   ]
  },
  {
   "cell_type": "code",
   "execution_count": 35,
   "metadata": {},
   "outputs": [
    {
     "name": "stdout",
     "output_type": "stream",
     "text": [
      "Sequential(\n",
      "  (0): Linear(in_features=784, out_features=128, bias=True)\n",
      "  (1): ReLU()\n",
      "  (2): Linear(in_features=128, out_features=64, bias=True)\n",
      "  (3): ReLU()\n",
      "  (4): Linear(in_features=64, out_features=10, bias=True)\n",
      "  (5): Softmax(dim=1)\n",
      ")\n",
      "size of image0's input: torch.Size([1, 784])\n"
     ]
    },
    {
     "data": {
      "image/png": "[encoded data removed]",
      "text/plain": [
       "<Figure size 432x648 with 2 Axes>"
      ]
     },
     "metadata": {
      "image/png": {
       "height": 235,
       "width": 424
      },
      "needs_background": "light"
     },
     "output_type": "display_data"
    }
   ],
   "source": [
    "# Hyperparameters for our network\n",
    "input_size = 784\n",
    "hidden_sizes = [128, 64]\n",
    "output_size = 10\n",
    "\n",
    "# Build a feed-forward network\n",
    "model = nn.Sequential(nn.Linear(input_size, hidden_sizes[0]),\n",
    "                      nn.ReLU(),\n",
    "                      nn.Linear(hidden_sizes[0], hidden_sizes[1]),\n",
    "                      nn.ReLU(),\n",
    "                      nn.Linear(hidden_sizes[1], output_size),\n",
    "                      nn.Softmax(dim=1))\n",
    "print(model)\n",
    "\n",
    "# Forward pass through the network and display output\n",
    "images, labels = next(iter(trainloader))\n",
    "images.resize_(images.shape[0], 1, 784)\n",
    "ps = model.forward(images[0,:])\n",
    "print(\"size of image0's input:\",images[0,:].shape)\n",
    "helper.view_classify(images[0].view(1, 28, 28), ps)"
   ]
  },
  {
   "cell_type": "markdown",
   "metadata": {},
   "source": [
    "Here our model is the same as before: 784 input units, a hidden layer with 128 units, ReLU activation, 64 unit hidden layer, another ReLU, then the output layer with 10 units, and the softmax output.\n",
    "\n",
    "The operations are availble by passing in the appropriate index. For example, if you want to get first Linear operation and look at the weights, you'd use `model[0]`."
   ]
  },
  {
   "cell_type": "code",
   "execution_count": 24,
   "metadata": {},
   "outputs": [
    {
     "name": "stdout",
     "output_type": "stream",
     "text": [
      "Linear(in_features=784, out_features=128, bias=True)\n"
     ]
    },
    {
     "data": {
      "text/plain": [
       "Parameter containing:\n",
       "tensor([[ 0.0138,  0.0109,  0.0050,  ..., -0.0036, -0.0157, -0.0064],\n",
       "        [-0.0179, -0.0189, -0.0333,  ...,  0.0189, -0.0308,  0.0117],\n",
       "        [-0.0247, -0.0217, -0.0091,  ...,  0.0006,  0.0260,  0.0177],\n",
       "        ...,\n",
       "        [-0.0274, -0.0025,  0.0176,  ...,  0.0133,  0.0240,  0.0238],\n",
       "        [ 0.0294, -0.0069,  0.0351,  ..., -0.0186,  0.0104, -0.0322],\n",
       "        [ 0.0168,  0.0247,  0.0010,  ..., -0.0014,  0.0115, -0.0042]],\n",
       "       requires_grad=True)"
      ]
     },
     "execution_count": 24,
     "metadata": {},
     "output_type": "execute_result"
    }
   ],
   "source": [
    "print(model[0])\n",
    "model[0].weight"
   ]
  },
  {
   "cell_type": "markdown",
   "metadata": {},
   "source": [
    "You can also pass in an `OrderedDict` to name the individual layers and operations, instead of using incremental integers. Note that dictionary keys must be unique, so _each operation must have a different name_."
   ]
  },
  {
   "cell_type": "code",
   "execution_count": 25,
   "metadata": {},
   "outputs": [
    {
     "data": {
      "text/plain": [
       "Sequential(\n",
       "  (fc1): Linear(in_features=784, out_features=128, bias=True)\n",
       "  (relu1): ReLU()\n",
       "  (fc2): Linear(in_features=128, out_features=64, bias=True)\n",
       "  (relu2): ReLU()\n",
       "  (output): Linear(in_features=64, out_features=10, bias=True)\n",
       "  (softmax): Softmax(dim=1)\n",
       ")"
      ]
     },
     "execution_count": 25,
     "metadata": {},
     "output_type": "execute_result"
    }
   ],
   "source": [
    "from collections import OrderedDict\n",
    "model = nn.Sequential(OrderedDict([\n",
    "                      ('fc1', nn.Linear(input_size, hidden_sizes[0])),\n",
    "                      ('relu1', nn.ReLU()),\n",
    "                      ('fc2', nn.Linear(hidden_sizes[0], hidden_sizes[1])),\n",
    "                      ('relu2', nn.ReLU()),\n",
    "                      ('output', nn.Linear(hidden_sizes[1], output_size)),\n",
    "                      ('softmax', nn.Softmax(dim=1))]))\n",
    "model"
   ]
  },
  {
   "cell_type": "markdown",
   "metadata": {},
   "source": [
    "Now you can access layers either by integer or the name"
   ]
  },
  {
   "cell_type": "code",
   "execution_count": 26,
   "metadata": {},
   "outputs": [
    {
     "name": "stdout",
     "output_type": "stream",
     "text": [
      "Linear(in_features=784, out_features=128, bias=True)\n",
      "Linear(in_features=784, out_features=128, bias=True)\n"
     ]
    }
   ],
   "source": [
    "print(model[0])\n",
    "print(model.fc1)"
   ]
  },
  {
   "cell_type": "markdown",
   "metadata": {},
   "source": [
    "In the next notebook, we'll see how we can train a neural network to accuractly predict the numbers appearing in the MNIST images."
   ]
  }
 ],
 "metadata": {
  "kernelspec": {
   "display_name": "Python 3",
   "language": "python",
   "name": "python3"
  },
  "language_info": {
   "codemirror_mode": {
    "name": "ipython",
    "version": 3
   },
   "file_extension": ".py",
   "mimetype": "text/x-python",
   "name": "python",
   "nbconvert_exporter": "python",
   "pygments_lexer": "ipython3",
   "version": "3.7.7"
  }
 },
 "nbformat": 4,
 "nbformat_minor": 2
}
