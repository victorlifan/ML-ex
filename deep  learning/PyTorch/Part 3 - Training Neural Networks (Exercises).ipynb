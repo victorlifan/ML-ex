{
 "cells": [
  {
   "cell_type": "markdown",
   "metadata": {},
   "source": [
    "# Training Neural Networks\n",
    "\n",
    "The network we built in the previous part isn't so smart, it doesn't know anything about our handwritten digits. Neural networks with non-linear activations work like universal function approximators. There is some function that maps your input to the output. For example, images of handwritten digits to class probabilities. The power of neural networks is that we can train them to approximate this function, and basically any function given enough data and compute time.\n",
    "\n",
    "<img src=\"assets/function_approx.png\" width=500px>\n",
    "\n",
    "At first the network is naive, it doesn't know the function mapping the inputs to the outputs. We train the network by showing it examples of real data, then adjusting the network parameters such that it approximates this function.\n",
    "\n",
    "To find these parameters, we need to know how poorly the network is predicting the real outputs. For this we calculate a **loss function** (also called the cost), a measure of our prediction error. For example, the mean squared loss is often used in regression and binary classification problems\n",
    "\n",
    "$$\n",
    "\\large \\ell = \\frac{1}{2n}\\sum_i^n{\\left(y_i - \\hat{y}_i\\right)^2}\n",
    "$$\n",
    "\n",
    "where $n$ is the number of training examples, $y_i$ are the true labels, and $\\hat{y}_i$ are the predicted labels.\n",
    "\n",
    "By minimizing this loss with respect to the network parameters, we can find configurations where the loss is at a minimum and the network is able to predict the correct labels with high accuracy. We find this minimum using a process called **gradient descent**. The gradient is the slope of the loss function and points in the direction of fastest change. To get to the minimum in the least amount of time, we then want to follow the gradient (downwards). You can think of this like descending a mountain by following the steepest slope to the base.\n",
    "\n",
    "<img src='assets/gradient_descent.png' width=350px>"
   ]
  },
  {
   "cell_type": "markdown",
   "metadata": {},
   "source": [
    "## Backpropagation\n",
    "\n",
    "For single layer networks, gradient descent is straightforward to implement. However, it's more complicated for deeper, multilayer neural networks like the one we've built. Complicated enough that it took about 30 years before researchers figured out how to train multilayer networks.\n",
    "\n",
    "Training multilayer networks is done through **backpropagation** which is really just an application of the chain rule from calculus. It's easiest to understand if we convert a two layer network into a graph representation.\n",
    "\n",
    "<img src='assets/backprop_diagram.png' width=550px>\n",
    "\n",
    "In the forward pass through the network, our data and operations go from bottom to top here. We pass the input $x$ through a linear transformation $L_1$ with weights $W_1$ and biases $b_1$. The output then goes through the sigmoid operation $S$ and another linear transformation $L_2$. Finally we calculate the loss $\\ell$. We use the loss as a measure of how bad the network's predictions are. The goal then is to adjust the weights and biases to minimize the loss.\n",
    "\n",
    "To train the weights with gradient descent, we propagate the gradient of the loss backwards through the network. Each operation has some gradient between the inputs and outputs. As we send the gradients backwards, we multiply the incoming gradient with the gradient for the operation. Mathematically, this is really just calculating the gradient of the loss with respect to the weights using the chain rule.\n",
    "\n",
    "$$\n",
    "\\large \\frac{\\partial \\ell}{\\partial W_1} = \\frac{\\partial L_1}{\\partial W_1} \\frac{\\partial S}{\\partial L_1} \\frac{\\partial L_2}{\\partial S} \\frac{\\partial \\ell}{\\partial L_2}\n",
    "$$\n",
    "\n",
    "**Note:** I'm glossing over a few details here that require some knowledge of vector calculus, but they aren't necessary to understand what's going on.\n",
    "\n",
    "We update our weights using this gradient with some learning rate $\\alpha$. \n",
    "\n",
    "$$\n",
    "\\large W^\\prime_1 = W_1 - \\alpha \\frac{\\partial \\ell}{\\partial W_1}\n",
    "$$\n",
    "\n",
    "The learning rate $\\alpha$ is set such that the weight update steps are small enough that the iterative method settles in a minimum."
   ]
  },
  {
   "cell_type": "markdown",
   "metadata": {},
   "source": [
    "## Losses in PyTorch\n",
    "\n",
    "Let's start by seeing how we calculate the loss with PyTorch. Through the `nn` module, PyTorch provides losses such as the cross-entropy loss (`nn.CrossEntropyLoss`). You'll usually see the loss assigned to `criterion`. As noted in the last part, with a classification problem such as MNIST, we're using the softmax function to predict class probabilities. With a softmax output, you want to use cross-entropy as the loss. To actually calculate the loss, you first define the criterion then pass in the output of your network and the correct labels.\n",
    "\n",
    "Something really important to note here. Looking at [the documentation for `nn.CrossEntropyLoss`](https://pytorch.org/docs/stable/nn.html#torch.nn.CrossEntropyLoss),\n",
    "\n",
    "> This criterion combines `nn.LogSoftmax()` and `nn.NLLLoss()` in one single class.\n",
    ">\n",
    "> The input is expected to contain scores for each class.\n",
    "\n",
    "This means we need to pass in the raw output of our network into the loss, not the output of the softmax function. This raw output is usually called the *logits* or *scores*. We use the logits because softmax gives you probabilities which will often be very close to zero or one but floating-point numbers can't accurately represent values near zero or one ([read more here](https://docs.python.org/3/tutorial/floatingpoint.html)). It's usually best to avoid doing calculations with probabilities, typically we use log-probabilities."
   ]
  },
  {
   "cell_type": "code",
   "execution_count": 4,
   "metadata": {},
   "outputs": [],
   "source": [
    "import torch\n",
    "from torch import nn\n",
    "import torch.nn.functional as F\n",
    "from torchvision import datasets, transforms\n",
    "\n",
    "# Define a transform to normalize the data\n",
    "transform = transforms.Compose([transforms.ToTensor(),\n",
    "                                transforms.Normalize((0.5, 0.5, 0.5), (0.5, 0.5, 0.5)),\n",
    "                              ])\n",
    "# Download and load the training data\n",
    "trainset = datasets.MNIST('~/.pytorch/MNIST_data/', download=True, train=True, transform=transform)\n",
    "trainloader = torch.utils.data.DataLoader(trainset, batch_size=64, shuffle=True)"
   ]
  },
  {
   "cell_type": "markdown",
   "metadata": {},
   "source": [
    "### Note\n",
    "If you haven't seen `nn.Sequential` yet, please finish the end of the Part 2 notebook."
   ]
  },
  {
   "cell_type": "code",
   "execution_count": 5,
   "metadata": {},
   "outputs": [
    {
     "name": "stdout",
     "output_type": "stream",
     "text": [
      "tensor(2.3131)\n"
     ]
    }
   ],
   "source": [
    "# Build a feed-forward network\n",
    "model = nn.Sequential(nn.Linear(784, 128),\n",
    "                      nn.ReLU(),\n",
    "                      nn.Linear(128, 64),\n",
    "                      nn.ReLU(),\n",
    "                      nn.Linear(64, 10))\n",
    "\n",
    "# Define the loss\n",
    "criterion = nn.CrossEntropyLoss()\n",
    "\n",
    "# Get our data\n",
    "images, labels = next(iter(trainloader))\n",
    "# Flatten images\n",
    "images = images.view(images.shape[0], -1)\n",
    "\n",
    "# Forward pass, get our logits\n",
    "logits = model(images)\n",
    "# Calculate the loss with the logits and the labels\n",
    "loss = criterion(logits, labels)\n",
    "\n",
    "print(loss)"
   ]
  },
  {
   "cell_type": "code",
   "execution_count": 28,
   "metadata": {},
   "outputs": [
    {
     "data": {
      "text/plain": [
       "tensor([[-2.1900, -2.3385, -2.4323, -2.2310, -2.1263, -2.4305, -2.3250,\n",
       "         -2.3170, -2.4029, -2.2799],\n",
       "        [-2.2222, -2.3371, -2.5217, -2.2065, -2.0293, -2.3798, -2.2925,\n",
       "         -2.3910, -2.4654, -2.2722],\n",
       "        [-2.2024, -2.3461, -2.4979, -2.1828, -2.1130, -2.4752, -2.3357,\n",
       "         -2.3185, -2.3877, -2.2376],\n",
       "        [-2.1978, -2.3298, -2.5348, -2.1580, -2.0967, -2.4042, -2.3339,\n",
       "         -2.3504, -2.4085, -2.2885],\n",
       "        [-2.2028, -2.2911, -2.4052, -2.1994, -2.2418, -2.4256, -2.2639,\n",
       "         -2.3703, -2.3987, -2.2603],\n",
       "        [-2.1550, -2.2801, -2.4017, -2.2432, -2.2162, -2.3802, -2.3152,\n",
       "         -2.3852, -2.3871, -2.2940],\n",
       "        [-2.2003, -2.3076, -2.4568, -2.2200, -2.1093, -2.4221, -2.3284,\n",
       "         -2.3333, -2.4035, -2.2973],\n",
       "        [-2.1955, -2.3309, -2.4392, -2.2224, -2.1607, -2.4017, -2.3527,\n",
       "         -2.3330, -2.3488, -2.2778],\n",
       "        [-2.1441, -2.3835, -2.4433, -2.2267, -2.2099, -2.4429, -2.3425,\n",
       "         -2.2821, -2.3814, -2.2197],\n",
       "        [-2.2110, -2.2883, -2.4504, -2.1692, -2.1941, -2.4170, -2.3361,\n",
       "         -2.3650, -2.3617, -2.2741],\n",
       "        [-2.1847, -2.3275, -2.4099, -2.2544, -2.2071, -2.3759, -2.3002,\n",
       "         -2.3524, -2.3837, -2.2572],\n",
       "        [-2.1721, -2.3336, -2.4420, -2.2425, -2.1425, -2.4220, -2.3241,\n",
       "         -2.3049, -2.4070, -2.2818],\n",
       "        [-2.1709, -2.3402, -2.4492, -2.2281, -2.1435, -2.4229, -2.3306,\n",
       "         -2.3124, -2.4152, -2.2633],\n",
       "        [-2.1929, -2.3111, -2.4741, -2.2040, -2.1080, -2.4626, -2.3068,\n",
       "         -2.3334, -2.4051, -2.2910],\n",
       "        [-2.2336, -2.3093, -2.4134, -2.1974, -2.1274, -2.4055, -2.3340,\n",
       "         -2.3462, -2.3856, -2.3139],\n",
       "        [-2.1827, -2.2576, -2.4613, -2.2690, -2.1106, -2.4085, -2.3610,\n",
       "         -2.3561, -2.4217, -2.2547],\n",
       "        [-2.2150, -2.3060, -2.4157, -2.1764, -2.2078, -2.4067, -2.3252,\n",
       "         -2.3374, -2.4175, -2.2549],\n",
       "        [-2.2004, -2.2804, -2.4619, -2.2411, -2.1471, -2.4434, -2.3550,\n",
       "         -2.3180, -2.4119, -2.2192],\n",
       "        [-2.2167, -2.3003, -2.4834, -2.1799, -2.0716, -2.4780, -2.3320,\n",
       "         -2.4011, -2.3648, -2.2759],\n",
       "        [-2.1901, -2.3152, -2.4204, -2.2493, -2.1093, -2.4351, -2.3229,\n",
       "         -2.3576, -2.3939, -2.2811],\n",
       "        [-2.2153, -2.3116, -2.3804, -2.1862, -2.1772, -2.4597, -2.3005,\n",
       "         -2.3737, -2.3776, -2.2830],\n",
       "        [-2.1789, -2.3088, -2.4702, -2.2758, -2.0911, -2.4190, -2.3205,\n",
       "         -2.3673, -2.3941, -2.2595],\n",
       "        [-2.1649, -2.3544, -2.4672, -2.1950, -2.1544, -2.4329, -2.3438,\n",
       "         -2.2287, -2.4781, -2.2750],\n",
       "        [-2.1828, -2.2998, -2.4609, -2.2167, -2.1423, -2.4248, -2.3089,\n",
       "         -2.3552, -2.4166, -2.2699],\n",
       "        [-2.1719, -2.3124, -2.4487, -2.2169, -2.1457, -2.4684, -2.3237,\n",
       "         -2.3895, -2.3451, -2.2583],\n",
       "        [-2.0930, -2.3858, -2.3978, -2.2562, -2.1466, -2.4992, -2.2590,\n",
       "         -2.3859, -2.3929, -2.2814],\n",
       "        [-2.1741, -2.3419, -2.3809, -2.2421, -2.1828, -2.4547, -2.2966,\n",
       "         -2.3211, -2.3743, -2.2929],\n",
       "        [-2.1798, -2.2945, -2.4731, -2.2644, -2.0479, -2.4474, -2.3076,\n",
       "         -2.3965, -2.3938, -2.2968],\n",
       "        [-2.1321, -2.4121, -2.4873, -2.2034, -2.1108, -2.3949, -2.2457,\n",
       "         -2.4006, -2.4237, -2.2948],\n",
       "        [-2.1727, -2.3654, -2.3519, -2.2513, -2.1807, -2.4139, -2.3140,\n",
       "         -2.3211, -2.3955, -2.2908],\n",
       "        [-2.1476, -2.3309, -2.3905, -2.3179, -2.2383, -2.4183, -2.2851,\n",
       "         -2.2992, -2.3530, -2.2724],\n",
       "        [-2.1893, -2.2689, -2.4634, -2.2950, -2.1498, -2.4029, -2.3158,\n",
       "         -2.3018, -2.3948, -2.2852],\n",
       "        [-2.1715, -2.3222, -2.3932, -2.2121, -2.1614, -2.3998, -2.3053,\n",
       "         -2.3898, -2.4317, -2.2833],\n",
       "        [-2.2544, -2.3454, -2.3619, -2.1628, -2.1542, -2.4241, -2.3054,\n",
       "         -2.3645, -2.4112, -2.2825],\n",
       "        [-2.1791, -2.3081, -2.5080, -2.1927, -2.1169, -2.4730, -2.2942,\n",
       "         -2.3942, -2.3795, -2.2544],\n",
       "        [-2.1249, -2.3634, -2.3919, -2.2933, -2.1786, -2.4628, -2.2977,\n",
       "         -2.3356, -2.3316, -2.2898],\n",
       "        [-2.1587, -2.3313, -2.4789, -2.2184, -2.0704, -2.4853, -2.2956,\n",
       "         -2.4119, -2.3865, -2.2728],\n",
       "        [-2.1904, -2.2877, -2.3469, -2.2596, -2.2048, -2.4222, -2.3068,\n",
       "         -2.3420, -2.3977, -2.2934],\n",
       "        [-2.1571, -2.2947, -2.5063, -2.2073, -2.1280, -2.4089, -2.3381,\n",
       "         -2.3615, -2.4199, -2.2703],\n",
       "        [-2.1976, -2.3143, -2.4801, -2.1668, -2.1353, -2.4784, -2.3120,\n",
       "         -2.3739, -2.3515, -2.2796],\n",
       "        [-2.1445, -2.3581, -2.3867, -2.2304, -2.1505, -2.4452, -2.3222,\n",
       "         -2.3125, -2.4187, -2.3064],\n",
       "        [-2.2221, -2.2950, -2.4282, -2.2008, -2.0937, -2.3772, -2.3439,\n",
       "         -2.4035, -2.4508, -2.2698],\n",
       "        [-2.1705, -2.3850, -2.4145, -2.2770, -2.1823, -2.4286, -2.2913,\n",
       "         -2.3527, -2.3433, -2.2204],\n",
       "        [-2.1454, -2.2576, -2.4225, -2.2737, -2.1989, -2.4066, -2.2994,\n",
       "         -2.3927, -2.3976, -2.2724],\n",
       "        [-2.2035, -2.3440, -2.4318, -2.2328, -2.1259, -2.3858, -2.3002,\n",
       "         -2.3705, -2.3876, -2.2861],\n",
       "        [-2.1759, -2.3456, -2.4520, -2.2454, -2.1734, -2.4352, -2.2729,\n",
       "         -2.3586, -2.3887, -2.2256],\n",
       "        [-2.1699, -2.3819, -2.3709, -2.2907, -2.1365, -2.4492, -2.2271,\n",
       "         -2.4090, -2.3830, -2.2596],\n",
       "        [-2.2022, -2.3127, -2.3845, -2.1953, -2.2067, -2.3906, -2.3507,\n",
       "         -2.3558, -2.4094, -2.2504],\n",
       "        [-2.1086, -2.3758, -2.4462, -2.3227, -2.0670, -2.4652, -2.2794,\n",
       "         -2.4013, -2.3840, -2.2602],\n",
       "        [-2.1617, -2.3441, -2.4648, -2.2309, -2.1014, -2.4202, -2.3318,\n",
       "         -2.3429, -2.4472, -2.2481],\n",
       "        [-2.2205, -2.3360, -2.4363, -2.1990, -2.1780, -2.4727, -2.2919,\n",
       "         -2.3339, -2.3417, -2.2581],\n",
       "        [-2.1608, -2.2925, -2.4452, -2.2485, -2.1440, -2.4131, -2.3255,\n",
       "         -2.3785, -2.3912, -2.2747],\n",
       "        [-2.1553, -2.3276, -2.4182, -2.2740, -2.1909, -2.4153, -2.3182,\n",
       "         -2.3266, -2.3429, -2.2894],\n",
       "        [-2.1903, -2.2467, -2.3948, -2.2693, -2.1520, -2.4548, -2.3412,\n",
       "         -2.3701, -2.3444, -2.3019],\n",
       "        [-2.1920, -2.2916, -2.4796, -2.2117, -2.1428, -2.4884, -2.3539,\n",
       "         -2.3519, -2.3057, -2.2665],\n",
       "        [-2.1190, -2.3370, -2.3975, -2.3077, -2.1459, -2.4880, -2.2891,\n",
       "         -2.3432, -2.3732, -2.2809],\n",
       "        [-2.2040, -2.2908, -2.4411, -2.2228, -2.2078, -2.4138, -2.3045,\n",
       "         -2.3405, -2.3897, -2.2450],\n",
       "        [-2.1637, -2.2794, -2.4244, -2.2386, -2.1836, -2.4488, -2.3191,\n",
       "         -2.3753, -2.3470, -2.2870],\n",
       "        [-2.1420, -2.3703, -2.3851, -2.2817, -2.0621, -2.4622, -2.3051,\n",
       "         -2.3534, -2.4448, -2.2929],\n",
       "        [-2.1891, -2.2719, -2.4623, -2.2052, -2.1369, -2.4332, -2.3432,\n",
       "         -2.3766, -2.3830, -2.2781],\n",
       "        [-2.1653, -2.3144, -2.4640, -2.1663, -2.2218, -2.4090, -2.3570,\n",
       "         -2.3222, -2.3853, -2.2669],\n",
       "        [-2.1698, -2.3486, -2.4726, -2.2375, -2.1025, -2.4482, -2.2911,\n",
       "         -2.3051, -2.4433, -2.2747],\n",
       "        [-2.1855, -2.3260, -2.4707, -2.1745, -2.1767, -2.3784, -2.3060,\n",
       "         -2.3544, -2.4244, -2.2785],\n",
       "        [-2.1672, -2.2743, -2.4437, -2.2678, -2.1455, -2.4397, -2.3198,\n",
       "         -2.3668, -2.3785, -2.2702]])"
      ]
     },
     "execution_count": 28,
     "metadata": {},
     "output_type": "execute_result"
    }
   ],
   "source": [
    "logits"
   ]
  },
  {
   "cell_type": "markdown",
   "metadata": {},
   "source": [
    "In my experience it's more convenient to build the model with a log-softmax output using `nn.LogSoftmax` or `F.log_softmax` ([documentation](https://pytorch.org/docs/stable/nn.html#torch.nn.LogSoftmax)). Then you can get the actual probabilities by taking the exponential `torch.exp(output)`. With a log-softmax output, you want to use the negative log likelihood loss, `nn.NLLLoss` ([documentation](https://pytorch.org/docs/stable/nn.html#torch.nn.NLLLoss)).\n",
    "\n",
    ">**Exercise:** Build a model that returns the log-softmax as the output and calculate the loss using the negative log likelihood loss. Note that for `nn.LogSoftmax` and `F.log_softmax` you'll need to set the `dim` keyword argument appropriately. `dim=0` calculates softmax across the rows, so each row sums to 1, while `dim=1` calculates across the columns so each column sums to 1. Think about what you want the output to be and choose `dim` appropriately."
   ]
  },
  {
   "cell_type": "code",
   "execution_count": 13,
   "metadata": {},
   "outputs": [
    {
     "name": "stdout",
     "output_type": "stream",
     "text": [
      "tensor(2.3060)\n"
     ]
    }
   ],
   "source": [
    "# TODO: Build a feed-forward network\n",
    "model = nn.Sequential(nn.Linear(784,128),\n",
    "                      nn.ReLU(),\n",
    "                      nn.Linear(128,64),\n",
    "                      nn.ReLU(),\n",
    "                      nn.Linear(64,10),\n",
    "                      nn.LogSoftmax(dim=1))\n",
    "\n",
    "# TODO: Define the loss\n",
    "criterion = nn.NLLLoss()\n",
    "\n",
    "### Run this to check your work\n",
    "# Get our data\n",
    "images, labels = next(iter(trainloader))\n",
    "# Flatten images\n",
    "images = images.view(images.shape[0], -1)\n",
    "\n",
    "# Forward pass, get our logits\n",
    "logps = model(images)\n",
    "# Calculate the loss with the logits and the labels\n",
    "loss = criterion(logps, labels)\n",
    "\n",
    "print(loss)"
   ]
  },
  {
   "cell_type": "code",
   "execution_count": 29,
   "metadata": {},
   "outputs": [
    {
     "data": {
      "text/plain": [
       "tensor([[-2.2966, -2.2603, -2.3484, -2.1558, -2.2611, -2.3597, -2.3116,\n",
       "         -2.2993, -2.4022, -2.3526],\n",
       "        [-2.3414, -2.2202, -2.2957, -2.1625, -2.2769, -2.4082, -2.2792,\n",
       "         -2.4637, -2.3371, -2.2747],\n",
       "        [-2.3053, -2.1579, -2.3401, -2.1041, -2.3786, -2.4341, -2.2611,\n",
       "         -2.3531, -2.4701, -2.2809],\n",
       "        [-2.3168, -2.2271, -2.2948, -2.1608, -2.2838, -2.4193, -2.2527,\n",
       "         -2.3573, -2.4169, -2.3257],\n",
       "        [-2.3744, -2.2277, -2.3613, -2.1732, -2.2159, -2.3564, -2.2130,\n",
       "         -2.2958, -2.5181, -2.3376],\n",
       "        [-2.3565, -2.2695, -2.2067, -2.1517, -2.2246, -2.3996, -2.3009,\n",
       "         -2.3259, -2.4433, -2.3866],\n",
       "        [-2.3468, -2.2097, -2.2776, -2.1616, -2.2524, -2.4197, -2.2614,\n",
       "         -2.3924, -2.3842, -2.3534],\n",
       "        [-2.2725, -2.1769, -2.2991, -2.1994, -2.3189, -2.4275, -2.3673,\n",
       "         -2.3028, -2.3447, -2.3423],\n",
       "        [-2.3487, -2.2210, -2.2296, -2.1598, -2.2794, -2.5020, -2.2046,\n",
       "         -2.2907, -2.4806, -2.3684],\n",
       "        [-2.3741, -2.2416, -2.3558, -2.1184, -2.2732, -2.4582, -2.2082,\n",
       "         -2.2870, -2.4739, -2.2898],\n",
       "        [-2.3084, -2.2568, -2.3045, -2.1492, -2.2610, -2.3963, -2.3002,\n",
       "         -2.4026, -2.3587, -2.3132],\n",
       "        [-2.3005, -2.1868, -2.3448, -2.1400, -2.3559, -2.3930, -2.2928,\n",
       "         -2.2879, -2.4170, -2.3415],\n",
       "        [-2.3318, -2.2436, -2.2565, -2.1481, -2.2767, -2.3919, -2.2534,\n",
       "         -2.3317, -2.4880, -2.3429],\n",
       "        [-2.3251, -2.2456, -2.3133, -2.1682, -2.3246, -2.3686, -2.2529,\n",
       "         -2.2919, -2.4354, -2.3239],\n",
       "        [-2.3115, -2.2486, -2.3436, -2.1747, -2.3304, -2.3185, -2.3122,\n",
       "         -2.2973, -2.3656, -2.3376],\n",
       "        [-2.2957, -2.1575, -2.3699, -2.1655, -2.3304, -2.4002, -2.2190,\n",
       "         -2.3614, -2.4284, -2.3396],\n",
       "        [-2.4186, -2.2241, -2.3145, -2.1396, -2.3134, -2.3383, -2.2830,\n",
       "         -2.3626, -2.3861, -2.2759],\n",
       "        [-2.3155, -2.2395, -2.3264, -2.1623, -2.3236, -2.3692, -2.2922,\n",
       "         -2.2987, -2.4336, -2.2882],\n",
       "        [-2.3399, -2.2670, -2.4023, -2.1685, -2.2670, -2.3240, -2.2732,\n",
       "         -2.2965, -2.4090, -2.3008],\n",
       "        [-2.3730, -2.2494, -2.3295, -2.1379, -2.3004, -2.4224, -2.2287,\n",
       "         -2.2777, -2.4259, -2.3169],\n",
       "        [-2.3794, -2.2450, -2.2875, -2.1830, -2.2223, -2.4259, -2.2378,\n",
       "         -2.3678, -2.3835, -2.3241],\n",
       "        [-2.3449, -2.2013, -2.3258, -2.1565, -2.2627, -2.4957, -2.1996,\n",
       "         -2.2834, -2.4387, -2.3699],\n",
       "        [-2.3963, -2.2558, -2.3354, -2.1406, -2.2489, -2.3466, -2.2382,\n",
       "         -2.3105, -2.4034, -2.3825],\n",
       "        [-2.3127, -2.2393, -2.3476, -2.1688, -2.2980, -2.3886, -2.2641,\n",
       "         -2.3208, -2.4258, -2.2847],\n",
       "        [-2.3098, -2.2450, -2.3167, -2.1375, -2.3345, -2.4328, -2.2504,\n",
       "         -2.2859, -2.3948, -2.3503],\n",
       "        [-2.3982, -2.2583, -2.2737, -2.1811, -2.2407, -2.3587, -2.2650,\n",
       "         -2.3579, -2.3810, -2.3340],\n",
       "        [-2.3564, -2.1835, -2.3034, -2.1251, -2.2719, -2.4682, -2.2418,\n",
       "         -2.3612, -2.4480, -2.3190],\n",
       "        [-2.3856, -2.1827, -2.3242, -2.1807, -2.2715, -2.3924, -2.2322,\n",
       "         -2.3152, -2.4734, -2.3076],\n",
       "        [-2.3272, -2.1827, -2.3577, -2.1421, -2.2870, -2.4533, -2.2000,\n",
       "         -2.4004, -2.4630, -2.2690],\n",
       "        [-2.3605, -2.2491, -2.3145, -2.1365, -2.3503, -2.3719, -2.2467,\n",
       "         -2.2949, -2.3960, -2.3330],\n",
       "        [-2.3289, -2.1900, -2.3258, -2.2250, -2.2890, -2.4409, -2.2697,\n",
       "         -2.2788, -2.4180, -2.2867],\n",
       "        [-2.3183, -2.2296, -2.2943, -2.1148, -2.3301, -2.3790, -2.2964,\n",
       "         -2.3780, -2.4226, -2.2974],\n",
       "        [-2.3037, -2.2260, -2.3550, -2.2051, -2.3374, -2.3833, -2.2713,\n",
       "         -2.2819, -2.3946, -2.2856],\n",
       "        [-2.2866, -2.2206, -2.3592, -2.1653, -2.3356, -2.4337, -2.2312,\n",
       "         -2.2641, -2.4253, -2.3392],\n",
       "        [-2.3947, -2.2285, -2.2593, -2.1614, -2.2415, -2.4013, -2.2550,\n",
       "         -2.3012, -2.4377, -2.3832],\n",
       "        [-2.3979, -2.2439, -2.3350, -2.1537, -2.2774, -2.3847, -2.2323,\n",
       "         -2.3481, -2.3928, -2.2895],\n",
       "        [-2.3233, -2.2596, -2.3289, -2.1393, -2.3364, -2.3482, -2.2968,\n",
       "         -2.2857, -2.4131, -2.3179],\n",
       "        [-2.3169, -2.1607, -2.3113, -2.1072, -2.3675, -2.4738, -2.2413,\n",
       "         -2.3539, -2.4165, -2.3337],\n",
       "        [-2.3424, -2.2391, -2.2329, -2.1688, -2.2248, -2.3874, -2.3063,\n",
       "         -2.3508, -2.3994, -2.4061],\n",
       "        [-2.3408, -2.1610, -2.3312, -2.0877, -2.3462, -2.4233, -2.2492,\n",
       "         -2.3930, -2.3718, -2.3765],\n",
       "        [-2.3576, -2.2165, -2.3316, -2.1489, -2.3267, -2.3499, -2.2428,\n",
       "         -2.3080, -2.4176, -2.3554],\n",
       "        [-2.2768, -2.2105, -2.2834, -2.1457, -2.3555, -2.4502, -2.3223,\n",
       "         -2.2771, -2.4222, -2.3193],\n",
       "        [-2.3306, -2.2595, -2.3085, -2.1651, -2.2392, -2.4098, -2.2334,\n",
       "         -2.3399, -2.4040, -2.3647],\n",
       "        [-2.3879, -2.1967, -2.3119, -2.1171, -2.2688, -2.3859, -2.2659,\n",
       "         -2.3567, -2.4270, -2.3503],\n",
       "        [-2.3176, -2.2557, -2.2856, -2.1827, -2.2522, -2.3600, -2.2967,\n",
       "         -2.3601, -2.3981, -2.3355],\n",
       "        [-2.3207, -2.2183, -2.3459, -2.1686, -2.2944, -2.4131, -2.2518,\n",
       "         -2.2999, -2.4332, -2.3097],\n",
       "        [-2.3340, -2.2553, -2.2463, -2.1643, -2.2786, -2.3943, -2.2901,\n",
       "         -2.3654, -2.4240, -2.3003],\n",
       "        [-2.3485, -2.1966, -2.2885, -2.1335, -2.3301, -2.3832, -2.2908,\n",
       "         -2.3636, -2.4527, -2.2769],\n",
       "        [-2.3275, -2.2067, -2.3438, -2.1414, -2.3465, -2.3908, -2.2645,\n",
       "         -2.3363, -2.3972, -2.3010],\n",
       "        [-2.3891, -2.1768, -2.2905, -2.2018, -2.2378, -2.4722, -2.2185,\n",
       "         -2.3146, -2.4535, -2.3185],\n",
       "        [-2.4057, -2.2667, -2.3233, -2.1113, -2.2367, -2.3881, -2.2628,\n",
       "         -2.3470, -2.4318, -2.2935],\n",
       "        [-2.3463, -2.1807, -2.2811, -2.2055, -2.2482, -2.4243, -2.2745,\n",
       "         -2.3489, -2.3842, -2.3610],\n",
       "        [-2.3435, -2.2229, -2.3089, -2.1420, -2.3062, -2.4445, -2.2316,\n",
       "         -2.2991, -2.4752, -2.2961],\n",
       "        [-2.3595, -2.2531, -2.4073, -2.1270, -2.2935, -2.3526, -2.2493,\n",
       "         -2.3754, -2.2922, -2.3467],\n",
       "        [-2.3330, -2.2170, -2.3477, -2.1807, -2.2946, -2.4010, -2.2154,\n",
       "         -2.3117, -2.4169, -2.3365],\n",
       "        [-2.3588, -2.2310, -2.3225, -2.0953, -2.3660, -2.4237, -2.2598,\n",
       "         -2.2890, -2.4405, -2.2860],\n",
       "        [-2.3536, -2.2375, -2.2900, -2.1359, -2.2447, -2.3768, -2.2987,\n",
       "         -2.3902, -2.4277, -2.3048],\n",
       "        [-2.3911, -2.2754, -2.2628, -2.1717, -2.2269, -2.4330, -2.2243,\n",
       "         -2.2977, -2.4603, -2.3228],\n",
       "        [-2.3688, -2.2196, -2.2903, -2.1677, -2.3498, -2.4315, -2.2511,\n",
       "         -2.2914, -2.3985, -2.2875],\n",
       "        [-2.3551, -2.2358, -2.3602, -2.1225, -2.2931, -2.3741, -2.2117,\n",
       "         -2.2520, -2.4731, -2.3969],\n",
       "        [-2.3896, -2.1972, -2.2739, -2.0957, -2.3137, -2.4467, -2.1994,\n",
       "         -2.3523, -2.4732, -2.3483],\n",
       "        [-2.3761, -2.2720, -2.3054, -2.1389, -2.2815, -2.3818, -2.2841,\n",
       "         -2.3431, -2.3425, -2.3228],\n",
       "        [-2.3538, -2.2538, -2.2436, -2.1311, -2.2951, -2.3894, -2.2834,\n",
       "         -2.2763, -2.4316, -2.4049],\n",
       "        [-2.3304, -2.2153, -2.3406, -2.1540, -2.3257, -2.3413, -2.2620,\n",
       "         -2.3275, -2.4543, -2.3045]])"
      ]
     },
     "execution_count": 29,
     "metadata": {},
     "output_type": "execute_result"
    }
   ],
   "source": [
    "logps"
   ]
  },
  {
   "cell_type": "markdown",
   "metadata": {},
   "source": [
    "## Autograd\n",
    "\n",
    "Now that we know how to calculate a loss, how do we use it to perform backpropagation? Torch provides a module, `autograd`, for automatically calculating the gradients of tensors. We can use it to calculate the gradients of all our parameters with respect to the loss. Autograd works by keeping track of operations performed on tensors, then going backwards through those operations, calculating gradients along the way. To make sure PyTorch keeps track of operations on a tensor and calculates the gradients, you need to set `requires_grad = True` on a tensor. You can do this at creation with the `requires_grad` keyword, or at any time with `x.requires_grad_(True)`.\n",
    "\n",
    "You can turn off gradients for a block of code with the `torch.no_grad()` content:\n",
    "```python\n",
    "x = torch.zeros(1, requires_grad=True)\n",
    ">>> with torch.no_grad():\n",
    "...     y = x * 2\n",
    ">>> y.requires_grad\n",
    "False\n",
    "```\n",
    "\n",
    "Also, you can turn on or off gradients altogether with `torch.set_grad_enabled(True|False)`.\n",
    "\n",
    "The gradients are computed with respect to some variable `z` with `z.backward()`. This does a backward pass through the operations that created `z`."
   ]
  },
  {
   "cell_type": "code",
   "execution_count": 46,
   "metadata": {},
   "outputs": [
    {
     "name": "stdout",
     "output_type": "stream",
     "text": [
      "tensor([[-0.1673,  0.8270],\n",
      "        [-0.5037, -0.3994]])\n"
     ]
    }
   ],
   "source": [
    "x = torch.randn(2,2, requires_grad=True)\n",
    "print(x)"
   ]
  },
  {
   "cell_type": "code",
   "execution_count": 47,
   "metadata": {},
   "outputs": [
    {
     "name": "stdout",
     "output_type": "stream",
     "text": [
      "tensor([[ 0.0280,  0.6840],\n",
      "        [ 0.2537,  0.1595]])\n"
     ]
    }
   ],
   "source": [
    "y = x**2\n",
    "print(y)"
   ]
  },
  {
   "cell_type": "markdown",
   "metadata": {},
   "source": [
    "Below we can see the operation that created `y`, a power operation `PowBackward0`."
   ]
  },
  {
   "cell_type": "code",
   "execution_count": 48,
   "metadata": {},
   "outputs": [
    {
     "name": "stdout",
     "output_type": "stream",
     "text": [
      "<PowBackward0 object at 0x7fd02b2c5710>\n"
     ]
    }
   ],
   "source": [
    "## grad_fn shows the function that generated this variable\n",
    "print(y.grad_fn)"
   ]
  },
  {
   "cell_type": "markdown",
   "metadata": {},
   "source": [
    "The autgrad module keeps track of these operations and knows how to calculate the gradient for each one. In this way, it's able to calculate the gradients for a chain of operations, with respect to any one tensor. Let's reduce the tensor `y` to a scalar value, the mean."
   ]
  },
  {
   "cell_type": "code",
   "execution_count": 49,
   "metadata": {},
   "outputs": [
    {
     "name": "stdout",
     "output_type": "stream",
     "text": [
      "tensor(0.2813)\n"
     ]
    }
   ],
   "source": [
    "z = y.mean()\n",
    "print(z)"
   ]
  },
  {
   "cell_type": "markdown",
   "metadata": {},
   "source": [
    "You can check the gradients for `x` and `y` but they are empty currently."
   ]
  },
  {
   "cell_type": "code",
   "execution_count": 50,
   "metadata": {},
   "outputs": [
    {
     "name": "stdout",
     "output_type": "stream",
     "text": [
      "None\n"
     ]
    }
   ],
   "source": [
    "print(x.grad)"
   ]
  },
  {
   "cell_type": "markdown",
   "metadata": {},
   "source": [
    "To calculate the gradients, you need to run the `.backward` method on a Variable, `z` for example. This will calculate the gradient for `z` with respect to `x`\n",
    "\n",
    "$$\n",
    "\\frac{\\partial z}{\\partial x} = \\frac{\\partial}{\\partial x}\\left[\\frac{1}{n}\\sum_i^n x_i^2\\right] = \\frac{x}{2}\n",
    "$$"
   ]
  },
  {
   "cell_type": "code",
   "execution_count": 51,
   "metadata": {},
   "outputs": [
    {
     "name": "stdout",
     "output_type": "stream",
     "text": [
      "None\n"
     ]
    }
   ],
   "source": [
    "print(z.backward())"
   ]
  },
  {
   "cell_type": "code",
   "execution_count": 54,
   "metadata": {},
   "outputs": [
    {
     "name": "stdout",
     "output_type": "stream",
     "text": [
      "tensor([[-0.0837,  0.4135],\n",
      "        [-0.2519, -0.1997]])\n",
      "tensor([[-0.0837,  0.4135],\n",
      "        [-0.2519, -0.1997]])\n"
     ]
    }
   ],
   "source": [
    "print(x.grad)\n",
    "print(x/2)"
   ]
  },
  {
   "cell_type": "markdown",
   "metadata": {},
   "source": [
    "These gradients calculations are particularly useful for neural networks. For training we need the gradients of the weights with respect to the cost. With PyTorch, we run data forward through the network to calculate the loss, then, go backwards to calculate the gradients with respect to the loss. Once we have the gradients we can make a gradient descent step. "
   ]
  },
  {
   "cell_type": "markdown",
   "metadata": {},
   "source": [
    "## Loss and Autograd together\n",
    "\n",
    "When we create a network with PyTorch, all of the parameters are initialized with `requires_grad = True`. This means that when we calculate the loss and call `loss.backward()`, the gradients for the parameters are calculated. These gradients are used to update the weights with gradient descent. Below you can see an example of calculating the gradients using a backwards pass."
   ]
  },
  {
   "cell_type": "code",
   "execution_count": 63,
   "metadata": {},
   "outputs": [],
   "source": [
    "# Build a feed-forward network\n",
    "model = nn.Sequential(nn.Linear(784, 128),\n",
    "                      nn.ReLU(),\n",
    "                      nn.Linear(128, 64),\n",
    "                      nn.ReLU(),\n",
    "                      nn.Linear(64, 10),\n",
    "                      nn.LogSoftmax(dim=1))\n",
    "\n",
    "criterion = nn.NLLLoss()\n",
    "images, labels = next(iter(trainloader))\n",
    "images = images.view(images.shape[0], -1)\n",
    "\n",
    "logits = model(images)\n",
    "loss = criterion(logits, labels)"
   ]
  },
  {
   "cell_type": "code",
   "execution_count": 64,
   "metadata": {
    "scrolled": true
   },
   "outputs": [
    {
     "data": {
      "text/plain": [
       "tensor([[-2.4432, -2.1759, -2.3940, -2.2861, -2.4219, -2.3160, -2.1585,\n",
       "         -2.2126, -2.3612, -2.3021],\n",
       "        [-2.4501, -2.2070, -2.3944, -2.3540, -2.4993, -2.2245, -2.1722,\n",
       "         -2.2059, -2.2660, -2.3086],\n",
       "        [-2.4634, -2.2165, -2.3549, -2.3901, -2.4738, -2.1875, -2.1942,\n",
       "         -2.1768, -2.3340, -2.2913],\n",
       "        [-2.5057, -2.1401, -2.4540, -2.2862, -2.4726, -2.2981, -2.1281,\n",
       "         -2.2240, -2.3032, -2.2913],\n",
       "        [-2.5397, -2.1340, -2.4624, -2.3185, -2.4706, -2.2911, -2.1525,\n",
       "         -2.1757, -2.3065, -2.2626],\n",
       "        [-2.4532, -2.1595, -2.4599, -2.3505, -2.4723, -2.2147, -2.1074,\n",
       "         -2.1734, -2.3545, -2.3649],\n",
       "        [-2.4561, -2.1566, -2.4101, -2.4278, -2.4886, -2.2153, -2.1383,\n",
       "         -2.1920, -2.3062, -2.3110],\n",
       "        [-2.3857, -2.1544, -2.3974, -2.4034, -2.3547, -2.2750, -2.1854,\n",
       "         -2.2162, -2.3506, -2.3418],\n",
       "        [-2.5013, -2.1525, -2.4467, -2.2673, -2.4895, -2.2708, -2.1669,\n",
       "         -2.1899, -2.3043, -2.3109],\n",
       "        [-2.4956, -2.1329, -2.4249, -2.3717, -2.5494, -2.2455, -2.0971,\n",
       "         -2.1834, -2.3118, -2.3157],\n",
       "        [-2.4259, -2.1776, -2.4875, -2.4010, -2.4626, -2.2833, -2.1049,\n",
       "         -2.2065, -2.2565, -2.2955],\n",
       "        [-2.5141, -2.1887, -2.4692, -2.2426, -2.5112, -2.2464, -2.1587,\n",
       "         -2.1962, -2.3094, -2.2712],\n",
       "        [-2.5667, -2.1752, -2.4726, -2.3270, -2.5191, -2.2477, -2.1428,\n",
       "         -2.1476, -2.2393, -2.2938],\n",
       "        [-2.4968, -2.1733, -2.4493, -2.3462, -2.4577, -2.2068, -2.0897,\n",
       "         -2.1683, -2.3972, -2.3329],\n",
       "        [-2.4789, -2.1672, -2.4661, -2.2738, -2.4810, -2.2742, -2.1489,\n",
       "         -2.2004, -2.3014, -2.3046],\n",
       "        [-2.4872, -2.0861, -2.4928, -2.3241, -2.4578, -2.2475, -2.1338,\n",
       "         -2.2558, -2.3016, -2.3270],\n",
       "        [-2.5272, -2.1412, -2.4371, -2.3042, -2.4797, -2.2362, -2.1587,\n",
       "         -2.1902, -2.3253, -2.3065],\n",
       "        [-2.4380, -2.1168, -2.4630, -2.3360, -2.5380, -2.2480, -2.1567,\n",
       "         -2.2572, -2.2830, -2.2691],\n",
       "        [-2.5767, -2.1413, -2.4784, -2.2653, -2.4876, -2.2373, -2.1174,\n",
       "         -2.1878, -2.3348, -2.3065],\n",
       "        [-2.3601, -2.1730, -2.4554, -2.3956, -2.4658, -2.3032, -2.0646,\n",
       "         -2.3144, -2.2795, -2.2839],\n",
       "        [-2.3969, -2.1583, -2.3973, -2.3913, -2.4520, -2.2924, -2.2312,\n",
       "         -2.1780, -2.2680, -2.3059],\n",
       "        [-2.4022, -2.1985, -2.4180, -2.3744, -2.4777, -2.2728, -2.2006,\n",
       "         -2.1600, -2.2621, -2.3108],\n",
       "        [-2.4627, -2.1289, -2.4739, -2.3157, -2.4060, -2.2643, -2.1069,\n",
       "         -2.2366, -2.3485, -2.3554],\n",
       "        [-2.4731, -2.1599, -2.4231, -2.3479, -2.4305, -2.2181, -2.1425,\n",
       "         -2.1963, -2.3274, -2.3731],\n",
       "        [-2.4297, -2.1397, -2.4561, -2.3612, -2.4440, -2.3034, -2.1864,\n",
       "         -2.2233, -2.2428, -2.2957],\n",
       "        [-2.4707, -2.1783, -2.3755, -2.3475, -2.4212, -2.2265, -2.2011,\n",
       "         -2.1947, -2.3232, -2.3338],\n",
       "        [-2.5051, -2.1906, -2.4269, -2.3332, -2.5010, -2.2066, -2.1784,\n",
       "         -2.1238, -2.3380, -2.3047],\n",
       "        [-2.4487, -2.1867, -2.4033, -2.3571, -2.4495, -2.2424, -2.2224,\n",
       "         -2.1524, -2.3251, -2.2894],\n",
       "        [-2.4518, -2.2059, -2.3659, -2.3423, -2.4113, -2.2562, -2.1114,\n",
       "         -2.2328, -2.3582, -2.3392],\n",
       "        [-2.3697, -2.1667, -2.4092, -2.4612, -2.4991, -2.2333, -2.1894,\n",
       "         -2.1248, -2.2656, -2.3840],\n",
       "        [-2.4400, -2.1555, -2.3784, -2.3722, -2.5445, -2.1937, -2.2505,\n",
       "         -2.1484, -2.2384, -2.3819],\n",
       "        [-2.4952, -2.1556, -2.3946, -2.3611, -2.4363, -2.2434, -2.1985,\n",
       "         -2.1403, -2.3197, -2.3468],\n",
       "        [-2.5448, -2.2097, -2.4938, -2.2806, -2.5361, -2.1499, -2.1480,\n",
       "         -2.1298, -2.3381, -2.3106],\n",
       "        [-2.4412, -2.2047, -2.5077, -2.3041, -2.4752, -2.2794, -2.1665,\n",
       "         -2.1601, -2.2703, -2.2858],\n",
       "        [-2.5868, -2.0941, -2.4540, -2.3368, -2.4684, -2.3224, -2.1312,\n",
       "         -2.1375, -2.2769, -2.3334],\n",
       "        [-2.4980, -2.1743, -2.3516, -2.4045, -2.5326, -2.2571, -2.1399,\n",
       "         -2.1719, -2.2481, -2.3310],\n",
       "        [-2.4285, -2.1568, -2.4762, -2.3233, -2.5036, -2.2142, -2.1753,\n",
       "         -2.1955, -2.3073, -2.3159],\n",
       "        [-2.4548, -2.1978, -2.3613, -2.3968, -2.4718, -2.2732, -2.1516,\n",
       "         -2.2503, -2.2453, -2.2750],\n",
       "        [-2.4331, -2.1717, -2.3878, -2.4105, -2.4333, -2.2275, -2.2032,\n",
       "         -2.1593, -2.3219, -2.3312],\n",
       "        [-2.4485, -2.1294, -2.4220, -2.3813, -2.3950, -2.2194, -2.1595,\n",
       "         -2.2327, -2.3303, -2.3670],\n",
       "        [-2.4596, -2.1393, -2.4679, -2.2944, -2.5020, -2.1950, -2.1790,\n",
       "         -2.2059, -2.3332, -2.3265],\n",
       "        [-2.4642, -2.1775, -2.4299, -2.2971, -2.4767, -2.2493, -2.1960,\n",
       "         -2.1889, -2.2950, -2.3080],\n",
       "        [-2.4827, -2.1975, -2.4415, -2.3464, -2.4331, -2.2285, -2.1557,\n",
       "         -2.2157, -2.2715, -2.3112],\n",
       "        [-2.4409, -2.1959, -2.3865, -2.3678, -2.4511, -2.2461, -2.1614,\n",
       "         -2.1607, -2.3256, -2.3446],\n",
       "        [-2.4330, -2.1268, -2.4062, -2.4316, -2.4394, -2.2510, -2.1502,\n",
       "         -2.1738, -2.3267, -2.3577],\n",
       "        [-2.4965, -2.1709, -2.4603, -2.3335, -2.5158, -2.2508, -2.1502,\n",
       "         -2.2015, -2.2352, -2.2926],\n",
       "        [-2.4123, -2.1543, -2.4164, -2.3933, -2.4138, -2.2683, -2.1334,\n",
       "         -2.2295, -2.3172, -2.3401],\n",
       "        [-2.5046, -2.1400, -2.4123, -2.3300, -2.5055, -2.2681, -2.1891,\n",
       "         -2.1633, -2.2459, -2.3456],\n",
       "        [-2.4615, -2.1498, -2.4618, -2.2993, -2.4721, -2.2831, -2.1838,\n",
       "         -2.1671, -2.2989, -2.3156],\n",
       "        [-2.5085, -2.2412, -2.5135, -2.3019, -2.4238, -2.2592, -2.0820,\n",
       "         -2.1907, -2.3048, -2.2836],\n",
       "        [-2.4066, -2.1812, -2.4021, -2.3536, -2.4660, -2.2688, -2.2256,\n",
       "         -2.1464, -2.2524, -2.3752],\n",
       "        [-2.4887, -2.0736, -2.4765, -2.3584, -2.4758, -2.3011, -2.0881,\n",
       "         -2.2657, -2.3497, -2.2508],\n",
       "        [-2.4837, -2.1713, -2.4825, -2.3240, -2.4126, -2.3252, -2.0879,\n",
       "         -2.2174, -2.3208, -2.2754],\n",
       "        [-2.4230, -2.1678, -2.3875, -2.3838, -2.4094, -2.2354, -2.1988,\n",
       "         -2.2158, -2.3227, -2.3226],\n",
       "        [-2.4312, -2.2025, -2.3785, -2.3762, -2.4530, -2.2477, -2.1809,\n",
       "         -2.2305, -2.2898, -2.2773],\n",
       "        [-2.4807, -2.1621, -2.4267, -2.3898, -2.5230, -2.1818, -2.1986,\n",
       "         -2.1562, -2.2621, -2.3297],\n",
       "        [-2.4693, -2.0825, -2.4646, -2.3736, -2.4041, -2.3104, -2.1312,\n",
       "         -2.2585, -2.2819, -2.3258],\n",
       "        [-2.5423, -2.1881, -2.4655, -2.2738, -2.4898, -2.2508, -2.1624,\n",
       "         -2.2031, -2.2783, -2.2529],\n",
       "        [-2.4701, -2.1684, -2.4646, -2.2799, -2.4620, -2.2669, -2.1635,\n",
       "         -2.2473, -2.2565, -2.3074],\n",
       "        [-2.4606, -2.1748, -2.4413, -2.3471, -2.5272, -2.2214, -2.1706,\n",
       "         -2.1487, -2.3068, -2.3063],\n",
       "        [-2.4734, -2.1950, -2.4268, -2.2787, -2.3972, -2.2769, -2.1120,\n",
       "         -2.2334, -2.3834, -2.3061],\n",
       "        [-2.5692, -2.1223, -2.4783, -2.2964, -2.5163, -2.2602, -2.1072,\n",
       "         -2.1826, -2.3308, -2.2778],\n",
       "        [-2.4859, -2.1654, -2.4612, -2.3547, -2.4454, -2.2096, -2.2271,\n",
       "         -2.1439, -2.2834, -2.3189],\n",
       "        [-2.4970, -2.2219, -2.4115, -2.2928, -2.4852, -2.2130, -2.2284,\n",
       "         -2.1609, -2.2543, -2.3223]])"
      ]
     },
     "execution_count": 64,
     "metadata": {},
     "output_type": "execute_result"
    }
   ],
   "source": [
    "logits"
   ]
  },
  {
   "cell_type": "code",
   "execution_count": 65,
   "metadata": {},
   "outputs": [
    {
     "data": {
      "text/plain": [
       "tensor(2.3080)"
      ]
     },
     "execution_count": 65,
     "metadata": {},
     "output_type": "execute_result"
    }
   ],
   "source": [
    "loss"
   ]
  },
  {
   "cell_type": "code",
   "execution_count": 66,
   "metadata": {},
   "outputs": [
    {
     "data": {
      "text/plain": [
       "Linear(in_features=784, out_features=128, bias=True)"
      ]
     },
     "execution_count": 66,
     "metadata": {},
     "output_type": "execute_result"
    }
   ],
   "source": [
    "model[0]"
   ]
  },
  {
   "cell_type": "code",
   "execution_count": 67,
   "metadata": {},
   "outputs": [
    {
     "name": "stdout",
     "output_type": "stream",
     "text": [
      "Before backward pass: \n",
      " None\n",
      "After backward pass: \n",
      " tensor(1.00000e-02 *\n",
      "       [[-0.1046, -0.1046, -0.1046,  ..., -0.1046, -0.1046, -0.1046],\n",
      "        [ 0.0000,  0.0000,  0.0000,  ...,  0.0000,  0.0000,  0.0000],\n",
      "        [ 0.2231,  0.2231,  0.2231,  ...,  0.2231,  0.2231,  0.2231],\n",
      "        ...,\n",
      "        [-0.0743, -0.0743, -0.0743,  ..., -0.0743, -0.0743, -0.0743],\n",
      "        [ 0.0000,  0.0000,  0.0000,  ...,  0.0000,  0.0000,  0.0000],\n",
      "        [ 0.1934,  0.1934,  0.1934,  ...,  0.1934,  0.1934,  0.1934]])\n"
     ]
    }
   ],
   "source": [
    "print('Before backward pass: \\n', model[0].weight.grad)\n",
    "\n",
    "loss.backward()\n",
    "\n",
    "print('After backward pass: \\n', model[0].weight.grad)"
   ]
  },
  {
   "cell_type": "markdown",
   "metadata": {},
   "source": [
    "## Training the network!\n",
    "\n",
    "There's one last piece we need to start training, an optimizer that we'll use to update the weights with the gradients. We get these from PyTorch's [`optim` package](https://pytorch.org/docs/stable/optim.html). For example we can use stochastic gradient descent with `optim.SGD`. You can see how to define an optimizer below."
   ]
  },
  {
   "cell_type": "code",
   "execution_count": 68,
   "metadata": {},
   "outputs": [],
   "source": [
    "from torch import optim\n",
    "\n",
    "# Optimizers require the parameters to optimize and a learning rate\n",
    "optimizer = optim.SGD(model.parameters(), lr=0.01)"
   ]
  },
  {
   "cell_type": "markdown",
   "metadata": {},
   "source": [
    "Now we know how to use all the individual parts so it's time to see how they work together. Let's consider just one learning step before looping through all the data. The general process with PyTorch:\n",
    "\n",
    "* Make a forward pass through the network \n",
    "* Use the network output to calculate the loss\n",
    "* Perform a backward pass through the network with `loss.backward()` to calculate the gradients\n",
    "* Take a step with the optimizer to update the weights\n",
    "\n",
    "Below I'll go through one training step and print out the weights and gradients so you can see how it changes. Note that I have a line of code `optimizer.zero_grad()`. When you do multiple backwards passes with the same parameters, the gradients are accumulated. This means that you need to zero the gradients on each training pass or you'll retain gradients from previous training batches."
   ]
  },
  {
   "cell_type": "code",
   "execution_count": 75,
   "metadata": {},
   "outputs": [
    {
     "name": "stdout",
     "output_type": "stream",
     "text": [
      "Initial weights -  Parameter containing:\n",
      "tensor([[-2.3495e-02, -2.7996e-02, -3.3658e-03,  ...,  2.4101e-02,\n",
      "          6.9044e-03,  2.5363e-02],\n",
      "        [-7.5540e-03,  2.6041e-02, -3.4554e-02,  ...,  5.3156e-03,\n",
      "         -2.8295e-02, -1.5738e-02],\n",
      "        [-1.2548e-03, -1.6965e-02, -1.8782e-02,  ...,  2.6397e-02,\n",
      "          8.2198e-03,  2.1178e-02],\n",
      "        ...,\n",
      "        [ 3.5463e-02, -2.7667e-02, -3.5198e-02,  ..., -1.4586e-02,\n",
      "          1.2572e-02, -2.0591e-03],\n",
      "        [ 3.6707e-03,  2.6497e-02, -1.4322e-03,  ..., -6.4946e-03,\n",
      "         -2.2070e-02, -5.0197e-03],\n",
      "        [ 1.6069e-02, -1.7163e-02, -2.5661e-02,  ...,  1.3682e-02,\n",
      "         -3.5028e-02,  3.1002e-02]])\n",
      "2.3045780658721924\n",
      "Gradient - tensor(1.00000e-02 *\n",
      "       [[-0.0759, -0.0759, -0.0759,  ..., -0.0759, -0.0759, -0.0759],\n",
      "        [ 0.0154,  0.0154,  0.0154,  ...,  0.0154,  0.0154,  0.0154],\n",
      "        [ 0.3468,  0.3468,  0.3468,  ...,  0.3468,  0.3468,  0.3468],\n",
      "        ...,\n",
      "        [ 0.1149,  0.1149,  0.1149,  ...,  0.1149,  0.1149,  0.1149],\n",
      "        [ 0.0000,  0.0000,  0.0000,  ...,  0.0000,  0.0000,  0.0000],\n",
      "        [ 0.0440,  0.0440,  0.0440,  ...,  0.0440,  0.0440,  0.0440]])\n"
     ]
    }
   ],
   "source": [
    "print('Initial weights - ', model[0].weight)\n",
    "\n",
    "images, labels = next(iter(trainloader))\n",
    "images.resize_(64, 784)\n",
    "\n",
    "# Clear the gradients, do this because gradients are accumulated\n",
    "optimizer.zero_grad()\n",
    "\n",
    "# Forward pass, then backward pass, then update weights\n",
    "output = model.forward(images)\n",
    "loss = criterion(output, labels)\n",
    "loss.backward()\n",
    "print(loss.item())\n",
    "print('Gradient -', model[0].weight.grad)"
   ]
  },
  {
   "cell_type": "code",
   "execution_count": 70,
   "metadata": {},
   "outputs": [
    {
     "name": "stdout",
     "output_type": "stream",
     "text": [
      "Updated weights -  Parameter containing:\n",
      "tensor([[-6.4182e-04, -3.4016e-02,  1.4084e-02,  ...,  3.4601e-02,\n",
      "         -1.2084e-02,  2.5875e-02],\n",
      "        [-3.2663e-03, -2.8507e-02,  3.2636e-02,  ..., -5.2248e-03,\n",
      "         -2.9018e-02,  3.2366e-02],\n",
      "        [ 6.1008e-03, -1.4017e-02, -2.7648e-02,  ...,  3.4275e-02,\n",
      "         -9.7724e-03, -2.5288e-02],\n",
      "        ...,\n",
      "        [-5.5795e-03,  3.8992e-03, -1.0748e-02,  ..., -2.2958e-02,\n",
      "         -4.1262e-04,  3.1866e-02],\n",
      "        [ 2.9121e-02,  3.3979e-02,  1.4549e-02,  ...,  1.9879e-03,\n",
      "         -7.8754e-03,  3.5586e-02],\n",
      "        [-1.4653e-02, -3.3854e-02, -2.7926e-02,  ...,  3.5051e-02,\n",
      "          1.6508e-02, -7.1283e-03]])\n"
     ]
    }
   ],
   "source": [
    "# Take an update step and few the new weights\n",
    "optimizer.step()\n",
    "print('Updated weights - ', model[0].weight)"
   ]
  },
  {
   "cell_type": "markdown",
   "metadata": {},
   "source": [
    "### Training for real\n",
    "\n",
    "Now we'll put this algorithm into a loop so we can go through all the images. Some nomenclature, one pass through the entire dataset is called an *epoch*. So here we're going to loop through `trainloader` to get our training batches. For each batch, we'll doing a training pass where we calculate the loss, do a backwards pass, and update the weights.\n",
    "\n",
    ">**Exercise:** Implement the training pass for our network. If you implemented it correctly, you should see the training loss drop with each epoch."
   ]
  },
  {
   "cell_type": "code",
   "execution_count": 77,
   "metadata": {},
   "outputs": [
    {
     "name": "stdout",
     "output_type": "stream",
     "text": [
      "Training loss: 1.940576415580473\n",
      "Training loss: 0.8720398910327761\n",
      "Training loss: 0.5229402507927372\n",
      "Training loss: 0.4251517292374233\n",
      "Training loss: 0.38191124199550036\n"
     ]
    }
   ],
   "source": [
    "## Your solution here\n",
    "\n",
    "model = nn.Sequential(nn.Linear(784, 128),\n",
    "                      nn.ReLU(),\n",
    "                      nn.Linear(128, 64),\n",
    "                      nn.ReLU(),\n",
    "                      nn.Linear(64, 10),\n",
    "                      nn.LogSoftmax(dim=1))\n",
    "\n",
    "criterion = nn.NLLLoss()\n",
    "optimizer = optim.SGD(model.parameters(), lr=0.003)\n",
    "\n",
    "epochs = 5\n",
    "for e in range(epochs):\n",
    "    running_loss = 0\n",
    "    for images, labels in trainloader:\n",
    "        # Flatten MNIST images into a 784 long vector\n",
    "        images = images.view(images.shape[0], -1)\n",
    "    \n",
    "        # TODO: Training pass\n",
    "        optimizer.zero_grad()\n",
    "        output=model.forward(images)\n",
    "        \n",
    "        loss = criterion(output,labels)\n",
    "        loss.backward()\n",
    "        optimizer.step()\n",
    "        running_loss += loss.item()\n",
    "    else:\n",
    "        print(f\"Training loss: {running_loss/len(trainloader)}\")"
   ]
  },
  {
   "cell_type": "markdown",
   "metadata": {},
   "source": [
    "With the network trained, we can check out it's predictions."
   ]
  },
  {
   "cell_type": "code",
   "execution_count": 78,
   "metadata": {},
   "outputs": [
    {
     "data": {
      "image/png": "[encoded data removed]",
      "text/plain": [
       "<matplotlib.figure.Figure at 0x7fd0783bea58>"
      ]
     },
     "metadata": {
      "needs_background": "light"
     },
     "output_type": "display_data"
    }
   ],
   "source": [
    "%matplotlib inline\n",
    "import helper\n",
    "\n",
    "images, labels = next(iter(trainloader))\n",
    "\n",
    "img = images[0].view(1, 784)\n",
    "# Turn off gradients to speed up this part\n",
    "with torch.no_grad():\n",
    "    logits = model.forward(img)\n",
    "\n",
    "# Output of the network are logits, need to take softmax for probabilities\n",
    "ps = F.softmax(logits, dim=1)\n",
    "helper.view_classify(img.view(1, 28, 28), ps)"
   ]
  },
  {
   "cell_type": "markdown",
   "metadata": {},
   "source": [
    "Now our network is brilliant. It can accurately predict the digits in our images. Next up you'll write the code for training a neural network on a more complex dataset."
   ]
  }
 ],
 "metadata": {
  "kernelspec": {
   "display_name": "Python 3",
   "language": "python",
   "name": "python3"
  },
  "language_info": {
   "codemirror_mode": {
    "name": "ipython",
    "version": 3
   },
   "file_extension": ".py",
   "mimetype": "text/x-python",
   "name": "python",
   "nbconvert_exporter": "python",
   "pygments_lexer": "ipython3",
   "version": "3.6.3"
  }
 },
 "nbformat": 4,
 "nbformat_minor": 2
}
