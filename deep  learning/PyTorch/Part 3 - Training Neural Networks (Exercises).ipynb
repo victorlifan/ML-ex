{
 "cells": [
  {
   "cell_type": "markdown",
   "metadata": {},
   "source": [
    "# Training Neural Networks\n",
    "\n",
    "The network we built in the previous part isn't so smart, it doesn't know anything about our handwritten digits. Neural networks with non-linear activations work like universal function approximators. There is some function that maps your input to the output. For example, images of handwritten digits to class probabilities. The power of neural networks is that we can train them to approximate this function, and basically any function given enough data and compute time.\n",
    "\n",
    "<img src=\"assets/function_approx.png\" width=500px>\n",
    "\n",
    "At first the network is naive, it doesn't know the function mapping the inputs to the outputs. We train the network by showing it examples of real data, then adjusting the network parameters such that it approximates this function.\n",
    "\n",
    "To find these parameters, we need to know how poorly the network is predicting the real outputs. For this we calculate a **loss function** (also called the cost), a measure of our prediction error. For example, the mean squared loss is often used in regression and binary classification problems\n",
    "\n",
    "$$\n",
    "\\large \\ell = \\frac{1}{2n}\\sum_i^n{\\left(y_i - \\hat{y}_i\\right)^2}\n",
    "$$\n",
    "\n",
    "where $n$ is the number of training examples, $y_i$ are the true labels, and $\\hat{y}_i$ are the predicted labels.\n",
    "\n",
    "By minimizing this loss with respect to the network parameters, we can find configurations where the loss is at a minimum and the network is able to predict the correct labels with high accuracy. We find this minimum using a process called **gradient descent**. The gradient is the slope of the loss function and points in the direction of fastest change. To get to the minimum in the least amount of time, we then want to follow the gradient (downwards). You can think of this like descending a mountain by following the steepest slope to the base.\n",
    "\n",
    "<img src='assets/gradient_descent.png' width=350px>"
   ]
  },
  {
   "cell_type": "markdown",
   "metadata": {},
   "source": [
    "## Backpropagation\n",
    "\n",
    "For single layer networks, gradient descent is straightforward to implement. However, it's more complicated for deeper, multilayer neural networks like the one we've built. Complicated enough that it took about 30 years before researchers figured out how to train multilayer networks.\n",
    "\n",
    "Training multilayer networks is done through **backpropagation** which is really just an application of the chain rule from calculus. It's easiest to understand if we convert a two layer network into a graph representation.\n",
    "\n",
    "<img src='assets/backprop_diagram.png' width=550px>\n",
    "\n",
    "In the forward pass through the network, our data and operations go from bottom to top here. We pass the input $x$ through a linear transformation $L_1$ with weights $W_1$ and biases $b_1$. The output then goes through the sigmoid operation $S$ and another linear transformation $L_2$. Finally we calculate the loss $\\ell$. We use the loss as a measure of how bad the network's predictions are. The goal then is to adjust the weights and biases to minimize the loss.\n",
    "\n",
    "To train the weights with gradient descent, we propagate the gradient of the loss backwards through the network. Each operation has some gradient between the inputs and outputs. As we send the gradients backwards, we multiply the incoming gradient with the gradient for the operation. Mathematically, this is really just calculating the gradient of the loss with respect to the weights using the chain rule.\n",
    "\n",
    "$$\n",
    "\\large \\frac{\\partial \\ell}{\\partial W_1} = \\frac{\\partial L_1}{\\partial W_1} \\frac{\\partial S}{\\partial L_1} \\frac{\\partial L_2}{\\partial S} \\frac{\\partial \\ell}{\\partial L_2}\n",
    "$$\n",
    "\n",
    "**Note:** I'm glossing over a few details here that require some knowledge of vector calculus, but they aren't necessary to understand what's going on.\n",
    "\n",
    "We update our weights using this gradient with some learning rate $\\alpha$. \n",
    "\n",
    "$$\n",
    "\\large W^\\prime_1 = W_1 - \\alpha \\frac{\\partial \\ell}{\\partial W_1}\n",
    "$$\n",
    "\n",
    "The learning rate $\\alpha$ is set such that the weight update steps are small enough that the iterative method settles in a minimum."
   ]
  },
  {
   "cell_type": "markdown",
   "metadata": {},
   "source": [
    "## Losses in PyTorch\n",
    "\n",
    "Let's start by seeing how we calculate the loss with PyTorch. Through the `nn` module, PyTorch provides losses such as the cross-entropy loss (`nn.CrossEntropyLoss`). You'll usually see the loss assigned to `criterion`. As noted in the last part, with a classification problem such as MNIST, we're using the softmax function to predict class probabilities. With a softmax output, you want to use cross-entropy as the loss. To actually calculate the loss, you first define the criterion then pass in the output of your network and the correct labels.\n",
    "\n",
    "Something really important to note here. Looking at [the documentation for `nn.CrossEntropyLoss`](https://pytorch.org/docs/stable/nn.html#torch.nn.CrossEntropyLoss),\n",
    "\n",
    "> This criterion combines `nn.LogSoftmax()` and `nn.NLLLoss()` in one single class.\n",
    ">\n",
    "> The input is expected to contain scores for each class.\n",
    "\n",
    "This means we need to pass in the raw output of our network into the loss, not the output of the softmax function. This raw output is usually called the *logits* or *scores*. We use the logits because softmax gives you probabilities which will often be very close to zero or one but floating-point numbers can't accurately represent values near zero or one ([read more here](https://docs.python.org/3/tutorial/floatingpoint.html)). It's usually best to avoid doing calculations with probabilities, typically we use log-probabilities."
   ]
  },
  {
   "cell_type": "code",
   "execution_count": 1,
   "metadata": {},
   "outputs": [],
   "source": [
    "import torch\n",
    "from torch import nn\n",
    "import torch.nn.functional as F\n",
    "from torchvision import datasets, transforms\n",
    "\n",
    "# Define a transform to normalize the data\n",
    "transform = transforms.Compose([transforms.ToTensor(),\n",
    "                                transforms.Normalize((0.5), (0.5)),\n",
    "                              ])\n",
    "# Download and load the training data\n",
    "trainset = datasets.MNIST('~/.pytorch/MNIST_data/', download=True, train=True, transform=transform)\n",
    "trainloader = torch.utils.data.DataLoader(trainset, batch_size=64, shuffle=True)"
   ]
  },
  {
   "cell_type": "markdown",
   "metadata": {},
   "source": [
    "### Note\n",
    "If you haven't seen `nn.Sequential` yet, please finish the end of the Part 2 notebook."
   ]
  },
  {
   "cell_type": "code",
   "execution_count": 2,
   "metadata": {},
   "outputs": [
    {
     "name": "stdout",
     "output_type": "stream",
     "text": [
      "tensor(2.3020, grad_fn=<NllLossBackward>)\n"
     ]
    }
   ],
   "source": [
    "# Build a feed-forward network\n",
    "model = nn.Sequential(nn.Linear(784, 128),\n",
    "                      nn.ReLU(),\n",
    "                      nn.Linear(128, 64),\n",
    "                      nn.ReLU(),\n",
    "                      nn.Linear(64, 10))\n",
    "\n",
    "# Define the loss\n",
    "criterion = nn.CrossEntropyLoss()\n",
    "\n",
    "# Get our data\n",
    "images, labels = next(iter(trainloader))\n",
    "# Flatten images\n",
    "images = images.view(images.shape[0], -1)\n",
    "\n",
    "# Forward pass, get our logits\n",
    "logits = model(images)\n",
    "# Calculate the loss with the logits and the labels\n",
    "loss = criterion(logits, labels)\n",
    "\n",
    "print(loss)"
   ]
  },
  {
   "cell_type": "code",
   "execution_count": 3,
   "metadata": {},
   "outputs": [
    {
     "data": {
      "text/plain": [
       "tensor([[ 3.7994e-02, -6.8594e-02, -2.9091e-02,  2.0930e-01,  5.3121e-02,\n",
       "          1.6989e-01,  6.6756e-02, -7.3763e-02, -3.7562e-02,  2.6801e-01],\n",
       "        [-1.0753e-01, -6.3452e-02,  3.7142e-02,  9.8492e-02,  5.9466e-02,\n",
       "          2.4728e-02, -1.4199e-02, -1.0319e-01, -5.0448e-02,  1.6041e-01],\n",
       "        [-4.8042e-02,  3.3300e-02, -5.1573e-02,  6.9743e-02,  8.0261e-02,\n",
       "          1.0073e-01, -2.8104e-02, -1.5211e-01, -5.1351e-02,  1.4402e-01],\n",
       "        [-3.6392e-03, -1.3574e-02, -2.5281e-02,  1.0283e-01,  5.4701e-02,\n",
       "          5.5490e-02, -7.3333e-02, -1.5893e-01, -7.8825e-02,  1.1947e-01],\n",
       "        [ 5.3659e-02, -2.3851e-02, -3.2272e-02,  1.6097e-01,  5.3316e-02,\n",
       "          5.7369e-02, -5.5837e-02, -1.6938e-01, -4.8021e-02,  1.6503e-01],\n",
       "        [-3.0934e-02, -2.8856e-02, -1.5067e-03,  1.5751e-01, -3.8422e-03,\n",
       "          4.3451e-02,  8.5965e-03, -1.3930e-01, -9.1849e-02,  1.1880e-01],\n",
       "        [ 4.0890e-02, -3.2092e-02,  1.6032e-02,  1.1332e-01,  3.7681e-02,\n",
       "          4.0630e-02, -5.2126e-03, -1.2113e-01, -5.2907e-02,  1.7846e-01],\n",
       "        [-4.1171e-02, -8.1294e-02, -1.4578e-02,  1.2292e-01,  1.2710e-01,\n",
       "          5.7288e-02, -2.2617e-02, -9.8693e-02, -3.8936e-02,  1.3407e-01],\n",
       "        [-3.5298e-02,  3.6339e-02,  5.2226e-04,  8.9152e-02, -7.5907e-02,\n",
       "          7.8808e-02,  6.1641e-03, -1.4505e-01, -4.1523e-02,  1.2721e-01],\n",
       "        [ 7.9320e-03, -6.1325e-02, -2.5714e-03,  6.5370e-02, -1.7889e-02,\n",
       "         -1.8847e-02, -4.0320e-03, -1.7088e-01, -2.5038e-02,  9.2455e-02],\n",
       "        [ 3.6749e-02, -2.0529e-02,  2.1688e-02,  7.9412e-02, -3.1484e-02,\n",
       "          1.0848e-01,  1.2078e-02, -1.0473e-01, -4.0578e-02,  2.1633e-01],\n",
       "        [-2.4599e-02, -4.6114e-02,  3.7094e-02,  1.6697e-01,  2.1746e-02,\n",
       "          8.9235e-02,  2.8016e-02, -5.3997e-02, -6.3554e-02,  2.0953e-01],\n",
       "        [-3.8654e-02,  4.0265e-02, -6.3740e-02,  6.9697e-02,  4.9207e-02,\n",
       "          1.2275e-02, -2.6499e-02, -6.7049e-02, -5.6094e-02,  1.2087e-01],\n",
       "        [ 2.2365e-02, -1.4112e-02, -2.7871e-02,  6.2799e-02,  6.3227e-02,\n",
       "          5.0084e-02, -5.8813e-02, -1.1522e-01, -1.1044e-01,  1.4561e-01],\n",
       "        [ 1.8429e-02,  7.0228e-03, -2.7549e-02,  1.3713e-01,  1.9088e-02,\n",
       "          4.7635e-04, -1.6817e-02, -7.4131e-02, -6.1259e-02,  8.8710e-02],\n",
       "        [ 6.8514e-02, -2.1995e-02, -5.9879e-02,  1.3253e-01,  3.9607e-02,\n",
       "          3.1189e-02, -4.1871e-03, -7.2943e-02, -8.9275e-02,  5.6843e-02],\n",
       "        [ 2.3754e-03, -2.2918e-02,  3.0934e-02,  1.9377e-01, -1.3830e-02,\n",
       "          3.6954e-02, -2.8306e-02, -1.0917e-01, -7.2310e-02,  1.1650e-01],\n",
       "        [ 3.7728e-02,  1.6683e-02,  6.0339e-03,  6.7291e-02,  8.6917e-02,\n",
       "         -1.0160e-02, -2.7255e-02, -3.3212e-02,  5.1388e-03,  1.1425e-01],\n",
       "        [-4.4358e-02,  3.9730e-02, -6.9026e-03,  8.9755e-02,  8.6649e-02,\n",
       "          8.7263e-02,  4.0934e-02, -8.8950e-02, -6.5954e-02,  1.4553e-01],\n",
       "        [-6.1024e-02,  3.2704e-02,  5.1793e-02,  8.5000e-02, -1.8113e-02,\n",
       "          1.2512e-01,  5.0741e-02, -1.0220e-01, -6.8107e-02,  1.8931e-01],\n",
       "        [ 3.6164e-02, -2.6779e-02,  3.2163e-02,  8.5046e-02,  1.8564e-03,\n",
       "          4.8447e-02, -8.7638e-02, -1.7090e-01, -1.0061e-01,  1.4491e-01],\n",
       "        [ 8.1758e-02, -3.9740e-02,  4.3467e-02,  1.1468e-01,  3.2719e-02,\n",
       "          5.0106e-02, -6.0954e-02, -6.9858e-02, -2.9889e-02,  1.5376e-01],\n",
       "        [ 4.9904e-03, -5.8123e-02,  7.5876e-02,  1.2101e-01,  4.2408e-02,\n",
       "         -1.0233e-02, -5.1828e-02, -8.5060e-02, -5.9260e-02,  1.5606e-01],\n",
       "        [-2.2703e-02,  2.3047e-02, -1.9003e-02,  8.5516e-02,  7.3156e-02,\n",
       "          7.4085e-02, -1.7368e-02, -1.0993e-01, -4.2915e-02,  1.3857e-01],\n",
       "        [ 6.2392e-02, -8.6447e-02, -5.9294e-03,  8.4939e-02,  3.4917e-02,\n",
       "          8.9380e-02,  1.9409e-02, -9.4458e-02,  1.1232e-02,  1.7811e-01],\n",
       "        [-3.9303e-02, -1.6227e-02,  2.7001e-02,  1.4686e-01,  1.0778e-01,\n",
       "          2.8216e-02, -3.4189e-02, -1.3775e-01, -5.8521e-02,  1.3940e-01],\n",
       "        [ 9.6999e-02, -9.4848e-03, -5.8188e-03,  1.2214e-01, -2.4399e-02,\n",
       "         -5.8391e-02, -3.3138e-02, -1.4190e-01, -1.4391e-02,  6.2469e-02],\n",
       "        [ 1.6579e-02,  4.5296e-02, -1.0486e-01,  7.8918e-02, -6.7452e-03,\n",
       "          1.1347e-01, -7.5787e-03, -2.0621e-01, -5.0215e-02,  2.7752e-02],\n",
       "        [ 2.4500e-02, -1.6861e-02, -8.6472e-02,  1.3314e-01,  9.8942e-02,\n",
       "          8.7928e-02, -7.1389e-02, -1.9125e-01, -6.3513e-02,  1.3373e-01],\n",
       "        [-3.4345e-02,  2.2436e-02, -7.1370e-02,  1.4044e-01,  3.8008e-02,\n",
       "          1.4075e-01,  2.1031e-02, -1.5293e-01, -5.5884e-02,  1.5819e-01],\n",
       "        [ 6.8917e-02, -2.4027e-02, -2.0154e-02,  1.0165e-01,  1.3107e-02,\n",
       "          1.0551e-02, -6.4723e-02, -1.8439e-01, -1.5531e-02,  6.2321e-02],\n",
       "        [-5.9713e-02, -1.0525e-02,  2.0496e-02,  1.5006e-01, -3.7610e-02,\n",
       "          1.0113e-01,  1.2992e-02, -1.2886e-01, -2.9766e-02,  1.6788e-01],\n",
       "        [-1.6997e-02,  6.9376e-03,  1.4301e-02,  7.7762e-02,  5.5504e-02,\n",
       "          6.1420e-02, -6.0369e-02, -8.5837e-02, -8.4842e-02,  1.9600e-01],\n",
       "        [ 3.5369e-02, -3.0317e-02, -3.0672e-03,  1.5288e-01,  9.7859e-03,\n",
       "          8.0045e-03,  3.8809e-02, -1.1690e-01, -9.5977e-03,  1.4189e-01],\n",
       "        [-8.5423e-03, -1.1297e-02,  2.4534e-03,  1.3326e-01,  7.7240e-02,\n",
       "          1.3539e-01,  4.6623e-02, -1.0357e-01, -7.1136e-02,  1.7728e-01],\n",
       "        [ 7.6352e-02,  1.7926e-02, -2.9500e-02,  9.7920e-02,  5.9239e-02,\n",
       "          1.1272e-03, -4.8318e-02, -7.2052e-02, -1.3572e-03,  5.3816e-03],\n",
       "        [ 6.2245e-02, -8.1406e-03, -2.7517e-02,  1.3019e-01,  1.4727e-02,\n",
       "          1.9883e-02, -2.6423e-02, -1.3527e-01, -5.1567e-02,  1.8693e-01],\n",
       "        [-6.8426e-02, -8.6306e-02,  9.7190e-03,  1.4162e-01,  1.4356e-02,\n",
       "          8.2838e-02, -3.1406e-02, -1.2676e-01, -4.6641e-02,  1.1628e-01],\n",
       "        [ 8.6546e-02,  2.4205e-02, -4.4633e-02,  1.4746e-01,  5.1705e-02,\n",
       "          3.2700e-02, -3.9467e-02, -6.9673e-02, -4.9476e-02,  1.1597e-01],\n",
       "        [ 1.4627e-02, -2.3287e-02,  2.5785e-02,  1.1973e-01,  6.4349e-02,\n",
       "          5.4390e-02, -2.2343e-03, -6.9094e-02, -6.6540e-02,  1.5990e-01],\n",
       "        [ 1.7338e-04,  1.7234e-02,  1.5617e-02,  8.4658e-02,  8.8198e-03,\n",
       "          5.7232e-02,  2.2158e-02, -1.3456e-01, -4.1960e-02,  1.7019e-01],\n",
       "        [ 3.3871e-02, -8.4956e-02,  4.8114e-02,  7.9508e-02,  5.9373e-02,\n",
       "          4.7405e-02, -7.0464e-02, -9.4515e-02, -2.8838e-02,  2.2567e-01],\n",
       "        [ 2.5902e-02,  1.9310e-02,  1.5455e-03,  7.8388e-02,  3.7481e-02,\n",
       "          5.4485e-02,  2.7653e-02, -8.2518e-02, -9.0047e-02,  1.7960e-01],\n",
       "        [-6.0475e-02, -5.2968e-02,  5.3783e-02,  1.8397e-01, -6.0109e-03,\n",
       "          1.0534e-01, -2.6109e-03, -1.2209e-01, -5.0044e-02,  1.5652e-01],\n",
       "        [ 2.4997e-02,  3.8602e-03, -8.7085e-02,  6.6221e-02, -2.7033e-02,\n",
       "          1.7184e-01, -1.5907e-02, -1.9725e-01, -2.1608e-02,  1.2180e-01],\n",
       "        [-8.6939e-03,  3.2191e-02,  2.6023e-02,  9.5591e-02, -1.3831e-02,\n",
       "          1.3732e-01,  2.4142e-02, -1.0311e-01, -4.3599e-02,  1.6755e-01],\n",
       "        [ 8.1222e-02, -2.4468e-03,  3.2760e-02,  1.1896e-01,  1.2370e-02,\n",
       "         -8.0030e-04, -6.6194e-02, -8.0638e-02, -4.7839e-02,  1.3450e-01],\n",
       "        [-7.5028e-02,  1.5786e-02, -4.3915e-02,  1.1784e-01,  7.3081e-02,\n",
       "          8.9362e-02,  2.1379e-02, -7.9037e-02, -6.4163e-02,  1.6850e-01],\n",
       "        [ 6.2698e-02,  1.0425e-02,  9.1213e-03,  1.5632e-01, -9.6040e-02,\n",
       "          3.3235e-02, -5.2578e-02, -1.3454e-01, -9.3429e-02,  5.0750e-02],\n",
       "        [-7.4506e-03,  4.0777e-03, -2.0088e-02,  9.8668e-02,  6.3304e-02,\n",
       "          4.8220e-02, -1.3003e-02, -8.3643e-02, -6.5640e-02,  1.4058e-01],\n",
       "        [ 6.3286e-02, -4.1167e-02,  3.9870e-02,  1.2146e-01,  3.6763e-02,\n",
       "         -2.3811e-02, -2.7231e-02, -5.3846e-02, -5.0051e-02,  1.2316e-01],\n",
       "        [ 4.9543e-02,  1.6205e-02, -2.5412e-02,  1.4605e-01, -5.7194e-02,\n",
       "          5.7154e-02,  2.5759e-02, -1.9422e-01, -5.6236e-02,  1.2529e-01],\n",
       "        [-7.7981e-02,  1.7267e-03,  5.8541e-02,  8.8018e-02,  1.8760e-02,\n",
       "          3.9861e-02,  2.6525e-03, -1.7060e-01, -4.4896e-02,  1.8670e-01],\n",
       "        [-8.4396e-02,  6.2805e-03, -1.2994e-02,  1.2373e-01, -6.9657e-02,\n",
       "          6.8822e-02,  5.6766e-02, -1.5275e-01, -6.7086e-02,  1.3730e-01],\n",
       "        [ 4.5776e-03, -3.4567e-02, -1.3596e-02,  3.9191e-02,  2.8578e-02,\n",
       "          1.5074e-02,  5.3869e-02, -1.5292e-01, -4.8123e-02,  1.8062e-01],\n",
       "        [ 3.0305e-02, -8.4570e-02,  1.4813e-02,  1.5588e-01,  3.7864e-02,\n",
       "          9.7260e-02,  3.8658e-02, -7.3471e-02, -1.1983e-02,  2.0344e-01],\n",
       "        [ 4.8768e-02, -3.5942e-03, -3.7169e-02,  6.5981e-02,  6.1067e-02,\n",
       "          6.7265e-02,  6.4827e-03, -8.2613e-02, -1.8919e-02,  1.4849e-01],\n",
       "        [ 4.6611e-02, -2.3112e-02,  2.0506e-02,  9.6609e-02,  2.8960e-02,\n",
       "          2.8933e-02,  5.2229e-02, -1.1555e-01,  1.6342e-02,  1.4698e-01],\n",
       "        [ 1.8087e-02, -3.9360e-02, -4.2927e-02,  8.0645e-02,  1.3501e-02,\n",
       "          1.2712e-01,  2.6829e-02, -9.5251e-02, -5.3373e-03,  1.3655e-01],\n",
       "        [-1.4108e-02, -9.0700e-02,  7.2069e-02,  1.5797e-01, -2.4147e-02,\n",
       "          7.4545e-02,  7.1142e-02, -1.0293e-01, -7.3526e-02,  2.4413e-01],\n",
       "        [ 8.0791e-02, -8.3313e-02, -2.4244e-02,  9.3315e-02,  4.9861e-02,\n",
       "          2.2331e-02, -4.7565e-02, -9.6866e-02, -9.3156e-02,  1.2293e-01],\n",
       "        [ 6.7762e-03, -6.8130e-02,  1.1083e-02,  1.3454e-01,  4.4970e-02,\n",
       "          2.3178e-02, -3.2054e-02, -3.0518e-02, -1.0560e-01,  1.7800e-01],\n",
       "        [ 2.4812e-02,  4.9731e-02,  1.1690e-02,  7.3182e-02, -3.5192e-03,\n",
       "          1.1506e-01,  1.7354e-03, -1.0719e-01, -1.3414e-02,  1.7698e-01],\n",
       "        [-2.8302e-02,  3.3063e-02,  1.7833e-02,  1.2004e-01,  2.3038e-02,\n",
       "          1.2513e-01,  3.7912e-02, -9.8121e-02, -3.7952e-02,  1.7149e-01]],\n",
       "       grad_fn=<AddmmBackward>)"
      ]
     },
     "execution_count": 3,
     "metadata": {},
     "output_type": "execute_result"
    }
   ],
   "source": [
    "logits"
   ]
  },
  {
   "cell_type": "markdown",
   "metadata": {},
   "source": [
    "In my experience it's more convenient to build the model with a log-softmax output using `nn.LogSoftmax` or `F.log_softmax` ([documentation](https://pytorch.org/docs/stable/nn.html#torch.nn.LogSoftmax)). Then you can get the actual probabilities by taking the exponential `torch.exp(output)`. With a log-softmax output, you want to use the negative log likelihood loss, `nn.NLLLoss` ([documentation](https://pytorch.org/docs/stable/nn.html#torch.nn.NLLLoss)).\n",
    "\n",
    ">**Exercise:** Build a model that returns the log-softmax as the output and calculate the loss using the negative log likelihood loss. Note that for `nn.LogSoftmax` and `F.log_softmax` you'll need to set the `dim` keyword argument appropriately. `dim=0` calculates softmax across the rows, so each row sums to 1, while `dim=1` calculates across the columns so each column sums to 1. Think about what you want the output to be and choose `dim` appropriately."
   ]
  },
  {
   "cell_type": "code",
   "execution_count": 4,
   "metadata": {},
   "outputs": [
    {
     "name": "stdout",
     "output_type": "stream",
     "text": [
      "tensor(2.2960, grad_fn=<NllLossBackward>)\n"
     ]
    }
   ],
   "source": [
    "# TODO: Build a feed-forward network\n",
    "model = nn.Sequential(nn.Linear(784,128),\n",
    "                      nn.ReLU(),\n",
    "                      nn.Linear(128,64),\n",
    "                      nn.ReLU(),\n",
    "                      nn.Linear(64,10),\n",
    "                      nn.LogSoftmax(dim=1))\n",
    "\n",
    "# TODO: Define the loss\n",
    "criterion = nn.NLLLoss()\n",
    "\n",
    "### Run this to check your work\n",
    "# Get our data\n",
    "images, labels = next(iter(trainloader))\n",
    "# Flatten images\n",
    "images = images.view(images.shape[0], -1)\n",
    "\n",
    "# Forward pass, get our logits\n",
    "logps = model(images)\n",
    "# Calculate the loss with the logits and the labels\n",
    "loss = criterion(logps, labels)\n",
    "\n",
    "print(loss)"
   ]
  },
  {
   "cell_type": "code",
   "execution_count": 5,
   "metadata": {},
   "outputs": [
    {
     "data": {
      "text/plain": [
       "tensor([[-2.3387, -2.1460, -2.3489, -2.5030, -2.2229, -2.2387, -2.3439, -2.3511,\n",
       "         -2.3595, -2.2192],\n",
       "        [-2.3140, -2.1030, -2.4192, -2.4172, -2.2792, -2.2470, -2.3539, -2.3028,\n",
       "         -2.4133, -2.2229],\n",
       "        [-2.4111, -2.0760, -2.4140, -2.4938, -2.2638, -2.1905, -2.3072, -2.3236,\n",
       "         -2.4097, -2.2101],\n",
       "        [-2.3899, -2.2088, -2.4339, -2.4919, -2.2004, -2.2535, -2.2840, -2.2806,\n",
       "         -2.3674, -2.1673],\n",
       "        [-2.3355, -2.1327, -2.4059, -2.4856, -2.2107, -2.2090, -2.3636, -2.3306,\n",
       "         -2.4176, -2.1949],\n",
       "        [-2.4084, -2.1719, -2.4349, -2.4571, -2.2284, -2.1602, -2.3362, -2.2356,\n",
       "         -2.4348, -2.2205],\n",
       "        [-2.3710, -2.1024, -2.3449, -2.4769, -2.2911, -2.2176, -2.3403, -2.3539,\n",
       "         -2.4213, -2.1676],\n",
       "        [-2.3097, -2.0742, -2.3814, -2.4779, -2.3091, -2.3184, -2.3113, -2.3398,\n",
       "         -2.4118, -2.1560],\n",
       "        [-2.3513, -2.0650, -2.3855, -2.4303, -2.2894, -2.2490, -2.3552, -2.3862,\n",
       "         -2.4279, -2.1545],\n",
       "        [-2.3917, -2.1877, -2.3530, -2.4289, -2.2447, -2.2019, -2.3161, -2.3269,\n",
       "         -2.3869, -2.2220],\n",
       "        [-2.3835, -2.1004, -2.3219, -2.4432, -2.2488, -2.2467, -2.3534, -2.3363,\n",
       "         -2.4105, -2.2291],\n",
       "        [-2.4198, -2.0617, -2.3886, -2.4739, -2.3062, -2.2473, -2.2829, -2.3093,\n",
       "         -2.4412, -2.1706],\n",
       "        [-2.3502, -2.0854, -2.3707, -2.4379, -2.2757, -2.2267, -2.3466, -2.3804,\n",
       "         -2.4210, -2.1894],\n",
       "        [-2.3598, -2.0720, -2.3867, -2.4758, -2.3277, -2.2314, -2.3418, -2.2653,\n",
       "         -2.4674, -2.1720],\n",
       "        [-2.3535, -2.0818, -2.3922, -2.4665, -2.2892, -2.2741, -2.3341, -2.2620,\n",
       "         -2.4375, -2.1957],\n",
       "        [-2.3156, -2.1528, -2.3609, -2.4723, -2.2679, -2.2426, -2.3054, -2.3071,\n",
       "         -2.4012, -2.2365],\n",
       "        [-2.3472, -2.1748, -2.4447, -2.4377, -2.2173, -2.1574, -2.3742, -2.3744,\n",
       "         -2.3849, -2.1731],\n",
       "        [-2.3218, -2.1097, -2.3806, -2.4486, -2.2516, -2.2694, -2.3264, -2.3506,\n",
       "         -2.3826, -2.2270],\n",
       "        [-2.3693, -2.1451, -2.3969, -2.4450, -2.2513, -2.1863, -2.3507, -2.2987,\n",
       "         -2.4204, -2.2118],\n",
       "        [-2.3630, -2.1666, -2.4179, -2.4850, -2.2208, -2.1612, -2.3354, -2.3103,\n",
       "         -2.4151, -2.2091],\n",
       "        [-2.2604, -2.1765, -2.4254, -2.4504, -2.2879, -2.2216, -2.3038, -2.2744,\n",
       "         -2.3840, -2.2758],\n",
       "        [-2.3135, -2.1247, -2.3585, -2.4630, -2.2536, -2.2790, -2.3476, -2.2913,\n",
       "         -2.4189, -2.2190],\n",
       "        [-2.3524, -2.0318, -2.3941, -2.4677, -2.2689, -2.2677, -2.3516, -2.4105,\n",
       "         -2.4099, -2.1546],\n",
       "        [-2.3890, -2.0849, -2.4014, -2.4819, -2.2792, -2.2529, -2.2945, -2.3156,\n",
       "         -2.4076, -2.1825],\n",
       "        [-2.3467, -2.0502, -2.3508, -2.4766, -2.3000, -2.3143, -2.3215, -2.2994,\n",
       "         -2.4249, -2.2048],\n",
       "        [-2.4012, -2.0982, -2.3232, -2.4819, -2.2917, -2.2878, -2.2885, -2.3287,\n",
       "         -2.4099, -2.1723],\n",
       "        [-2.3163, -2.1058, -2.3534, -2.4480, -2.3331, -2.2880, -2.2938, -2.3202,\n",
       "         -2.4230, -2.1907],\n",
       "        [-2.3095, -2.1755, -2.3946, -2.4768, -2.3403, -2.2395, -2.2694, -2.2970,\n",
       "         -2.4173, -2.1542],\n",
       "        [-2.3831, -2.1402, -2.4342, -2.4141, -2.2744, -2.2488, -2.2792, -2.2501,\n",
       "         -2.3980, -2.2449],\n",
       "        [-2.3286, -2.0907, -2.3870, -2.4638, -2.2997, -2.2664, -2.3390, -2.3064,\n",
       "         -2.3920, -2.2028],\n",
       "        [-2.3814, -2.1042, -2.3339, -2.4262, -2.3004, -2.2800, -2.2931, -2.3303,\n",
       "         -2.4280, -2.1945],\n",
       "        [-2.3544, -2.1155, -2.3748, -2.4749, -2.2673, -2.2498, -2.3182, -2.3358,\n",
       "         -2.4036, -2.1831],\n",
       "        [-2.3415, -2.0544, -2.3714, -2.5021, -2.3005, -2.3051, -2.2931, -2.3800,\n",
       "         -2.3763, -2.1713],\n",
       "        [-2.4040, -2.1377, -2.3674, -2.4215, -2.2829, -2.2200, -2.2908, -2.3189,\n",
       "         -2.4112, -2.2133],\n",
       "        [-2.3362, -2.0913, -2.3897, -2.4583, -2.3081, -2.2124, -2.3647, -2.2909,\n",
       "         -2.4632, -2.1774],\n",
       "        [-2.4304, -2.0953, -2.3843, -2.4763, -2.2479, -2.2227, -2.2891, -2.3536,\n",
       "         -2.4006, -2.1914],\n",
       "        [-2.3901, -2.0636, -2.3374, -2.4619, -2.3144, -2.2962, -2.2402, -2.3556,\n",
       "         -2.4541, -2.1816],\n",
       "        [-2.3557, -2.1546, -2.3547, -2.4394, -2.3168, -2.2454, -2.2500, -2.2970,\n",
       "         -2.4253, -2.2236],\n",
       "        [-2.3675, -2.2486, -2.4093, -2.4851, -2.2156, -2.2152, -2.3159, -2.1953,\n",
       "         -2.3758, -2.2409],\n",
       "        [-2.3580, -2.0883, -2.3764, -2.4435, -2.2944, -2.2320, -2.3535, -2.3378,\n",
       "         -2.4444, -2.1605],\n",
       "        [-2.3852, -2.0999, -2.3704, -2.4749, -2.2836, -2.2191, -2.3372, -2.3220,\n",
       "         -2.4152, -2.1786],\n",
       "        [-2.3059, -2.0906, -2.3402, -2.4687, -2.3128, -2.2309, -2.3459, -2.3306,\n",
       "         -2.4046, -2.2443],\n",
       "        [-2.3155, -2.1336, -2.4083, -2.4840, -2.2851, -2.2458, -2.2831, -2.2886,\n",
       "         -2.4118, -2.2178],\n",
       "        [-2.3836, -2.1709, -2.3618, -2.4511, -2.2791, -2.2357, -2.2485, -2.3095,\n",
       "         -2.4105, -2.2134],\n",
       "        [-2.3232, -2.0559, -2.3713, -2.4798, -2.3152, -2.3275, -2.3100, -2.3375,\n",
       "         -2.3843, -2.1833],\n",
       "        [-2.3486, -2.1594, -2.4037, -2.4567, -2.2556, -2.2262, -2.2825, -2.3198,\n",
       "         -2.3793, -2.2319],\n",
       "        [-2.4140, -2.0635, -2.3999, -2.4769, -2.2947, -2.2900, -2.2690, -2.3011,\n",
       "         -2.3969, -2.1876],\n",
       "        [-2.3562, -2.1229, -2.4198, -2.4304, -2.3475, -2.2329, -2.2567, -2.3019,\n",
       "         -2.4069, -2.1991],\n",
       "        [-2.3297, -2.1411, -2.3675, -2.4418, -2.3172, -2.2204, -2.2912, -2.3391,\n",
       "         -2.4100, -2.2077],\n",
       "        [-2.3593, -2.0643, -2.3812, -2.4108, -2.3103, -2.2196, -2.3469, -2.3435,\n",
       "         -2.4031, -2.2401],\n",
       "        [-2.3454, -2.1065, -2.3733, -2.4747, -2.2827, -2.2847, -2.3205, -2.3003,\n",
       "         -2.3982, -2.1891],\n",
       "        [-2.3396, -2.0893, -2.3795, -2.4327, -2.2659, -2.2541, -2.3027, -2.3291,\n",
       "         -2.4189, -2.2600],\n",
       "        [-2.3336, -2.2162, -2.3903, -2.5000, -2.2285, -2.1803, -2.3256, -2.2684,\n",
       "         -2.4024, -2.2261],\n",
       "        [-2.3753, -2.0693, -2.4187, -2.4507, -2.2615, -2.2359, -2.3333, -2.4094,\n",
       "         -2.3990, -2.1479],\n",
       "        [-2.3164, -2.0890, -2.3880, -2.4095, -2.3261, -2.1701, -2.3176, -2.3585,\n",
       "         -2.4600, -2.2489],\n",
       "        [-2.4090, -2.1984, -2.3687, -2.4384, -2.2427, -2.1951, -2.2668, -2.3352,\n",
       "         -2.3690, -2.2379],\n",
       "        [-2.3014, -2.1450, -2.4276, -2.4746, -2.3137, -2.2607, -2.2620, -2.2651,\n",
       "         -2.3903, -2.2290],\n",
       "        [-2.3417, -2.1403, -2.4336, -2.5399, -2.1845, -2.2026, -2.2972, -2.2845,\n",
       "         -2.4378, -2.2362],\n",
       "        [-2.3464, -2.1078, -2.3887, -2.4859, -2.3272, -2.2966, -2.2376, -2.3488,\n",
       "         -2.4185, -2.1341],\n",
       "        [-2.3729, -2.1733, -2.3491, -2.4132, -2.2535, -2.1735, -2.2910, -2.4507,\n",
       "         -2.3636, -2.2282],\n",
       "        [-2.3120, -2.0690, -2.3503, -2.4415, -2.3278, -2.2535, -2.3344, -2.3809,\n",
       "         -2.4538, -2.1680],\n",
       "        [-2.3345, -2.1327, -2.3822, -2.4776, -2.2644, -2.2800, -2.3055, -2.2773,\n",
       "         -2.3901, -2.2231],\n",
       "        [-2.3691, -2.1030, -2.3691, -2.4532, -2.2622, -2.2651, -2.3313, -2.3089,\n",
       "         -2.4007, -2.2106],\n",
       "        [-2.3367, -2.1632, -2.4056, -2.3993, -2.2745, -2.2249, -2.3174, -2.3051,\n",
       "         -2.3922, -2.2372]], grad_fn=<LogSoftmaxBackward>)"
      ]
     },
     "execution_count": 5,
     "metadata": {},
     "output_type": "execute_result"
    }
   ],
   "source": [
    "logps"
   ]
  },
  {
   "cell_type": "markdown",
   "metadata": {},
   "source": [
    "## Autograd\n",
    "\n",
    "Now that we know how to calculate a loss, how do we use it to perform backpropagation? Torch provides a module, `autograd`, for automatically calculating the gradients of tensors. We can use it to calculate the gradients of all our parameters with respect to the loss. Autograd works by keeping track of operations performed on tensors, then going backwards through those operations, calculating gradients along the way. To make sure PyTorch keeps track of operations on a tensor and calculates the gradients, you need to set `requires_grad = True` on a tensor. You can do this at creation with the `requires_grad` keyword, or at any time with `x.requires_grad_(True)`.\n",
    "\n",
    "You can turn off gradients for a block of code with the `torch.no_grad()` content:\n",
    "```python\n",
    "x = torch.zeros(1, requires_grad=True)\n",
    ">>> with torch.no_grad():\n",
    "...     y = x * 2\n",
    ">>> y.requires_grad\n",
    "False\n",
    "```\n",
    "\n",
    "Also, you can turn on or off gradients altogether with `torch.set_grad_enabled(True|False)`.\n",
    "\n",
    "The gradients are computed with respect to some variable `z` with `z.backward()`. This does a backward pass through the operations that created `z`."
   ]
  },
  {
   "cell_type": "code",
   "execution_count": 6,
   "metadata": {},
   "outputs": [
    {
     "name": "stdout",
     "output_type": "stream",
     "text": [
      "tensor([[1.9647, 0.6332],\n",
      "        [0.7190, 0.5154]], requires_grad=True)\n"
     ]
    }
   ],
   "source": [
    "x = torch.randn(2,2, requires_grad=True)\n",
    "print(x)"
   ]
  },
  {
   "cell_type": "code",
   "execution_count": 7,
   "metadata": {},
   "outputs": [
    {
     "name": "stdout",
     "output_type": "stream",
     "text": [
      "tensor([[3.8600, 0.4009],\n",
      "        [0.5170, 0.2656]], grad_fn=<PowBackward0>)\n"
     ]
    }
   ],
   "source": [
    "y = x**2\n",
    "print(y)"
   ]
  },
  {
   "cell_type": "markdown",
   "metadata": {},
   "source": [
    "Below we can see the operation that created `y`, a power operation `PowBackward0`."
   ]
  },
  {
   "cell_type": "code",
   "execution_count": 8,
   "metadata": {},
   "outputs": [
    {
     "name": "stdout",
     "output_type": "stream",
     "text": [
      "<PowBackward0 object at 0x000001604D7A7E88>\n"
     ]
    }
   ],
   "source": [
    "## grad_fn shows the function that generated this variable\n",
    "print(y.grad_fn)"
   ]
  },
  {
   "cell_type": "markdown",
   "metadata": {},
   "source": [
    "The autgrad module keeps track of these operations and knows how to calculate the gradient for each one. In this way, it's able to calculate the gradients for a chain of operations, with respect to any one tensor. Let's reduce the tensor `y` to a scalar value, the mean."
   ]
  },
  {
   "cell_type": "code",
   "execution_count": 9,
   "metadata": {},
   "outputs": [
    {
     "name": "stdout",
     "output_type": "stream",
     "text": [
      "tensor(1.2609, grad_fn=<MeanBackward0>)\n"
     ]
    }
   ],
   "source": [
    "z = y.mean()\n",
    "print(z)"
   ]
  },
  {
   "cell_type": "markdown",
   "metadata": {},
   "source": [
    "You can check the gradients for `x` and `y` but they are empty currently."
   ]
  },
  {
   "cell_type": "code",
   "execution_count": 10,
   "metadata": {},
   "outputs": [
    {
     "name": "stdout",
     "output_type": "stream",
     "text": [
      "None\n"
     ]
    }
   ],
   "source": [
    "print(x.grad)"
   ]
  },
  {
   "cell_type": "markdown",
   "metadata": {},
   "source": [
    "To calculate the gradients, you need to run the `.backward` method on a Variable, `z` for example. This will calculate the gradient for `z` with respect to `x`\n",
    "\n",
    "$$\n",
    "\\frac{\\partial z}{\\partial x} = \\frac{\\partial}{\\partial x}\\left[\\frac{1}{n}\\sum_i^n x_i^2\\right] = \\frac{x}{2}\n",
    "$$"
   ]
  },
  {
   "cell_type": "code",
   "execution_count": 11,
   "metadata": {},
   "outputs": [
    {
     "name": "stdout",
     "output_type": "stream",
     "text": [
      "None\n"
     ]
    }
   ],
   "source": [
    "print(z.backward())"
   ]
  },
  {
   "cell_type": "code",
   "execution_count": 12,
   "metadata": {},
   "outputs": [
    {
     "name": "stdout",
     "output_type": "stream",
     "text": [
      "tensor([[0.9823, 0.3166],\n",
      "        [0.3595, 0.2577]])\n",
      "tensor([[0.9823, 0.3166],\n",
      "        [0.3595, 0.2577]], grad_fn=<DivBackward0>)\n"
     ]
    }
   ],
   "source": [
    "print(x.grad)\n",
    "print(x/2)"
   ]
  },
  {
   "cell_type": "markdown",
   "metadata": {},
   "source": [
    "These gradients calculations are particularly useful for neural networks. For training we need the gradients of the weights with respect to the cost. With PyTorch, we run data forward through the network to calculate the loss, then, go backwards to calculate the gradients with respect to the loss. Once we have the gradients we can make a gradient descent step. "
   ]
  },
  {
   "cell_type": "markdown",
   "metadata": {},
   "source": [
    "## Loss and Autograd together\n",
    "\n",
    "When we create a network with PyTorch, all of the parameters are initialized with `requires_grad = True`. This means that when we calculate the loss and call `loss.backward()`, the gradients for the parameters are calculated. These gradients are used to update the weights with gradient descent. Below you can see an example of calculating the gradients using a backwards pass."
   ]
  },
  {
   "cell_type": "code",
   "execution_count": 13,
   "metadata": {},
   "outputs": [],
   "source": [
    "# Build a feed-forward network\n",
    "model = nn.Sequential(nn.Linear(784, 128),\n",
    "                      nn.ReLU(),\n",
    "                      nn.Linear(128, 64),\n",
    "                      nn.ReLU(),\n",
    "                      nn.Linear(64, 10),\n",
    "                      nn.LogSoftmax(dim=1))\n",
    "\n",
    "criterion = nn.NLLLoss()\n",
    "images, labels = next(iter(trainloader))\n",
    "images = images.view(images.shape[0], -1)\n",
    "\n",
    "logits = model(images)\n",
    "loss = criterion(logits, labels)"
   ]
  },
  {
   "cell_type": "code",
   "execution_count": 14,
   "metadata": {
    "scrolled": true
   },
   "outputs": [
    {
     "data": {
      "text/plain": [
       "tensor([[-2.2169, -2.3514, -2.0842, -2.3993, -2.4965, -2.4993, -2.3586, -2.0180,\n",
       "         -2.5258, -2.2196],\n",
       "        [-2.1834, -2.2939, -2.1134, -2.3308, -2.4994, -2.5507, -2.4297, -2.0648,\n",
       "         -2.4802, -2.2106],\n",
       "        [-2.1998, -2.3087, -2.2094, -2.3402, -2.4495, -2.4893, -2.4724, -2.0894,\n",
       "         -2.3419, -2.2061],\n",
       "        [-2.2026, -2.2592, -2.2076, -2.4254, -2.4052, -2.5080, -2.4014, -2.0337,\n",
       "         -2.3823, -2.2906],\n",
       "        [-2.2114, -2.2835, -2.1515, -2.4093, -2.4056, -2.4793, -2.3540, -2.0204,\n",
       "         -2.5368, -2.2865],\n",
       "        [-2.2398, -2.3412, -2.1758, -2.3344, -2.3841, -2.4279, -2.4367, -2.0936,\n",
       "         -2.4036, -2.2495],\n",
       "        [-2.2504, -2.3618, -2.1049, -2.3371, -2.4737, -2.4705, -2.4028, -2.0558,\n",
       "         -2.4877, -2.1933],\n",
       "        [-2.2287, -2.3089, -2.1664, -2.4116, -2.4578, -2.5145, -2.4193, -1.9972,\n",
       "         -2.4177, -2.2224],\n",
       "        [-2.2643, -2.3032, -2.1743, -2.3865, -2.4244, -2.4379, -2.3429, -2.0204,\n",
       "         -2.4729, -2.2861],\n",
       "        [-2.2191, -2.2695, -2.1799, -2.3533, -2.3818, -2.4875, -2.4336, -2.1081,\n",
       "         -2.3844, -2.2732],\n",
       "        [-2.1862, -2.2538, -2.2528, -2.3835, -2.4362, -2.4959, -2.4408, -2.0651,\n",
       "         -2.4084, -2.1932],\n",
       "        [-2.2519, -2.3067, -2.1376, -2.3843, -2.4257, -2.4907, -2.4188, -2.0498,\n",
       "         -2.4077, -2.2439],\n",
       "        [-2.2456, -2.2976, -2.1525, -2.3911, -2.4678, -2.4419, -2.3608, -2.0454,\n",
       "         -2.5030, -2.2199],\n",
       "        [-2.2444, -2.3039, -2.1079, -2.3431, -2.4809, -2.4747, -2.3947, -2.0568,\n",
       "         -2.4749, -2.2488],\n",
       "        [-2.1945, -2.2726, -2.1335, -2.3502, -2.4819, -2.4997, -2.4468, -2.0504,\n",
       "         -2.4498, -2.2586],\n",
       "        [-2.2133, -2.2800, -2.2045, -2.3702, -2.4476, -2.5191, -2.3821, -2.0683,\n",
       "         -2.4023, -2.2228],\n",
       "        [-2.2402, -2.2998, -2.1769, -2.4619, -2.4176, -2.4411, -2.3898, -1.9975,\n",
       "         -2.4461, -2.2589],\n",
       "        [-2.2319, -2.2743, -2.1338, -2.3837, -2.4480, -2.4405, -2.3754, -2.1076,\n",
       "         -2.4541, -2.2522],\n",
       "        [-2.2351, -2.2983, -2.1678, -2.3965, -2.3953, -2.5104, -2.4193, -2.0374,\n",
       "         -2.4037, -2.2539],\n",
       "        [-2.3000, -2.3329, -2.1464, -2.4943, -2.4226, -2.4526, -2.3562, -1.9500,\n",
       "         -2.4610, -2.2434],\n",
       "        [-2.2438, -2.3152, -2.1308, -2.4094, -2.3959, -2.4917, -2.4018, -2.0479,\n",
       "         -2.4491, -2.2368],\n",
       "        [-2.2333, -2.2670, -2.1235, -2.4362, -2.4700, -2.5259, -2.3064, -2.0126,\n",
       "         -2.5453, -2.2459],\n",
       "        [-2.2012, -2.3228, -2.1052, -2.4124, -2.4867, -2.5385, -2.3671, -2.0048,\n",
       "         -2.4921, -2.2390],\n",
       "        [-2.1929, -2.3117, -2.1304, -2.4021, -2.4728, -2.5037, -2.4027, -2.0175,\n",
       "         -2.4487, -2.2635],\n",
       "        [-2.2279, -2.3085, -2.1791, -2.3825, -2.4243, -2.5040, -2.4191, -2.0345,\n",
       "         -2.4392, -2.2064],\n",
       "        [-2.1969, -2.2937, -2.1630, -2.3484, -2.4743, -2.5169, -2.3858, -2.0667,\n",
       "         -2.4493, -2.2298],\n",
       "        [-2.1720, -2.3124, -2.1202, -2.3567, -2.4909, -2.5339, -2.4020, -2.0565,\n",
       "         -2.4822, -2.2246],\n",
       "        [-2.2365, -2.3226, -2.0830, -2.4623, -2.5664, -2.5164, -2.3148, -1.9884,\n",
       "         -2.5237, -2.1899],\n",
       "        [-2.1022, -2.3091, -2.1789, -2.4178, -2.4578, -2.5236, -2.3910, -2.0427,\n",
       "         -2.4176, -2.3022],\n",
       "        [-2.2568, -2.2972, -2.1366, -2.3718, -2.4759, -2.5383, -2.3862, -2.0157,\n",
       "         -2.4526, -2.2161],\n",
       "        [-2.2242, -2.3103, -2.1011, -2.4340, -2.4867, -2.4725, -2.3755, -2.0227,\n",
       "         -2.4824, -2.2421],\n",
       "        [-2.2351, -2.2829, -2.2131, -2.3531, -2.4284, -2.5436, -2.4059, -2.0005,\n",
       "         -2.4302, -2.2407],\n",
       "        [-2.2410, -2.2366, -2.1973, -2.4600, -2.4031, -2.4604, -2.3199, -2.1063,\n",
       "         -2.3615, -2.3005],\n",
       "        [-2.1914, -2.3109, -2.1138, -2.3763, -2.4532, -2.4899, -2.3515, -2.0827,\n",
       "         -2.5258, -2.2383],\n",
       "        [-2.2212, -2.2908, -2.1730, -2.4171, -2.3884, -2.5167, -2.3780, -2.0281,\n",
       "         -2.4394, -2.2703],\n",
       "        [-2.2283, -2.2761, -2.0984, -2.4167, -2.4546, -2.4568, -2.3642, -2.0752,\n",
       "         -2.5052, -2.2546],\n",
       "        [-2.2322, -2.3290, -2.1061, -2.3592, -2.4900, -2.5106, -2.3422, -2.0535,\n",
       "         -2.5121, -2.2121],\n",
       "        [-2.2372, -2.3027, -2.1148, -2.3686, -2.4715, -2.5179, -2.3716, -2.0016,\n",
       "         -2.5686, -2.2182],\n",
       "        [-2.2272, -2.3085, -2.1179, -2.3699, -2.4386, -2.5216, -2.4261, -2.0058,\n",
       "         -2.5074, -2.2354],\n",
       "        [-2.2568, -2.3009, -2.1290, -2.3430, -2.4866, -2.5102, -2.3854, -2.0280,\n",
       "         -2.4923, -2.2132],\n",
       "        [-2.2071, -2.3288, -2.0984, -2.4183, -2.5168, -2.5402, -2.3089, -1.9925,\n",
       "         -2.5523, -2.2287],\n",
       "        [-2.1895, -2.2854, -2.1401, -2.3939, -2.4670, -2.4823, -2.3895, -2.0325,\n",
       "         -2.5051, -2.2573],\n",
       "        [-2.2014, -2.2769, -2.1932, -2.3537, -2.4176, -2.4930, -2.4530, -2.0863,\n",
       "         -2.4041, -2.2270],\n",
       "        [-2.2477, -2.2958, -2.1591, -2.3582, -2.4368, -2.5300, -2.3846, -2.0080,\n",
       "         -2.4783, -2.2416],\n",
       "        [-2.2076, -2.3211, -2.1242, -2.4321, -2.4823, -2.5188, -2.3643, -1.9951,\n",
       "         -2.4964, -2.2257],\n",
       "        [-2.2286, -2.3083, -2.1565, -2.3116, -2.4258, -2.4844, -2.4186, -2.0571,\n",
       "         -2.5175, -2.2189],\n",
       "        [-2.2632, -2.3092, -2.1136, -2.3851, -2.4617, -2.4407, -2.3454, -2.0480,\n",
       "         -2.5280, -2.2372],\n",
       "        [-2.2077, -2.3228, -2.1331, -2.3417, -2.4477, -2.5168, -2.3891, -2.0601,\n",
       "         -2.4565, -2.2507],\n",
       "        [-2.2768, -2.3049, -2.1489, -2.3760, -2.4607, -2.4543, -2.3403, -2.0634,\n",
       "         -2.4809, -2.2090],\n",
       "        [-2.1870, -2.3206, -2.1748, -2.5022, -2.4478, -2.4784, -2.4176, -1.9396,\n",
       "         -2.4570, -2.2534],\n",
       "        [-2.2627, -2.3220, -2.1144, -2.3786, -2.4552, -2.4470, -2.3413, -2.0419,\n",
       "         -2.5345, -2.2368],\n",
       "        [-2.2704, -2.3007, -2.1559, -2.3754, -2.4834, -2.4560, -2.3465, -2.0267,\n",
       "         -2.4857, -2.2277],\n",
       "        [-2.2048, -2.2912, -2.2341, -2.3691, -2.4239, -2.5146, -2.3655, -2.0510,\n",
       "         -2.4316, -2.2251],\n",
       "        [-2.2433, -2.3015, -2.0906, -2.4087, -2.4460, -2.4593, -2.3638, -2.0795,\n",
       "         -2.4749, -2.2549],\n",
       "        [-2.2644, -2.2806, -2.1623, -2.4930, -2.3985, -2.5103, -2.3933, -2.0046,\n",
       "         -2.4779, -2.1706],\n",
       "        [-2.2497, -2.3060, -2.1172, -2.3485, -2.4816, -2.4570, -2.3760, -2.0910,\n",
       "         -2.4770, -2.2140],\n",
       "        [-2.1925, -2.2905, -2.1358, -2.4639, -2.4408, -2.5033, -2.4309, -2.0298,\n",
       "         -2.4074, -2.2478],\n",
       "        [-2.2042, -2.3087, -2.1632, -2.4495, -2.4879, -2.5233, -2.3625, -1.9890,\n",
       "         -2.4959, -2.1871],\n",
       "        [-2.2899, -2.2867, -2.0976, -2.4011, -2.5047, -2.5037, -2.3764, -1.9983,\n",
       "         -2.4833, -2.2224],\n",
       "        [-2.2180, -2.2532, -2.1351, -2.4126, -2.4866, -2.4824, -2.3663, -2.0732,\n",
       "         -2.4376, -2.2579],\n",
       "        [-2.2122, -2.3021, -2.0865, -2.4140, -2.5958, -2.5135, -2.3851, -2.0035,\n",
       "         -2.4948, -2.1904],\n",
       "        [-2.2243, -2.2880, -2.1290, -2.4223, -2.3931, -2.4949, -2.3960, -2.0765,\n",
       "         -2.4064, -2.2801],\n",
       "        [-2.2263, -2.3304, -2.1533, -2.3649, -2.4284, -2.4902, -2.4281, -2.0162,\n",
       "         -2.4139, -2.2744],\n",
       "        [-2.2080, -2.2816, -2.1169, -2.3938, -2.5154, -2.5132, -2.3866, -2.0335,\n",
       "         -2.4618, -2.2411]], grad_fn=<LogSoftmaxBackward>)"
      ]
     },
     "execution_count": 14,
     "metadata": {},
     "output_type": "execute_result"
    }
   ],
   "source": [
    "logits"
   ]
  },
  {
   "cell_type": "code",
   "execution_count": 15,
   "metadata": {},
   "outputs": [
    {
     "data": {
      "text/plain": [
       "tensor(2.3340, grad_fn=<NllLossBackward>)"
      ]
     },
     "execution_count": 15,
     "metadata": {},
     "output_type": "execute_result"
    }
   ],
   "source": [
    "loss"
   ]
  },
  {
   "cell_type": "code",
   "execution_count": 16,
   "metadata": {},
   "outputs": [
    {
     "data": {
      "text/plain": [
       "Linear(in_features=784, out_features=128, bias=True)"
      ]
     },
     "execution_count": 16,
     "metadata": {},
     "output_type": "execute_result"
    }
   ],
   "source": [
    "model[0]"
   ]
  },
  {
   "cell_type": "code",
   "execution_count": 17,
   "metadata": {},
   "outputs": [
    {
     "name": "stdout",
     "output_type": "stream",
     "text": [
      "Before backward pass: \n",
      " None\n",
      "After backward pass: \n",
      " tensor([[-0.0002, -0.0002, -0.0002,  ..., -0.0002, -0.0002, -0.0002],\n",
      "        [ 0.0019,  0.0019,  0.0019,  ...,  0.0019,  0.0019,  0.0019],\n",
      "        [ 0.0016,  0.0016,  0.0016,  ...,  0.0016,  0.0016,  0.0016],\n",
      "        ...,\n",
      "        [ 0.0028,  0.0028,  0.0028,  ...,  0.0028,  0.0028,  0.0028],\n",
      "        [ 0.0000,  0.0000,  0.0000,  ...,  0.0000,  0.0000,  0.0000],\n",
      "        [ 0.0012,  0.0012,  0.0012,  ...,  0.0012,  0.0012,  0.0012]])\n"
     ]
    }
   ],
   "source": [
    "print('Before backward pass: \\n', model[0].weight.grad)\n",
    "\n",
    "loss.backward()\n",
    "\n",
    "print('After backward pass: \\n', model[0].weight.grad)"
   ]
  },
  {
   "cell_type": "markdown",
   "metadata": {},
   "source": [
    "## Training the network!\n",
    "\n",
    "There's one last piece we need to start training, an optimizer that we'll use to update the weights with the gradients. We get these from PyTorch's [`optim` package](https://pytorch.org/docs/stable/optim.html). For example we can use stochastic gradient descent with `optim.SGD`. You can see how to define an optimizer below."
   ]
  },
  {
   "cell_type": "code",
   "execution_count": 18,
   "metadata": {},
   "outputs": [],
   "source": [
    "from torch import optim\n",
    "\n",
    "# Optimizers require the parameters to optimize and a learning rate\n",
    "optimizer = optim.SGD(model.parameters(), lr=0.01)"
   ]
  },
  {
   "cell_type": "markdown",
   "metadata": {},
   "source": [
    "Now we know how to use all the individual parts so it's time to see how they work together. Let's consider just one learning step before looping through all the data. The general process with PyTorch:\n",
    "\n",
    "* Make a forward pass through the network \n",
    "* Use the network output to calculate the loss\n",
    "* Perform a backward pass through the network with `loss.backward()` to calculate the gradients\n",
    "* Take a step with the optimizer to update the weights\n",
    "\n",
    "Below I'll go through one training step and print out the weights and gradients so you can see how it changes. Note that I have a line of code `optimizer.zero_grad()`. When you do multiple backwards passes with the same parameters, the gradients are accumulated. This means that you need to zero the gradients on each training pass or you'll retain gradients from previous training batches."
   ]
  },
  {
   "cell_type": "code",
   "execution_count": 19,
   "metadata": {},
   "outputs": [
    {
     "name": "stdout",
     "output_type": "stream",
     "text": [
      "Initial weights -  Parameter containing:\n",
      "tensor([[ 6.6025e-03,  1.6959e-02, -2.6287e-02,  ...,  1.8032e-03,\n",
      "          9.8684e-03,  1.0461e-02],\n",
      "        [-5.7967e-03,  1.7933e-02, -3.9475e-03,  ..., -3.1159e-03,\n",
      "         -1.3002e-02,  2.9080e-02],\n",
      "        [-6.1874e-03, -2.1141e-02,  3.8858e-03,  ..., -2.0496e-02,\n",
      "          1.1465e-02, -2.0587e-02],\n",
      "        ...,\n",
      "        [ 1.3154e-02, -4.2152e-03, -1.2474e-03,  ...,  1.0928e-03,\n",
      "          3.1948e-03, -2.9236e-02],\n",
      "        [ 1.3597e-02, -2.2289e-02, -9.6389e-03,  ..., -1.2727e-02,\n",
      "          2.5464e-02,  2.2538e-02],\n",
      "        [-1.2146e-02,  3.4198e-06,  3.0250e-02,  ...,  9.8402e-03,\n",
      "          2.7513e-03,  6.5856e-03]], requires_grad=True)\n",
      "2.3244993686676025\n",
      "Gradient - tensor([[-0.0017, -0.0017, -0.0017,  ..., -0.0017, -0.0017, -0.0017],\n",
      "        [ 0.0010,  0.0010,  0.0010,  ...,  0.0010,  0.0010,  0.0010],\n",
      "        [ 0.0003,  0.0003,  0.0003,  ...,  0.0003,  0.0003,  0.0003],\n",
      "        ...,\n",
      "        [ 0.0033,  0.0033,  0.0033,  ...,  0.0033,  0.0033,  0.0033],\n",
      "        [ 0.0000,  0.0000,  0.0000,  ...,  0.0000,  0.0000,  0.0000],\n",
      "        [-0.0001, -0.0001, -0.0001,  ..., -0.0001, -0.0001, -0.0001]])\n"
     ]
    }
   ],
   "source": [
    "print('Initial weights - ', model[0].weight)\n",
    "\n",
    "images, labels = next(iter(trainloader))\n",
    "images.resize_(64, 784)\n",
    "\n",
    "# Clear the gradients, do this because gradients are accumulated\n",
    "optimizer.zero_grad()\n",
    "\n",
    "# Forward pass, then backward pass, then update weights\n",
    "output = model.forward(images)\n",
    "loss = criterion(output, labels)\n",
    "loss.backward()\n",
    "print(loss.item())\n",
    "print('Gradient -', model[0].weight.grad)"
   ]
  },
  {
   "cell_type": "code",
   "execution_count": 20,
   "metadata": {},
   "outputs": [
    {
     "name": "stdout",
     "output_type": "stream",
     "text": [
      "Updated weights -  Parameter containing:\n",
      "tensor([[ 6.6197e-03,  1.6976e-02, -2.6270e-02,  ...,  1.8204e-03,\n",
      "          9.8856e-03,  1.0478e-02],\n",
      "        [-5.8064e-03,  1.7923e-02, -3.9573e-03,  ..., -3.1257e-03,\n",
      "         -1.3011e-02,  2.9070e-02],\n",
      "        [-6.1900e-03, -2.1144e-02,  3.8832e-03,  ..., -2.0499e-02,\n",
      "          1.1462e-02, -2.0590e-02],\n",
      "        ...,\n",
      "        [ 1.3121e-02, -4.2487e-03, -1.2808e-03,  ...,  1.0594e-03,\n",
      "          3.1614e-03, -2.9270e-02],\n",
      "        [ 1.3597e-02, -2.2289e-02, -9.6389e-03,  ..., -1.2727e-02,\n",
      "          2.5464e-02,  2.2538e-02],\n",
      "        [-1.2145e-02,  4.8646e-06,  3.0252e-02,  ...,  9.8417e-03,\n",
      "          2.7527e-03,  6.5870e-03]], requires_grad=True)\n"
     ]
    }
   ],
   "source": [
    "# Take an update step and few the new weights\n",
    "optimizer.step()\n",
    "print('Updated weights - ', model[0].weight)"
   ]
  },
  {
   "cell_type": "markdown",
   "metadata": {},
   "source": [
    "### Training for real\n",
    "\n",
    "Now we'll put this algorithm into a loop so we can go through all the images. Some nomenclature, one pass through the entire dataset is called an *epoch*. So here we're going to loop through `trainloader` to get our training batches. For each batch, we'll doing a training pass where we calculate the loss, do a backwards pass, and update the weights.\n",
    "\n",
    ">**Exercise:** Implement the training pass for our network. If you implemented it correctly, you should see the training loss drop with each epoch."
   ]
  },
  {
   "cell_type": "code",
   "execution_count": 21,
   "metadata": {},
   "outputs": [
    {
     "name": "stdout",
     "output_type": "stream",
     "text": [
      "Training loss: 1.9796003152820856\n",
      "Training loss: 0.9309714925505205\n",
      "Training loss: 0.5605807135989671\n",
      "Training loss: 0.44901990461578245\n",
      "Training loss: 0.396018819847722\n"
     ]
    }
   ],
   "source": [
    "## Your solution here\n",
    "\n",
    "model = nn.Sequential(nn.Linear(784, 128),\n",
    "                      nn.ReLU(),\n",
    "                      nn.Linear(128, 64),\n",
    "                      nn.ReLU(),\n",
    "                      nn.Linear(64, 10),\n",
    "                      nn.LogSoftmax(dim=1))\n",
    "\n",
    "criterion = nn.NLLLoss()\n",
    "optimizer = optim.SGD(model.parameters(), lr=0.003)\n",
    "\n",
    "epochs = 5\n",
    "for e in range(epochs):\n",
    "    running_loss = 0\n",
    "    for images, labels in trainloader:\n",
    "        # Flatten MNIST images into a 784 long vector\n",
    "        images = images.view(images.shape[0], -1)\n",
    "    \n",
    "        # TODO: Training pass\n",
    "        optimizer.zero_grad()\n",
    "        output=model.forward(images)\n",
    "        \n",
    "        loss = criterion(output,labels)\n",
    "        loss.backward()\n",
    "        optimizer.step()\n",
    "        running_loss += loss.item()\n",
    "    else:\n",
    "        print(f\"Training loss: {running_loss/len(trainloader)}\")"
   ]
  },
  {
   "cell_type": "markdown",
   "metadata": {},
   "source": [
    "With the network trained, we can check out it's predictions."
   ]
  },
  {
   "cell_type": "code",
   "execution_count": 22,
   "metadata": {},
   "outputs": [
    {
     "data": {
      "image/png": "[encoded data removed]",
      "text/plain": [
       "<Figure size 432x648 with 2 Axes>"
      ]
     },
     "metadata": {
      "needs_background": "light"
     },
     "output_type": "display_data"
    }
   ],
   "source": [
    "%matplotlib inline\n",
    "import helper\n",
    "\n",
    "images, labels = next(iter(trainloader))\n",
    "\n",
    "img = images[0].view(1, 784)\n",
    "# Turn off gradients to speed up this part\n",
    "with torch.no_grad():\n",
    "    logits = model.forward(img)\n",
    "\n",
    "# Output of the network are logits, need to take softmax for probabilities\n",
    "ps = F.softmax(logits, dim=1)\n",
    "helper.view_classify(img.view(1, 28, 28), ps)"
   ]
  },
  {
   "cell_type": "markdown",
   "metadata": {},
   "source": [
    "Now our network is brilliant. It can accurately predict the digits in our images. Next up you'll write the code for training a neural network on a more complex dataset."
   ]
  }
 ],
 "metadata": {
  "kernelspec": {
   "display_name": "Python 3",
   "language": "python",
   "name": "python3"
  },
  "language_info": {
   "codemirror_mode": {
    "name": "ipython",
    "version": 3
   },
   "file_extension": ".py",
   "mimetype": "text/x-python",
   "name": "python",
   "nbconvert_exporter": "python",
   "pygments_lexer": "ipython3",
   "version": "3.7.7"
  }
 },
 "nbformat": 4,
 "nbformat_minor": 2
}
