{
 "cells": [
  {
   "cell_type": "markdown",
   "metadata": {},
   "source": [
    "# Training Neural Networks\n",
    "\n",
    "The network we built in the previous part isn't so smart, it doesn't know anything about our handwritten digits. Neural networks with non-linear activations work like universal function approximators. There is some function that maps your input to the output. For example, images of handwritten digits to class probabilities. The power of neural networks is that we can train them to approximate this function, and basically any function given enough data and compute time.\n",
    "\n",
    "<img src=\"assets/function_approx.png\" width=500px>\n",
    "\n",
    "At first the network is naive, it doesn't know the function mapping the inputs to the outputs. We train the network by showing it examples of real data, then adjusting the network parameters such that it approximates this function.\n",
    "\n",
    "To find these parameters, we need to know how poorly the network is predicting the real outputs. For this we calculate a **loss function** (also called the cost), a measure of our prediction error. For example, the mean squared loss is often used in regression and binary classification problems\n",
    "\n",
    "$$\n",
    "\\large \\ell = \\frac{1}{2n}\\sum_i^n{\\left(y_i - \\hat{y}_i\\right)^2}\n",
    "$$\n",
    "\n",
    "where $n$ is the number of training examples, $y_i$ are the true labels, and $\\hat{y}_i$ are the predicted labels.\n",
    "\n",
    "By minimizing this loss with respect to the network parameters, we can find configurations where the loss is at a minimum and the network is able to predict the correct labels with high accuracy. We find this minimum using a process called **gradient descent**. The gradient is the slope of the loss function and points in the direction of fastest change. To get to the minimum in the least amount of time, we then want to follow the gradient (downwards). You can think of this like descending a mountain by following the steepest slope to the base.\n",
    "\n",
    "<img src='assets/gradient_descent.png' width=350px>"
   ]
  },
  {
   "cell_type": "markdown",
   "metadata": {},
   "source": [
    "## Backpropagation\n",
    "\n",
    "For single layer networks, gradient descent is straightforward to implement. However, it's more complicated for deeper, multilayer neural networks like the one we've built. Complicated enough that it took about 30 years before researchers figured out how to train multilayer networks.\n",
    "\n",
    "Training multilayer networks is done through **backpropagation** which is really just an application of the chain rule from calculus. It's easiest to understand if we convert a two layer network into a graph representation.\n",
    "\n",
    "<img src='assets/backprop_diagram.png' width=550px>\n",
    "\n",
    "In the forward pass through the network, our data and operations go from bottom to top here. We pass the input $x$ through a linear transformation $L_1$ with weights $W_1$ and biases $b_1$. The output then goes through the sigmoid operation $S$ and another linear transformation $L_2$. Finally we calculate the loss $\\ell$. We use the loss as a measure of how bad the network's predictions are. The goal then is to adjust the weights and biases to minimize the loss.\n",
    "\n",
    "To train the weights with gradient descent, we propagate the gradient of the loss backwards through the network. Each operation has some gradient between the inputs and outputs. As we send the gradients backwards, we multiply the incoming gradient with the gradient for the operation. Mathematically, this is really just calculating the gradient of the loss with respect to the weights using the chain rule.\n",
    "\n",
    "$$\n",
    "\\large \\frac{\\partial \\ell}{\\partial W_1} = \\frac{\\partial L_1}{\\partial W_1} \\frac{\\partial S}{\\partial L_1} \\frac{\\partial L_2}{\\partial S} \\frac{\\partial \\ell}{\\partial L_2}\n",
    "$$\n",
    "\n",
    "**Note:** I'm glossing over a few details here that require some knowledge of vector calculus, but they aren't necessary to understand what's going on.\n",
    "\n",
    "We update our weights using this gradient with some learning rate $\\alpha$. \n",
    "\n",
    "$$\n",
    "\\large W^\\prime_1 = W_1 - \\alpha \\frac{\\partial \\ell}{\\partial W_1}\n",
    "$$\n",
    "\n",
    "The learning rate $\\alpha$ is set such that the weight update steps are small enough that the iterative method settles in a minimum."
   ]
  },
  {
   "cell_type": "markdown",
   "metadata": {},
   "source": [
    "## Losses in PyTorch\n",
    "\n",
    "Let's start by seeing how we calculate the loss with PyTorch. Through the `nn` module, PyTorch provides losses such as the cross-entropy loss (`nn.CrossEntropyLoss`). You'll usually see the loss assigned to `criterion`. As noted in the last part, with a classification problem such as MNIST, we're using the softmax function to predict class probabilities. With a softmax output, you want to use cross-entropy as the loss. To actually calculate the loss, you first define the criterion then pass in the output of your network and the correct labels.\n",
    "\n",
    "Something really important to note here. Looking at [the documentation for `nn.CrossEntropyLoss`](https://pytorch.org/docs/stable/nn.html#torch.nn.CrossEntropyLoss),\n",
    "\n",
    "> This criterion combines `nn.LogSoftmax()` and `nn.NLLLoss()` in one single class.\n",
    ">\n",
    "> The input is expected to contain scores for each class.\n",
    "\n",
    "This means we need to pass in the raw output of our network into the loss, not the output of the softmax function. This raw output is usually called the *logits* or *scores*. We use the logits because softmax gives you probabilities which will often be very close to zero or one but floating-point numbers can't accurately represent values near zero or one ([read more here](https://docs.python.org/3/tutorial/floatingpoint.html)). It's usually best to avoid doing calculations with probabilities, typically we use log-probabilities."
   ]
  },
  {
   "cell_type": "code",
   "execution_count": 42,
   "metadata": {},
   "outputs": [],
   "source": [
    "import torch\n",
    "from torch import nn\n",
    "import torch.nn.functional as F\n",
    "from torchvision import datasets, transforms\n",
    "\n",
    "# Define a transform to normalize the data\n",
    "transform = transforms.Compose([transforms.ToTensor(),\n",
    "                                transforms.Normalize((0.5), (0.5)),\n",
    "                              ])\n",
    "# Download and load the training data\n",
    "trainset = datasets.MNIST('~/.pytorch/MNIST_data/', download=True, train=True, transform=transform)\n",
    "trainloader = torch.utils.data.DataLoader(trainset, batch_size=64, shuffle=True)"
   ]
  },
  {
   "cell_type": "markdown",
   "metadata": {},
   "source": [
    "### Note\n",
    "If you haven't seen `nn.Sequential` yet, please finish the end of the Part 2 notebook."
   ]
  },
  {
   "cell_type": "code",
   "execution_count": 43,
   "metadata": {},
   "outputs": [
    {
     "name": "stdout",
     "output_type": "stream",
     "text": [
      "True\n",
      "tensor(2.2845, grad_fn=<NllLossBackward>)\n"
     ]
    }
   ],
   "source": [
    "# Build a feed-forward network\n",
    "model = nn.Sequential(nn.Linear(784, 128),\n",
    "                      nn.ReLU(),\n",
    "                      nn.Linear(128, 64),\n",
    "                      nn.ReLU(),\n",
    "                      nn.Linear(64, 10))\n",
    "\n",
    "# Define the loss\n",
    "criterion = nn.CrossEntropyLoss()\n",
    "\n",
    "# Get our data\n",
    "images, labels = next(iter(trainloader))\n",
    "\n",
    "print(images.view(images.shape[0],784).shape==images.view(64,784).shape)\n",
    "\n",
    "# Flatten images\n",
    "images = images.view(64, 784)\n",
    "# Forward pass, get our logits\n",
    "logits = model(images)\n",
    "# Calculate the loss with the logits and the labels\n",
    "loss = criterion(logits, labels)\n",
    "\n",
    "print(loss)"
   ]
  },
  {
   "cell_type": "code",
   "execution_count": 49,
   "metadata": {},
   "outputs": [
    {
     "data": {
      "text/plain": [
       "tensor([[1.0085, 0.8603, 1.0396, 0.9440, 0.9353, 1.0183, 1.0334, 0.8697, 0.8619,\n",
       "         0.9658],\n",
       "        [0.9430, 0.8888, 0.9889, 1.0975, 0.9234, 0.8865, 1.1434, 1.0030, 0.8235,\n",
       "         1.0215],\n",
       "        [0.9806, 0.8520, 0.9879, 1.0187, 0.8902, 0.9618, 1.1212, 0.8798, 0.7787,\n",
       "         1.0168],\n",
       "        [0.9981, 0.8755, 1.0142, 1.0998, 0.8936, 0.9105, 1.1546, 0.9181, 0.8076,\n",
       "         1.0657],\n",
       "        [1.0120, 0.9009, 1.0018, 0.9886, 0.9148, 0.9751, 1.0932, 0.8332, 0.7929,\n",
       "         1.0117],\n",
       "        [0.9650, 0.9363, 0.9915, 1.0681, 0.9313, 0.9460, 1.0126, 0.8910, 0.8312,\n",
       "         0.9774],\n",
       "        [0.9484, 0.8851, 0.9622, 1.0971, 0.9002, 0.9498, 1.0803, 0.8482, 0.7672,\n",
       "         1.0136],\n",
       "        [0.9806, 0.9422, 0.9971, 0.9463, 0.8508, 0.9310, 1.1403, 0.8008, 0.8110,\n",
       "         1.1114],\n",
       "        [1.0369, 0.8713, 1.0094, 1.0037, 0.9408, 0.9210, 1.1337, 0.8506, 0.8070,\n",
       "         1.0329],\n",
       "        [1.0246, 0.8927, 1.0200, 0.9712, 0.9525, 0.9888, 1.0619, 0.8572, 0.8467,\n",
       "         0.9690],\n",
       "        [1.0596, 0.8970, 1.0532, 0.9337, 0.9207, 0.9483, 1.0936, 0.8542, 0.8170,\n",
       "         1.0334],\n",
       "        [0.9297, 0.9112, 0.9714, 1.1299, 0.9359, 0.9225, 1.0687, 0.9425, 0.7931,\n",
       "         1.0514],\n",
       "        [1.0546, 0.9136, 1.0444, 0.9643, 0.9550, 0.9296, 1.1078, 0.8506, 0.7914,\n",
       "         1.0263],\n",
       "        [0.9870, 0.8779, 1.0692, 1.0234, 0.8331, 0.9023, 1.0925, 0.9343, 0.8478,\n",
       "         0.9824],\n",
       "        [1.0282, 0.8878, 0.9612, 1.0847, 0.9440, 0.9493, 1.0277, 0.9416, 0.8368,\n",
       "         1.0056],\n",
       "        [0.9672, 0.8275, 1.0105, 1.0330, 0.8943, 0.9170, 1.0914, 0.8923, 0.8185,\n",
       "         0.9768],\n",
       "        [0.9644, 0.8428, 1.0614, 1.0312, 0.8989, 0.9514, 1.1146, 0.9322, 0.8247,\n",
       "         1.0060],\n",
       "        [1.0239, 0.8635, 1.0385, 0.9358, 0.8570, 0.9342, 1.2035, 0.8217, 0.8253,\n",
       "         1.0833],\n",
       "        [1.0476, 0.8617, 1.0604, 0.9534, 0.9095, 0.9675, 1.0984, 0.8649, 0.7921,\n",
       "         0.9971],\n",
       "        [1.0317, 0.8384, 1.0204, 0.9675, 0.9095, 0.8861, 1.1848, 0.9237, 0.8181,\n",
       "         1.0148],\n",
       "        [1.0148, 0.9459, 1.0251, 1.0281, 0.8494, 0.8927, 1.0982, 0.9277, 0.8218,\n",
       "         1.0464],\n",
       "        [0.9248, 0.8460, 1.0544, 1.0949, 0.9197, 0.9787, 1.1599, 0.9339, 0.7614,\n",
       "         0.9480],\n",
       "        [0.9207, 0.9195, 1.0151, 0.9858, 0.8525, 0.9024, 1.1368, 1.0163, 0.8907,\n",
       "         1.0204],\n",
       "        [0.8882, 0.8740, 1.0261, 1.1512, 0.9108, 0.8642, 1.1271, 0.9804, 0.8052,\n",
       "         1.0551],\n",
       "        [1.0172, 0.8937, 0.9656, 1.0275, 0.9111, 0.9530, 1.0924, 0.8979, 0.7835,\n",
       "         1.0629],\n",
       "        [1.0062, 0.9197, 0.9859, 1.0276, 0.9410, 0.9582, 1.0365, 0.8694, 0.8347,\n",
       "         1.0157],\n",
       "        [1.0001, 0.8626, 1.0226, 0.9338, 0.9336, 1.0053, 1.0601, 0.8755, 0.8223,\n",
       "         1.0167],\n",
       "        [0.9839, 0.8887, 1.0416, 0.9321, 0.8910, 0.9510, 1.1295, 0.9085, 0.8697,\n",
       "         1.0106],\n",
       "        [0.9533, 0.8813, 1.0266, 1.0521, 0.8884, 0.9486, 1.0629, 0.8940, 0.8069,\n",
       "         0.9926],\n",
       "        [1.0477, 0.8264, 1.0207, 0.9773, 0.8688, 0.9982, 1.1770, 0.8555, 0.8550,\n",
       "         1.0184],\n",
       "        [0.9428, 0.9015, 1.0117, 1.0316, 0.9035, 0.9864, 0.9551, 0.9069, 0.8734,\n",
       "         0.9797],\n",
       "        [0.9510, 0.8639, 0.9682, 1.0743, 0.8611, 0.9139, 1.0481, 0.9083, 0.8350,\n",
       "         1.0155],\n",
       "        [0.9774, 0.8344, 0.9597, 1.1220, 0.9165, 0.9363, 1.0752, 0.8341, 0.7609,\n",
       "         0.9814],\n",
       "        [0.9288, 0.8899, 1.0283, 1.0581, 0.9276, 1.0070, 1.0530, 0.8713, 0.7755,\n",
       "         1.0619],\n",
       "        [0.9587, 0.9048, 0.9984, 1.1028, 0.9228, 0.8919, 1.0946, 0.9179, 0.8144,\n",
       "         1.0093],\n",
       "        [1.0030, 0.7952, 0.9795, 1.0137, 0.8510, 0.9666, 1.1044, 0.9077, 0.8146,\n",
       "         0.9613],\n",
       "        [1.0104, 0.8963, 0.9833, 1.0388, 0.9311, 0.9911, 1.0050, 0.8432, 0.8357,\n",
       "         1.0003],\n",
       "        [0.9934, 0.9210, 0.9904, 1.0084, 0.8527, 0.9285, 1.1132, 0.8379, 0.8260,\n",
       "         1.0255],\n",
       "        [0.9966, 0.8428, 1.0345, 1.0144, 0.8777, 0.9721, 1.0570, 0.9307, 0.8757,\n",
       "         0.9797],\n",
       "        [0.9042, 0.8549, 0.9428, 1.0886, 0.9416, 0.8978, 1.1135, 0.8804, 0.8085,\n",
       "         1.0625],\n",
       "        [1.0073, 0.9509, 1.0166, 0.9478, 0.8762, 0.9805, 1.0964, 0.8201, 0.8062,\n",
       "         1.0557],\n",
       "        [1.0164, 0.8201, 1.0971, 0.9625, 0.9104, 0.9806, 1.1025, 0.8922, 0.9093,\n",
       "         1.0119],\n",
       "        [0.9617, 0.9350, 1.0696, 1.0452, 0.9185, 0.9008, 1.1273, 0.9575, 0.8169,\n",
       "         1.0400],\n",
       "        [0.9638, 0.8613, 0.9763, 1.1044, 0.9554, 0.9457, 1.0526, 0.8898, 0.7955,\n",
       "         1.0009],\n",
       "        [1.0427, 0.9171, 0.9923, 1.0148, 0.9460, 0.9768, 1.0854, 0.8385, 0.7732,\n",
       "         1.0239],\n",
       "        [1.0391, 0.9847, 1.0028, 1.0417, 0.9171, 0.9462, 1.0409, 0.8617, 0.7990,\n",
       "         1.0430],\n",
       "        [1.0299, 0.8687, 0.9430, 1.0788, 0.9492, 0.9431, 1.0669, 0.9795, 0.8468,\n",
       "         0.9912],\n",
       "        [0.9912, 0.9031, 1.0523, 1.0013, 0.8757, 0.9141, 1.1296, 0.9190, 0.8505,\n",
       "         0.9999],\n",
       "        [1.0313, 0.9087, 1.0361, 1.0010, 0.8969, 0.9557, 1.1108, 0.8717, 0.8398,\n",
       "         1.0119],\n",
       "        [0.9807, 1.0100, 0.9606, 1.1329, 0.8883, 0.8580, 1.0514, 0.9213, 0.8541,\n",
       "         1.0307],\n",
       "        [0.9993, 0.9061, 0.9820, 1.1062, 0.9173, 0.9382, 1.0526, 0.8758, 0.8100,\n",
       "         1.0345],\n",
       "        [1.0152, 0.9527, 0.9859, 0.9809, 0.8949, 0.9377, 1.1292, 0.7957, 0.7570,\n",
       "         1.0843],\n",
       "        [1.0148, 0.8684, 0.9587, 1.1198, 0.9449, 0.9202, 1.0513, 0.9506, 0.7911,\n",
       "         1.0109],\n",
       "        [0.9841, 0.9322, 1.0277, 0.9198, 0.8631, 0.9380, 1.1800, 0.7706, 0.7766,\n",
       "         1.0910],\n",
       "        [1.0070, 0.9337, 1.0320, 1.0418, 0.9163, 0.9349, 1.0466, 0.9021, 0.8278,\n",
       "         1.0479],\n",
       "        [0.9908, 0.9642, 1.0215, 0.9034, 0.8402, 0.9367, 1.1751, 0.7831, 0.7974,\n",
       "         1.1108],\n",
       "        [1.0187, 0.9143, 1.0103, 0.9662, 0.9341, 1.0129, 1.0917, 0.8375, 0.7825,\n",
       "         1.0138],\n",
       "        [0.9571, 0.9262, 1.0286, 1.0503, 0.9334, 0.9819, 1.1097, 0.8555, 0.8553,\n",
       "         1.0571],\n",
       "        [0.9396, 0.8698, 1.0435, 1.0195, 0.8964, 0.9173, 1.1052, 0.9690, 0.8542,\n",
       "         1.0277],\n",
       "        [0.9479, 0.8860, 0.9435, 1.1846, 0.8751, 0.8983, 1.0898, 0.9196, 0.7970,\n",
       "         0.9811],\n",
       "        [0.8920, 0.8853, 1.0282, 1.0741, 0.8151, 0.9114, 1.0680, 0.8696, 0.8465,\n",
       "         1.0099],\n",
       "        [0.9763, 0.9668, 1.0000, 0.9230, 0.8624, 0.9413, 1.1532, 0.8129, 0.8013,\n",
       "         1.1043],\n",
       "        [1.0122, 0.8842, 1.0415, 1.0531, 0.9584, 0.9821, 1.0504, 0.8519, 0.7930,\n",
       "         0.9955],\n",
       "        [1.0031, 0.8932, 1.0236, 1.0281, 0.9606, 0.9086, 1.1689, 0.8729, 0.7986,\n",
       "         1.0307]], grad_fn=<ExpBackward>)"
      ]
     },
     "execution_count": 49,
     "metadata": {},
     "output_type": "execute_result"
    }
   ],
   "source": [
    "torch.exp(logits)"
   ]
  },
  {
   "cell_type": "code",
   "execution_count": 45,
   "metadata": {},
   "outputs": [
    {
     "data": {
      "text/plain": [
       "tensor([0, 7, 6, 6, 1, 5, 4, 1, 0, 5, 3, 4, 3, 7, 4, 7, 3, 2, 5, 0, 7, 3, 0, 9,\n",
       "        8, 6, 5, 0, 9, 3, 5, 9, 9, 5, 9, 3, 6, 3, 9, 6, 7, 2, 7, 5, 1, 6, 4, 7,\n",
       "        7, 7, 4, 1, 6, 1, 4, 1, 1, 6, 7, 4, 2, 1, 9, 3])"
      ]
     },
     "execution_count": 45,
     "metadata": {},
     "output_type": "execute_result"
    }
   ],
   "source": [
    "labels"
   ]
  },
  {
   "cell_type": "markdown",
   "metadata": {},
   "source": [
    "In my experience it's more convenient to build the model with a log-softmax output using `nn.LogSoftmax` or `F.log_softmax` ([documentation](https://pytorch.org/docs/stable/nn.html#torch.nn.LogSoftmax)). Then you can get the actual probabilities by taking the exponential `torch.exp(output)`. With a log-softmax output, you want to use the negative log likelihood loss, `nn.NLLLoss` ([documentation](https://pytorch.org/docs/stable/nn.html#torch.nn.NLLLoss)).\n",
    "\n",
    ">**Exercise:** Build a model that returns the log-softmax as the output and calculate the loss using the negative log likelihood loss. Note that for `nn.LogSoftmax` and `F.log_softmax` you'll need to set the `dim` keyword argument appropriately. `dim=0` calculates softmax across the rows, so each row sums to 1, while `dim=1` calculates across the columns so each column sums to 1. Think about what you want the output to be and choose `dim` appropriately."
   ]
  },
  {
   "cell_type": "code",
   "execution_count": 4,
   "metadata": {},
   "outputs": [
    {
     "name": "stdout",
     "output_type": "stream",
     "text": [
      "torch.Size([64, 1, 28, 28])\n",
      "torch.Size([64, 784])\n",
      "tensor(2.2959, grad_fn=<NllLossBackward>)\n"
     ]
    }
   ],
   "source": [
    "# TODO: Build a feed-forward network\n",
    "model = nn.Sequential(nn.Linear(784,128),\n",
    "                      nn.ReLU(),\n",
    "                      nn.Linear(128,64),\n",
    "                      nn.ReLU(),\n",
    "                      nn.Linear(64,10),\n",
    "                      nn.LogSoftmax(dim=1))\n",
    "\n",
    "# TODO: Define the loss\n",
    "criterion = nn.NLLLoss()\n",
    "\n",
    "### Run this to check your work\n",
    "# Get our data\n",
    "images, labels = next(iter(trainloader))\n",
    "print(images.shape)\n",
    "# Flatten images\n",
    "images = images.view(64, 784)\n",
    "print(images.shape)\n",
    "# Forward pass, get our logits\n",
    "logps = model(images)\n",
    "# Calculate the loss with the logits and the labels\n",
    "loss = criterion(logps, labels)\n",
    "\n",
    "print(loss)"
   ]
  },
  {
   "cell_type": "code",
   "execution_count": 5,
   "metadata": {},
   "outputs": [
    {
     "data": {
      "text/plain": [
       "tensor([[-2.1068, -2.3412, -2.1875, -2.1917, -2.5628, -2.3949, -2.2859, -2.2665,\n",
       "         -2.2879, -2.4873],\n",
       "        [-2.0435, -2.4692, -2.1750, -2.1866, -2.3942, -2.4179, -2.3884, -2.4060,\n",
       "         -2.2365, -2.3999],\n",
       "        [-2.0759, -2.4331, -2.1199, -2.2330, -2.4588, -2.4320, -2.2925, -2.3801,\n",
       "         -2.2460, -2.4443],\n",
       "        [-1.9885, -2.4068, -2.1699, -2.2158, -2.5185, -2.4152, -2.3812, -2.2826,\n",
       "         -2.2705, -2.4999],\n",
       "        [-2.0027, -2.3910, -2.1456, -2.1605, -2.5218, -2.4690, -2.4148, -2.3187,\n",
       "         -2.2866, -2.4436],\n",
       "        [-2.0455, -2.4274, -2.1762, -2.2308, -2.4711, -2.4627, -2.3376, -2.2777,\n",
       "         -2.2382, -2.4524],\n",
       "        [-2.0622, -2.3754, -2.0752, -2.2644, -2.5001, -2.4407, -2.3602, -2.3466,\n",
       "         -2.2310, -2.4804],\n",
       "        [-2.0612, -2.4433, -2.1239, -2.2498, -2.4791, -2.4425, -2.3378, -2.2881,\n",
       "         -2.2419, -2.4556],\n",
       "        [-2.0803, -2.4102, -2.1330, -2.2285, -2.4490, -2.4709, -2.3180, -2.2775,\n",
       "         -2.2979, -2.4447],\n",
       "        [-2.0554, -2.4743, -2.1803, -2.2269, -2.4277, -2.3820, -2.3366, -2.3834,\n",
       "         -2.2477, -2.3888],\n",
       "        [-2.0081, -2.3965, -2.1666, -2.2224, -2.4661, -2.4234, -2.3927, -2.3534,\n",
       "         -2.2736, -2.4200],\n",
       "        [-2.0634, -2.3963, -2.1018, -2.2365, -2.4693, -2.4383, -2.3505, -2.3336,\n",
       "         -2.2671, -2.4646],\n",
       "        [-2.0512, -2.4109, -2.1628, -2.1572, -2.5073, -2.4012, -2.4298, -2.2826,\n",
       "         -2.3217, -2.3994],\n",
       "        [-2.0631, -2.3662, -2.1706, -2.3259, -2.3976, -2.4226, -2.3336, -2.4063,\n",
       "         -2.2127, -2.3951],\n",
       "        [-1.9924, -2.3561, -2.1180, -2.2144, -2.5216, -2.5008, -2.4223, -2.3936,\n",
       "         -2.1803, -2.4774],\n",
       "        [-2.0433, -2.4358, -2.1887, -2.1375, -2.4658, -2.3955, -2.4182, -2.3084,\n",
       "         -2.2807, -2.4526],\n",
       "        [-1.9975, -2.4475, -2.1819, -2.1448, -2.5221, -2.4437, -2.3815, -2.2929,\n",
       "         -2.2468, -2.5054],\n",
       "        [-2.0395, -2.4915, -2.1307, -2.1903, -2.4927, -2.4116, -2.3556, -2.3377,\n",
       "         -2.2436, -2.4457],\n",
       "        [-2.0541, -2.3886, -2.1815, -2.1733, -2.5455, -2.4069, -2.4395, -2.3329,\n",
       "         -2.1998, -2.4102],\n",
       "        [-2.0336, -2.4306, -2.1961, -2.2605, -2.4183, -2.3708, -2.4192, -2.3372,\n",
       "         -2.2294, -2.4085],\n",
       "        [-2.0433, -2.4751, -2.1671, -2.2413, -2.4527, -2.4317, -2.3866, -2.2815,\n",
       "         -2.2231, -2.4177],\n",
       "        [-1.9799, -2.4907, -2.1979, -2.2144, -2.4449, -2.4336, -2.4443, -2.3510,\n",
       "         -2.2193, -2.3686],\n",
       "        [-2.0947, -2.4019, -2.0993, -2.2503, -2.4323, -2.4018, -2.4067, -2.2776,\n",
       "         -2.3053, -2.4339],\n",
       "        [-2.1095, -2.4667, -2.1422, -2.2129, -2.4136, -2.4236, -2.3403, -2.2765,\n",
       "         -2.3007, -2.4097],\n",
       "        [-2.1029, -2.3566, -2.1150, -2.3489, -2.3802, -2.4554, -2.3597, -2.3936,\n",
       "         -2.2148, -2.3670],\n",
       "        [-2.0363, -2.4099, -2.1600, -2.2012, -2.5308, -2.4575, -2.3448, -2.3128,\n",
       "         -2.2514, -2.4267],\n",
       "        [-2.0808, -2.3734, -2.1363, -2.2866, -2.4002, -2.4075, -2.3896, -2.3417,\n",
       "         -2.2533, -2.4226],\n",
       "        [-2.1529, -2.3191, -2.1333, -2.3731, -2.4678, -2.3669, -2.2848, -2.3148,\n",
       "         -2.2506, -2.4147],\n",
       "        [-2.1005, -2.4115, -2.1319, -2.2369, -2.4504, -2.3958, -2.3383, -2.3996,\n",
       "         -2.2118, -2.4256],\n",
       "        [-2.0962, -2.4354, -2.1284, -2.2528, -2.4169, -2.4297, -2.3209, -2.3281,\n",
       "         -2.2493, -2.4422],\n",
       "        [-2.0823, -2.3714, -2.1079, -2.2493, -2.4903, -2.3960, -2.3960, -2.2305,\n",
       "         -2.3523, -2.4377],\n",
       "        [-2.0410, -2.3901, -2.1485, -2.2477, -2.5020, -2.4168, -2.3668, -2.2557,\n",
       "         -2.2714, -2.4854],\n",
       "        [-2.0347, -2.3741, -2.1456, -2.2140, -2.4966, -2.4572, -2.3757, -2.3044,\n",
       "         -2.2716, -2.4539],\n",
       "        [-2.1442, -2.4480, -2.2124, -2.3632, -2.3534, -2.3532, -2.2580, -2.3601,\n",
       "         -2.2298, -2.3414],\n",
       "        [-2.0593, -2.4112, -2.1877, -2.2182, -2.4809, -2.4370, -2.3445, -2.2937,\n",
       "         -2.2322, -2.4464],\n",
       "        [-2.0600, -2.4004, -2.1301, -2.2047, -2.4936, -2.4200, -2.4021, -2.2922,\n",
       "         -2.2807, -2.4369],\n",
       "        [-2.0344, -2.4371, -2.2081, -2.2455, -2.4059, -2.4382, -2.3901, -2.2554,\n",
       "         -2.2550, -2.4394],\n",
       "        [-2.0449, -2.3578, -2.1926, -2.2542, -2.5105, -2.3683, -2.4012, -2.2421,\n",
       "         -2.2843, -2.4553],\n",
       "        [-2.0439, -2.4000, -2.1616, -2.2251, -2.4810, -2.4349, -2.3733, -2.3477,\n",
       "         -2.2030, -2.4526],\n",
       "        [-2.0427, -2.4338, -2.1380, -2.2540, -2.4278, -2.4208, -2.3871, -2.3498,\n",
       "         -2.2405, -2.4193],\n",
       "        [-1.9774, -2.4343, -2.1983, -2.1852, -2.4899, -2.4161, -2.4207, -2.3549,\n",
       "         -2.2583, -2.4081],\n",
       "        [-2.1100, -2.4351, -2.1502, -2.2380, -2.5107, -2.4225, -2.3312, -2.2747,\n",
       "         -2.2048, -2.4320],\n",
       "        [-2.0624, -2.4130, -2.1198, -2.2526, -2.5010, -2.3806, -2.3997, -2.2504,\n",
       "         -2.3007, -2.4379],\n",
       "        [-2.0640, -2.4243, -2.1728, -2.2614, -2.4363, -2.4227, -2.3368, -2.2827,\n",
       "         -2.2430, -2.4591],\n",
       "        [-2.0226, -2.4144, -2.1307, -2.2399, -2.4191, -2.4657, -2.4102, -2.3890,\n",
       "         -2.1915, -2.4553],\n",
       "        [-2.0865, -2.4020, -2.1416, -2.2856, -2.4511, -2.4035, -2.3343, -2.3076,\n",
       "         -2.2598, -2.4214],\n",
       "        [-2.1067, -2.3943, -2.1268, -2.2010, -2.4901, -2.3735, -2.3620, -2.3339,\n",
       "         -2.2672, -2.4487],\n",
       "        [-2.1516, -2.4272, -2.1301, -2.2596, -2.3690, -2.3777, -2.3066, -2.3139,\n",
       "         -2.3210, -2.4167],\n",
       "        [-2.1293, -2.3390, -2.2012, -2.4287, -2.4446, -2.4384, -2.2758, -2.3035,\n",
       "         -2.1566, -2.3705],\n",
       "        [-2.0746, -2.4024, -2.1238, -2.2731, -2.4766, -2.3946, -2.3903, -2.2308,\n",
       "         -2.3106, -2.4320],\n",
       "        [-2.1027, -2.3847, -2.1243, -2.1768, -2.4883, -2.4561, -2.3166, -2.3495,\n",
       "         -2.2558, -2.4626],\n",
       "        [-2.0307, -2.4171, -2.1748, -2.1650, -2.4953, -2.4684, -2.4175, -2.3540,\n",
       "         -2.1819, -2.4414],\n",
       "        [-2.0281, -2.3646, -2.1656, -2.2379, -2.4926, -2.4512, -2.3213, -2.3072,\n",
       "         -2.2528, -2.5085],\n",
       "        [-2.0899, -2.3863, -2.1522, -2.2075, -2.4711, -2.4131, -2.3613, -2.3141,\n",
       "         -2.2443, -2.4657],\n",
       "        [-2.0215, -2.4501, -2.1733, -2.1405, -2.4577, -2.4237, -2.3916, -2.3928,\n",
       "         -2.2668, -2.4176],\n",
       "        [-2.0623, -2.3960, -2.1024, -2.2184, -2.4906, -2.4473, -2.3667, -2.2751,\n",
       "         -2.3204, -2.4463],\n",
       "        [-2.1042, -2.4093, -2.1762, -2.1397, -2.5006, -2.4049, -2.3680, -2.3162,\n",
       "         -2.2543, -2.4369],\n",
       "        [-2.0569, -2.4916, -2.1549, -2.2224, -2.4014, -2.4214, -2.3850, -2.3338,\n",
       "         -2.2317, -2.4151],\n",
       "        [-2.0683, -2.3829, -2.1461, -2.1564, -2.4741, -2.4210, -2.3923, -2.3131,\n",
       "         -2.3020, -2.4635],\n",
       "        [-2.0467, -2.3669, -2.1326, -2.2610, -2.4972, -2.4432, -2.3192, -2.2963,\n",
       "         -2.2749, -2.4852],\n",
       "        [-2.1167, -2.4622, -2.1565, -2.1891, -2.4790, -2.3891, -2.2987, -2.3190,\n",
       "         -2.2648, -2.4255],\n",
       "        [-2.0283, -2.3786, -2.1297, -2.2040, -2.4870, -2.4766, -2.3919, -2.3096,\n",
       "         -2.2488, -2.4881],\n",
       "        [-2.0345, -2.3444, -2.2141, -2.1942, -2.4779, -2.4485, -2.4429, -2.2750,\n",
       "         -2.2362, -2.4565],\n",
       "        [-2.0510, -2.4570, -2.1674, -2.1903, -2.3962, -2.4147, -2.4008, -2.3145,\n",
       "         -2.2833, -2.4364]], grad_fn=<LogSoftmaxBackward>)"
      ]
     },
     "execution_count": 5,
     "metadata": {},
     "output_type": "execute_result"
    }
   ],
   "source": [
    "logps"
   ]
  },
  {
   "cell_type": "markdown",
   "metadata": {},
   "source": [
    "## Autograd\n",
    "\n",
    "Now that we know how to calculate a loss, how do we use it to perform backpropagation? Torch provides a module, `autograd`, for automatically calculating the gradients of tensors. We can use it to calculate the gradients of all our parameters with respect to the loss. Autograd works by keeping track of operations performed on tensors, then going backwards through those operations, calculating gradients along the way. To make sure PyTorch keeps track of operations on a tensor and calculates the gradients, you need to set `requires_grad = True` on a tensor. You can do this at creation with the `requires_grad` keyword, or at any time with `x.requires_grad_(True)`.\n",
    "\n",
    "You can turn off gradients for a block of code with the `torch.no_grad()` content:\n",
    "```python\n",
    "x = torch.zeros(1, requires_grad=True)\n",
    ">>> with torch.no_grad():\n",
    "...     y = x * 2\n",
    ">>> y.requires_grad\n",
    "False\n",
    "```\n",
    "\n",
    "Also, you can turn on or off gradients altogether with `torch.set_grad_enabled(True|False)`.\n",
    "\n",
    "The gradients are computed with respect to some variable `z` with `z.backward()`. This does a backward pass through the operations that created `z`."
   ]
  },
  {
   "cell_type": "code",
   "execution_count": 6,
   "metadata": {},
   "outputs": [
    {
     "name": "stdout",
     "output_type": "stream",
     "text": [
      "tensor([[ 1.6848,  2.0959],\n",
      "        [-0.1694,  1.1699]], requires_grad=True)\n"
     ]
    }
   ],
   "source": [
    "x = torch.randn(2,2, requires_grad=True)\n",
    "print(x)"
   ]
  },
  {
   "cell_type": "code",
   "execution_count": 7,
   "metadata": {},
   "outputs": [
    {
     "name": "stdout",
     "output_type": "stream",
     "text": [
      "tensor([[2.8384, 4.3927],\n",
      "        [0.0287, 1.3686]], grad_fn=<PowBackward0>)\n"
     ]
    }
   ],
   "source": [
    "y = x**2\n",
    "print(y)"
   ]
  },
  {
   "cell_type": "markdown",
   "metadata": {},
   "source": [
    "Below we can see the operation that created `y`, a power operation `PowBackward0`."
   ]
  },
  {
   "cell_type": "code",
   "execution_count": 8,
   "metadata": {},
   "outputs": [
    {
     "name": "stdout",
     "output_type": "stream",
     "text": [
      "<PowBackward0 object at 0x0000021106958AC8>\n"
     ]
    }
   ],
   "source": [
    "## grad_fn shows the function that generated this variable\n",
    "print(y.grad_fn)"
   ]
  },
  {
   "cell_type": "markdown",
   "metadata": {},
   "source": [
    "The autgrad module keeps track of these operations and knows how to calculate the gradient for each one. In this way, it's able to calculate the gradients for a chain of operations, with respect to any one tensor. Let's reduce the tensor `y` to a scalar value, the mean."
   ]
  },
  {
   "cell_type": "code",
   "execution_count": 9,
   "metadata": {},
   "outputs": [
    {
     "name": "stdout",
     "output_type": "stream",
     "text": [
      "tensor(2.1571, grad_fn=<MeanBackward0>)\n"
     ]
    }
   ],
   "source": [
    "z = y.mean()\n",
    "print(z)"
   ]
  },
  {
   "cell_type": "markdown",
   "metadata": {},
   "source": [
    "You can check the gradients for `x` and `y` but they are empty currently."
   ]
  },
  {
   "cell_type": "code",
   "execution_count": 10,
   "metadata": {},
   "outputs": [
    {
     "name": "stdout",
     "output_type": "stream",
     "text": [
      "None\n"
     ]
    }
   ],
   "source": [
    "print(x.grad)"
   ]
  },
  {
   "cell_type": "markdown",
   "metadata": {},
   "source": [
    "To calculate the gradients, you need to run the `.backward` method on a Variable, `z` for example. This will calculate the gradient for `z` with respect to `x`\n",
    "\n",
    "$$\n",
    "\\frac{\\partial z}{\\partial x} = \\frac{\\partial}{\\partial x}\\left[\\frac{1}{n}\\sum_i^n x_i^2\\right] = \\frac{x}{2}\n",
    "$$"
   ]
  },
  {
   "cell_type": "code",
   "execution_count": 11,
   "metadata": {},
   "outputs": [
    {
     "name": "stdout",
     "output_type": "stream",
     "text": [
      "None\n"
     ]
    }
   ],
   "source": [
    "print(z.backward())"
   ]
  },
  {
   "cell_type": "code",
   "execution_count": 12,
   "metadata": {},
   "outputs": [
    {
     "name": "stdout",
     "output_type": "stream",
     "text": [
      "tensor([[ 0.8424,  1.0479],\n",
      "        [-0.0847,  0.5849]])\n",
      "tensor([[ 0.8424,  1.0479],\n",
      "        [-0.0847,  0.5849]], grad_fn=<DivBackward0>)\n"
     ]
    }
   ],
   "source": [
    "print(x.grad)\n",
    "print(x/2)"
   ]
  },
  {
   "cell_type": "markdown",
   "metadata": {},
   "source": [
    "These gradients calculations are particularly useful for neural networks. For training we need the gradients of the weights with respect to the cost. With PyTorch, we run data forward through the network to calculate the loss, then, go backwards to calculate the gradients with respect to the loss. Once we have the gradients we can make a gradient descent step. "
   ]
  },
  {
   "cell_type": "markdown",
   "metadata": {},
   "source": [
    "## Loss and Autograd together\n",
    "\n",
    "When we create a network with PyTorch, all of the parameters are initialized with `requires_grad = True`. This means that when we calculate the loss and call `loss.backward()`, the gradients for the parameters are calculated. These gradients are used to update the weights with gradient descent. Below you can see an example of calculating the gradients using a backwards pass."
   ]
  },
  {
   "cell_type": "code",
   "execution_count": 13,
   "metadata": {},
   "outputs": [],
   "source": [
    "# Build a feed-forward network\n",
    "model = nn.Sequential(nn.Linear(784, 128),\n",
    "                      nn.ReLU(),\n",
    "                      nn.Linear(128, 64),\n",
    "                      nn.ReLU(),\n",
    "                      nn.Linear(64, 10),\n",
    "                      nn.LogSoftmax(dim=1))\n",
    "\n",
    "criterion = nn.NLLLoss()\n",
    "images, labels = next(iter(trainloader))\n",
    "images = images.view(64,-1)\n",
    "\n",
    "logits = model(images)\n",
    "loss = criterion(logits, labels)"
   ]
  },
  {
   "cell_type": "code",
   "execution_count": 14,
   "metadata": {
    "scrolled": true
   },
   "outputs": [
    {
     "data": {
      "text/plain": [
       "tensor([[-2.4183, -2.0514, -2.2707, -2.1860, -2.4902, -2.4406, -2.2938, -2.4491,\n",
       "         -2.3128, -2.2026],\n",
       "        [-2.4014, -2.1244, -2.2596, -2.2208, -2.4789, -2.5494, -2.2432, -2.4508,\n",
       "         -2.2462, -2.1466],\n",
       "        [-2.4030, -2.1107, -2.1948, -2.1768, -2.4979, -2.4564, -2.3453, -2.4494,\n",
       "         -2.3070, -2.1724],\n",
       "        [-2.3639, -2.0869, -2.2826, -2.2019, -2.4324, -2.4761, -2.3015, -2.4714,\n",
       "         -2.2843, -2.1986],\n",
       "        [-2.3446, -2.0829, -2.1706, -2.1643, -2.5578, -2.5603, -2.3437, -2.4150,\n",
       "         -2.3214, -2.1859],\n",
       "        [-2.4196, -2.1417, -2.2724, -2.1729, -2.4871, -2.4209, -2.3018, -2.4199,\n",
       "         -2.2376, -2.2168],\n",
       "        [-2.3791, -2.1142, -2.2741, -2.1948, -2.4972, -2.4560, -2.3029, -2.4354,\n",
       "         -2.3054, -2.1454],\n",
       "        [-2.3749, -2.1067, -2.2039, -2.1298, -2.5283, -2.5070, -2.3362, -2.4861,\n",
       "         -2.2688, -2.1945],\n",
       "        [-2.3827, -2.0633, -2.2573, -2.1632, -2.4467, -2.5815, -2.2640, -2.4458,\n",
       "         -2.3094, -2.2171],\n",
       "        [-2.3695, -2.0707, -2.2932, -2.1417, -2.3842, -2.4951, -2.2998, -2.4899,\n",
       "         -2.3006, -2.2640],\n",
       "        [-2.3491, -2.0512, -2.2158, -2.1404, -2.4821, -2.5868, -2.2964, -2.5144,\n",
       "         -2.2498, -2.2681],\n",
       "        [-2.3986, -2.1671, -2.3371, -2.0959, -2.4310, -2.4168, -2.2938, -2.4324,\n",
       "         -2.3252, -2.1941],\n",
       "        [-2.3815, -2.0657, -2.2531, -2.0921, -2.4797, -2.5232, -2.3354, -2.5010,\n",
       "         -2.2714, -2.2402],\n",
       "        [-2.3838, -1.9792, -2.2386, -2.2412, -2.5178, -2.5606, -2.3054, -2.4542,\n",
       "         -2.3008, -2.1807],\n",
       "        [-2.3427, -2.0831, -2.2342, -2.1406, -2.5626, -2.4922, -2.3328, -2.4793,\n",
       "         -2.2922, -2.1802],\n",
       "        [-2.3917, -2.0752, -2.2429, -2.2500, -2.3890, -2.4871, -2.3528, -2.3574,\n",
       "         -2.3005, -2.2387],\n",
       "        [-2.3661, -2.0961, -2.2975, -2.1248, -2.4565, -2.5032, -2.3276, -2.5089,\n",
       "         -2.2300, -2.2138],\n",
       "        [-2.3637, -2.0723, -2.2727, -2.1658, -2.5448, -2.5242, -2.3035, -2.4961,\n",
       "         -2.2462, -2.1575],\n",
       "        [-2.3969, -2.0134, -2.2975, -2.1770, -2.5689, -2.4880, -2.3281, -2.4761,\n",
       "         -2.2466, -2.1665],\n",
       "        [-2.3998, -2.0931, -2.2591, -2.1849, -2.4635, -2.4857, -2.2885, -2.4321,\n",
       "         -2.3182, -2.1813],\n",
       "        [-2.4038, -2.1788, -2.2012, -2.2091, -2.4345, -2.5479, -2.2800, -2.4535,\n",
       "         -2.2549, -2.1461],\n",
       "        [-2.3818, -2.0799, -2.1996, -2.1306, -2.5547, -2.5167, -2.3451, -2.4971,\n",
       "         -2.2978, -2.1543],\n",
       "        [-2.3936, -2.1413, -2.2491, -2.2154, -2.4071, -2.4530, -2.3307, -2.4334,\n",
       "         -2.2926, -2.1671],\n",
       "        [-2.4386, -1.9587, -2.2520, -2.1398, -2.5393, -2.5009, -2.3233, -2.4845,\n",
       "         -2.3468, -2.1993],\n",
       "        [-2.4197, -2.0964, -2.2845, -2.2150, -2.5047, -2.3891, -2.3105, -2.4067,\n",
       "         -2.3172, -2.1551],\n",
       "        [-2.3959, -2.1231, -2.2623, -2.2335, -2.4579, -2.4290, -2.2904, -2.4097,\n",
       "         -2.3155, -2.1675],\n",
       "        [-2.4091, -2.0709, -2.2557, -2.1715, -2.4194, -2.5247, -2.2900, -2.3822,\n",
       "         -2.3717, -2.2142],\n",
       "        [-2.4027, -2.0861, -2.2556, -2.1746, -2.4094, -2.5761, -2.2679, -2.4417,\n",
       "         -2.2938, -2.2115],\n",
       "        [-2.4278, -2.0379, -2.3333, -2.1287, -2.5490, -2.4631, -2.2768, -2.4890,\n",
       "         -2.2696, -2.1785],\n",
       "        [-2.3755, -2.1011, -2.2421, -2.1331, -2.5289, -2.4900, -2.3262, -2.4566,\n",
       "         -2.3060, -2.1689],\n",
       "        [-2.3969, -2.1481, -2.2713, -2.1784, -2.4278, -2.5172, -2.2200, -2.4490,\n",
       "         -2.2625, -2.2264],\n",
       "        [-2.3702, -2.0373, -2.3423, -2.1203, -2.5496, -2.5263, -2.2474, -2.4685,\n",
       "         -2.2702, -2.2227],\n",
       "        [-2.3544, -2.1000, -2.2070, -2.1422, -2.4199, -2.5650, -2.3649, -2.4694,\n",
       "         -2.3089, -2.1952],\n",
       "        [-2.3783, -2.0416, -2.2914, -2.1531, -2.5731, -2.4897, -2.3369, -2.4432,\n",
       "         -2.2862, -2.1557],\n",
       "        [-2.3338, -2.1766, -2.2612, -2.1488, -2.4260, -2.5261, -2.2438, -2.4035,\n",
       "         -2.3331, -2.2350],\n",
       "        [-2.3583, -2.0803, -2.2252, -2.1366, -2.5840, -2.5308, -2.3470, -2.4394,\n",
       "         -2.3128, -2.1413],\n",
       "        [-2.4288, -2.0852, -2.2807, -2.1330, -2.4424, -2.4714, -2.2951, -2.4149,\n",
       "         -2.3674, -2.1927],\n",
       "        [-2.3460, -2.1363, -2.1981, -2.1652, -2.4471, -2.5883, -2.2549, -2.5356,\n",
       "         -2.2287, -2.2354],\n",
       "        [-2.4086, -2.0137, -2.2642, -2.1151, -2.5279, -2.5108, -2.3029, -2.4889,\n",
       "         -2.2736, -2.2529],\n",
       "        [-2.3474, -2.0765, -2.2193, -2.1586, -2.4639, -2.5723, -2.3322, -2.5124,\n",
       "         -2.2628, -2.1968],\n",
       "        [-2.3608, -2.1094, -2.3632, -2.1009, -2.4734, -2.4868, -2.2802, -2.4804,\n",
       "         -2.2445, -2.2214],\n",
       "        [-2.4001, -2.0634, -2.2310, -2.1401, -2.5178, -2.4593, -2.3365, -2.4690,\n",
       "         -2.2996, -2.2124],\n",
       "        [-2.3960, -2.0946, -2.2651, -2.1889, -2.5249, -2.4600, -2.2888, -2.4614,\n",
       "         -2.2880, -2.1519],\n",
       "        [-2.3101, -2.0489, -2.2836, -2.1385, -2.5717, -2.5752, -2.3244, -2.4943,\n",
       "         -2.2446, -2.1783],\n",
       "        [-2.3665, -2.0814, -2.2595, -2.1665, -2.5280, -2.5350, -2.3378, -2.4540,\n",
       "         -2.2494, -2.1590],\n",
       "        [-2.3738, -2.0435, -2.2279, -2.1802, -2.5376, -2.5883, -2.2642, -2.4479,\n",
       "         -2.3007, -2.1914],\n",
       "        [-2.4011, -2.1378, -2.2463, -2.1349, -2.5066, -2.4756, -2.3077, -2.4320,\n",
       "         -2.3008, -2.1696],\n",
       "        [-2.3941, -2.1194, -2.2383, -2.1147, -2.4643, -2.5221, -2.3519, -2.4286,\n",
       "         -2.2879, -2.1970],\n",
       "        [-2.3985, -2.0953, -2.3239, -2.1347, -2.4933, -2.4443, -2.2705, -2.4783,\n",
       "         -2.2750, -2.2019],\n",
       "        [-2.4088, -2.1148, -2.2813, -2.1838, -2.4458, -2.4131, -2.2998, -2.4608,\n",
       "         -2.2641, -2.2173],\n",
       "        [-2.3554, -2.1408, -2.2638, -2.1435, -2.4602, -2.5095, -2.2824, -2.4273,\n",
       "         -2.3122, -2.2047],\n",
       "        [-2.4283, -2.1316, -2.2291, -2.1759, -2.3957, -2.5479, -2.2701, -2.4075,\n",
       "         -2.3651, -2.1594],\n",
       "        [-2.3656, -2.0933, -2.1943, -2.2304, -2.5146, -2.5677, -2.2877, -2.4504,\n",
       "         -2.2551, -2.1745],\n",
       "        [-2.3518, -2.1029, -2.2533, -2.0941, -2.5007, -2.5382, -2.3204, -2.4646,\n",
       "         -2.3215, -2.1889],\n",
       "        [-2.4018, -2.0810, -2.2612, -2.1793, -2.4734, -2.4665, -2.2893, -2.4354,\n",
       "         -2.3303, -2.1897],\n",
       "        [-2.3547, -2.1254, -2.2542, -2.1626, -2.5603, -2.4471, -2.2895, -2.4492,\n",
       "         -2.2911, -2.1801],\n",
       "        [-2.3992, -2.0361, -2.3033, -2.2529, -2.4768, -2.5314, -2.2775, -2.4670,\n",
       "         -2.2715, -2.1240],\n",
       "        [-2.3603, -2.1172, -2.2077, -2.1756, -2.5101, -2.5667, -2.2637, -2.4876,\n",
       "         -2.3053, -2.1465],\n",
       "        [-2.4039, -2.1892, -2.2455, -2.1728, -2.3959, -2.4935, -2.2657, -2.4459,\n",
       "         -2.2973, -2.1782],\n",
       "        [-2.3430, -2.1069, -2.2434, -2.1939, -2.4044, -2.5358, -2.3359, -2.4910,\n",
       "         -2.2669, -2.1886],\n",
       "        [-2.4020, -2.1166, -2.2858, -2.1116, -2.4319, -2.5752, -2.2692, -2.3936,\n",
       "         -2.3462, -2.1906],\n",
       "        [-2.3935, -2.1613, -2.2481, -2.1362, -2.4826, -2.4861, -2.3400, -2.4291,\n",
       "         -2.2537, -2.1750],\n",
       "        [-2.4182, -2.0943, -2.2421, -2.1839, -2.4564, -2.4664, -2.2923, -2.4211,\n",
       "         -2.3379, -2.1902],\n",
       "        [-2.3973, -2.1146, -2.2327, -2.1838, -2.4290, -2.5269, -2.2838, -2.4458,\n",
       "         -2.3112, -2.1824]], grad_fn=<LogSoftmaxBackward>)"
      ]
     },
     "execution_count": 14,
     "metadata": {},
     "output_type": "execute_result"
    }
   ],
   "source": [
    "logits"
   ]
  },
  {
   "cell_type": "code",
   "execution_count": 15,
   "metadata": {},
   "outputs": [
    {
     "data": {
      "text/plain": [
       "tensor(2.2998, grad_fn=<NllLossBackward>)"
      ]
     },
     "execution_count": 15,
     "metadata": {},
     "output_type": "execute_result"
    }
   ],
   "source": [
    "loss"
   ]
  },
  {
   "cell_type": "code",
   "execution_count": 16,
   "metadata": {},
   "outputs": [
    {
     "data": {
      "text/plain": [
       "Linear(in_features=784, out_features=128, bias=True)"
      ]
     },
     "execution_count": 16,
     "metadata": {},
     "output_type": "execute_result"
    }
   ],
   "source": [
    "model[0]"
   ]
  },
  {
   "cell_type": "code",
   "execution_count": 17,
   "metadata": {},
   "outputs": [
    {
     "name": "stdout",
     "output_type": "stream",
     "text": [
      "Before backward pass: \n",
      " None\n",
      "After backward pass: \n",
      " tensor([[-0.0020, -0.0020, -0.0020,  ..., -0.0020, -0.0020, -0.0020],\n",
      "        [ 0.0002,  0.0002,  0.0002,  ...,  0.0002,  0.0002,  0.0002],\n",
      "        [-0.0004, -0.0004, -0.0004,  ..., -0.0004, -0.0004, -0.0004],\n",
      "        ...,\n",
      "        [ 0.0002,  0.0002,  0.0002,  ...,  0.0002,  0.0002,  0.0002],\n",
      "        [-0.0008, -0.0008, -0.0008,  ..., -0.0008, -0.0008, -0.0008],\n",
      "        [-0.0015, -0.0015, -0.0015,  ..., -0.0015, -0.0015, -0.0015]])\n"
     ]
    }
   ],
   "source": [
    "print('Before backward pass: \\n', model[0].weight.grad)\n",
    "\n",
    "loss.backward()\n",
    "\n",
    "print('After backward pass: \\n', model[0].weight.grad)"
   ]
  },
  {
   "cell_type": "markdown",
   "metadata": {},
   "source": [
    "## Training the network!\n",
    "\n",
    "There's one last piece we need to start training, an optimizer that we'll use to update the weights with the gradients. We get these from PyTorch's [`optim` package](https://pytorch.org/docs/stable/optim.html). For example we can use stochastic gradient descent with `optim.SGD`. You can see how to define an optimizer below."
   ]
  },
  {
   "cell_type": "code",
   "execution_count": 18,
   "metadata": {},
   "outputs": [],
   "source": [
    "from torch import optim\n",
    "\n",
    "# Optimizers require the parameters to optimize and a learning rate\n",
    "optimizer = optim.SGD(model.parameters(), lr=0.01)"
   ]
  },
  {
   "cell_type": "markdown",
   "metadata": {},
   "source": [
    "Now we know how to use all the individual parts so it's time to see how they work together. Let's consider just one learning step before looping through all the data. The general process with PyTorch:\n",
    "\n",
    "* Make a forward pass through the network \n",
    "* Use the network output to calculate the loss\n",
    "* Perform a backward pass through the network with `loss.backward()` to calculate the gradients\n",
    "* Take a step with the optimizer to update the weights\n",
    "\n",
    "Below I'll go through one training step and print out the weights and gradients so you can see how it changes. Note that I have a line of code `optimizer.zero_grad()`. When you do multiple backwards passes with the same parameters, the gradients are accumulated. This means that you need to zero the gradients on each training pass or you'll retain gradients from previous training batches."
   ]
  },
  {
   "cell_type": "code",
   "execution_count": 19,
   "metadata": {},
   "outputs": [
    {
     "name": "stdout",
     "output_type": "stream",
     "text": [
      "Initial weights -  Parameter containing:\n",
      "tensor([[-4.7238e-03, -6.3515e-03, -2.7141e-02,  ...,  5.7254e-03,\n",
      "         -2.0620e-02,  2.5588e-02],\n",
      "        [ 2.4969e-03, -2.9343e-02,  7.7827e-03,  ..., -2.0018e-02,\n",
      "         -1.5005e-02, -7.7457e-03],\n",
      "        [ 2.0353e-02, -9.5126e-03,  2.2184e-03,  ..., -1.2885e-02,\n",
      "         -1.7832e-02,  2.0038e-02],\n",
      "        ...,\n",
      "        [ 3.4658e-02, -1.2523e-02, -7.6685e-05,  ...,  3.2564e-02,\n",
      "          1.3617e-02, -2.1409e-02],\n",
      "        [-2.1276e-02, -1.6295e-02,  2.3074e-02,  ...,  4.5339e-03,\n",
      "          8.4382e-03,  1.7126e-02],\n",
      "        [-2.4449e-02,  2.4452e-02,  9.5938e-03,  ...,  2.5025e-02,\n",
      "          1.3819e-02,  4.2650e-03]], requires_grad=True)\n",
      "2.292872905731201\n",
      "Gradient - tensor([[-2.1138e-04, -2.1138e-04, -2.1138e-04,  ..., -2.1138e-04,\n",
      "         -2.1138e-04, -2.1138e-04],\n",
      "        [-8.0588e-05, -8.0588e-05, -8.0588e-05,  ..., -8.0588e-05,\n",
      "         -8.0588e-05, -8.0588e-05],\n",
      "        [ 8.0876e-05,  8.0876e-05,  8.0876e-05,  ...,  8.0876e-05,\n",
      "          8.0876e-05,  8.0876e-05],\n",
      "        ...,\n",
      "        [-8.0565e-04, -8.0565e-04, -8.0565e-04,  ..., -8.0565e-04,\n",
      "         -8.0565e-04, -8.0565e-04],\n",
      "        [ 6.7955e-04,  6.7955e-04,  6.7955e-04,  ...,  6.7955e-04,\n",
      "          6.7955e-04,  6.7955e-04],\n",
      "        [-1.3521e-03, -1.3521e-03, -1.3521e-03,  ..., -1.3521e-03,\n",
      "         -1.3521e-03, -1.3521e-03]])\n"
     ]
    }
   ],
   "source": [
    "print('Initial weights - ', model[0].weight)\n",
    "\n",
    "images, labels = next(iter(trainloader))\n",
    "images.resize_(64, 784)\n",
    "\n",
    "# Clear the gradients, do this because gradients are accumulated\n",
    "optimizer.zero_grad()\n",
    "\n",
    "# Forward pass, then backward pass, then update weights\n",
    "output = model.forward(images)\n",
    "loss = criterion(output, labels)\n",
    "loss.backward()\n",
    "print(loss.item())\n",
    "print('Gradient -', model[0].weight.grad)"
   ]
  },
  {
   "cell_type": "code",
   "execution_count": 20,
   "metadata": {},
   "outputs": [
    {
     "name": "stdout",
     "output_type": "stream",
     "text": [
      "Updated weights -  Parameter containing:\n",
      "tensor([[-4.7216e-03, -6.3494e-03, -2.7139e-02,  ...,  5.7275e-03,\n",
      "         -2.0618e-02,  2.5590e-02],\n",
      "        [ 2.4977e-03, -2.9342e-02,  7.7835e-03,  ..., -2.0017e-02,\n",
      "         -1.5005e-02, -7.7449e-03],\n",
      "        [ 2.0352e-02, -9.5134e-03,  2.2176e-03,  ..., -1.2885e-02,\n",
      "         -1.7833e-02,  2.0037e-02],\n",
      "        ...,\n",
      "        [ 3.4666e-02, -1.2515e-02, -6.8629e-05,  ...,  3.2572e-02,\n",
      "          1.3625e-02, -2.1401e-02],\n",
      "        [-2.1283e-02, -1.6302e-02,  2.3067e-02,  ...,  4.5271e-03,\n",
      "          8.4314e-03,  1.7119e-02],\n",
      "        [-2.4435e-02,  2.4466e-02,  9.6074e-03,  ...,  2.5039e-02,\n",
      "          1.3832e-02,  4.2785e-03]], requires_grad=True)\n"
     ]
    }
   ],
   "source": [
    "# Take an update step and few the new weights\n",
    "optimizer.step()\n",
    "print('Updated weights - ', model[0].weight)"
   ]
  },
  {
   "cell_type": "markdown",
   "metadata": {},
   "source": [
    "### Training for real\n",
    "\n",
    "Now we'll put this algorithm into a loop so we can go through all the images. Some nomenclature, one pass through the entire dataset is called an *epoch*. So here we're going to loop through `trainloader` to get our training batches. For each batch, we'll doing a training pass where we calculate the loss, do a backwards pass, and update the weights.\n",
    "\n",
    ">**Exercise:** Implement the training pass for our network. If you implemented it correctly, you should see the training loss drop with each epoch."
   ]
  },
  {
   "cell_type": "code",
   "execution_count": 40,
   "metadata": {},
   "outputs": [
    {
     "name": "stdout",
     "output_type": "stream",
     "text": [
      "torch.Size([32, 1, 28, 28])\n",
      "Training loss: 1.9154092833431544\n",
      "torch.Size([32, 1, 28, 28])\n",
      "Training loss: 0.8555014240207957\n",
      "torch.Size([32, 1, 28, 28])\n",
      "Training loss: 0.5186177880556853\n",
      "torch.Size([32, 1, 28, 28])\n",
      "Training loss: 0.4238701534391975\n",
      "torch.Size([32, 1, 28, 28])\n",
      "Training loss: 0.38074401032123995\n"
     ]
    }
   ],
   "source": [
    "## Your solution here\n",
    "import numpy as np\n",
    "model = nn.Sequential(nn.Linear(784, 128),\n",
    "                      nn.ReLU(),\n",
    "                      nn.Linear(128, 64),\n",
    "                      nn.ReLU(),\n",
    "                      nn.Linear(64, 10),\n",
    "                      nn.LogSoftmax(dim=1))\n",
    "\n",
    "criterion = nn.NLLLoss()\n",
    "optimizer = optim.SGD(model.parameters(), lr=0.003)\n",
    "\n",
    "epochs = 5\n",
    "for e in range(epochs):\n",
    "    running_loss = 0\n",
    "    for images, labels in trainloader:\n",
    "        # Flatten MNIST images into a 784 long vector\n",
    "        #print(images.shape[0])\n",
    "        if images.shape!=torch.Size([64, 1, 28, 28]):\n",
    "            print(images.shape)\n",
    "        \n",
    "        images = images.view(images.shape[0],784)\n",
    "        ''' this won't run: images = images.view(64,784)'''\n",
    "        # TODO: Training pass\n",
    "        optimizer.zero_grad()\n",
    "        output=model.forward(images)\n",
    "        \n",
    "        loss = criterion(output,labels)\n",
    "        loss.backward()\n",
    "        optimizer.step()\n",
    "        running_loss += loss.item()\n",
    "    else:\n",
    "        print(f\"Training loss: {running_loss/len(trainloader)}\")"
   ]
  },
  {
   "cell_type": "markdown",
   "metadata": {},
   "source": [
    "With the network trained, we can check out it's predictions."
   ]
  },
  {
   "cell_type": "code",
   "execution_count": 41,
   "metadata": {},
   "outputs": [
    {
     "data": {
      "image/png": "[encoded data removed]",
      "text/plain": [
       "<Figure size 432x648 with 2 Axes>"
      ]
     },
     "metadata": {
      "needs_background": "light"
     },
     "output_type": "display_data"
    }
   ],
   "source": [
    "%matplotlib inline\n",
    "import helper\n",
    "\n",
    "images, labels = next(iter(trainloader))\n",
    "\n",
    "img = images[0].view(1, 784)\n",
    "# Turn off gradients to speed up this part\n",
    "with torch.no_grad():\n",
    "    logits = model.forward(img)\n",
    "\n",
    "# Output of the network are logits, need to take softmax for probabilities\n",
    "ps = F.softmax(logits, dim=1)\n",
    "helper.view_classify(img.view(1, 28, 28), ps)"
   ]
  },
  {
   "cell_type": "markdown",
   "metadata": {},
   "source": [
    "Now our network is brilliant. It can accurately predict the digits in our images. Next up you'll write the code for training a neural network on a more complex dataset."
   ]
  }
 ],
 "metadata": {
  "kernelspec": {
   "display_name": "Python 3",
   "language": "python",
   "name": "python3"
  },
  "language_info": {
   "codemirror_mode": {
    "name": "ipython",
    "version": 3
   },
   "file_extension": ".py",
   "mimetype": "text/x-python",
   "name": "python",
   "nbconvert_exporter": "python",
   "pygments_lexer": "ipython3",
   "version": "3.7.7"
  }
 },
 "nbformat": 4,
 "nbformat_minor": 2
}
